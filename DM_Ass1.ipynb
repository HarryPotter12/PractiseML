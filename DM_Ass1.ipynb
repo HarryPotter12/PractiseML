{
  "nbformat": 4,
  "nbformat_minor": 0,
  "metadata": {
    "colab": {
      "name": "DM Ass1.ipynb",
      "provenance": [],
      "collapsed_sections": [],
      "machine_shape": "hm",
      "include_colab_link": true
    },
    "kernelspec": {
      "name": "python3",
      "display_name": "Python 3"
    },
    "accelerator": "GPU"
  },
  "cells": [
    {
      "cell_type": "markdown",
      "metadata": {
        "id": "view-in-github",
        "colab_type": "text"
      },
      "source": [
        "<a href=\"https://colab.research.google.com/github/HarryPotter12/PractiseML/blob/master/DM_Ass1.ipynb\" target=\"_parent\"><img src=\"https://colab.research.google.com/assets/colab-badge.svg\" alt=\"Open In Colab\"/></a>"
      ]
    },
    {
      "cell_type": "code",
      "metadata": {
        "id": "cqm6POVL4c7z",
        "colab_type": "code",
        "outputId": "921cce46-ab1f-4a06-cc4a-393db4601521",
        "colab": {
          "base_uri": "https://localhost:8080/",
          "height": 34
        }
      },
      "source": [
        "from google.colab import drive\n",
        "drive.mount('/content/gdrive')"
      ],
      "execution_count": 0,
      "outputs": [
        {
          "output_type": "stream",
          "text": [
            "Drive already mounted at /content/gdrive; to attempt to forcibly remount, call drive.mount(\"/content/gdrive\", force_remount=True).\n"
          ],
          "name": "stdout"
        }
      ]
    },
    {
      "cell_type": "code",
      "metadata": {
        "id": "JE2G5Aa336f-",
        "colab_type": "code",
        "colab": {}
      },
      "source": [
        "import io\n",
        "import numpy as np\n",
        "from numpy import diag\n",
        "from numpy import zeros\n",
        "from numpy import linalg as LA\n",
        "import matplotlib.pyplot as plt\n",
        "import pandas as pd\n",
        "import matplotlib\n",
        "from scipy.stats import kendalltau"
      ],
      "execution_count": 0,
      "outputs": []
    },
    {
      "cell_type": "code",
      "metadata": {
        "id": "6XaXaA8M8mfW",
        "colab_type": "code",
        "colab": {}
      },
      "source": [
        "R_orig = pd.read_csv('/content/gdrive/My Drive/Datasets/user-shows.txt',sep=' ',header=None)\n",
        "shows = pd.read_csv('/content/gdrive/My Drive/Datasets/shows.txt',header=None)"
      ],
      "execution_count": 0,
      "outputs": []
    },
    {
      "cell_type": "markdown",
      "metadata": {
        "id": "APqwB2iHiv8U",
        "colab_type": "text"
      },
      "source": [
        "shows"
      ]
    },
    {
      "cell_type": "code",
      "metadata": {
        "id": "ptW-qMP-4q-S",
        "colab_type": "code",
        "colab": {}
      },
      "source": [
        "R_orig_np = R_orig.to_numpy()"
      ],
      "execution_count": 0,
      "outputs": []
    },
    {
      "cell_type": "code",
      "metadata": {
        "id": "qnwzs9lpHZg6",
        "colab_type": "code",
        "outputId": "6e214697-b9a6-4c2e-c29b-c02e14185054",
        "colab": {
          "base_uri": "https://localhost:8080/",
          "height": 34
        }
      },
      "source": [
        "R_orig_np.shape"
      ],
      "execution_count": 0,
      "outputs": [
        {
          "output_type": "execute_result",
          "data": {
            "text/plain": [
              "(9985, 563)"
            ]
          },
          "metadata": {
            "tags": []
          },
          "execution_count": 5
        }
      ]
    },
    {
      "cell_type": "code",
      "metadata": {
        "id": "-dGuwh5ezfu5",
        "colab_type": "code",
        "colab": {}
      },
      "source": [
        "m, n = R_orig_np.shape"
      ],
      "execution_count": 0,
      "outputs": []
    },
    {
      "cell_type": "code",
      "metadata": {
        "id": "RIZ2mUN2H32z",
        "colab_type": "code",
        "colab": {}
      },
      "source": [
        "R_removed = R_orig.copy()"
      ],
      "execution_count": 0,
      "outputs": []
    },
    {
      "cell_type": "code",
      "metadata": {
        "id": "LTwbYHRoctwW",
        "colab_type": "code",
        "colab": {}
      },
      "source": [
        "R_removed.iloc[19, 0:99] = 0\n",
        "R_removed_np = R_removed.to_numpy()"
      ],
      "execution_count": 0,
      "outputs": []
    },
    {
      "cell_type": "markdown",
      "metadata": {
        "id": "Yi4AYj5IRpRb",
        "colab_type": "text"
      },
      "source": [
        "for i in range(21):\n",
        "  print(\"i=\", i, \"\\t\", A_orig.iloc[19, i], \"\\t\", A_removed.iloc[19, i], end=\"\\n\")"
      ]
    },
    {
      "cell_type": "code",
      "metadata": {
        "id": "s7E7A7hAKtcv",
        "colab_type": "code",
        "colab": {}
      },
      "source": [
        "P = np.zeros(shape=(m, m), dtype='int')\n",
        "Q = np.zeros(shape=(n, n), dtype='int')"
      ],
      "execution_count": 0,
      "outputs": []
    },
    {
      "cell_type": "code",
      "metadata": {
        "id": "wtoY3OigjjD8",
        "colab_type": "code",
        "colab": {}
      },
      "source": [
        "R_p = np.sum(R_removed_np, axis=1)   #user\n",
        "R_q = np.sum(R_removed_np, axis=0)   #item"
      ],
      "execution_count": 0,
      "outputs": []
    },
    {
      "cell_type": "code",
      "metadata": {
        "id": "poEVpZiQUnzj",
        "colab_type": "code",
        "colab": {}
      },
      "source": [
        "for u in range(m):\n",
        "    P[u][u] = R_p[u]\n",
        "for i in range(n):\n",
        "    Q[i][i] = R_q[i]"
      ],
      "execution_count": 0,
      "outputs": []
    },
    {
      "cell_type": "code",
      "metadata": {
        "id": "2IZC-yM14EE_",
        "colab_type": "code",
        "colab": {}
      },
      "source": [
        "R_T = np.transpose(R_removed_np)"
      ],
      "execution_count": 0,
      "outputs": []
    },
    {
      "cell_type": "code",
      "metadata": {
        "id": "WA9i24xU6DSb",
        "colab_type": "code",
        "colab": {}
      },
      "source": [
        "RtR = np.matmul(R_T, R_removed_np)\n",
        "RRt = np.matmul(R_removed_np, R_T)"
      ],
      "execution_count": 0,
      "outputs": []
    },
    {
      "cell_type": "code",
      "metadata": {
        "id": "yabPgDbW6cHa",
        "colab_type": "code",
        "colab": {}
      },
      "source": [
        "P_sqrt = LA.inv(np.sqrt(P))\n",
        "Q_sqrt = LA.inv(np.sqrt(Q))"
      ],
      "execution_count": 0,
      "outputs": []
    },
    {
      "cell_type": "code",
      "metadata": {
        "id": "8eleaROw61tk",
        "colab_type": "code",
        "colab": {}
      },
      "source": [
        "Si = np.matmul(np.matmul(Q_sqrt, RtR), Q_sqrt)\n",
        "Su = np.matmul(np.matmul(P_sqrt, RRt), P_sqrt)"
      ],
      "execution_count": 0,
      "outputs": []
    },
    {
      "cell_type": "code",
      "metadata": {
        "id": "Um5TiH9w7ana",
        "colab_type": "code",
        "colab": {}
      },
      "source": [
        "Gu = np.matmul(Su, R_removed_np)\n",
        "Gi = np.matmul(R_removed_np, Si)"
      ],
      "execution_count": 0,
      "outputs": []
    },
    {
      "cell_type": "code",
      "metadata": {
        "id": "Ii5Cd3MbI33y",
        "colab_type": "code",
        "colab": {}
      },
      "source": [
        "rec_user = (-Gu[19][0:100]).argsort()[:5]\n",
        "rec_item = (-Gi[19][0:100]).argsort()[:5]"
      ],
      "execution_count": 0,
      "outputs": []
    },
    {
      "cell_type": "code",
      "metadata": {
        "id": "JMZeBgOj60xj",
        "colab_type": "code",
        "outputId": "de942c71-b5c6-4a53-ab9d-3c8303583d76",
        "colab": {
          "base_uri": "https://localhost:8080/",
          "height": 51
        }
      },
      "source": [
        "print(rec_user)\n",
        "print(rec_item)"
      ],
      "execution_count": 0,
      "outputs": [
        {
          "output_type": "stream",
          "text": [
            "[96 74 45 35 60]\n",
            "[35 63 96 74 48]\n"
          ],
          "name": "stdout"
        }
      ]
    },
    {
      "cell_type": "code",
      "metadata": {
        "id": "dRLt5B-JCogV",
        "colab_type": "code",
        "outputId": "08ed3885-941f-4603-9e23-3d8bf8bd1e6e",
        "colab": {
          "base_uri": "https://localhost:8080/",
          "height": 238
        }
      },
      "source": [
        "print(\"For Item-Item Collaborative Filtering: \")\n",
        "for i in range(5):\n",
        "  print(\"Show {:d} : \".format(i+1), shows[0][rec_item[i]], \"\\tSimilarity score = {:.6f}\".format(Gi[19][rec_item[i]]))\n",
        "print(\"\\nFor User-User Collaborative Filtering: \")\n",
        "for i in range(5):\n",
        "  print(\"Show {:d} : \".format(i+1), shows[0][rec_user[i]], \"\\tSimilarity score = {:.6f}\".format(Gu[19][rec_user[i]]))"
      ],
      "execution_count": 0,
      "outputs": [
        {
          "output_type": "stream",
          "text": [
            "For Item-Item Collaborative Filtering: \n",
            "Show 1 :  SpongeBob SquarePants \tSimilarity score = 15.385709\n",
            "Show 2 :  Wow Wow Wubbzy \tSimilarity score = 15.247345\n",
            "Show 3 :  FOX 28 News at 10pm \tSimilarity score = 14.954295\n",
            "Show 4 :  Family Guy \tSimilarity score = 14.927589\n",
            "Show 5 :  Max and Ruby \tSimilarity score = 14.924622\n",
            "\n",
            "For User-User Collaborative Filtering: \n",
            "Show 1 :  FOX 28 News at 10pm \tSimilarity score = 666.482824\n",
            "Show 2 :  Family Guy \tSimilarity score = 664.956977\n",
            "Show 3 :  2009 NCAA Basketball Tournament \tSimilarity score = 588.914140\n",
            "Show 4 :  SpongeBob SquarePants \tSimilarity score = 583.334679\n",
            "Show 5 :  NBC 4 at Eleven \tSimilarity score = 565.554363\n"
          ],
          "name": "stdout"
        }
      ]
    },
    {
      "cell_type": "code",
      "metadata": {
        "id": "-EcYbFSnVskZ",
        "colab_type": "code",
        "outputId": "a8bcdf38-df8f-4b68-f3db-7bfa7489e96f",
        "colab": {
          "base_uri": "https://localhost:8080/",
          "height": 34
        }
      },
      "source": [
        "total = np.sum(R_orig_np[19][0:100])\n",
        "print(total)"
      ],
      "execution_count": 0,
      "outputs": [
        {
          "output_type": "stream",
          "text": [
            "19\n"
          ],
          "name": "stdout"
        }
      ]
    },
    {
      "cell_type": "code",
      "metadata": {
        "id": "tig6EnojF8PO",
        "colab_type": "code",
        "colab": {}
      },
      "source": [
        "k_array = np.arange(1, 20)\n",
        "true_pos_array_user = np.empty(19)\n",
        "true_pos_array_item = np.empty(19)\n",
        "reality = (-R_orig_np[19][0:100]).argsort()[:19]\n",
        "for k in range(1, 20):\n",
        "  top_k_user = (-Gu[19][0:100]).argsort()[:k]\n",
        "  top_k_item = (-Gi[19][0:100]).argsort()[:k]\n",
        "  watch_count_in_top_k_user = 0\n",
        "  watch_count_in_top_k_item = 0\n",
        "  for i in range(k):\n",
        "    watch_count_in_top_k_user += np.sum(reality == top_k_user[i])\n",
        "    watch_count_in_top_k_item += np.sum(reality == top_k_item[i])\n",
        "  true_pos_array_user[k-1] = watch_count_in_top_k_user / total\n",
        "  true_pos_array_item[k-1] = watch_count_in_top_k_item / total"
      ],
      "execution_count": 0,
      "outputs": []
    },
    {
      "cell_type": "markdown",
      "metadata": {
        "id": "ZvGTgWJ5ek70",
        "colab_type": "text"
      },
      "source": [
        "print(true_pos_array_user)\n",
        "print(true_pos_array_item)"
      ]
    },
    {
      "cell_type": "markdown",
      "metadata": {
        "id": "rbVxw10-fQ0_",
        "colab_type": "text"
      },
      "source": [
        "k_array"
      ]
    },
    {
      "cell_type": "code",
      "metadata": {
        "id": "atQiC-N762xa",
        "colab_type": "code",
        "outputId": "0c43d23a-60d8-4fec-ac66-219d31009694",
        "colab": {
          "base_uri": "https://localhost:8080/",
          "height": 296
        }
      },
      "source": [
        "plt.plot(k_array, true_pos_array_user, \"r\", label=\"User-User\")\n",
        "plt.plot(k_array, true_pos_array_item, \"g\", label=\"Item-Item\")\n",
        "plt.xlabel(\"K\")\n",
        "plt.ylabel(\"True Positive Rate\")\n",
        "plt.legend()"
      ],
      "execution_count": 0,
      "outputs": [
        {
          "output_type": "execute_result",
          "data": {
            "text/plain": [
              "<matplotlib.legend.Legend at 0x7fed212e74a8>"
            ]
          },
          "metadata": {
            "tags": []
          },
          "execution_count": 22
        },
        {
          "output_type": "display_data",
          "data": {
            "image/png": "[encoded data removed]",
            "text/plain": [
              "<Figure size 432x288 with 1 Axes>"
            ]
          },
          "metadata": {
            "tags": []
          }
        }
      ]
    },
    {
      "cell_type": "markdown",
      "metadata": {
        "id": "tunOSiFy9skm",
        "colab_type": "text"
      },
      "source": [
        "reality = (-R_orig_np[19][0:100]).argsort()[:19]\n",
        "print(reality)"
      ]
    },
    {
      "cell_type": "markdown",
      "metadata": {
        "id": "I8ryrTZ0VHkd",
        "colab_type": "text"
      },
      "source": [
        "R_orig_np[19][0:100]"
      ]
    },
    {
      "cell_type": "code",
      "metadata": {
        "colab_type": "code",
        "id": "FVq4oNvNlQxq",
        "colab": {}
      },
      "source": [
        "P = np.zeros(shape=(m, m), dtype='int')\n",
        "Q = np.zeros(shape=(n, n), dtype='int')"
      ],
      "execution_count": 0,
      "outputs": []
    },
    {
      "cell_type": "code",
      "metadata": {
        "colab_type": "code",
        "id": "UQnn7CKzlQx7",
        "colab": {}
      },
      "source": [
        "R_p = np.sum(R_orig_np, axis=1)   #user\n",
        "R_q = np.sum(R_orig_np, axis=0)   #item"
      ],
      "execution_count": 0,
      "outputs": []
    },
    {
      "cell_type": "code",
      "metadata": {
        "colab_type": "code",
        "id": "K4b4u073lQx_",
        "colab": {}
      },
      "source": [
        "for u in range(m):\n",
        "    P[u][u] = R_p[u]\n",
        "for i in range(n):\n",
        "    Q[i][i] = R_q[i]"
      ],
      "execution_count": 0,
      "outputs": []
    },
    {
      "cell_type": "code",
      "metadata": {
        "colab_type": "code",
        "id": "9VWOezUtlQyD",
        "colab": {}
      },
      "source": [
        "R_T = np.transpose(R_orig_np)"
      ],
      "execution_count": 0,
      "outputs": []
    },
    {
      "cell_type": "code",
      "metadata": {
        "colab_type": "code",
        "id": "Q-6jGPvVlQyH",
        "colab": {}
      },
      "source": [
        "RtR = np.matmul(R_T, R_orig_np)\n",
        "RRt = np.matmul(R_orig_np, R_T)"
      ],
      "execution_count": 0,
      "outputs": []
    },
    {
      "cell_type": "code",
      "metadata": {
        "colab_type": "code",
        "id": "kO9_jzF4lQyL",
        "colab": {}
      },
      "source": [
        "P_sqrt = LA.inv(np.sqrt(P))\n",
        "Q_sqrt = LA.inv(np.sqrt(Q))"
      ],
      "execution_count": 0,
      "outputs": []
    },
    {
      "cell_type": "code",
      "metadata": {
        "colab_type": "code",
        "id": "rjoBH97alQyQ",
        "colab": {}
      },
      "source": [
        "Si = np.matmul(np.matmul(Q_sqrt, RtR), Q_sqrt)\n",
        "Su = np.matmul(np.matmul(P_sqrt, RRt), P_sqrt)"
      ],
      "execution_count": 0,
      "outputs": []
    },
    {
      "cell_type": "code",
      "metadata": {
        "colab_type": "code",
        "id": "VBHUtUD8lQyU",
        "colab": {}
      },
      "source": [
        "Gu = np.matmul(Su, R_orig_np)\n",
        "Gi = np.matmul(R_orig_np, Si)"
      ],
      "execution_count": 0,
      "outputs": []
    },
    {
      "cell_type": "code",
      "metadata": {
        "colab_type": "code",
        "id": "rrMRnzIZlQyZ",
        "colab": {}
      },
      "source": [
        "rec_user = (-Gu[19][0:100]).argsort()[:10]\n",
        "rec_item = (-Gi[19][0:100]).argsort()[:10]"
      ],
      "execution_count": 0,
      "outputs": []
    },
    {
      "cell_type": "code",
      "metadata": {
        "colab_type": "code",
        "outputId": "551ea6b7-45b4-4573-8b38-56edaeade7bb",
        "id": "_YighH1SlQyc",
        "colab": {
          "base_uri": "https://localhost:8080/",
          "height": 51
        }
      },
      "source": [
        "print(rec_user)\n",
        "print(rec_item)"
      ],
      "execution_count": 0,
      "outputs": [
        {
          "output_type": "stream",
          "text": [
            "[96 74 45 60 68 35  9  5 62 82]\n",
            "[96 35 74 63 60 68 45 48  5 82]\n"
          ],
          "name": "stdout"
        }
      ]
    },
    {
      "cell_type": "code",
      "metadata": {
        "colab_type": "code",
        "outputId": "93310948-fa77-44d4-8f50-9cd857d68e75",
        "id": "zNIl2c86lQyh",
        "colab": {
          "base_uri": "https://localhost:8080/",
          "height": 408
        }
      },
      "source": [
        "print(\"For Item-Item Collaborative Filtering: \")\n",
        "for i in range(10):\n",
        "  print(\"Show {:d} : \".format(i+1), shows[0][rec_item[i]], \"\\tSimilarity score = {:.6f}\".format(Gi[19][rec_item[i]]))\n",
        "print(\"\\nFor User-User Collaborative Filtering: \")\n",
        "for i in range(10):\n",
        "  print(\"Show {:d} : \".format(i+1), shows[0][rec_user[i]], \"\\tSimilarity score = {:.6f}\".format(Gu[19][rec_user[i]]))"
      ],
      "execution_count": 0,
      "outputs": [
        {
          "output_type": "stream",
          "text": [
            "For Item-Item Collaborative Filtering: \n",
            "Show 1 :  FOX 28 News at 10pm \tSimilarity score = 23.727598\n",
            "Show 2 :  SpongeBob SquarePants \tSimilarity score = 23.570996\n",
            "Show 3 :  Family Guy \tSimilarity score = 23.465342\n",
            "Show 4 :  Wow Wow Wubbzy \tSimilarity score = 22.525837\n",
            "Show 5 :  NBC 4 at Eleven \tSimilarity score = 22.127889\n",
            "Show 6 :  Today \tSimilarity score = 21.975593\n",
            "Show 7 :  2009 NCAA Basketball Tournament \tSimilarity score = 21.968379\n",
            "Show 8 :  Max and Ruby \tSimilarity score = 21.745250\n",
            "Show 9 :  Everybody Loves Raymond \tSimilarity score = 21.625829\n",
            "Show 10 :  Access Hollywood \tSimilarity score = 21.562856\n",
            "\n",
            "For User-User Collaborative Filtering: \n",
            "Show 1 :  FOX 28 News at 10pm \tSimilarity score = 1034.327955\n",
            "Show 2 :  Family Guy \tSimilarity score = 1018.314543\n",
            "Show 3 :  2009 NCAA Basketball Tournament \tSimilarity score = 906.109312\n",
            "Show 4 :  NBC 4 at Eleven \tSimilarity score = 893.089204\n",
            "Show 5 :  Today \tSimilarity score = 852.002909\n",
            "Show 6 :  SpongeBob SquarePants \tSimilarity score = 843.703117\n",
            "Show 7 :  Two and a Half Men \tSimilarity score = 827.288345\n",
            "Show 8 :  Everybody Loves Raymond \tSimilarity score = 823.351497\n",
            "Show 9 :  NBC 4 Today  \tSimilarity score = 815.413545\n",
            "Show 10 :  Access Hollywood \tSimilarity score = 812.589675\n"
          ],
          "name": "stdout"
        }
      ]
    },
    {
      "cell_type": "markdown",
      "metadata": {
        "id": "tv_lSFZmuW0K",
        "colab_type": "text"
      },
      "source": [
        "!pwd\n",
        "!cd ./gdrive/My\\ Drive/Datasets/\n",
        "!pwd"
      ]
    },
    {
      "cell_type": "markdown",
      "metadata": {
        "id": "YNlR2kjzlQyl",
        "colab_type": "text"
      },
      "source": [
        "f = open(\"op.txt\", \"w\")\n",
        "for i in range(m):\n",
        "  for j in range(n):\n",
        "    if R_orig_np[i][j] == 1:\n",
        "      f.write(\"{:d}\\t{:d}\\n\".format(i, j))\n",
        "f.close()"
      ]
    },
    {
      "cell_type": "code",
      "metadata": {
        "id": "t74AmkmswlCu",
        "colab_type": "code",
        "colab": {}
      },
      "source": [
        "itemknn = np.array([234, 48, 37, 543, 490, 477, 280, 553, 489, 222])\n",
        "wrmf = np.array([48, 77, 192, 208, 195, 280, 207, 222, 219, 489])"
      ],
      "execution_count": 0,
      "outputs": []
    },
    {
      "cell_type": "code",
      "metadata": {
        "id": "F5ElO0bL1KeC",
        "colab_type": "code",
        "outputId": "c4b45c3e-1b10-4717-d33d-89c5c7b184c4",
        "colab": {
          "base_uri": "https://localhost:8080/",
          "height": 85
        }
      },
      "source": [
        "print(rec_user)\n",
        "print(rec_item)\n",
        "print(itemknn)\n",
        "print(wrmf)"
      ],
      "execution_count": 0,
      "outputs": [
        {
          "output_type": "stream",
          "text": [
            "[96 74 45 60 68 35  9  5 62 82]\n",
            "[96 35 74 63 60 68 45 48  5 82]\n",
            "[234  48  37 543 490 477 280 553 489 222]\n",
            "[ 48  77 192 208 195 280 207 222 219 489]\n"
          ],
          "name": "stdout"
        }
      ]
    },
    {
      "cell_type": "code",
      "metadata": {
        "id": "0gl6xGWj6uXy",
        "colab_type": "code",
        "outputId": "daa906d7-bd61-49e0-9f0b-534bfee4faff",
        "colab": {
          "base_uri": "https://localhost:8080/",
          "height": 816
        }
      },
      "source": [
        "print(\"User-user\")\n",
        "for i in range(10):\n",
        "  print(\"{:d}\".format(rec_user[i]), \"\\t\", shows[0][rec_user[i]])\n",
        "print(\"\\nItem-item\")\n",
        "for i in range(10):\n",
        "  print(\"{:d}\".format(rec_item[i]), \"\\t\", shows[0][rec_item[i]])\n",
        "print(\"\\nItemKNN\")\n",
        "for i in range(10):\n",
        "  print(\"{:d}\".format(itemknn[i]), \"\\t\", shows[0][itemknn[i]])\n",
        "print(\"\\nWRMF\")\n",
        "for i in range(10):\n",
        "  print(\"{:d}\".format(wrmf[i]), \"\\t\", shows[0][wrmf[i]])"
      ],
      "execution_count": 0,
      "outputs": [
        {
          "output_type": "stream",
          "text": [
            "User-user\n",
            "96 \t FOX 28 News at 10pm\n",
            "74 \t Family Guy\n",
            "45 \t 2009 NCAA Basketball Tournament\n",
            "60 \t NBC 4 at Eleven\n",
            "68 \t Today\n",
            "35 \t SpongeBob SquarePants\n",
            "9 \t Two and a Half Men\n",
            "5 \t Everybody Loves Raymond\n",
            "62 \t NBC 4 Today \n",
            "82 \t Access Hollywood\n",
            "\n",
            "Item-item\n",
            "96 \t FOX 28 News at 10pm\n",
            "35 \t SpongeBob SquarePants\n",
            "74 \t Family Guy\n",
            "63 \t Wow Wow Wubbzy\n",
            "60 \t NBC 4 at Eleven\n",
            "68 \t Today\n",
            "45 \t 2009 NCAA Basketball Tournament\n",
            "48 \t Max and Ruby\n",
            "5 \t Everybody Loves Raymond\n",
            "82 \t Access Hollywood\n",
            "\n",
            "ItemKNN\n",
            "234 \t Jack's Big Music Show\n",
            "48 \t Max and Ruby\n",
            "37 \t Curious George\n",
            "543 \t Sesame Street\n",
            "490 \t Clifford the Big Red Dog\n",
            "477 \t The NewsHour with Jim Lehrer\n",
            "280 \t Olivia\n",
            "553 \t Dragon Tales\n",
            "489 \t Caillou\n",
            "222 \t Little Einsteins\n",
            "\n",
            "WRMF\n",
            "48 \t Max and Ruby\n",
            "77 \t Disney's Mickey Mouse Clubhouse\n",
            "192 \t Handy Manny\n",
            "208 \t Tasty Time with ZeFronk\n",
            "195 \t Imagination Movers\n",
            "280 \t Olivia\n",
            "207 \t Happy Monster Band\n",
            "222 \t Little Einsteins\n",
            "219 \t My Friends Tigger and Pooh\n",
            "489 \t Caillou\n"
          ],
          "name": "stdout"
        }
      ]
    },
    {
      "cell_type": "code",
      "metadata": {
        "id": "yP9AapOuvFb_",
        "colab_type": "code",
        "colab": {}
      },
      "source": [
        "coef1, p = kendalltau(rec_user, rec_item)\n",
        "coef2, p = kendalltau(rec_user, itemknn)\n",
        "coef3, p = kendalltau(rec_user, wrmf)\n",
        "coef4, p = kendalltau(rec_item, itemknn)\n",
        "coef5, p = kendalltau(rec_item, wrmf)\n",
        "coef6, p = kendalltau(itemknn, wrmf)"
      ],
      "execution_count": 0,
      "outputs": []
    },
    {
      "cell_type": "code",
      "metadata": {
        "id": "TRwzTFss20Xe",
        "colab_type": "code",
        "outputId": "9085f4f6-84dd-4871-ef54-a421782dec00",
        "colab": {
          "base_uri": "https://localhost:8080/",
          "height": 119
        }
      },
      "source": [
        "print(coef1)\n",
        "print(coef2)\n",
        "print(coef3)\n",
        "print(coef4)\n",
        "print(coef5)\n",
        "print(coef6)"
      ],
      "execution_count": 0,
      "outputs": [
        {
          "output_type": "stream",
          "text": [
            "0.24444444444444444\n",
            "-0.24444444444444444\n",
            "-0.28888888888888886\n",
            "-0.19999999999999998\n",
            "0.022222222222222223\n",
            "0.24444444444444444\n"
          ],
          "name": "stdout"
        }
      ]
    },
    {
      "cell_type": "code",
      "metadata": {
        "id": "Ox02MPiW3BkE",
        "colab_type": "code",
        "colab": {}
      },
      "source": [
        ""
      ],
      "execution_count": 0,
      "outputs": []
    }
  ]
}