{
  "nbformat": 4,
  "nbformat_minor": 0,
  "metadata": {
    "colab": {
      "name": "AML Ass1 Q5.ipynb",
      "provenance": [],
      "collapsed_sections": [],
      "authorship_tag": "ABX9TyNVTpLMhteMU/tqjkBV75Cd",
      "include_colab_link": true
    },
    "kernelspec": {
      "name": "python3",
      "display_name": "Python 3"
    }
  },
  "cells": [
    {
      "cell_type": "markdown",
      "metadata": {
        "id": "view-in-github",
        "colab_type": "text"
      },
      "source": [
        "<a href=\"https://colab.research.google.com/github/HarryPotter12/PractiseML/blob/master/AML_Ass1_Q5.ipynb\" target=\"_parent\"><img src=\"https://colab.research.google.com/assets/colab-badge.svg\" alt=\"Open In Colab\"/></a>"
      ]
    },
    {
      "cell_type": "markdown",
      "metadata": {
        "id": "VdMBnHGFDpde"
      },
      "source": [
        "#### 5. SVMs: (3 + 2 + 4 + 3 = 12 marks) \n",
        "In this question, you will be working on a\n",
        "soft-margin SVM. You may find it helpful to review the [Scikit Learn's SVM documentation](http://scikit-learn.org/stable/modules/svm.html). \n",
        "\n",
        "We will apply soft-margin SVM to handwritten digits from the processed US Postal Service Zip Code data set. The data (extracted features of intensity and symmetry) for training and testing are available at:\n",
        "- http://www.amlbook.com/data/zip/features.train\n",
        "- http://www.amlbook.com/data/zip/features.test \n",
        "\n",
        "In this dataset, the 1st column is digit label and 2nd and 3rd columns are the features. We will train a one-versus-one (one digit is class +1 and another digit is class -1) classifier for the digits '1' (+1) and '5' (-1). (In the original dataset, only consider data samples(rows) with the label as either 1 or 5, for both train and test settings. Then for training details, you may find this [link](http://scikit-learn.org/stable/modules/svm.html) helpful.)"
      ]
    },
    {
      "cell_type": "code",
      "metadata": {
        "id": "QVyeqqbwmtfn",
        "colab": {
          "base_uri": "https://localhost:8080/"
        },
        "outputId": "ab292a86-5945-434e-b415-a09f8f76acef"
      },
      "source": [
        "from google.colab import drive\n",
        "drive.mount('/content/gdrive')"
      ],
      "execution_count": null,
      "outputs": [
        {
          "output_type": "stream",
          "text": [
            "Mounted at /content/gdrive\n"
          ],
          "name": "stdout"
        }
      ]
    },
    {
      "cell_type": "code",
      "metadata": {
        "id": "M3L6h7kRp9ee"
      },
      "source": [
        "import numpy as np\n",
        "import pandas as pd\n",
        "import matplotlib.pyplot as plt\n",
        "from matplotlib.colors import ListedColormap\n",
        "#from sklearn.preprocessing import StandardScaler\n",
        "from sklearn.metrics import confusion_matrix\n",
        "from sklearn.metrics import accuracy_score\n",
        "from sklearn.svm import SVC"
      ],
      "execution_count": null,
      "outputs": []
    },
    {
      "cell_type": "code",
      "metadata": {
        "id": "3GTdrXrjomLg"
      },
      "source": [
        "df_train = pd.read_csv('/content/gdrive/My Drive/Datasets/features.train',sep=' ',header=None, skipinitialspace=True)\n",
        "df_test = pd.read_csv('/content/gdrive/My Drive/Datasets/features.test',sep=' ',header=None, skipinitialspace=True)"
      ],
      "execution_count": null,
      "outputs": []
    },
    {
      "cell_type": "code",
      "metadata": {
        "id": "Xc8lG7ACpWKI",
        "colab": {
          "base_uri": "https://localhost:8080/",
          "height": 204
        },
        "outputId": "de0ea442-7ff2-4bf2-853e-13c6079db9e8"
      },
      "source": [
        "df_train.head()"
      ],
      "execution_count": null,
      "outputs": [
        {
          "output_type": "execute_result",
          "data": {
            "text/html": [
              "<div>\n",
              "<style scoped>\n",
              "    .dataframe tbody tr th:only-of-type {\n",
              "        vertical-align: middle;\n",
              "    }\n",
              "\n",
              "    .dataframe tbody tr th {\n",
              "        vertical-align: top;\n",
              "    }\n",
              "\n",
              "    .dataframe thead th {\n",
              "        text-align: right;\n",
              "    }\n",
              "</style>\n",
              "<table border=\"1\" class=\"dataframe\">\n",
              "  <thead>\n",
              "    <tr style=\"text-align: right;\">\n",
              "      <th></th>\n",
              "      <th>0</th>\n",
              "      <th>1</th>\n",
              "      <th>2</th>\n",
              "    </tr>\n",
              "  </thead>\n",
              "  <tbody>\n",
              "    <tr>\n",
              "      <th>0</th>\n",
              "      <td>6.0</td>\n",
              "      <td>0.341092</td>\n",
              "      <td>-4.528937</td>\n",
              "    </tr>\n",
              "    <tr>\n",
              "      <th>1</th>\n",
              "      <td>5.0</td>\n",
              "      <td>0.444131</td>\n",
              "      <td>-5.496812</td>\n",
              "    </tr>\n",
              "    <tr>\n",
              "      <th>2</th>\n",
              "      <td>4.0</td>\n",
              "      <td>0.231002</td>\n",
              "      <td>-2.886750</td>\n",
              "    </tr>\n",
              "    <tr>\n",
              "      <th>3</th>\n",
              "      <td>7.0</td>\n",
              "      <td>0.200275</td>\n",
              "      <td>-3.534375</td>\n",
              "    </tr>\n",
              "    <tr>\n",
              "      <th>4</th>\n",
              "      <td>3.0</td>\n",
              "      <td>0.291936</td>\n",
              "      <td>-4.352062</td>\n",
              "    </tr>\n",
              "  </tbody>\n",
              "</table>\n",
              "</div>"
            ],
            "text/plain": [
              "     0         1         2\n",
              "0  6.0  0.341092 -4.528937\n",
              "1  5.0  0.444131 -5.496812\n",
              "2  4.0  0.231002 -2.886750\n",
              "3  7.0  0.200275 -3.534375\n",
              "4  3.0  0.291936 -4.352062"
            ]
          },
          "metadata": {
            "tags": []
          },
          "execution_count": 4
        }
      ]
    },
    {
      "cell_type": "code",
      "metadata": {
        "id": "ygYSYQq1r8ZF"
      },
      "source": [
        "df_train = df_train[(df_train[0] == 1) | (df_train[0] == 5)]\n",
        "df_test = df_test[(df_test[0] == 1) | (df_test[0] == 5)]"
      ],
      "execution_count": null,
      "outputs": []
    },
    {
      "cell_type": "code",
      "metadata": {
        "id": "N9jvAhHsvcsf",
        "colab": {
          "base_uri": "https://localhost:8080/",
          "height": 204
        },
        "outputId": "272f12a6-1f20-459f-89cb-d4f5af3a7dbc"
      },
      "source": [
        "df_train.head()"
      ],
      "execution_count": null,
      "outputs": [
        {
          "output_type": "execute_result",
          "data": {
            "text/html": [
              "<div>\n",
              "<style scoped>\n",
              "    .dataframe tbody tr th:only-of-type {\n",
              "        vertical-align: middle;\n",
              "    }\n",
              "\n",
              "    .dataframe tbody tr th {\n",
              "        vertical-align: top;\n",
              "    }\n",
              "\n",
              "    .dataframe thead th {\n",
              "        text-align: right;\n",
              "    }\n",
              "</style>\n",
              "<table border=\"1\" class=\"dataframe\">\n",
              "  <thead>\n",
              "    <tr style=\"text-align: right;\">\n",
              "      <th></th>\n",
              "      <th>0</th>\n",
              "      <th>1</th>\n",
              "      <th>2</th>\n",
              "    </tr>\n",
              "  </thead>\n",
              "  <tbody>\n",
              "    <tr>\n",
              "      <th>1</th>\n",
              "      <td>5.0</td>\n",
              "      <td>0.444131</td>\n",
              "      <td>-5.496812</td>\n",
              "    </tr>\n",
              "    <tr>\n",
              "      <th>7</th>\n",
              "      <td>1.0</td>\n",
              "      <td>0.123043</td>\n",
              "      <td>-0.707875</td>\n",
              "    </tr>\n",
              "    <tr>\n",
              "      <th>9</th>\n",
              "      <td>1.0</td>\n",
              "      <td>0.113859</td>\n",
              "      <td>-0.931375</td>\n",
              "    </tr>\n",
              "    <tr>\n",
              "      <th>12</th>\n",
              "      <td>1.0</td>\n",
              "      <td>0.115371</td>\n",
              "      <td>-0.386000</td>\n",
              "    </tr>\n",
              "    <tr>\n",
              "      <th>13</th>\n",
              "      <td>1.0</td>\n",
              "      <td>0.102281</td>\n",
              "      <td>-0.378812</td>\n",
              "    </tr>\n",
              "  </tbody>\n",
              "</table>\n",
              "</div>"
            ],
            "text/plain": [
              "      0         1         2\n",
              "1   5.0  0.444131 -5.496812\n",
              "7   1.0  0.123043 -0.707875\n",
              "9   1.0  0.113859 -0.931375\n",
              "12  1.0  0.115371 -0.386000\n",
              "13  1.0  0.102281 -0.378812"
            ]
          },
          "metadata": {
            "tags": []
          },
          "execution_count": 6
        }
      ]
    },
    {
      "cell_type": "code",
      "metadata": {
        "id": "XT9TbGw7pXhi"
      },
      "source": [
        "X_train = df_train.iloc[:, [1, 2]].values\n",
        "y_train = df_train.iloc[:, 0].values"
      ],
      "execution_count": null,
      "outputs": []
    },
    {
      "cell_type": "code",
      "metadata": {
        "id": "hpjlxVijrZ32"
      },
      "source": [
        "X_test = df_test.iloc[:, [1, 2]].values\n",
        "y_test = df_test.iloc[:, 0].values"
      ],
      "execution_count": null,
      "outputs": []
    },
    {
      "cell_type": "markdown",
      "metadata": {
        "id": "0kyMPBrRGRjW"
      },
      "source": [
        "(a) Consider the linear kernel K(x<sub>n</sub>, x<sub>m</sub>) = x<sup>T</sup>\n",
        "<sub>n</sub>x<sub>m</sub>. Train using the provided training data\n",
        "and test using the provided test data, and report your accuracy over the entire test set, and the number of support vectors."
      ]
    },
    {
      "cell_type": "code",
      "metadata": {
        "id": "gkFtxvZDxtNf"
      },
      "source": [
        "classifier = SVC(kernel = 'linear', random_state = 42)\n",
        "classifier.fit(X_train, y_train)\n",
        "y_pred = classifier.predict(X_test)"
      ],
      "execution_count": null,
      "outputs": []
    },
    {
      "cell_type": "code",
      "metadata": {
        "id": "AeI47RVsCWp7",
        "colab": {
          "base_uri": "https://localhost:8080/"
        },
        "outputId": "2d81347d-f132-44b0-8d56-d09170b01d71"
      },
      "source": [
        "print(\"Accuracy Score :\", accuracy_score(y_test, y_pred))\n",
        "print(\"Number of Support Vectors: \", len(classifier.support_))"
      ],
      "execution_count": null,
      "outputs": [
        {
          "output_type": "stream",
          "text": [
            "Accuracy Score : 0.9787735849056604\n",
            "Number of Support Vectors:  28\n"
          ],
          "name": "stdout"
        }
      ]
    },
    {
      "cell_type": "code",
      "metadata": {
        "id": "c3SeI3Cy0NqO",
        "colab": {
          "base_uri": "https://localhost:8080/"
        },
        "outputId": "5b98a95f-ff27-4a8a-f671-a0f12366196f"
      },
      "source": [
        "cm = confusion_matrix(y_test, y_pred)\n",
        "print(cm)"
      ],
      "execution_count": null,
      "outputs": [
        {
          "output_type": "stream",
          "text": [
            "[[255   9]\n",
            " [  0 160]]\n"
          ],
          "name": "stdout"
        }
      ]
    },
    {
      "cell_type": "code",
      "metadata": {
        "id": "Vx1Dt-5B4bSA",
        "colab": {
          "base_uri": "https://localhost:8080/",
          "height": 349
        },
        "outputId": "377e9c0c-553d-40ed-879f-b2795ac7360f"
      },
      "source": [
        "X_set, y_set = X_train, y_train\n",
        "X1, X2 = np.meshgrid(np.arange(start = X_set[:, 0].min() - 1, stop = X_set[:, 0].max() + 1, step = 0.01),\n",
        "                     np.arange(start = X_set[:, 1].min() - 1, stop = X_set[:, 1].max() + 1, step = 0.01))\n",
        "plt.contourf(X1, X2, classifier.predict(np.array([X1.ravel(), X2.ravel()]).T).reshape(X1.shape),\n",
        "             alpha = 0.75, cmap = ListedColormap(('yellow', 'cyan')))\n",
        "plt.xlim(X1.min(), X1.max())\n",
        "plt.ylim(X2.min(), X2.max())\n",
        "for i, j in enumerate(np.unique(y_set)):\n",
        "    plt.scatter(X_set[y_set == j, 0], X_set[y_set == j, 1],\n",
        "                c = ListedColormap(('red', 'green'))(i), label = j)\n",
        "plt.title('SVM (Training set)')\n",
        "plt.xlabel('Feature 1')\n",
        "plt.ylabel('Feature 2')\n",
        "plt.legend()\n",
        "plt.show()"
      ],
      "execution_count": null,
      "outputs": [
        {
          "output_type": "stream",
          "text": [
            "*c* argument looks like a single numeric RGB or RGBA sequence, which should be avoided as value-mapping will have precedence in case its length matches with *x* & *y*.  Please use the *color* keyword-argument or provide a 2-D array with a single row if you intend to specify the same RGB or RGBA value for all points.\n",
            "*c* argument looks like a single numeric RGB or RGBA sequence, which should be avoided as value-mapping will have precedence in case its length matches with *x* & *y*.  Please use the *color* keyword-argument or provide a 2-D array with a single row if you intend to specify the same RGB or RGBA value for all points.\n"
          ],
          "name": "stderr"
        },
        {
          "output_type": "display_data",
          "data": {
            "image/png": "[encoded data removed]",
            "text/plain": [
              "<Figure size 432x288 with 1 Axes>"
            ]
          },
          "metadata": {
            "tags": [],
            "needs_background": "light"
          }
        }
      ]
    },
    {
      "cell_type": "code",
      "metadata": {
        "id": "AO_bKh-_4cE3",
        "colab": {
          "base_uri": "https://localhost:8080/",
          "height": 349
        },
        "outputId": "d82162c4-26d5-4e48-bcc8-75186f7c51fb"
      },
      "source": [
        "X_set, y_set = X_test, y_test\n",
        "X1, X2 = np.meshgrid(np.arange(start = X_set[:, 0].min() - 1, stop = X_set[:, 0].max() + 1, step = 0.01),\n",
        "                     np.arange(start = X_set[:, 1].min() - 1, stop = X_set[:, 1].max() + 1, step = 0.01))\n",
        "plt.contourf(X1, X2, classifier.predict(np.array([X1.ravel(), X2.ravel()]).T).reshape(X1.shape),\n",
        "             alpha = 0.75, cmap = ListedColormap(('yellow', 'cyan')))\n",
        "plt.xlim(X1.min(), X1.max())\n",
        "plt.ylim(X2.min(), X2.max())\n",
        "for i, j in enumerate(np.unique(y_set)):\n",
        "    plt.scatter(X_set[y_set == j, 0], X_set[y_set == j, 1],\n",
        "                c = ListedColormap(('red', 'green'))(i), label = j)\n",
        "plt.title('SVM (Test set)')\n",
        "plt.xlabel('Feature 1')\n",
        "plt.ylabel('Feature 2')\n",
        "plt.legend()\n",
        "plt.show()"
      ],
      "execution_count": null,
      "outputs": [
        {
          "output_type": "stream",
          "text": [
            "*c* argument looks like a single numeric RGB or RGBA sequence, which should be avoided as value-mapping will have precedence in case its length matches with *x* & *y*.  Please use the *color* keyword-argument or provide a 2-D array with a single row if you intend to specify the same RGB or RGBA value for all points.\n",
            "*c* argument looks like a single numeric RGB or RGBA sequence, which should be avoided as value-mapping will have precedence in case its length matches with *x* & *y*.  Please use the *color* keyword-argument or provide a 2-D array with a single row if you intend to specify the same RGB or RGBA value for all points.\n"
          ],
          "name": "stderr"
        },
        {
          "output_type": "display_data",
          "data": {
            "image/png": "[encoded data removed]",
            "text/plain": [
              "<Figure size 432x288 with 1 Axes>"
            ]
          },
          "metadata": {
            "tags": [],
            "needs_background": "light"
          }
        }
      ]
    },
    {
      "cell_type": "markdown",
      "metadata": {
        "id": "oGqppRy1H2B3"
      },
      "source": [
        "(b) In continuation, train only using the first {50, 100, 200, 800} points with the linear kernel. Report the accuracy over the entire test set, and the number of support vectors in each of these cases."
      ]
    },
    {
      "cell_type": "code",
      "metadata": {
        "id": "xGJA_ALR_jGO"
      },
      "source": [
        "X_train_50 = df_train.iloc[:50, [1, 2]].values\n",
        "y_train_50 = df_train.iloc[:50, 0].values\n",
        "X_train_100 = df_train.iloc[:100, [1, 2]].values\n",
        "y_train_100 = df_train.iloc[:100, 0].values\n",
        "X_train_200 = df_train.iloc[:200, [1, 2]].values\n",
        "y_train_200 = df_train.iloc[:200, 0].values\n",
        "X_train_800 = df_train.iloc[:800, [1, 2]].values\n",
        "y_train_800 = df_train.iloc[:800, 0].values"
      ],
      "execution_count": null,
      "outputs": []
    },
    {
      "cell_type": "markdown",
      "metadata": {
        "id": "ak7cRvxj_jGj"
      },
      "source": [
        "X_train_800.shape"
      ]
    },
    {
      "cell_type": "markdown",
      "metadata": {
        "id": "KOcwsRoX_jG0"
      },
      "source": [
        "print(X_train_50)"
      ]
    },
    {
      "cell_type": "code",
      "metadata": {
        "id": "VlEUOeZG_jG8",
        "colab": {
          "base_uri": "https://localhost:8080/"
        },
        "outputId": "d9c7c8d2-6393-429e-eed7-d0376f01ef1c"
      },
      "source": [
        "classifier = SVC(kernel = 'linear', random_state = 42)\n",
        "classifier.fit(X_train_50, y_train_50)\n",
        "y_pred_50 = classifier.predict(X_test)\n",
        "print(\"Accuracy Score :\", accuracy_score(y_test, y_pred_50))\n",
        "print(\"Number of Support Vectors: \", len(classifier.support_))"
      ],
      "execution_count": null,
      "outputs": [
        {
          "output_type": "stream",
          "text": [
            "Accuracy Score : 0.9811320754716981\n",
            "Number of Support Vectors:  2\n"
          ],
          "name": "stdout"
        }
      ]
    },
    {
      "cell_type": "code",
      "metadata": {
        "id": "fm6K7a5M_jHA",
        "colab": {
          "base_uri": "https://localhost:8080/"
        },
        "outputId": "83dee159-80a8-4daa-85ce-0f3e4561f43f"
      },
      "source": [
        "classifier = SVC(kernel = 'linear', random_state = 42)\n",
        "classifier.fit(X_train_100, y_train_100)\n",
        "y_pred_100 = classifier.predict(X_test)\n",
        "print(\"Accuracy Score :\", accuracy_score(y_test, y_pred_100))\n",
        "print(\"Number of Support Vectors: \", len(classifier.support_))"
      ],
      "execution_count": null,
      "outputs": [
        {
          "output_type": "stream",
          "text": [
            "Accuracy Score : 0.9811320754716981\n",
            "Number of Support Vectors:  4\n"
          ],
          "name": "stdout"
        }
      ]
    },
    {
      "cell_type": "code",
      "metadata": {
        "id": "nP66zQbG_jHF",
        "colab": {
          "base_uri": "https://localhost:8080/"
        },
        "outputId": "6e218a1e-45e0-443f-9213-82e3ae40dbc1"
      },
      "source": [
        "classifier = SVC(kernel = 'linear', random_state = 42)\n",
        "classifier.fit(X_train_200, y_train_200)\n",
        "y_pred_200 = classifier.predict(X_test)\n",
        "print(\"Accuracy Score :\", accuracy_score(y_test, y_pred_200))\n",
        "print(\"Number of Support Vectors: \", len(classifier.support_))"
      ],
      "execution_count": null,
      "outputs": [
        {
          "output_type": "stream",
          "text": [
            "Accuracy Score : 0.9811320754716981\n",
            "Number of Support Vectors:  8\n"
          ],
          "name": "stdout"
        }
      ]
    },
    {
      "cell_type": "code",
      "metadata": {
        "id": "Js42FPJ1InyY",
        "colab": {
          "base_uri": "https://localhost:8080/"
        },
        "outputId": "acdb14a0-1bb4-41a6-f3a0-05249ed6f5ba"
      },
      "source": [
        "classifier = SVC(kernel = 'linear', random_state = 42)\n",
        "classifier.fit(X_train_800, y_train_800)\n",
        "y_pred_800 = classifier.predict(X_test)\n",
        "print(\"Accuracy Score :\", accuracy_score(y_test, y_pred_800))\n",
        "print(\"Number of Support Vectors: \", len(classifier.support_))"
      ],
      "execution_count": null,
      "outputs": [
        {
          "output_type": "stream",
          "text": [
            "Accuracy Score : 0.9811320754716981\n",
            "Number of Support Vectors:  14\n"
          ],
          "name": "stdout"
        }
      ]
    },
    {
      "cell_type": "markdown",
      "metadata": {
        "id": "DxFYwOi-BR2g"
      },
      "source": [
        "(c) Consider the polynomial kernel K(x<sub>n</sub>, x<sub>m</sub>) = (1 + x<sup>T</sup><sub>\n",
        "n</sub>x<sub>m</sub>)<sup>Q</sup>, where Q is the degree of\n",
        "the polynomial. \\\n",
        "Comparing Q = 2 with Q = 5, comment whether each of the following\n",
        "statements is TRUE or FALSE.\n",
        "1. When C = 0.0001, training error is higher at Q = 5.\n",
        "2. When C = 0.001, the number of support vectors is lower at Q = 5.\n",
        "3. When C = 0.01, training error is higher at Q = 5.\n",
        "4. When C = 1, test error is lower at Q = 5."
      ]
    },
    {
      "cell_type": "code",
      "metadata": {
        "id": "rUwQVFoQJpzN",
        "colab": {
          "base_uri": "https://localhost:8080/"
        },
        "outputId": "02662873-d3f6-48ab-c1ed-110fb5af5451"
      },
      "source": [
        "q = 2\n",
        "my_C = 0.0001\n",
        "classifier = SVC(kernel = 'poly', C = my_C, coef0 = 1, degree = q, random_state = 42)\n",
        "classifier.fit(X_train, y_train)\n",
        "train_error_2 = 1 - classifier.score(X_train, y_train)\n",
        "print(\"Training Error: \", train_error_2)"
      ],
      "execution_count": null,
      "outputs": [
        {
          "output_type": "stream",
          "text": [
            "Training Error:  0.25368353619474693\n"
          ],
          "name": "stdout"
        }
      ]
    },
    {
      "cell_type": "code",
      "metadata": {
        "id": "05mJNawaXJOP",
        "colab": {
          "base_uri": "https://localhost:8080/"
        },
        "outputId": "d333cec4-7ccf-43b5-f93b-e39c4c37f91d"
      },
      "source": [
        "q = 5\n",
        "my_C = 0.0001\n",
        "classifier = SVC(kernel = 'poly', C = my_C, coef0 = 1, degree = q, random_state = 42)\n",
        "classifier.fit(X_train, y_train)\n",
        "train_error_5 = 1 - classifier.score(X_train, y_train)\n",
        "print(\"Training Error: \", train_error_5)"
      ],
      "execution_count": null,
      "outputs": [
        {
          "output_type": "stream",
          "text": [
            "Training Error:  0.018577834721332454\n"
          ],
          "name": "stdout"
        }
      ]
    },
    {
      "cell_type": "code",
      "metadata": {
        "id": "8X6E2PYh3YrK",
        "colab": {
          "base_uri": "https://localhost:8080/"
        },
        "outputId": "0a2b5ff0-110e-4b7e-8d53-b13a0ff66814"
      },
      "source": [
        "print(train_error_5 > train_error_2)"
      ],
      "execution_count": null,
      "outputs": [
        {
          "output_type": "stream",
          "text": [
            "False\n"
          ],
          "name": "stdout"
        }
      ]
    },
    {
      "cell_type": "code",
      "metadata": {
        "id": "1PSJGVT3Xwc3",
        "colab": {
          "base_uri": "https://localhost:8080/"
        },
        "outputId": "fe5a04e5-33f1-4b4e-a684-d0ea832d28c8"
      },
      "source": [
        "q = 2\n",
        "my_C = 0.001\n",
        "classifier = SVC(kernel = 'poly', C = my_C, coef0 = 1, degree = q, random_state = 42)\n",
        "classifier.fit(X_train, y_train)\n",
        "nsv2 = len(classifier.support_)\n",
        "print(\"Number of Support Vectors: \", nsv2)"
      ],
      "execution_count": null,
      "outputs": [
        {
          "output_type": "stream",
          "text": [
            "Number of Support Vectors:  456\n"
          ],
          "name": "stdout"
        }
      ]
    },
    {
      "cell_type": "code",
      "metadata": {
        "id": "9UJJ0PcddFVz",
        "colab": {
          "base_uri": "https://localhost:8080/"
        },
        "outputId": "0e8966ee-f8ed-4960-f6cf-cbfaa0c2a6a3"
      },
      "source": [
        "q = 5\n",
        "my_C = 0.001\n",
        "classifier = SVC(kernel = 'poly', C = my_C, coef0 = 1, degree = q, random_state = 42)\n",
        "classifier.fit(X_train, y_train)\n",
        "nsv5 = len(classifier.support_)\n",
        "print(\"Number of Support Vectors: \", nsv5)"
      ],
      "execution_count": null,
      "outputs": [
        {
          "output_type": "stream",
          "text": [
            "Number of Support Vectors:  72\n"
          ],
          "name": "stdout"
        }
      ]
    },
    {
      "cell_type": "code",
      "metadata": {
        "id": "Q0wIz6MN4RnX",
        "colab": {
          "base_uri": "https://localhost:8080/"
        },
        "outputId": "8b128ea9-dccb-4ac4-8ea4-a3fa316cbc7e"
      },
      "source": [
        "print(nsv5 < nsv2)"
      ],
      "execution_count": null,
      "outputs": [
        {
          "output_type": "stream",
          "text": [
            "True\n"
          ],
          "name": "stdout"
        }
      ]
    },
    {
      "cell_type": "code",
      "metadata": {
        "id": "q9OF75UhdMfA",
        "colab": {
          "base_uri": "https://localhost:8080/"
        },
        "outputId": "cf31d83a-e6c1-4f94-dd5d-cd7c62f3e5eb"
      },
      "source": [
        "q = 2\n",
        "my_C = 0.01\n",
        "classifier = SVC(kernel = 'poly', C = my_C, coef0 = 1, degree = q, random_state = 42)\n",
        "classifier.fit(X_train, y_train)\n",
        "train_error_2 = 1 - classifier.score(X_train, y_train)\n",
        "print(\"Training Error: \", train_error_2)"
      ],
      "execution_count": null,
      "outputs": [
        {
          "output_type": "stream",
          "text": [
            "Training Error:  0.005124919923126248\n"
          ],
          "name": "stdout"
        }
      ]
    },
    {
      "cell_type": "code",
      "metadata": {
        "id": "Bc1yJvpCdMfT",
        "colab": {
          "base_uri": "https://localhost:8080/"
        },
        "outputId": "aa5252d7-4773-4a10-80da-1c0dd5878836"
      },
      "source": [
        "q = 5\n",
        "my_C = 0.01\n",
        "classifier = SVC(kernel = 'poly', C = my_C, coef0 = 1, degree = q, random_state = 42)\n",
        "classifier.fit(X_train, y_train)\n",
        "train_error_5 = 1 - classifier.score(X_train, y_train)\n",
        "print(\"Training Error: \", train_error_5)"
      ],
      "execution_count": null,
      "outputs": [
        {
          "output_type": "stream",
          "text": [
            "Training Error:  0.004484304932735439\n"
          ],
          "name": "stdout"
        }
      ]
    },
    {
      "cell_type": "code",
      "metadata": {
        "id": "3cKeIOWR36nQ",
        "colab": {
          "base_uri": "https://localhost:8080/"
        },
        "outputId": "9c523619-34df-442d-ce88-a7a50c06acc4"
      },
      "source": [
        "print(train_error_5 > train_error_2)"
      ],
      "execution_count": null,
      "outputs": [
        {
          "output_type": "stream",
          "text": [
            "False\n"
          ],
          "name": "stdout"
        }
      ]
    },
    {
      "cell_type": "code",
      "metadata": {
        "id": "H6dfCAh7dW-A",
        "colab": {
          "base_uri": "https://localhost:8080/"
        },
        "outputId": "7f5d127f-0e70-4a44-96ef-246f20b92740"
      },
      "source": [
        "q = 2\n",
        "my_C = 1\n",
        "classifier = SVC(kernel = 'poly', C = my_C, coef0 = 1, degree = q, random_state = 42)\n",
        "classifier.fit(X_train, y_train)\n",
        "test_error_2 = 1 - classifier.score(X_test, y_test)\n",
        "print(\"Test Error: \", test_error_2)"
      ],
      "execution_count": null,
      "outputs": [
        {
          "output_type": "stream",
          "text": [
            "Test Error:  0.021226415094339646\n"
          ],
          "name": "stdout"
        }
      ]
    },
    {
      "cell_type": "code",
      "metadata": {
        "id": "XXdCJPusdW-P",
        "colab": {
          "base_uri": "https://localhost:8080/"
        },
        "outputId": "c6cc78e6-2930-42f6-b52f-2f40e63481bf"
      },
      "source": [
        "q = 5\n",
        "my_C = 1\n",
        "classifier = SVC(kernel = 'poly', C = my_C, coef0 = 1, degree = q, random_state = 42)\n",
        "classifier.fit(X_train, y_train)\n",
        "test_error_5 = 1 - classifier.score(X_test, y_test)\n",
        "print(\"Test Error: \", test_error_5)"
      ],
      "execution_count": null,
      "outputs": [
        {
          "output_type": "stream",
          "text": [
            "Test Error:  0.02358490566037741\n"
          ],
          "name": "stdout"
        }
      ]
    },
    {
      "cell_type": "code",
      "metadata": {
        "id": "_9HGhdAG4npr",
        "colab": {
          "base_uri": "https://localhost:8080/"
        },
        "outputId": "1f26a706-1a23-4f10-fa09-a329881282bc"
      },
      "source": [
        "print(test_error_5 < test_error_2)"
      ],
      "execution_count": null,
      "outputs": [
        {
          "output_type": "stream",
          "text": [
            "False\n"
          ],
          "name": "stdout"
        }
      ]
    },
    {
      "cell_type": "markdown",
      "metadata": {
        "id": "JLQ_KbiPdQb4"
      },
      "source": [
        "(d) Consider the radial basis function (RBF) kernel K(x<sub>n</sub>, x<sub>m</sub>) = e(-||x<sub>n</sub> - x<sub>m</sub>||<sup>2</sup>) in the soft-margin SVM approach. Which value of \\\n",
        "\\begin{align}\n",
        "C\\ \\epsilon\\ \\{\\ 0.01,\\ 1,\\ 100,\\ 10^4,\\ 10^6 \\}\n",
        "\\end{align}\n",
        "results in the lowest training error? The lowest test error? Show the error values for all the C values."
      ]
    },
    {
      "cell_type": "code",
      "metadata": {
        "id": "tCphJQaYd3f6",
        "colab": {
          "base_uri": "https://localhost:8080/"
        },
        "outputId": "cfba2c1e-73f9-40a3-a3cb-8578cb0fda99"
      },
      "source": [
        "min_train = None\n",
        "min_train_C = None\n",
        "min_test = None\n",
        "min_test_C = None\n",
        "\n",
        "for my_C in np.logspace(-2, 6, 5):\n",
        "  classifier = SVC(kernel = 'rbf', C = my_C, gamma = 1, random_state = 42)\n",
        "  classifier.fit(X_train, y_train)\n",
        "  print(\"C =\", my_C)\n",
        "  train_error = 1 - classifier.score(X_train, y_train)\n",
        "  test_error = 1 - classifier.score(X_test, y_test)\n",
        "\n",
        "  if min_train is None : \n",
        "    min_train = train_error\n",
        "    min_train_C = my_C\n",
        "  \n",
        "  if min_test is None : \n",
        "    min_test = test_error\n",
        "    min_test_C = my_C\n",
        "\n",
        "  if train_error < min_train : \n",
        "    min_train = train_error\n",
        "    min_train_C = my_C\n",
        "\n",
        "  if test_error < min_test : \n",
        "    min_test = test_error\n",
        "    min_test_C = my_C\n",
        "  \n",
        "  print(\"Training Error: \", train_error)\n",
        "  print(\"Test Error: \", test_error)\n",
        "\n",
        "print(\"Minimum Training Error =\", min_train, \"when C =\", min_train_C)\n",
        "print(\"Minimum Test Error =\", min_test, \"when C =\", min_test_C)"
      ],
      "execution_count": null,
      "outputs": [
        {
          "output_type": "stream",
          "text": [
            "C = 0.01\n",
            "Training Error:  0.0038436899423446302\n",
            "Test Error:  0.02358490566037741\n",
            "C = 1.0\n",
            "Training Error:  0.004484304932735439\n",
            "Test Error:  0.021226415094339646\n",
            "C = 100.0\n",
            "Training Error:  0.0032030749519538215\n",
            "Test Error:  0.018867924528301883\n",
            "C = 10000.0\n",
            "Training Error:  0.002562459961563124\n",
            "Test Error:  0.02358490566037741\n",
            "C = 1000000.0\n",
            "Training Error:  0.0006406149903908087\n",
            "Test Error:  0.02358490566037741\n",
            "Minimum Training Error = 0.0006406149903908087 when C = 1000000.0\n",
            "Minimum Test Error = 0.018867924528301883 when C = 100.0\n"
          ],
          "name": "stdout"
        }
      ]
    }
  ]
}