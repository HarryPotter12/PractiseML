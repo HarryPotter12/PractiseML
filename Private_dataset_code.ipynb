{
  "nbformat": 4,
  "nbformat_minor": 0,
  "metadata": {
    "colab": {
      "name": "Private dataset code.ipynb",
      "provenance": [],
      "collapsed_sections": [],
      "machine_shape": "hm",
      "include_colab_link": true
    },
    "kernelspec": {
      "name": "python3",
      "display_name": "Python 3"
    },
    "accelerator": "GPU"
  },
  "cells": [
    {
      "cell_type": "markdown",
      "metadata": {
        "id": "view-in-github",
        "colab_type": "text"
      },
      "source": [
        "<a href=\"https://colab.research.google.com/github/HarryPotter12/PractiseML/blob/master/Private_dataset_code.ipynb\" target=\"_parent\"><img src=\"https://colab.research.google.com/assets/colab-badge.svg\" alt=\"Open In Colab\"/></a>"
      ]
    },
    {
      "cell_type": "code",
      "metadata": {
        "id": "cqm6POVL4c7z",
        "colab_type": "code",
        "outputId": "e124a52e-b40b-4125-febd-4468772a5411",
        "colab": {
          "base_uri": "https://localhost:8080/",
          "height": 122
        }
      },
      "source": [
        "from google.colab import drive\n",
        "drive.mount('/content/gdrive')"
      ],
      "execution_count": 0,
      "outputs": [
        {
          "output_type": "stream",
          "text": [
            "Go to this URL in a browser: https://accounts.google.com/o/oauth2/auth?client_id=947318989803-6bn6qk8qdgf4n4g3pfee6491hc0brc4i.apps.googleusercontent.com&redirect_uri=urn%3aietf%3awg%3aoauth%3a2.0%3aoob&response_type=code&scope=email%20https%3a%2f%2fwww.googleapis.com%2fauth%2fdocs.test%20https%3a%2f%2fwww.googleapis.com%2fauth%2fdrive%20https%3a%2f%2fwww.googleapis.com%2fauth%2fdrive.photos.readonly%20https%3a%2f%2fwww.googleapis.com%2fauth%2fpeopleapi.readonly\n",
            "\n",
            "Enter your authorization code:\n",
            "··········\n",
            "Mounted at /content/gdrive\n"
          ],
          "name": "stdout"
        }
      ]
    },
    {
      "cell_type": "code",
      "metadata": {
        "id": "JE2G5Aa336f-",
        "colab_type": "code",
        "colab": {}
      },
      "source": [
        "import io, email\n",
        "import numpy as np\n",
        "from numpy import diag\n",
        "from numpy import zeros\n",
        "from numpy import linalg as LA\n",
        "import matplotlib.pyplot as plt\n",
        "import pandas as pd\n",
        "import matplotlib"
      ],
      "execution_count": 0,
      "outputs": []
    },
    {
      "cell_type": "code",
      "metadata": {
        "id": "6XaXaA8M8mfW",
        "colab_type": "code",
        "colab": {}
      },
      "source": [
        "data = pd.read_csv('/content/gdrive/My Drive/Datasets/messages.csv',header=None)"
      ],
      "execution_count": 0,
      "outputs": []
    },
    {
      "cell_type": "code",
      "metadata": {
        "colab_type": "code",
        "id": "8Xosgjaejho9",
        "outputId": "1beba228-6656-4856-b840-cb6c3452976c",
        "colab": {
          "base_uri": "https://localhost:8080/",
          "height": 255
        }
      },
      "source": [
        "data.columns\n",
        "data.head"
      ],
      "execution_count": 0,
      "outputs": [
        {
          "output_type": "execute_result",
          "data": {
            "text/plain": [
              "<bound method NDFrame.head of                                                      0  ...                                                  5\n",
              "0                        Re: Inter IIT Tech Meet 2K19!  ...  Subject:\\r\\nRe: Inter IIT Tech Meet 2K19!\\r\\nF...\n",
              "1                    Debate: Vigilance Awareness week.  ...  Subject:\\r\\nDebate: Vigilance Awareness week.\\...\n",
              "2           New Email ID of Faculty-inchage Guesthouse  ...  Subject:\\r\\nNew Email ID of Faculty-inchage Gu...\n",
              "3    Re: Course Feedback for July-Dec 2019 semester...  ...  Subject:\\r\\nRe: Course Feedback for July-Dec 2...\n",
              "4                              T-Shirt Design Contest!  ...  Subject:\\r\\nT-Shirt Design Contest!\\r\\nFrom:\\r...\n",
              "..                                                 ...  ...                                                ...\n",
              "419                           Faculty-In-Charge E-Cell  ...  Subject:\\r\\nFaculty-In-Charge E-Cell\\r\\nFrom:\\...\n",
              "420  New announcement: \"\"Your announced date for ex...  ...  Subject:\\r\\nNew announcement: \"Your announced ...\n",
              "421                            Re: Elektronica Session  ...  Subject:\\r\\nRe: Elektronica Session\\r\\nFrom:\\r...\n",
              "422                                Elektronica Session  ...  Subject:\\r\\nElektronica Session\\r\\nFrom:\\r\\n\"'...\n",
              "423                                 Writer's Huddle #5  ...  Subject:\\r\\nWriter's Huddle #5\\r\\nFrom:\\r\\nYOG...\n",
              "\n",
              "[424 rows x 6 columns]>"
            ]
          },
          "metadata": {
            "tags": []
          },
          "execution_count": 4
        }
      ]
    },
    {
      "cell_type": "code",
      "metadata": {
        "id": "NlmMq53pEb-r",
        "colab_type": "code",
        "outputId": "e4954ee4-c3ca-42b3-d0d6-497a0e6400cd",
        "colab": {
          "base_uri": "https://localhost:8080/",
          "height": 221
        }
      },
      "source": [
        "print(0)\n",
        "print(data[3].iloc[1])\n",
        "print(1)\n",
        "print(data[3].iloc[2])\n",
        "print(2)\n",
        "print(data[3].iloc[3])\n",
        "print(3)\n",
        "print(data[3].iloc[4])\n",
        "print(4)\n",
        "print(data[3].iloc[5])\n",
        "print(5)\n",
        "print(data[3].iloc[6])"
      ],
      "execution_count": 0,
      "outputs": [
        {
          "output_type": "stream",
          "text": [
            "0\n",
            "31/10/2019 21:45\n",
            "1\n",
            "31/10/2019 20:36\n",
            "2\n",
            "31/10/2019 17:25\n",
            "3\n",
            "31/10/2019 16:09\n",
            "4\n",
            "31/10/2019 15:51\n",
            "5\n",
            "31/10/2019 14:54\n"
          ],
          "name": "stdout"
        }
      ]
    },
    {
      "cell_type": "code",
      "metadata": {
        "id": "eQHbUfHwES-G",
        "colab_type": "code",
        "colab": {}
      },
      "source": [
        "new_data = data[[3]].copy()\n",
        "new_data.columns=['Date']\n",
        "new_data['Date'] = pd.to_datetime(new_data['Date'], format=\"%d/%m/%Y %H:%M\")"
      ],
      "execution_count": 0,
      "outputs": []
    },
    {
      "cell_type": "code",
      "metadata": {
        "id": "Q_hWZg2gxS6_",
        "colab_type": "code",
        "colab": {}
      },
      "source": [
        "new_data['Value'] = 1"
      ],
      "execution_count": 0,
      "outputs": []
    },
    {
      "cell_type": "code",
      "metadata": {
        "id": "vcWGGMtVxX2s",
        "colab_type": "code",
        "colab": {}
      },
      "source": [
        "hourly_data = pd.DataFrame()\n",
        "hourly_data = new_data.resample('H', on='Date').sum()"
      ],
      "execution_count": 0,
      "outputs": []
    },
    {
      "cell_type": "code",
      "metadata": {
        "id": "vWJYzWd1xd8i",
        "colab_type": "code",
        "colab": {}
      },
      "source": [
        "ds = hourly_data.index.to_series()\n",
        "hourly_data['Month'] = ds.dt.month\n",
        "hourly_data['MonthDay'] = ds.dt.day\n",
        "hourly_data['Weekday'] = ds.dt.dayofweek\n",
        "hourly_data['TimeOfDay'] = ds.dt.hour"
      ],
      "execution_count": 0,
      "outputs": []
    },
    {
      "cell_type": "code",
      "metadata": {
        "id": "jV8PxuFRxg_C",
        "colab_type": "code",
        "outputId": "d254b3a5-7eb6-4020-a3bf-b0daa8d23967",
        "colab": {
          "base_uri": "https://localhost:8080/",
          "height": 357
        }
      },
      "source": [
        "for i in hourly_data.index:\n",
        "    if (hourly_data['TimeOfDay'][i] >= 5) & int(hourly_data['TimeOfDay'][i] <= 11):\n",
        "        hourly_data['TimeOfDay'][i] = 'Morning' \n",
        "    elif (hourly_data['TimeOfDay'][i] >= 12) & (hourly_data['TimeOfDay'][i] <= 16):\n",
        "        hourly_data['TimeOfDay'][i] = 'Afternoon'\n",
        "    elif (hourly_data['TimeOfDay'][i] >= 17) & (hourly_data['TimeOfDay'][i] <= 21):\n",
        "        hourly_data['TimeOfDay'][i] = 'Evening'\n",
        "    else:\n",
        "        hourly_data['TimeOfDay'][i] = 'Night'"
      ],
      "execution_count": 0,
      "outputs": [
        {
          "output_type": "stream",
          "text": [
            "/usr/local/lib/python3.6/dist-packages/ipykernel_launcher.py:10: SettingWithCopyWarning: \n",
            "A value is trying to be set on a copy of a slice from a DataFrame\n",
            "\n",
            "See the caveats in the documentation: http://pandas.pydata.org/pandas-docs/stable/user_guide/indexing.html#returning-a-view-versus-a-copy\n",
            "  # Remove the CWD from sys.path while we load stuff.\n",
            "/usr/local/lib/python3.6/dist-packages/ipykernel_launcher.py:4: SettingWithCopyWarning: \n",
            "A value is trying to be set on a copy of a slice from a DataFrame\n",
            "\n",
            "See the caveats in the documentation: http://pandas.pydata.org/pandas-docs/stable/user_guide/indexing.html#returning-a-view-versus-a-copy\n",
            "  after removing the cwd from sys.path.\n",
            "/usr/local/lib/python3.6/dist-packages/ipykernel_launcher.py:6: SettingWithCopyWarning: \n",
            "A value is trying to be set on a copy of a slice from a DataFrame\n",
            "\n",
            "See the caveats in the documentation: http://pandas.pydata.org/pandas-docs/stable/user_guide/indexing.html#returning-a-view-versus-a-copy\n",
            "  \n",
            "/usr/local/lib/python3.6/dist-packages/ipykernel_launcher.py:8: SettingWithCopyWarning: \n",
            "A value is trying to be set on a copy of a slice from a DataFrame\n",
            "\n",
            "See the caveats in the documentation: http://pandas.pydata.org/pandas-docs/stable/user_guide/indexing.html#returning-a-view-versus-a-copy\n",
            "  \n"
          ],
          "name": "stderr"
        }
      ]
    },
    {
      "cell_type": "code",
      "metadata": {
        "id": "RZ1173FWxkGX",
        "colab_type": "code",
        "colab": {}
      },
      "source": [
        "from sklearn.model_selection import train_test_split\n",
        "from patsy import dmatrices"
      ],
      "execution_count": 0,
      "outputs": []
    },
    {
      "cell_type": "code",
      "metadata": {
        "id": "nYiNyW6-xnro",
        "colab_type": "code",
        "outputId": "6241c528-5ecb-4dc3-8b59-97464c6f013f",
        "colab": {
          "base_uri": "https://localhost:8080/",
          "height": 51
        }
      },
      "source": [
        "mask = np.random.rand(len(hourly_data)) < 0.7\n",
        "df_train = hourly_data[mask]\n",
        "df_test = hourly_data[~mask]\n",
        "print('Training data set length='+str(len(df_train)))\n",
        "print('Testing data set length='+str(len(df_test)))"
      ],
      "execution_count": 0,
      "outputs": [
        {
          "output_type": "stream",
          "text": [
            "Training data set length=524\n",
            "Testing data set length=219\n"
          ],
          "name": "stdout"
        }
      ]
    },
    {
      "cell_type": "code",
      "metadata": {
        "id": "ANz5YNu1xqvN",
        "colab_type": "code",
        "colab": {}
      },
      "source": [
        "import statsmodels.api as sm"
      ],
      "execution_count": 0,
      "outputs": []
    },
    {
      "cell_type": "code",
      "metadata": {
        "id": "i-fritM9ES8B",
        "colab_type": "code",
        "colab": {}
      },
      "source": [
        "from patsy import dmatrices"
      ],
      "execution_count": 0,
      "outputs": []
    },
    {
      "cell_type": "code",
      "metadata": {
        "id": "sYlycgadESuh",
        "colab_type": "code",
        "colab": {}
      },
      "source": [
        "expr = \"\"\"Value ~ C(Month)  + C(MonthDay) + C(Weekday) + C(TimeOfDay)\"\"\""
      ],
      "execution_count": 0,
      "outputs": []
    },
    {
      "cell_type": "code",
      "metadata": {
        "id": "JH89m0UR9ZyD",
        "colab_type": "code",
        "colab": {}
      },
      "source": [
        "y_train, X_train = dmatrices(expr, df_train, return_type='dataframe')\n",
        "y_test, X_test = dmatrices(expr, df_test, return_type='dataframe')"
      ],
      "execution_count": 0,
      "outputs": []
    },
    {
      "cell_type": "code",
      "metadata": {
        "id": "4HDbotwKx7gH",
        "colab_type": "code",
        "colab": {}
      },
      "source": [
        "poisson_training_results = sm.GLM(y_train, X_train, family=sm.families.Poisson()).fit()"
      ],
      "execution_count": 0,
      "outputs": []
    },
    {
      "cell_type": "code",
      "metadata": {
        "id": "PD-EOo--x8b2",
        "colab_type": "code",
        "outputId": "808f52e7-2e13-4094-869f-deb9310d784b",
        "colab": {
          "base_uri": "https://localhost:8080/",
          "height": 952
        }
      },
      "source": [
        "print(poisson_training_results.summary())"
      ],
      "execution_count": 0,
      "outputs": [
        {
          "output_type": "stream",
          "text": [
            "                 Generalized Linear Model Regression Results                  \n",
            "==============================================================================\n",
            "Dep. Variable:                  Value   No. Observations:                  524\n",
            "Model:                            GLM   Df Residuals:                      490\n",
            "Model Family:                 Poisson   Df Model:                           33\n",
            "Link Function:                    log   Scale:                          1.0000\n",
            "Method:                          IRLS   Log-Likelihood:            -1.3744e+14\n",
            "Date:                Sun, 17 Nov 2019   Deviance:                   2.7488e+14\n",
            "Time:                        14:37:23   Pearson chi2:                 1.37e+14\n",
            "No. Iterations:                   100                                         \n",
            "Covariance Type:            nonrobust                                         \n",
            "===========================================================================================\n",
            "                              coef    std err          z      P>|z|      [0.025      0.975]\n",
            "-------------------------------------------------------------------------------------------\n",
            "Intercept                   2.8489      0.082     34.803      0.000       2.688       3.009\n",
            "C(MonthDay)[T.2]           -0.5189      0.273     -1.901      0.057      -1.054       0.016\n",
            "C(MonthDay)[T.3]            0.1223      0.212      0.578      0.563      -0.292       0.537\n",
            "C(MonthDay)[T.4]           -0.4108      0.248     -1.654      0.098      -0.898       0.076\n",
            "C(MonthDay)[T.5]           -0.2487      0.283     -0.879      0.379      -0.803       0.306\n",
            "C(MonthDay)[T.6]           -0.5844      0.395     -1.479      0.139      -1.359       0.190\n",
            "C(MonthDay)[T.7]           -3.8241      0.455     -8.404      0.000      -4.716      -2.932\n",
            "C(MonthDay)[T.8]           -1.2067      0.457     -2.641      0.008      -2.102      -0.311\n",
            "C(MonthDay)[T.9]           -1.0414      0.352     -2.958      0.003      -1.731      -0.351\n",
            "C(MonthDay)[T.10]          -0.5483      0.276     -1.985      0.047      -1.089      -0.007\n",
            "C(MonthDay)[T.11]          -0.5359      0.228     -2.351      0.019      -0.983      -0.089\n",
            "C(MonthDay)[T.12]          -1.0747      0.380     -2.826      0.005      -1.820      -0.329\n",
            "C(MonthDay)[T.13]          -0.4521      0.369     -1.224      0.221      -1.176       0.272\n",
            "C(MonthDay)[T.14]          -3.4145      0.348     -9.809      0.000      -4.097      -2.732\n",
            "C(MonthDay)[T.15]          -1.0806      0.430     -2.513      0.012      -1.923      -0.238\n",
            "C(MonthDay)[T.16]          -0.4513      0.247     -1.828      0.068      -0.935       0.033\n",
            "C(MonthDay)[T.17]          -0.6212      0.299     -2.075      0.038      -1.208      -0.034\n",
            "C(MonthDay)[T.18]          -0.2001      0.195     -1.024      0.306      -0.583       0.183\n",
            "C(MonthDay)[T.19]          -0.1859      0.275     -0.676      0.499      -0.725       0.353\n",
            "C(MonthDay)[T.20]          -1.2646      0.485     -2.608      0.009      -2.215      -0.314\n",
            "C(MonthDay)[T.21]          27.3347      0.082    333.928      0.000      27.174      27.495\n",
            "C(MonthDay)[T.22]          -1.6905      0.492     -3.436      0.001      -2.655      -0.726\n",
            "C(MonthDay)[T.23]          -0.5825      0.295     -1.973      0.049      -1.161      -0.004\n",
            "C(MonthDay)[T.24]          -0.7906      0.385     -2.052      0.040      -1.546      -0.036\n",
            "C(MonthDay)[T.25]          -0.8624      0.268     -3.221      0.001      -1.387      -0.338\n",
            "C(MonthDay)[T.26]          -1.0244      0.417     -2.454      0.014      -1.843      -0.206\n",
            "C(MonthDay)[T.27]          -0.6804      0.395     -1.722      0.085      -1.455       0.094\n",
            "C(MonthDay)[T.28]          -3.0293      0.348     -8.702      0.000      -3.712      -2.347\n",
            "C(MonthDay)[T.29]          -0.5521      0.409     -1.351      0.177      -1.353       0.249\n",
            "C(MonthDay)[T.30]           0.4061      0.184      2.211      0.027       0.046       0.766\n",
            "C(MonthDay)[T.31]          -0.6168      0.299     -2.060      0.039      -1.204      -0.030\n",
            "C(Weekday)[T.1]            -2.0512      0.201    -10.203      0.000      -2.445      -1.657\n",
            "C(Weekday)[T.2]            -2.1879      0.125    -17.528      0.000      -2.433      -1.943\n",
            "C(Weekday)[T.3]            -2.4545      0.132    -18.528      0.000      -2.714      -2.195\n",
            "C(Weekday)[T.4]            -2.0091      0.119    -16.886      0.000      -2.242      -1.776\n",
            "C(Weekday)[T.5]            -2.5336      0.159    -15.932      0.000      -2.845      -2.222\n",
            "C(Weekday)[T.6]            -2.9815      0.186    -16.036      0.000      -3.346      -2.617\n",
            "C(TimeOfDay)[T.Evening]    -0.3594   1.44e-07  -2.49e+06      0.000      -0.359      -0.359\n",
            "C(TimeOfDay)[T.Morning]    -0.6445   1.28e-07  -5.05e+06      0.000      -0.645      -0.645\n",
            "C(TimeOfDay)[T.Night]      -1.0078   1.64e-07  -6.16e+06      0.000      -1.008      -1.008\n",
            "===========================================================================================\n"
          ],
          "name": "stdout"
        }
      ]
    },
    {
      "cell_type": "code",
      "metadata": {
        "id": "0hmSN9PZx-on",
        "colab_type": "code",
        "outputId": "b026b182-11e1-437d-e52c-ab6478f75898",
        "colab": {
          "base_uri": "https://localhost:8080/",
          "height": 272
        }
      },
      "source": [
        "poisson_predictions = poisson_training_results.get_prediction(X_test)\n",
        "predictions_summary_frame = poisson_predictions.summary_frame()\n",
        "print(predictions_summary_frame)"
      ],
      "execution_count": 0,
      "outputs": [
        {
          "output_type": "stream",
          "text": [
            "                         mean   mean_se  mean_ci_lower  mean_ci_upper\n",
            "Date                                                                 \n",
            "2019-10-01 05:00:00  1.165489  0.239055       0.779681       1.742206\n",
            "2019-10-01 09:00:00  1.165489  0.239055       0.779681       1.742206\n",
            "2019-10-01 13:00:00  2.220367  0.455422       1.485366       3.319066\n",
            "2019-10-01 18:00:00  1.550066  0.317936       1.036953       2.317081\n",
            "2019-10-01 20:00:00  1.550066  0.317936       1.036953       2.317081\n",
            "...                       ...       ...            ...            ...\n",
            "2019-10-31 03:00:00  0.292219  0.097406       0.152046       0.561620\n",
            "2019-10-31 07:00:00  0.420223  0.140074       0.218648       0.807632\n",
            "2019-10-31 08:00:00  0.420223  0.140074       0.218648       0.807632\n",
            "2019-10-31 14:00:00  0.800564  0.266855       0.416545       1.538615\n",
            "2019-10-31 21:00:00  0.558884  0.186295       0.290795       1.074126\n",
            "\n",
            "[219 rows x 4 columns]\n"
          ],
          "name": "stdout"
        }
      ]
    },
    {
      "cell_type": "code",
      "metadata": {
        "id": "mni4KgmnyED_",
        "colab_type": "code",
        "outputId": "b5e341b4-fddf-4c13-ab0a-19cdfeb6758f",
        "colab": {
          "base_uri": "https://localhost:8080/",
          "height": 971
        }
      },
      "source": [
        "predicted_counts=predictions_summary_frame['mean']\n",
        "actual_counts = y_test['Value']\n",
        "\n",
        "plt.rcParams[\"figure.figsize\"] = (15, 15)\n",
        "fig = plt.figure()\n",
        "fig.suptitle('Predicted versus actual mail counts ')\n",
        "predicted, = plt.plot(X_test.index, predicted_counts, 'go-', label='Predicted counts')\n",
        "actual, = plt.plot(X_test.index, actual_counts, 'yo-', label='Actual counts')\n",
        "plt.legend(handles=[predicted, actual])\n",
        "plt.show()"
      ],
      "execution_count": 0,
      "outputs": [
        {
          "output_type": "display_data",
          "data": {
            "image/png": "[encoded data removed]",
            "text/plain": [
              "<Figure size 1080x1080 with 1 Axes>"
            ]
          },
          "metadata": {
            "tags": []
          }
        }
      ]
    },
    {
      "cell_type": "code",
      "metadata": {
        "id": "R2Jv9ZCGyJzD",
        "colab_type": "code",
        "outputId": "dc5bd260-d9fa-4afa-c22f-f2a24c4478ee",
        "colab": {
          "base_uri": "https://localhost:8080/",
          "height": 387
        }
      },
      "source": [
        "plt.rcParams[\"figure.figsize\"] = (5, 5)\n",
        "plt.clf()\n",
        "fig = plt.figure()\n",
        "fig.suptitle('Scatter plot of Actual versus Predicted counts')\n",
        "plt.scatter(x=predicted_counts, y=actual_counts, marker='.')\n",
        "plt.xlabel('Predicted counts')\n",
        "plt.ylabel('Actual counts')\n",
        "plt.show()"
      ],
      "execution_count": 0,
      "outputs": [
        {
          "output_type": "display_data",
          "data": {
            "text/plain": [
              "<Figure size 360x360 with 0 Axes>"
            ]
          },
          "metadata": {
            "tags": []
          }
        },
        {
          "output_type": "display_data",
          "data": {
            "image/png": "[encoded data removed]",
            "text/plain": [
              "<Figure size 360x360 with 1 Axes>"
            ]
          },
          "metadata": {
            "tags": []
          }
        }
      ]
    },
    {
      "cell_type": "code",
      "metadata": {
        "id": "wwgkur4MzAx_",
        "colab_type": "code",
        "colab": {}
      },
      "source": [
        ""
      ],
      "execution_count": 0,
      "outputs": []
    }
  ]
}