{
  "nbformat": 4,
  "nbformat_minor": 0,
  "metadata": {
    "colab": {
      "name": "AML Ass2 Q4.ipynb",
      "provenance": [],
      "collapsed_sections": [],
      "authorship_tag": "ABX9TyNyrfJQxjyjwkwNcFPTJ1Lr",
      "include_colab_link": true
    },
    "kernelspec": {
      "display_name": "Python 3",
      "name": "python3"
    }
  },
  "cells": [
    {
      "cell_type": "markdown",
      "metadata": {
        "id": "view-in-github",
        "colab_type": "text"
      },
      "source": [
        "<a href=\"https://colab.research.google.com/github/HarryPotter12/PractiseML/blob/master/AML_Ass2_Q4.ipynb\" target=\"_parent\"><img src=\"https://colab.research.google.com/assets/colab-badge.svg\" alt=\"Open In Colab\"/></a>"
      ]
    },
    {
      "cell_type": "markdown",
      "metadata": {
        "id": "VdMBnHGFDpde"
      },
      "source": [
        "#### 4. Gradient Boosting: (3 + 5 = 8 marks) \n",
        "In this question, we will explore the use of pre-processing methods and Gradient Boosting on the popular Lending Club dataset. \\\n",
        "You are provided with two files: **loan_train.csv** and **loan_test.csv**. The dataset is almost as provided by the the original source, and you may have to make the necessary changes to make it suitable for applying ML algorithms. (If required, you can further divide loan train.csv into a validation set for model selection.) \\\n",
        "Your efforts will be to pre-process the data appropriately, and then apply gradient boosting to classify whether a customer should be given a loan or not. \\\n",
        "* The target attribute is in the column ***loan status***, which has values \"Fully\n",
        "Paid\" for which you can assign +1 to, and \"Charged off\" for which you can assign -1 to.\n",
        "* The other records with loan status values \"Current\" (in both train and test) are not relevant to this problem.\n",
        "\n",
        "Your tasks are to do the following :"
      ]
    },
    {
      "cell_type": "code",
      "metadata": {
        "colab": {
          "base_uri": "https://localhost:8080/"
        },
        "id": "QVyeqqbwmtfn",
        "outputId": "a2d21dc1-2f0a-4349-c988-862872688b6e"
      },
      "source": [
        "from google.colab import drive\n",
        "drive.mount('/content/gdrive')"
      ],
      "execution_count": null,
      "outputs": [
        {
          "output_type": "stream",
          "text": [
            "Drive already mounted at /content/gdrive; to attempt to forcibly remount, call drive.mount(\"/content/gdrive\", force_remount=True).\n"
          ],
          "name": "stdout"
        }
      ]
    },
    {
      "cell_type": "code",
      "metadata": {
        "id": "M3L6h7kRp9ee"
      },
      "source": [
        "import numpy as np\n",
        "import pandas as pd\n",
        "import matplotlib.pyplot as plt"
      ],
      "execution_count": null,
      "outputs": []
    },
    {
      "cell_type": "code",
      "metadata": {
        "id": "3GTdrXrjomLg"
      },
      "source": [
        "df_train = pd.read_csv(\"/content/gdrive/My Drive/Datasets/loan_train.csv\")\n",
        "df_test = pd.read_csv(\"/content/gdrive/My Drive/Datasets/loan_test.csv\")"
      ],
      "execution_count": null,
      "outputs": []
    },
    {
      "cell_type": "markdown",
      "metadata": {
        "id": "9WvfS-u_df2a"
      },
      "source": [
        "(a) Pre-process the data as needed to apply the classifier to the training data (you are free to use pandas or other relevant libraries). \\\n",
        "Note that test data should not be used for pre-processing in any way, but the same pre-processing steps can be used on test data. \\\n",
        "Some steps to consider:\n",
        "* Check for missing values, and how you want to handle them (you can delete the records, or replace the missing value with mean/median of the attribute - this is a decision you must make. Please document your decisions/choices in the final submitted report.)\n",
        "* Check whether you really need all the provided attributes, and choose the necessary attributes. (You can employ feature selection methods, if you are familiar; if not, you can eyeball.)\n",
        "* Transform categorical data into binary features, and any other relevant columns to suitable datatypes\n",
        "* Any other steps that help you perform better"
      ]
    },
    {
      "cell_type": "markdown",
      "metadata": {
        "id": "Of0e_SjWtULG"
      },
      "source": [
        "In the below step, we\n",
        "* Change the target attribute(loan_status) as instructed\n",
        "* Clean and format a few categorical variables\n",
        " * term\n",
        " * grade\n",
        " * home_ownership\n",
        " * verification_status\n",
        " * emp_length\n",
        " * revol_util\n",
        " * int_rate\n",
        " * sub_grade\n",
        " * purpose\n",
        " * addr_state\n",
        "* Drop rows containing missing values for the feature 'revol_util' (it amounts to ~ 1% )\n",
        "* Fill the missing values of 'emp_length' with 0"
      ]
    },
    {
      "cell_type": "code",
      "metadata": {
        "id": "F2HLBFsnlaAf"
      },
      "source": [
        "def preprocess_loan_part1(df):\n",
        "  df = df.loc[df['loan_status'].isin(['Fully Paid','Charged Off'])]\n",
        "  replace_map = {'loan_status': {'Fully Paid': 1, 'Charged Off': -1},\n",
        "                 'term': {' 36 months': 36, ' 60 months': 60},\n",
        "                 'grade': {'A': 7, 'B': 6, 'C': 5, 'D': 4, 'E': 3, 'F': 2, 'G': 1},\n",
        "                 'home_ownership': {'MORTGAGE': 6, 'RENT': 5, 'OWN': 4, 'OTHER': 3, 'NONE': 2, 'ANY': 1},\n",
        "                 'verification_status': {'Source Verified': 2, 'Verified': 1, 'Not Verified': 0}}\n",
        "  df.replace(replace_map, inplace=True)\n",
        "  df['loan_status'] = df['loan_status'].astype('category')\n",
        "  df['term'] = df['term'].astype('category')\n",
        "  df['verification_status'] = df['verification_status'].astype('category')\n",
        "  df['home_ownership'] = df['home_ownership'].astype('category')\n",
        "  df['emp_length'].fillna(value=0, inplace=True)\n",
        "  df['emp_length'].replace(to_replace='[^0-9]+', value='', inplace=True, regex=True)\n",
        "  df['emp_length'] = df['emp_length'].astype(int)\n",
        "  df.dropna(subset = ['revol_util'], inplace=True)\n",
        "  df['revol_util'] = df['revol_util'].str.rstrip('%').astype('float')\n",
        "  df['int_rate'] = df['int_rate'].str.rstrip('%').astype('float')\n",
        "  sub_grade = list(df['sub_grade'].unique())\n",
        "  sub_grade.sort(reverse=True)\n",
        "  for x,e in enumerate(sub_grade):\n",
        "    df['sub_grade'].replace(to_replace=e, value=x, inplace=True)\n",
        "  df['sub_grade'] = df['sub_grade'].astype('category')\n",
        "  purpose = df['purpose'].unique()\n",
        "  for x,e in enumerate(purpose):\n",
        "    df['purpose'].replace(to_replace=e, value=x, inplace=True)\n",
        "  df['purpose'] = df['purpose'].astype('category')\n",
        "  addr_state = df['addr_state'].unique()\n",
        "  for x,e in enumerate(addr_state):\n",
        "    df['addr_state'].replace(to_replace=e, value=x, inplace=True)\n",
        "  df['addr_state'] = df['addr_state'].astype('category')\n",
        "\n",
        "  return df"
      ],
      "execution_count": null,
      "outputs": []
    },
    {
      "cell_type": "code",
      "metadata": {
        "colab": {
          "base_uri": "https://localhost:8080/"
        },
        "id": "muRCMUcHUHrq",
        "outputId": "a941897c-696b-445b-e383-ac699a279ee9"
      },
      "source": [
        "df_train['loan_status'].value_counts()"
      ],
      "execution_count": null,
      "outputs": [
        {
          "output_type": "execute_result",
          "data": {
            "text/plain": [
              "Fully Paid     20827\n",
              "Charged Off     3474\n",
              "Current          698\n",
              "Name: loan_status, dtype: int64"
            ]
          },
          "metadata": {
            "tags": []
          },
          "execution_count": 43
        }
      ]
    },
    {
      "cell_type": "code",
      "metadata": {
        "id": "0xdraxeQUmBL"
      },
      "source": [
        "df_train = preprocess_loan_part1(df_train)"
      ],
      "execution_count": null,
      "outputs": []
    },
    {
      "cell_type": "code",
      "metadata": {
        "colab": {
          "base_uri": "https://localhost:8080/"
        },
        "id": "UifeTyQml5TW",
        "outputId": "499b6950-2d2f-452e-8bad-a1564bfedcd4"
      },
      "source": [
        "df_train['loan_status'].value_counts()"
      ],
      "execution_count": null,
      "outputs": [
        {
          "output_type": "execute_result",
          "data": {
            "text/plain": [
              "1     20810\n",
              "-1     3462\n",
              "Name: loan_status, dtype: int64"
            ]
          },
          "metadata": {
            "tags": []
          },
          "execution_count": 45
        }
      ]
    },
    {
      "cell_type": "code",
      "metadata": {
        "colab": {
          "base_uri": "https://localhost:8080/"
        },
        "id": "-Pt8HqHPVuYR",
        "outputId": "6b53f5d4-a79f-4f59-b612-c216e9ac87f8"
      },
      "source": [
        "df_train.info(verbose=True, null_counts=True)"
      ],
      "execution_count": null,
      "outputs": [
        {
          "output_type": "stream",
          "text": [
            "<class 'pandas.core.frame.DataFrame'>\n",
            "Int64Index: 24272 entries, 0 to 24998\n",
            "Data columns (total 111 columns):\n",
            " #   Column                          Non-Null Count  Dtype   \n",
            "---  ------                          --------------  -----   \n",
            " 0   id                              24272 non-null  int64   \n",
            " 1   member_id                       24272 non-null  int64   \n",
            " 2   loan_amnt                       24272 non-null  int64   \n",
            " 3   funded_amnt                     24272 non-null  int64   \n",
            " 4   funded_amnt_inv                 24272 non-null  float64 \n",
            " 5   term                            24272 non-null  category\n",
            " 6   int_rate                        24272 non-null  float64 \n",
            " 7   installment                     24272 non-null  float64 \n",
            " 8   grade                           24272 non-null  int64   \n",
            " 9   sub_grade                       24272 non-null  category\n",
            " 10  emp_title                       24266 non-null  object  \n",
            " 11  emp_length                      24272 non-null  int64   \n",
            " 12  home_ownership                  24272 non-null  category\n",
            " 13  annual_inc                      24272 non-null  float64 \n",
            " 14  verification_status             24272 non-null  category\n",
            " 15  issue_d                         24272 non-null  object  \n",
            " 16  loan_status                     24272 non-null  category\n",
            " 17  pymnt_plan                      24272 non-null  object  \n",
            " 18  url                             24272 non-null  object  \n",
            " 19  desc                            16339 non-null  object  \n",
            " 20  purpose                         24272 non-null  category\n",
            " 21  title                           24264 non-null  object  \n",
            " 22  zip_code                        24272 non-null  object  \n",
            " 23  addr_state                      24272 non-null  category\n",
            " 24  dti                             24272 non-null  float64 \n",
            " 25  delinq_2yrs                     24272 non-null  int64   \n",
            " 26  earliest_cr_line                24272 non-null  object  \n",
            " 27  inq_last_6mths                  24272 non-null  int64   \n",
            " 28  mths_since_last_delinq          8527 non-null   float64 \n",
            " 29  mths_since_last_record          1655 non-null   float64 \n",
            " 30  open_acc                        24272 non-null  int64   \n",
            " 31  pub_rec                         24272 non-null  int64   \n",
            " 32  revol_bal                       24272 non-null  int64   \n",
            " 33  revol_util                      24272 non-null  float64 \n",
            " 34  total_acc                       24272 non-null  int64   \n",
            " 35  initial_list_status             24272 non-null  object  \n",
            " 36  out_prncp                       24272 non-null  float64 \n",
            " 37  out_prncp_inv                   24272 non-null  float64 \n",
            " 38  total_pymnt                     24272 non-null  float64 \n",
            " 39  total_pymnt_inv                 24272 non-null  float64 \n",
            " 40  total_rec_prncp                 24272 non-null  float64 \n",
            " 41  total_rec_int                   24272 non-null  float64 \n",
            " 42  total_rec_late_fee              24272 non-null  float64 \n",
            " 43  recoveries                      24272 non-null  float64 \n",
            " 44  collection_recovery_fee         24272 non-null  float64 \n",
            " 45  last_pymnt_d                    24230 non-null  object  \n",
            " 46  last_pymnt_amnt                 24272 non-null  float64 \n",
            " 47  next_pymnt_d                    0 non-null      object  \n",
            " 48  last_credit_pull_d              24272 non-null  object  \n",
            " 49  collections_12_mths_ex_med      24243 non-null  float64 \n",
            " 50  mths_since_last_major_derog     0 non-null      float64 \n",
            " 51  policy_code                     24272 non-null  int64   \n",
            " 52  application_type                24272 non-null  object  \n",
            " 53  annual_inc_joint                0 non-null      float64 \n",
            " 54  dti_joint                       0 non-null      float64 \n",
            " 55  verification_status_joint       0 non-null      float64 \n",
            " 56  acc_now_delinq                  24272 non-null  int64   \n",
            " 57  tot_coll_amt                    0 non-null      float64 \n",
            " 58  tot_cur_bal                     0 non-null      float64 \n",
            " 59  open_acc_6m                     0 non-null      float64 \n",
            " 60  open_il_6m                      0 non-null      float64 \n",
            " 61  open_il_12m                     0 non-null      float64 \n",
            " 62  open_il_24m                     0 non-null      float64 \n",
            " 63  mths_since_rcnt_il              0 non-null      float64 \n",
            " 64  total_bal_il                    0 non-null      float64 \n",
            " 65  il_util                         0 non-null      float64 \n",
            " 66  open_rv_12m                     0 non-null      float64 \n",
            " 67  open_rv_24m                     0 non-null      float64 \n",
            " 68  max_bal_bc                      0 non-null      float64 \n",
            " 69  all_util                        0 non-null      float64 \n",
            " 70  total_rev_hi_lim                0 non-null      float64 \n",
            " 71  inq_fi                          0 non-null      float64 \n",
            " 72  total_cu_tl                     0 non-null      float64 \n",
            " 73  inq_last_12m                    0 non-null      float64 \n",
            " 74  acc_open_past_24mths            0 non-null      float64 \n",
            " 75  avg_cur_bal                     0 non-null      float64 \n",
            " 76  bc_open_to_buy                  0 non-null      float64 \n",
            " 77  bc_util                         0 non-null      float64 \n",
            " 78  chargeoff_within_12_mths        24243 non-null  float64 \n",
            " 79  delinq_amnt                     24272 non-null  int64   \n",
            " 80  mo_sin_old_il_acct              0 non-null      float64 \n",
            " 81  mo_sin_old_rev_tl_op            0 non-null      float64 \n",
            " 82  mo_sin_rcnt_rev_tl_op           0 non-null      float64 \n",
            " 83  mo_sin_rcnt_tl                  0 non-null      float64 \n",
            " 84  mort_acc                        0 non-null      float64 \n",
            " 85  mths_since_recent_bc            0 non-null      float64 \n",
            " 86  mths_since_recent_bc_dlq        0 non-null      float64 \n",
            " 87  mths_since_recent_inq           0 non-null      float64 \n",
            " 88  mths_since_recent_revol_delinq  0 non-null      float64 \n",
            " 89  num_accts_ever_120_pd           0 non-null      float64 \n",
            " 90  num_actv_bc_tl                  0 non-null      float64 \n",
            " 91  num_actv_rev_tl                 0 non-null      float64 \n",
            " 92  num_bc_sats                     0 non-null      float64 \n",
            " 93  num_bc_tl                       0 non-null      float64 \n",
            " 94  num_il_tl                       0 non-null      float64 \n",
            " 95  num_op_rev_tl                   0 non-null      float64 \n",
            " 96  num_rev_accts                   0 non-null      float64 \n",
            " 97  num_rev_tl_bal_gt_0             0 non-null      float64 \n",
            " 98  num_sats                        0 non-null      float64 \n",
            " 99  num_tl_120dpd_2m                0 non-null      float64 \n",
            " 100 num_tl_30dpd                    0 non-null      float64 \n",
            " 101 num_tl_90g_dpd_24m              0 non-null      float64 \n",
            " 102 num_tl_op_past_12m              0 non-null      float64 \n",
            " 103 pct_tl_nvr_dlq                  0 non-null      float64 \n",
            " 104 percent_bc_gt_75                0 non-null      float64 \n",
            " 105 pub_rec_bankruptcies            23855 non-null  float64 \n",
            " 106 tax_liens                       24255 non-null  float64 \n",
            " 107 tot_hi_cred_lim                 0 non-null      float64 \n",
            " 108 total_bal_ex_mort               0 non-null      float64 \n",
            " 109 total_bc_limit                  0 non-null      float64 \n",
            " 110 total_il_high_credit_limit      0 non-null      float64 \n",
            "dtypes: category(7), float64(76), int64(15), object(13)\n",
            "memory usage: 19.6+ MB\n"
          ],
          "name": "stdout"
        }
      ]
    },
    {
      "cell_type": "markdown",
      "metadata": {
        "id": "rGuOqDf_rppt"
      },
      "source": [
        "In the below steps, we\n",
        "* Remove the features that were unavailable before lending a loan. The goal of this project is to predict if a loan will be paid off BEFORE making the decision to lend the loan. (From Domain Knowledge)\n",
        "* Remove features associated with >60% missing values\n",
        "* Remove features that have a single unique constant value. A feature associated with one unique value does not help the model to generalize well since it’s variance is zero.\n",
        "* Remove duplicate rows"
      ]
    },
    {
      "cell_type": "code",
      "metadata": {
        "id": "hOxIZYjnx4R6"
      },
      "source": [
        "drop_irrelevant_feature_list = ['acc_now_delinq', 'acc_open_past_24mths', 'avg_cur_bal', 'bc_open_to_buy', 'bc_util', 'chargeoff_within_12_mths', \n",
        "                                'collection_recovery_fee', 'collections_12_mths_ex_med', 'delinq_2yrs', 'delinq_amnt', 'desc', 'earliest_cr_line',\n",
        "                                'emp_title', 'funded_amnt', 'funded_amnt_inv', 'id', 'inq_last_6mths', 'issue_d', 'last_credit_pull_d', 'last_pymnt_amnt', \n",
        "                                'last_pymnt_d', 'member_id', 'mo_sin_rcnt_rev_tl_op', 'mo_sin_rcnt_tl', 'mths_since_recent_bc', 'mths_since_recent_inq', \n",
        "                                'num_accts_ever_120_pd', 'num_actv_bc_tl', 'num_actv_rev_tl', 'num_bc_sats', 'num_bc_tl', 'num_il_tl', 'num_op_rev_tl', \n",
        "                                'num_rev_accts', 'num_rev_tl_bal_gt_0', 'num_sats', 'num_tl_120dpd_2m', 'num_tl_30dpd', 'num_tl_90g_dpd_24m', \n",
        "                                'num_tl_op_past_12m', 'out_prncp', 'out_prncp_inv', 'pct_tl_nvr_dlq', 'percent_bc_gt_75', 'pymnt_plan', 'recoveries', \n",
        "                                'tax_liens', 'title', 'tot_coll_amt', 'tot_cur_bal', 'tot_hi_cred_lim', 'total_bal_ex_mort', 'total_bc_limit', \n",
        "                                'total_il_high_credit_limit', 'total_pymnt', 'total_pymnt_inv', 'total_rec_int', 'total_rec_late_fee', 'total_rec_prncp', \n",
        "                                'total_rev_hi_lim', 'url', 'zip_code']"
      ],
      "execution_count": null,
      "outputs": []
    },
    {
      "cell_type": "code",
      "metadata": {
        "id": "j_LcukqtN1ih"
      },
      "source": [
        "df_train.drop(labels=drop_irrelevant_feature_list, axis=1, inplace=True)"
      ],
      "execution_count": null,
      "outputs": []
    },
    {
      "cell_type": "code",
      "metadata": {
        "id": "pOu8NHDqiEdE"
      },
      "source": [
        "missing_frac = df_train.isnull().mean()\n",
        "drop_missing_feature_list = sorted(missing_frac[missing_frac > 0.60].index)"
      ],
      "execution_count": null,
      "outputs": []
    },
    {
      "cell_type": "code",
      "metadata": {
        "colab": {
          "base_uri": "https://localhost:8080/"
        },
        "id": "0Fv_79KAQqA9",
        "outputId": "02bf5472-d1c5-4852-8172-571dc94233d9"
      },
      "source": [
        "print(drop_missing_feature_list)"
      ],
      "execution_count": null,
      "outputs": [
        {
          "output_type": "stream",
          "text": [
            "['all_util', 'annual_inc_joint', 'dti_joint', 'il_util', 'inq_fi', 'inq_last_12m', 'max_bal_bc', 'mo_sin_old_il_acct', 'mo_sin_old_rev_tl_op', 'mort_acc', 'mths_since_last_delinq', 'mths_since_last_major_derog', 'mths_since_last_record', 'mths_since_rcnt_il', 'mths_since_recent_bc_dlq', 'mths_since_recent_revol_delinq', 'next_pymnt_d', 'open_acc_6m', 'open_il_12m', 'open_il_24m', 'open_il_6m', 'open_rv_12m', 'open_rv_24m', 'total_bal_il', 'total_cu_tl', 'verification_status_joint']\n"
          ],
          "name": "stdout"
        }
      ]
    },
    {
      "cell_type": "code",
      "metadata": {
        "id": "-7BPxtLgirEU"
      },
      "source": [
        "df_train.drop(labels=drop_missing_feature_list, axis=1, inplace=True)"
      ],
      "execution_count": null,
      "outputs": []
    },
    {
      "cell_type": "code",
      "metadata": {
        "colab": {
          "base_uri": "https://localhost:8080/"
        },
        "id": "gfhGgHEwwYTL",
        "outputId": "44a9caa5-852c-43b2-a194-99cbb836d66d"
      },
      "source": [
        "df_train.info(verbose=True, null_counts=True)"
      ],
      "execution_count": null,
      "outputs": [
        {
          "output_type": "stream",
          "text": [
            "<class 'pandas.core.frame.DataFrame'>\n",
            "Int64Index: 24272 entries, 0 to 24998\n",
            "Data columns (total 23 columns):\n",
            " #   Column                Non-Null Count  Dtype   \n",
            "---  ------                --------------  -----   \n",
            " 0   loan_amnt             24272 non-null  int64   \n",
            " 1   term                  24272 non-null  category\n",
            " 2   int_rate              24272 non-null  float64 \n",
            " 3   installment           24272 non-null  float64 \n",
            " 4   grade                 24272 non-null  int64   \n",
            " 5   sub_grade             24272 non-null  category\n",
            " 6   emp_length            24272 non-null  int64   \n",
            " 7   home_ownership        24272 non-null  category\n",
            " 8   annual_inc            24272 non-null  float64 \n",
            " 9   verification_status   24272 non-null  category\n",
            " 10  loan_status           24272 non-null  category\n",
            " 11  purpose               24272 non-null  category\n",
            " 12  addr_state            24272 non-null  category\n",
            " 13  dti                   24272 non-null  float64 \n",
            " 14  open_acc              24272 non-null  int64   \n",
            " 15  pub_rec               24272 non-null  int64   \n",
            " 16  revol_bal             24272 non-null  int64   \n",
            " 17  revol_util            24272 non-null  float64 \n",
            " 18  total_acc             24272 non-null  int64   \n",
            " 19  initial_list_status   24272 non-null  object  \n",
            " 20  policy_code           24272 non-null  int64   \n",
            " 21  application_type      24272 non-null  object  \n",
            " 22  pub_rec_bankruptcies  23855 non-null  float64 \n",
            "dtypes: category(7), float64(6), int64(8), object(2)\n",
            "memory usage: 3.3+ MB\n"
          ],
          "name": "stdout"
        }
      ]
    },
    {
      "cell_type": "code",
      "metadata": {
        "id": "Nno0kDQIHVuB"
      },
      "source": [
        "def find_constant_features(dataFrame):\n",
        "    const_features = []\n",
        "    for column in list(dataFrame.columns):\n",
        "        if dataFrame[column].unique().size < 2:\n",
        "            const_features.append(column)\n",
        "    return const_features"
      ],
      "execution_count": null,
      "outputs": []
    },
    {
      "cell_type": "code",
      "metadata": {
        "id": "AUxi1TWrHXjk"
      },
      "source": [
        "drop_constant_feature_list = find_constant_features(df_train)"
      ],
      "execution_count": null,
      "outputs": []
    },
    {
      "cell_type": "code",
      "metadata": {
        "colab": {
          "base_uri": "https://localhost:8080/"
        },
        "id": "X1ArUMVFevJ5",
        "outputId": "a90d44ac-89b9-4a82-edb2-bf7ea34935bb"
      },
      "source": [
        "print(drop_constant_feature_list)"
      ],
      "execution_count": null,
      "outputs": [
        {
          "output_type": "stream",
          "text": [
            "['initial_list_status', 'policy_code', 'application_type']\n"
          ],
          "name": "stdout"
        }
      ]
    },
    {
      "cell_type": "code",
      "metadata": {
        "id": "JYfEQN-vH37r"
      },
      "source": [
        "df_train.drop(labels=drop_constant_feature_list, axis=1, inplace=True)"
      ],
      "execution_count": null,
      "outputs": []
    },
    {
      "cell_type": "code",
      "metadata": {
        "id": "PTwnjuv2IpTt"
      },
      "source": [
        "df_train.drop_duplicates(inplace=True)"
      ],
      "execution_count": null,
      "outputs": []
    },
    {
      "cell_type": "code",
      "metadata": {
        "colab": {
          "base_uri": "https://localhost:8080/"
        },
        "id": "SVrlJAKKnbHC",
        "outputId": "d74ac78a-6174-408b-d9dd-4afaf90b6e80"
      },
      "source": [
        "df_train.info(verbose=True, null_counts=True)"
      ],
      "execution_count": null,
      "outputs": [
        {
          "output_type": "stream",
          "text": [
            "<class 'pandas.core.frame.DataFrame'>\n",
            "Int64Index: 24272 entries, 0 to 24998\n",
            "Data columns (total 20 columns):\n",
            " #   Column                Non-Null Count  Dtype   \n",
            "---  ------                --------------  -----   \n",
            " 0   loan_amnt             24272 non-null  int64   \n",
            " 1   term                  24272 non-null  category\n",
            " 2   int_rate              24272 non-null  float64 \n",
            " 3   installment           24272 non-null  float64 \n",
            " 4   grade                 24272 non-null  int64   \n",
            " 5   sub_grade             24272 non-null  category\n",
            " 6   emp_length            24272 non-null  int64   \n",
            " 7   home_ownership        24272 non-null  category\n",
            " 8   annual_inc            24272 non-null  float64 \n",
            " 9   verification_status   24272 non-null  category\n",
            " 10  loan_status           24272 non-null  category\n",
            " 11  purpose               24272 non-null  category\n",
            " 12  addr_state            24272 non-null  category\n",
            " 13  dti                   24272 non-null  float64 \n",
            " 14  open_acc              24272 non-null  int64   \n",
            " 15  pub_rec               24272 non-null  int64   \n",
            " 16  revol_bal             24272 non-null  int64   \n",
            " 17  revol_util            24272 non-null  float64 \n",
            " 18  total_acc             24272 non-null  int64   \n",
            " 19  pub_rec_bankruptcies  23855 non-null  float64 \n",
            "dtypes: category(7), float64(6), int64(7)\n",
            "memory usage: 2.8 MB\n"
          ],
          "name": "stdout"
        }
      ]
    },
    {
      "cell_type": "code",
      "metadata": {
        "colab": {
          "base_uri": "https://localhost:8080/",
          "height": 111
        },
        "id": "4-cQqs2Fhjgv",
        "outputId": "30303b5b-091d-48fd-dc17-51fde2131fba"
      },
      "source": [
        "df_train[['pub_rec','pub_rec_bankruptcies']].corr()"
      ],
      "execution_count": null,
      "outputs": [
        {
          "output_type": "execute_result",
          "data": {
            "text/html": [
              "<div>\n",
              "<style scoped>\n",
              "    .dataframe tbody tr th:only-of-type {\n",
              "        vertical-align: middle;\n",
              "    }\n",
              "\n",
              "    .dataframe tbody tr th {\n",
              "        vertical-align: top;\n",
              "    }\n",
              "\n",
              "    .dataframe thead th {\n",
              "        text-align: right;\n",
              "    }\n",
              "</style>\n",
              "<table border=\"1\" class=\"dataframe\">\n",
              "  <thead>\n",
              "    <tr style=\"text-align: right;\">\n",
              "      <th></th>\n",
              "      <th>pub_rec</th>\n",
              "      <th>pub_rec_bankruptcies</th>\n",
              "    </tr>\n",
              "  </thead>\n",
              "  <tbody>\n",
              "    <tr>\n",
              "      <th>pub_rec</th>\n",
              "      <td>1.000000</td>\n",
              "      <td>0.842039</td>\n",
              "    </tr>\n",
              "    <tr>\n",
              "      <th>pub_rec_bankruptcies</th>\n",
              "      <td>0.842039</td>\n",
              "      <td>1.000000</td>\n",
              "    </tr>\n",
              "  </tbody>\n",
              "</table>\n",
              "</div>"
            ],
            "text/plain": [
              "                       pub_rec  pub_rec_bankruptcies\n",
              "pub_rec               1.000000              0.842039\n",
              "pub_rec_bankruptcies  0.842039              1.000000"
            ]
          },
          "metadata": {
            "tags": []
          },
          "execution_count": 59
        }
      ]
    },
    {
      "cell_type": "markdown",
      "metadata": {
        "id": "-UjTpmMZ-HCp"
      },
      "source": [
        "We could see above that \"pub_rec\" and \"pub_rec_bankruptcies\" are highly correlated. So we can only feed one of them into the modeling. Thus, we are removing \"pub_rec_bankruptcies\"."
      ]
    },
    {
      "cell_type": "code",
      "metadata": {
        "id": "v2FJ6kmtm6Co"
      },
      "source": [
        "drop_correlated_feature_list = ['pub_rec_bankruptcies']"
      ],
      "execution_count": null,
      "outputs": []
    },
    {
      "cell_type": "code",
      "metadata": {
        "id": "OB6yVKvpnM26"
      },
      "source": [
        "df_train.drop(labels=drop_correlated_feature_list, axis=1, inplace=True)"
      ],
      "execution_count": null,
      "outputs": []
    },
    {
      "cell_type": "code",
      "metadata": {
        "colab": {
          "base_uri": "https://localhost:8080/"
        },
        "id": "4hO1f2EMID8G",
        "outputId": "8d3f5a9b-874a-4b96-b870-eeedbecf8a27"
      },
      "source": [
        "df_train.info(verbose=True, null_counts=True)"
      ],
      "execution_count": null,
      "outputs": [
        {
          "output_type": "stream",
          "text": [
            "<class 'pandas.core.frame.DataFrame'>\n",
            "Int64Index: 24272 entries, 0 to 24998\n",
            "Data columns (total 19 columns):\n",
            " #   Column               Non-Null Count  Dtype   \n",
            "---  ------               --------------  -----   \n",
            " 0   loan_amnt            24272 non-null  int64   \n",
            " 1   term                 24272 non-null  category\n",
            " 2   int_rate             24272 non-null  float64 \n",
            " 3   installment          24272 non-null  float64 \n",
            " 4   grade                24272 non-null  int64   \n",
            " 5   sub_grade            24272 non-null  category\n",
            " 6   emp_length           24272 non-null  int64   \n",
            " 7   home_ownership       24272 non-null  category\n",
            " 8   annual_inc           24272 non-null  float64 \n",
            " 9   verification_status  24272 non-null  category\n",
            " 10  loan_status          24272 non-null  category\n",
            " 11  purpose              24272 non-null  category\n",
            " 12  addr_state           24272 non-null  category\n",
            " 13  dti                  24272 non-null  float64 \n",
            " 14  open_acc             24272 non-null  int64   \n",
            " 15  pub_rec              24272 non-null  int64   \n",
            " 16  revol_bal            24272 non-null  int64   \n",
            " 17  revol_util           24272 non-null  float64 \n",
            " 18  total_acc            24272 non-null  int64   \n",
            "dtypes: category(7), float64(5), int64(7)\n",
            "memory usage: 2.6 MB\n"
          ],
          "name": "stdout"
        }
      ]
    },
    {
      "cell_type": "code",
      "metadata": {
        "id": "WkuuuF-kf9em"
      },
      "source": [
        "missing_frac2 = df_train.isnull().mean()"
      ],
      "execution_count": null,
      "outputs": []
    },
    {
      "cell_type": "code",
      "metadata": {
        "colab": {
          "base_uri": "https://localhost:8080/"
        },
        "id": "Boc87Y4tf_2X",
        "outputId": "37f1afe3-5e09-434b-a982-81d7615f0bb9"
      },
      "source": [
        "print(sorted(missing_frac2[missing_frac2 > 0].index))"
      ],
      "execution_count": null,
      "outputs": [
        {
          "output_type": "stream",
          "text": [
            "[]\n"
          ],
          "name": "stdout"
        }
      ]
    },
    {
      "cell_type": "markdown",
      "metadata": {
        "id": "rcnyWhgDNmnT"
      },
      "source": [
        "Now, we have a clean data with 19 features and no missing values."
      ]
    },
    {
      "cell_type": "markdown",
      "metadata": {
        "id": "OoPyIJ7xcgX1"
      },
      "source": [
        "(b) Apply gradient boosting using the function *sklearn.ensemble.GradientBoostingClassifier* for training the model. You will need to import *sklearn*, *sklearn.ensemble*, and *numpy*. Your effort will be focused on predicting whether or not a loan is likely to default.\n",
        "* Get the best test accuracy you can, and show what hyperparameters led to this\n",
        "accuracy. Report the precision and recall for each of the models that you built.\n",
        "* In particular, study the effect of increasing the number of trees in the classifier.\n",
        "* Compare your final best performance (accuracy, precision, recall) against a simple decision tree built using information gain. (You can use sklearn's inbuilt decision tree function for this.)"
      ]
    },
    {
      "cell_type": "code",
      "metadata": {
        "id": "5rFbXZ6yO74q"
      },
      "source": [
        "X_train_full = df_train.loc[:, df_train.columns != 'loan_status'].values\n",
        "y_train_full = df_train.loc[:, df_train.columns == 'loan_status'].values"
      ],
      "execution_count": null,
      "outputs": []
    },
    {
      "cell_type": "code",
      "metadata": {
        "id": "jMJnxS7nT3FJ"
      },
      "source": [
        "from sklearn.model_selection import train_test_split\n",
        "X_train, X_val, y_train, y_val = train_test_split(X_train_full, y_train_full, test_size = 0.25, random_state = 42, stratify = y_train_full)"
      ],
      "execution_count": null,
      "outputs": []
    },
    {
      "cell_type": "code",
      "metadata": {
        "id": "_UjC4lumJcrj"
      },
      "source": [
        "df_test = preprocess_loan_part1(df_test)\n",
        "df_test.drop(labels=drop_irrelevant_feature_list, axis=1, inplace=True)\n",
        "df_test.drop(labels=drop_missing_feature_list, axis=1, inplace=True)\n",
        "df_test.drop(labels=drop_constant_feature_list, axis=1, inplace=True)\n",
        "df_test.drop_duplicates(inplace=True)\n",
        "df_test.drop(labels=drop_correlated_feature_list, axis=1, inplace=True)"
      ],
      "execution_count": null,
      "outputs": []
    },
    {
      "cell_type": "code",
      "metadata": {
        "id": "7_0ws--jSdUa"
      },
      "source": [
        "X_test = df_test.loc[:, df_test.columns != 'loan_status'].values\n",
        "y_test = df_test.loc[:, df_test.columns == 'loan_status'].values"
      ],
      "execution_count": null,
      "outputs": []
    },
    {
      "cell_type": "code",
      "metadata": {
        "id": "wWWlsQXzON7h"
      },
      "source": [
        "from sklearn.ensemble import GradientBoostingClassifier\n",
        "from sklearn.tree import DecisionTreeClassifier\n",
        "from sklearn.metrics import classification_report, confusion_matrix\n",
        "from sklearn.model_selection import GridSearchCV"
      ],
      "execution_count": null,
      "outputs": []
    },
    {
      "cell_type": "markdown",
      "metadata": {
        "id": "kUAWwVQPQQ0m"
      },
      "source": [
        "Let's create a Baseline Model first. We'll choose the 'learning_rate' from this."
      ]
    },
    {
      "cell_type": "code",
      "metadata": {
        "colab": {
          "base_uri": "https://localhost:8080/"
        },
        "id": "UCvF8hNzpbS4",
        "outputId": "5141ab4b-2e2b-47f0-a4dc-dc69ced78267"
      },
      "source": [
        "param_test0 = {'learning_rate':[0.15,0.1,0.05,0.01,0.005,0.001], 'n_estimators':range(200,2100,100)}\n",
        "gsearch0 = GridSearchCV(estimator =GradientBoostingClassifier(max_depth=4, min_samples_split=2, min_samples_leaf=1, subsample=1, max_features='sqrt', random_state=42), \n",
        "            param_grid = param_test0, scoring='accuracy',n_jobs=40, cv=5)\n",
        "gsearch0.fit(X_train,y_train.ravel())\n",
        "gsearch0.best_params_, gsearch0.best_score_"
      ],
      "execution_count": null,
      "outputs": [
        {
          "output_type": "execute_result",
          "data": {
            "text/plain": [
              "({'learning_rate': 0.05, 'n_estimators': 300}, 0.8576686153725428)"
            ]
          },
          "metadata": {
            "tags": []
          },
          "execution_count": 77
        }
      ]
    },
    {
      "cell_type": "code",
      "metadata": {
        "colab": {
          "base_uri": "https://localhost:8080/"
        },
        "id": "3YO9wU-9Eq0X",
        "outputId": "7e865d9f-7e25-4648-eaab-7f9b3f50d7a9"
      },
      "source": [
        "predictions = gsearch0.predict(X_val)\n",
        "print(\"Model 0 : Classification Report of Validation Set\")\n",
        "print(classification_report(y_val, predictions))"
      ],
      "execution_count": null,
      "outputs": [
        {
          "output_type": "stream",
          "text": [
            "Model 0 : Classification Report of Validation Set\n",
            "              precision    recall  f1-score   support\n",
            "\n",
            "          -1       0.36      0.02      0.04       866\n",
            "           1       0.86      0.99      0.92      5202\n",
            "\n",
            "    accuracy                           0.85      6068\n",
            "   macro avg       0.61      0.51      0.48      6068\n",
            "weighted avg       0.79      0.85      0.80      6068\n",
            "\n"
          ],
          "name": "stdout"
        }
      ]
    },
    {
      "cell_type": "markdown",
      "metadata": {
        "id": "_X_Sm5XSrQuB"
      },
      "source": [
        "Now let's tune the parameter 'n_estimators' (number of trees) setting the 'learning_rate' = 0.05"
      ]
    },
    {
      "cell_type": "code",
      "metadata": {
        "colab": {
          "base_uri": "https://localhost:8080/"
        },
        "id": "FaAs-j_6hMb_",
        "outputId": "d7c34f32-8d2f-476f-9699-6fe26bf36632"
      },
      "source": [
        "param_test1 = {'n_estimators':range(200,2100,100)}\n",
        "gsearch1 = GridSearchCV(estimator = GradientBoostingClassifier(learning_rate=0.05, max_depth=4, min_samples_split=2, min_samples_leaf=1, subsample=1, max_features='sqrt', random_state=42), \n",
        "                        param_grid = param_test1, scoring='accuracy', n_jobs=40, cv=5)\n",
        "gsearch1.fit(X_train,y_train.ravel())\n",
        "gsearch1.best_params_, gsearch1.best_score_"
      ],
      "execution_count": null,
      "outputs": [
        {
          "output_type": "execute_result",
          "data": {
            "text/plain": [
              "({'n_estimators': 300}, 0.8576686153725428)"
            ]
          },
          "metadata": {
            "tags": []
          },
          "execution_count": 37
        }
      ]
    },
    {
      "cell_type": "code",
      "metadata": {
        "colab": {
          "base_uri": "https://localhost:8080/"
        },
        "id": "q2AlB4WzL2O_",
        "outputId": "3f0a8750-d3d5-482f-b87f-4a29ff6a7e80"
      },
      "source": [
        "predictions = gsearch1.predict(X_val)\n",
        "print(\"Model 1 : Classification Report of Validation Set\")\n",
        "print(classification_report(y_val, predictions))"
      ],
      "execution_count": null,
      "outputs": [
        {
          "output_type": "stream",
          "text": [
            "Model 1 : Classification Report of Validation Set\n",
            "              precision    recall  f1-score   support\n",
            "\n",
            "          -1       0.36      0.02      0.04       866\n",
            "           1       0.86      0.99      0.92      5202\n",
            "\n",
            "    accuracy                           0.85      6068\n",
            "   macro avg       0.61      0.51      0.48      6068\n",
            "weighted avg       0.79      0.85      0.80      6068\n",
            "\n"
          ],
          "name": "stdout"
        }
      ]
    },
    {
      "cell_type": "markdown",
      "metadata": {
        "id": "akQ-bvOasOFE"
      },
      "source": [
        "We found the best 'n_estimators' = 300. \\\n",
        "Now let's start Tuning tree-specific parameters.\n",
        "1. max_depth and num_samples_split\n",
        "2. min_samples_leaf\n",
        "3. max_features"
      ]
    },
    {
      "cell_type": "code",
      "metadata": {
        "colab": {
          "base_uri": "https://localhost:8080/"
        },
        "id": "VMYJJD0YnBM7",
        "outputId": "5338e421-860f-4c78-a3ae-a967bfee57ce"
      },
      "source": [
        "param_test2 = {'max_depth':range(1,8,2), 'min_samples_split':range(200,1001,200)}\n",
        "gsearch2 = GridSearchCV(estimator = GradientBoostingClassifier(learning_rate=0.05, n_estimators=300, min_samples_leaf=1, subsample=1, max_features='sqrt', random_state=42), \n",
        "                        param_grid = param_test2, scoring='accuracy', n_jobs=40, cv=5)\n",
        "gsearch2.fit(X_train,y_train.ravel())\n",
        "gsearch2.best_params_, gsearch2.best_score_"
      ],
      "execution_count": null,
      "outputs": [
        {
          "output_type": "execute_result",
          "data": {
            "text/plain": [
              "({'max_depth': 3, 'min_samples_split': 400}, 0.8576686455538418)"
            ]
          },
          "metadata": {
            "tags": []
          },
          "execution_count": 75
        }
      ]
    },
    {
      "cell_type": "code",
      "metadata": {
        "colab": {
          "base_uri": "https://localhost:8080/"
        },
        "id": "l1oOSLxZu1Fn",
        "outputId": "b9487c6d-9bd9-451c-d9e6-dc2452a12720"
      },
      "source": [
        "predictions = gsearch2.predict(X_val)\n",
        "print(\"Model 2 : Classification Report of Validation Set\")\n",
        "print(classification_report(y_val, predictions))"
      ],
      "execution_count": null,
      "outputs": [
        {
          "output_type": "stream",
          "text": [
            "Model 2 : Classification Report of Validation Set\n",
            "              precision    recall  f1-score   support\n",
            "\n",
            "          -1       0.33      0.01      0.02       866\n",
            "           1       0.86      1.00      0.92      5202\n",
            "\n",
            "    accuracy                           0.86      6068\n",
            "   macro avg       0.60      0.50      0.47      6068\n",
            "weighted avg       0.78      0.86      0.79      6068\n",
            "\n"
          ],
          "name": "stdout"
        }
      ]
    },
    {
      "cell_type": "markdown",
      "metadata": {
        "id": "F2-lvy4Qs0Vt"
      },
      "source": [
        "We found 'max_depth' = 3, 'min_samples_split' = 400 as the best. \\\n",
        "Let's tune 'min_samples_leaf'."
      ]
    },
    {
      "cell_type": "code",
      "metadata": {
        "colab": {
          "base_uri": "https://localhost:8080/"
        },
        "id": "GS3t2ZIroYEN",
        "outputId": "b9582cd7-de3b-4dbb-dda4-97e2231e7721"
      },
      "source": [
        "param_test3 = {'min_samples_leaf':range(30,71,10)}\n",
        "gsearch3 = GridSearchCV(estimator = GradientBoostingClassifier(learning_rate=0.05, n_estimators=300, max_depth=3, min_samples_split=400, subsample=1, max_features='sqrt', random_state=42), \n",
        "                        param_grid = param_test3, scoring='accuracy', n_jobs=40, cv=5)\n",
        "gsearch3.fit(X_train, y_train.ravel())\n",
        "gsearch3.best_params_, gsearch3.best_score_"
      ],
      "execution_count": null,
      "outputs": [
        {
          "output_type": "execute_result",
          "data": {
            "text/plain": [
              "({'min_samples_leaf': 70}, 0.8581081456308042)"
            ]
          },
          "metadata": {
            "tags": []
          },
          "execution_count": 77
        }
      ]
    },
    {
      "cell_type": "code",
      "metadata": {
        "colab": {
          "base_uri": "https://localhost:8080/"
        },
        "id": "g4OBKbPnu4uZ",
        "outputId": "8f302b97-5309-4d0e-fcee-81b8ad6305a2"
      },
      "source": [
        "predictions = gsearch3.predict(X_val)\n",
        "print(\"Model 3 : Classification Report of Validation Set\")\n",
        "print(classification_report(y_val, predictions))"
      ],
      "execution_count": null,
      "outputs": [
        {
          "output_type": "stream",
          "text": [
            "Model 3 : Classification Report of Validation Set\n",
            "              precision    recall  f1-score   support\n",
            "\n",
            "          -1       0.43      0.02      0.04       866\n",
            "           1       0.86      1.00      0.92      5202\n",
            "\n",
            "    accuracy                           0.86      6068\n",
            "   macro avg       0.65      0.51      0.48      6068\n",
            "weighted avg       0.80      0.86      0.80      6068\n",
            "\n"
          ],
          "name": "stdout"
        }
      ]
    },
    {
      "cell_type": "markdown",
      "metadata": {
        "id": "ujLURNTotHmu"
      },
      "source": [
        "Setting the best 'min_samples_leaf' = 70, let's tune 'max_features'."
      ]
    },
    {
      "cell_type": "code",
      "metadata": {
        "colab": {
          "base_uri": "https://localhost:8080/"
        },
        "id": "ei4SPf6rogI5",
        "outputId": "b7ad4c1d-4d8e-4506-f35d-220ecd34d35f"
      },
      "source": [
        "param_test4 = {'max_features':range(7,20,2)}\n",
        "gsearch4 = GridSearchCV(estimator = GradientBoostingClassifier(learning_rate=0.05, n_estimators=300, max_depth=3, min_samples_split=400, min_samples_leaf=70, subsample=1, random_state=42),\n",
        "                        param_grid = param_test4, scoring='accuracy', n_jobs=5, cv=5)\n",
        "gsearch4.fit(X_train, y_train.ravel())\n",
        "gsearch4.best_params_, gsearch4.best_score_"
      ],
      "execution_count": null,
      "outputs": [
        {
          "output_type": "execute_result",
          "data": {
            "text/plain": [
              "({'max_features': 15}, 0.8584926704715224)"
            ]
          },
          "metadata": {
            "tags": []
          },
          "execution_count": 79
        }
      ]
    },
    {
      "cell_type": "code",
      "metadata": {
        "colab": {
          "base_uri": "https://localhost:8080/"
        },
        "id": "CYch6D0Su9cZ",
        "outputId": "5883a462-b05c-45ff-ead7-8c2b40727b94"
      },
      "source": [
        "predictions = gsearch4.predict(X_val)\n",
        "print(\"Model 4 : Classification Report of Validation Set\")\n",
        "print(classification_report(y_val, predictions))"
      ],
      "execution_count": null,
      "outputs": [
        {
          "output_type": "stream",
          "text": [
            "Model 4 : Classification Report of Validation Set\n",
            "              precision    recall  f1-score   support\n",
            "\n",
            "          -1       0.40      0.02      0.04       866\n",
            "           1       0.86      0.99      0.92      5202\n",
            "\n",
            "    accuracy                           0.86      6068\n",
            "   macro avg       0.63      0.51      0.48      6068\n",
            "weighted avg       0.79      0.86      0.80      6068\n",
            "\n"
          ],
          "name": "stdout"
        }
      ]
    },
    {
      "cell_type": "markdown",
      "metadata": {
        "id": "g5dGnGgJtfrF"
      },
      "source": [
        "Finally we'll tune the parameter 'subsample'."
      ]
    },
    {
      "cell_type": "code",
      "metadata": {
        "colab": {
          "base_uri": "https://localhost:8080/"
        },
        "id": "5RUbwQ-eoqmS",
        "outputId": "6acf8c12-b496-4846-e3d1-b11561611fc4"
      },
      "source": [
        "param_test5 = {'subsample':[0.6,0.7,0.75,0.8,0.85,0.9]}\n",
        "gsearch5 = GridSearchCV(estimator = GradientBoostingClassifier(learning_rate=0.05, n_estimators=300, max_depth=7, min_samples_split=400, min_samples_leaf=70, max_features=15, random_state=42),\n",
        "                        param_grid = param_test5, scoring='accuracy', n_jobs=5, cv=5)\n",
        "gsearch5.fit(X_train, y_train.ravel())\n",
        "gsearch5.best_params_, gsearch5.best_score_"
      ],
      "execution_count": null,
      "outputs": [
        {
          "output_type": "execute_result",
          "data": {
            "text/plain": [
              "({'subsample': 0.75}, 0.8559109017870347)"
            ]
          },
          "metadata": {
            "tags": []
          },
          "execution_count": 81
        }
      ]
    },
    {
      "cell_type": "code",
      "metadata": {
        "colab": {
          "base_uri": "https://localhost:8080/"
        },
        "id": "me2uot08vF95",
        "outputId": "48de03f2-786e-473b-d38a-656c11823dff"
      },
      "source": [
        "predictions = gsearch5.predict(X_val)\n",
        "print(\"Model 5 : Classification Report of Validation Set\")\n",
        "print(classification_report(y_val, predictions))"
      ],
      "execution_count": null,
      "outputs": [
        {
          "output_type": "stream",
          "text": [
            "Model 5 : Classification Report of Validation Set\n",
            "              precision    recall  f1-score   support\n",
            "\n",
            "          -1       0.40      0.04      0.07       866\n",
            "           1       0.86      0.99      0.92      5202\n",
            "\n",
            "    accuracy                           0.85      6068\n",
            "   macro avg       0.63      0.51      0.49      6068\n",
            "weighted avg       0.79      0.85      0.80      6068\n",
            "\n"
          ],
          "name": "stdout"
        }
      ]
    },
    {
      "cell_type": "markdown",
      "metadata": {
        "id": "-Zcu0exctn4n"
      },
      "source": [
        "Now, as we have our best hyper-parameters, let's build our final model. The hyper-parameters are as follows:\n",
        "* learning_rate=0.05\n",
        "* n_estimators=300\n",
        "* max_depth=3\n",
        "* min_samples_split=400\n",
        "* min_samples_leaf=70\n",
        "* max_features=15\n",
        "* subsample=0.75"
      ]
    },
    {
      "cell_type": "code",
      "metadata": {
        "colab": {
          "base_uri": "https://localhost:8080/"
        },
        "id": "DaaUIciYV8gO",
        "outputId": "9c377cb6-f843-4236-e9e4-4f0fd6cca799"
      },
      "source": [
        "gb = GradientBoostingClassifier(learning_rate=0.05, n_estimators=300, max_depth=7, min_samples_split=400, min_samples_leaf=70, max_features=15, subsample=0.75, random_state=42)\n",
        "gb.fit(X_train, y_train.ravel())"
      ],
      "execution_count": null,
      "outputs": [
        {
          "output_type": "execute_result",
          "data": {
            "text/plain": [
              "GradientBoostingClassifier(ccp_alpha=0.0, criterion='friedman_mse', init=None,\n",
              "                           learning_rate=0.05, loss='deviance', max_depth=7,\n",
              "                           max_features=15, max_leaf_nodes=None,\n",
              "                           min_impurity_decrease=0.0, min_impurity_split=None,\n",
              "                           min_samples_leaf=70, min_samples_split=400,\n",
              "                           min_weight_fraction_leaf=0.0, n_estimators=300,\n",
              "                           n_iter_no_change=None, presort='deprecated',\n",
              "                           random_state=42, subsample=0.75, tol=0.0001,\n",
              "                           validation_fraction=0.1, verbose=0,\n",
              "                           warm_start=False)"
            ]
          },
          "metadata": {
            "tags": []
          },
          "execution_count": 83
        }
      ]
    },
    {
      "cell_type": "code",
      "metadata": {
        "id": "8OToxjrvZxGu",
        "colab": {
          "base_uri": "https://localhost:8080/"
        },
        "outputId": "3b138ad0-63c2-45bc-cd93-0f2b5ec70059"
      },
      "source": [
        "y_val_pred = gb.predict(X_val)\n",
        "print(\"Final Model : Confusion Matrix of Test Set\")\n",
        "print(confusion_matrix(y_val, y_val_pred))\n",
        "print()\n",
        "print(\"Final Model : Classification Report of Validation Set\")\n",
        "print(classification_report(y_val, y_val_pred))"
      ],
      "execution_count": null,
      "outputs": [
        {
          "output_type": "stream",
          "text": [
            "Final Model : Confusion Matrix of Test Set\n",
            "[[  31  835]\n",
            " [  47 5155]]\n",
            "\n",
            "Final Model : Classification Report of Validation Set\n",
            "              precision    recall  f1-score   support\n",
            "\n",
            "          -1       0.40      0.04      0.07       866\n",
            "           1       0.86      0.99      0.92      5202\n",
            "\n",
            "    accuracy                           0.85      6068\n",
            "   macro avg       0.63      0.51      0.49      6068\n",
            "weighted avg       0.79      0.85      0.80      6068\n",
            "\n"
          ],
          "name": "stdout"
        }
      ]
    },
    {
      "cell_type": "markdown",
      "metadata": {
        "id": "xGUt1EnTvZRD"
      },
      "source": [
        "We'll now re-fit the final model with complete training set (including the validation set) and predict using the test set."
      ]
    },
    {
      "cell_type": "code",
      "metadata": {
        "colab": {
          "base_uri": "https://localhost:8080/"
        },
        "id": "zvfwPCcvaK3v",
        "outputId": "58798a0d-5d43-40fb-e79b-7a3404beaa14"
      },
      "source": [
        "gb = GradientBoostingClassifier(learning_rate=0.05, n_estimators=300, max_depth=7, min_samples_split=400, min_samples_leaf=70, max_features=15, subsample=0.75, random_state=42)\n",
        "gb.fit(X_train_full, y_train_full.ravel())"
      ],
      "execution_count": null,
      "outputs": [
        {
          "output_type": "execute_result",
          "data": {
            "text/plain": [
              "GradientBoostingClassifier(ccp_alpha=0.0, criterion='friedman_mse', init=None,\n",
              "                           learning_rate=0.05, loss='deviance', max_depth=7,\n",
              "                           max_features=15, max_leaf_nodes=None,\n",
              "                           min_impurity_decrease=0.0, min_impurity_split=None,\n",
              "                           min_samples_leaf=70, min_samples_split=400,\n",
              "                           min_weight_fraction_leaf=0.0, n_estimators=300,\n",
              "                           n_iter_no_change=None, presort='deprecated',\n",
              "                           random_state=42, subsample=0.75, tol=0.0001,\n",
              "                           validation_fraction=0.1, verbose=0,\n",
              "                           warm_start=False)"
            ]
          },
          "metadata": {
            "tags": []
          },
          "execution_count": 86
        }
      ]
    },
    {
      "cell_type": "code",
      "metadata": {
        "colab": {
          "base_uri": "https://localhost:8080/"
        },
        "id": "vzrxedTjaXka",
        "outputId": "7690d66f-867a-4139-c3f6-4fa41ce26f0d"
      },
      "source": [
        "y_pred = gb.predict(X_test)\n",
        "print(\"Final Model : Confusion Matrix of Test Set\")\n",
        "print(confusion_matrix(y_test, y_pred))\n",
        "print()\n",
        "print(\"Final Model : Classification Report of Test Set\")\n",
        "print(classification_report(y_test, y_pred))"
      ],
      "execution_count": null,
      "outputs": [
        {
          "output_type": "stream",
          "text": [
            "Final Model : Confusion Matrix of Test Set\n",
            "[[   64  2085]\n",
            " [   89 12017]]\n",
            "\n",
            "Final Model : Classification Report of Test Set\n",
            "              precision    recall  f1-score   support\n",
            "\n",
            "          -1       0.42      0.03      0.06      2149\n",
            "           1       0.85      0.99      0.92     12106\n",
            "\n",
            "    accuracy                           0.85     14255\n",
            "   macro avg       0.64      0.51      0.49     14255\n",
            "weighted avg       0.79      0.85      0.79     14255\n",
            "\n"
          ],
          "name": "stdout"
        }
      ]
    },
    {
      "cell_type": "code",
      "metadata": {
        "id": "CsnV8W_lzYYb"
      },
      "source": [
        "classifier = DecisionTreeClassifier(criterion = 'entropy', random_state = 42)\n",
        "classifier.fit(X_train_full, y_train_full)\n",
        "y_pred = classifier.predict(X_test)"
      ],
      "execution_count": null,
      "outputs": []
    },
    {
      "cell_type": "code",
      "metadata": {
        "id": "oe-mEPd7zcEL",
        "colab": {
          "base_uri": "https://localhost:8080/"
        },
        "outputId": "438942a1-1586-4d85-ffa4-30734035d625"
      },
      "source": [
        "print(\"Decision Tree Model : Confusion Matrix of Test Set\")\n",
        "print(confusion_matrix(y_test, y_pred))\n",
        "print()\n",
        "print(\"Decision Tree Model : Classification Report of Test Set\")\n",
        "print(classification_report(y_test, y_pred))"
      ],
      "execution_count": null,
      "outputs": [
        {
          "output_type": "stream",
          "text": [
            "Decision Tree Model : Confusion Matrix of Test Set\n",
            "[[  417  1732]\n",
            " [ 1776 10330]]\n",
            "\n",
            "Decision Tree Model : Classification Report of Test Set\n",
            "              precision    recall  f1-score   support\n",
            "\n",
            "          -1       0.19      0.19      0.19      2149\n",
            "           1       0.86      0.85      0.85     12106\n",
            "\n",
            "    accuracy                           0.75     14255\n",
            "   macro avg       0.52      0.52      0.52     14255\n",
            "weighted avg       0.76      0.75      0.75     14255\n",
            "\n"
          ],
          "name": "stdout"
        }
      ]
    }
  ]
}