{
  "nbformat": 4,
  "nbformat_minor": 0,
  "metadata": {
    "colab": {
      "name": "Amazon Hackathon.ipynb",
      "provenance": [],
      "collapsed_sections": [],
      "authorship_tag": "ABX9TyO0FXvAp1ozu5qXGDjVePtf",
      "include_colab_link": true
    },
    "kernelspec": {
      "display_name": "Python 3",
      "name": "python3"
    }
  },
  "cells": [
    {
      "cell_type": "markdown",
      "metadata": {
        "id": "view-in-github",
        "colab_type": "text"
      },
      "source": [
        "<a href=\"https://colab.research.google.com/github/HarryPotter12/PractiseML/blob/master/Amazon_Hackathon.ipynb\" target=\"_parent\"><img src=\"https://colab.research.google.com/assets/colab-badge.svg\" alt=\"Open In Colab\"/></a>"
      ]
    },
    {
      "cell_type": "markdown",
      "metadata": {
        "id": "VdMBnHGFDpde"
      },
      "source": [
        "#### Problem Statement\n",
        "We all know that when we visit an e-commerce or TV series website or even YouTube we see a separate suggestion box, where in they show some content which you might like. These are mainly based on the content that you have consumed on their website previously. These are called as Recommendation engine. \n",
        "\n",
        "Now consider you have been running a start up since last one year and now you have been able to gather some customer data and you want to build a recommendation engine. Based on certain features you have to cluster the customers into two different groups so that you can recommend the correct products based on the customer’s cluster."
      ]
    },
    {
      "cell_type": "markdown",
      "metadata": {
        "id": "d6obGUtCIwXE"
      },
      "source": [
        "#### Challenge\n",
        "1. Your work is to build a predictive model to predict the category of the customer. You have to predict the column : “customer_category”\n",
        "2. You need to upload a presentation proposal addressing the following questions:\n",
        " * What are the pros & cons of recommendation by this approach?\n",
        " * Propose an architecture that will work more efficiently when building a recommendation engine for an e-commerce platform"
      ]
    },
    {
      "cell_type": "code",
      "metadata": {
        "colab": {
          "base_uri": "https://localhost:8080/"
        },
        "id": "QVyeqqbwmtfn",
        "outputId": "4545657e-5cda-4ae7-9e30-fc49d14b24d2"
      },
      "source": [
        "from google.colab import drive\n",
        "drive.mount('/content/gdrive')"
      ],
      "execution_count": null,
      "outputs": [
        {
          "output_type": "stream",
          "text": [
            "Mounted at /content/gdrive\n"
          ],
          "name": "stdout"
        }
      ]
    },
    {
      "cell_type": "code",
      "metadata": {
        "id": "M3L6h7kRp9ee"
      },
      "source": [
        "import numpy as np\n",
        "import pandas as pd\n",
        "import matplotlib.pyplot as plt\n",
        "import seaborn as sns\n",
        "from sklearn.ensemble import GradientBoostingClassifier\n",
        "from sklearn.tree import DecisionTreeClassifier\n",
        "from sklearn.metrics import classification_report, confusion_matrix, precision_score, make_scorer\n",
        "from sklearn.model_selection import GridSearchCV\n",
        "from sklearn.model_selection import train_test_split"
      ],
      "execution_count": null,
      "outputs": []
    },
    {
      "cell_type": "code",
      "metadata": {
        "id": "3GTdrXrjomLg"
      },
      "source": [
        "df_train = pd.read_csv(\"/content/gdrive/My Drive/Datasets/Amazon/train.csv\")\n",
        "df_test = pd.read_csv(\"/content/gdrive/My Drive/Datasets/Amazon/test.csv\")"
      ],
      "execution_count": null,
      "outputs": []
    },
    {
      "cell_type": "code",
      "metadata": {
        "colab": {
          "base_uri": "https://localhost:8080/",
          "height": 224
        },
        "id": "o_bgNYrKYsMl",
        "outputId": "ee0da570-1307-430d-db95-63056d80f600"
      },
      "source": [
        "df_train.head()"
      ],
      "execution_count": null,
      "outputs": [
        {
          "output_type": "execute_result",
          "data": {
            "text/html": [
              "<div>\n",
              "<style scoped>\n",
              "    .dataframe tbody tr th:only-of-type {\n",
              "        vertical-align: middle;\n",
              "    }\n",
              "\n",
              "    .dataframe tbody tr th {\n",
              "        vertical-align: top;\n",
              "    }\n",
              "\n",
              "    .dataframe thead th {\n",
              "        text-align: right;\n",
              "    }\n",
              "</style>\n",
              "<table border=\"1\" class=\"dataframe\">\n",
              "  <thead>\n",
              "    <tr style=\"text-align: right;\">\n",
              "      <th></th>\n",
              "      <th>customer_id</th>\n",
              "      <th>customer_visit_score</th>\n",
              "      <th>customer_product_search_score</th>\n",
              "      <th>customer_ctr_score</th>\n",
              "      <th>customer_stay_score</th>\n",
              "      <th>customer_frequency_score</th>\n",
              "      <th>customer_product_variation_score</th>\n",
              "      <th>customer_order_score</th>\n",
              "      <th>customer_affinity_score</th>\n",
              "      <th>customer_active_segment</th>\n",
              "      <th>X1</th>\n",
              "      <th>customer_category</th>\n",
              "    </tr>\n",
              "  </thead>\n",
              "  <tbody>\n",
              "    <tr>\n",
              "      <th>0</th>\n",
              "      <td>csid_1</td>\n",
              "      <td>13.168425</td>\n",
              "      <td>9.447662</td>\n",
              "      <td>-0.070203</td>\n",
              "      <td>-0.139541</td>\n",
              "      <td>0.436956</td>\n",
              "      <td>4.705761</td>\n",
              "      <td>2.537985</td>\n",
              "      <td>7.959503</td>\n",
              "      <td>C</td>\n",
              "      <td>F</td>\n",
              "      <td>0</td>\n",
              "    </tr>\n",
              "    <tr>\n",
              "      <th>1</th>\n",
              "      <td>csid_2</td>\n",
              "      <td>17.092979</td>\n",
              "      <td>7.329056</td>\n",
              "      <td>0.153298</td>\n",
              "      <td>-0.102726</td>\n",
              "      <td>0.380340</td>\n",
              "      <td>4.205138</td>\n",
              "      <td>4.193444</td>\n",
              "      <td>17.517381</td>\n",
              "      <td>C</td>\n",
              "      <td>A</td>\n",
              "      <td>0</td>\n",
              "    </tr>\n",
              "    <tr>\n",
              "      <th>2</th>\n",
              "      <td>csid_3</td>\n",
              "      <td>17.505334</td>\n",
              "      <td>5.143676</td>\n",
              "      <td>0.106709</td>\n",
              "      <td>0.262834</td>\n",
              "      <td>0.417648</td>\n",
              "      <td>4.479070</td>\n",
              "      <td>3.878971</td>\n",
              "      <td>12.595155</td>\n",
              "      <td>C</td>\n",
              "      <td>BA</td>\n",
              "      <td>0</td>\n",
              "    </tr>\n",
              "    <tr>\n",
              "      <th>3</th>\n",
              "      <td>csid_4</td>\n",
              "      <td>31.423381</td>\n",
              "      <td>4.917740</td>\n",
              "      <td>-0.020226</td>\n",
              "      <td>-0.100526</td>\n",
              "      <td>0.778130</td>\n",
              "      <td>5.055535</td>\n",
              "      <td>2.708940</td>\n",
              "      <td>4.795073</td>\n",
              "      <td>AA</td>\n",
              "      <td>F</td>\n",
              "      <td>0</td>\n",
              "    </tr>\n",
              "    <tr>\n",
              "      <th>4</th>\n",
              "      <td>csid_5</td>\n",
              "      <td>11.909502</td>\n",
              "      <td>4.237073</td>\n",
              "      <td>0.187178</td>\n",
              "      <td>0.172891</td>\n",
              "      <td>0.162067</td>\n",
              "      <td>3.445247</td>\n",
              "      <td>3.677360</td>\n",
              "      <td>56.636326</td>\n",
              "      <td>C</td>\n",
              "      <td>AA</td>\n",
              "      <td>0</td>\n",
              "    </tr>\n",
              "  </tbody>\n",
              "</table>\n",
              "</div>"
            ],
            "text/plain": [
              "  customer_id  customer_visit_score  ...  X1  customer_category\n",
              "0      csid_1             13.168425  ...   F                  0\n",
              "1      csid_2             17.092979  ...   A                  0\n",
              "2      csid_3             17.505334  ...  BA                  0\n",
              "3      csid_4             31.423381  ...   F                  0\n",
              "4      csid_5             11.909502  ...  AA                  0\n",
              "\n",
              "[5 rows x 12 columns]"
            ]
          },
          "metadata": {
            "tags": []
          },
          "execution_count": 4
        }
      ]
    },
    {
      "cell_type": "code",
      "metadata": {
        "colab": {
          "base_uri": "https://localhost:8080/"
        },
        "id": "VakTNWG3JQ1I",
        "outputId": "2846c3a2-77ed-4453-f0b8-9a059c8e8be6"
      },
      "source": [
        "df_train.info()"
      ],
      "execution_count": null,
      "outputs": [
        {
          "output_type": "stream",
          "text": [
            "<class 'pandas.core.frame.DataFrame'>\n",
            "RangeIndex: 10738 entries, 0 to 10737\n",
            "Data columns (total 12 columns):\n",
            " #   Column                            Non-Null Count  Dtype  \n",
            "---  ------                            --------------  -----  \n",
            " 0   customer_id                       10738 non-null  object \n",
            " 1   customer_visit_score              10738 non-null  float64\n",
            " 2   customer_product_search_score     10696 non-null  float64\n",
            " 3   customer_ctr_score                10738 non-null  float64\n",
            " 4   customer_stay_score               10701 non-null  float64\n",
            " 5   customer_frequency_score          10738 non-null  float64\n",
            " 6   customer_product_variation_score  10692 non-null  float64\n",
            " 7   customer_order_score              10672 non-null  float64\n",
            " 8   customer_affinity_score           10738 non-null  float64\n",
            " 9   customer_active_segment           10715 non-null  object \n",
            " 10  X1                                10701 non-null  object \n",
            " 11  customer_category                 10738 non-null  int64  \n",
            "dtypes: float64(8), int64(1), object(3)\n",
            "memory usage: 1006.8+ KB\n"
          ],
          "name": "stdout"
        }
      ]
    },
    {
      "cell_type": "code",
      "metadata": {
        "id": "dYlAtSQzBqQ3"
      },
      "source": [
        "def preprocess(df):\n",
        "  df['customer_product_search_score'].fillna(df['customer_product_search_score'].mean(), inplace=True)\n",
        "  df['customer_stay_score'].fillna(df['customer_stay_score'].mean(), inplace=True)\n",
        "  df['customer_product_variation_score'].fillna(df['customer_product_variation_score'].mean(), inplace=True)\n",
        "  df['customer_order_score'].fillna(df['customer_order_score'].mean(), inplace=True)\n",
        "  # df.drop(labels=['customer_order_score'], axis=1, inplace=True)\n",
        "  # df.drop(labels=['customer_affinity_score'], axis=1, inplace=True)\n",
        "  # df.drop(labels=['customer_active_segment'], axis=1, inplace=True)\n",
        "  # df.drop(labels=['customer_frequency_score'], axis=1, inplace=True)\n",
        "  df['X1'].fillna(df['X1'].mode()[0], inplace=True)\n",
        "  df['customer_active_segment'].fillna(df['customer_active_segment'].mode()[0], inplace=True)\n",
        "  replace_map = {'customer_active_segment': {'AA': 5, 'A': 4, 'B': 3, 'C': 2, 'D': 1},\n",
        "                'X1': {'AA': 5, 'A': 4, 'BA': 3, 'E': 2, 'F': 1}}\n",
        "  df.replace(replace_map, inplace=True)\n",
        "  df['X1'] = df['X1'].astype('category')\n",
        "  df['customer_active_segment'] = df['customer_active_segment'].astype('category')\n",
        "  return df"
      ],
      "execution_count": null,
      "outputs": []
    },
    {
      "cell_type": "code",
      "metadata": {
        "colab": {
          "base_uri": "https://localhost:8080/",
          "height": 757
        },
        "id": "wu_RQxWYdb5s",
        "outputId": "0c622b1d-2834-41e3-f27a-2352439d4108"
      },
      "source": [
        "corrmat = df_train.corr()\n",
        "top_corr_features = corrmat.index\n",
        "plt.figure(figsize=(10,10))\n",
        "g=sns.heatmap(df_train[top_corr_features].corr(),annot=True,cmap=\"RdYlGn\")"
      ],
      "execution_count": null,
      "outputs": [
        {
          "output_type": "display_data",
          "data": {
            "image/png": "[encoded data removed]",
            "text/plain": [
              "<Figure size 720x720 with 2 Axes>"
            ]
          },
          "metadata": {
            "tags": [],
            "needs_background": "light"
          }
        }
      ]
    },
    {
      "cell_type": "code",
      "metadata": {
        "id": "OITdsFDvCBJL"
      },
      "source": [
        "df_train = preprocess(df_train)"
      ],
      "execution_count": null,
      "outputs": []
    },
    {
      "cell_type": "code",
      "metadata": {
        "colab": {
          "base_uri": "https://localhost:8080/"
        },
        "id": "oTIp5mjV_KpX",
        "outputId": "a19a20c9-ffdc-45ed-a837-4c312451cdeb"
      },
      "source": [
        "df_train.info()"
      ],
      "execution_count": null,
      "outputs": [
        {
          "output_type": "stream",
          "text": [
            "<class 'pandas.core.frame.DataFrame'>\n",
            "RangeIndex: 10738 entries, 0 to 10737\n",
            "Data columns (total 12 columns):\n",
            " #   Column                            Non-Null Count  Dtype   \n",
            "---  ------                            --------------  -----   \n",
            " 0   customer_id                       10738 non-null  object  \n",
            " 1   customer_visit_score              10738 non-null  float64 \n",
            " 2   customer_product_search_score     10738 non-null  float64 \n",
            " 3   customer_ctr_score                10738 non-null  float64 \n",
            " 4   customer_stay_score               10738 non-null  float64 \n",
            " 5   customer_frequency_score          10738 non-null  float64 \n",
            " 6   customer_product_variation_score  10738 non-null  float64 \n",
            " 7   customer_order_score              10738 non-null  float64 \n",
            " 8   customer_affinity_score           10738 non-null  float64 \n",
            " 9   customer_active_segment           10738 non-null  category\n",
            " 10  X1                                10738 non-null  category\n",
            " 11  customer_category                 10738 non-null  int64   \n",
            "dtypes: category(2), float64(8), int64(1), object(1)\n",
            "memory usage: 860.4+ KB\n"
          ],
          "name": "stdout"
        }
      ]
    },
    {
      "cell_type": "code",
      "metadata": {
        "colab": {
          "base_uri": "https://localhost:8080/"
        },
        "id": "w4Kw4hPn8KAK",
        "outputId": "dd420278-62c0-4700-8aa1-39a3d09efe5b"
      },
      "source": [
        "missing_frac = df_train.isnull().mean()\n",
        "print(sorted(missing_frac[missing_frac > 0].index))"
      ],
      "execution_count": null,
      "outputs": [
        {
          "output_type": "stream",
          "text": [
            "[]\n"
          ],
          "name": "stdout"
        }
      ]
    },
    {
      "cell_type": "code",
      "metadata": {
        "id": "5rFbXZ6yO74q"
      },
      "source": [
        "X_train_full = df_train.loc[:, ~df_train.columns.isin(['customer_category','customer_id'])].values\n",
        "y_train_full = df_train.loc[:, df_train.columns == 'customer_category'].values"
      ],
      "execution_count": null,
      "outputs": []
    },
    {
      "cell_type": "code",
      "metadata": {
        "id": "jMJnxS7nT3FJ"
      },
      "source": [
        "X_train, X_val, y_train, y_val = train_test_split(X_train_full, y_train_full, test_size = 0.25, random_state = 42, stratify = y_train_full)"
      ],
      "execution_count": null,
      "outputs": []
    },
    {
      "cell_type": "code",
      "metadata": {
        "id": "_UjC4lumJcrj"
      },
      "source": [
        "df_test = preprocess(df_test)"
      ],
      "execution_count": null,
      "outputs": []
    },
    {
      "cell_type": "code",
      "metadata": {
        "id": "7_0ws--jSdUa"
      },
      "source": [
        "X_test = df_test.loc[:, ~df_test.columns.isin(['customer_category','customer_id'])].values"
      ],
      "execution_count": null,
      "outputs": []
    },
    {
      "cell_type": "code",
      "metadata": {
        "id": "wWWlsQXzON7h"
      },
      "source": [
        "f1 = make_scorer(precision_score, average='macro')"
      ],
      "execution_count": null,
      "outputs": []
    },
    {
      "cell_type": "markdown",
      "metadata": {
        "id": "kUAWwVQPQQ0m"
      },
      "source": [
        "Let's create a Baseline Model based on Gradient Boosting Classifier first. We'll choose the 'learning_rate' from this."
      ]
    },
    {
      "cell_type": "code",
      "metadata": {
        "colab": {
          "base_uri": "https://localhost:8080/"
        },
        "id": "UCvF8hNzpbS4",
        "outputId": "c668fd26-eb8c-4278-8dec-ff267c3fea74"
      },
      "source": [
        "param_test0 = {'learning_rate':[0.15,0.1,0.05,0.01,0.005,0.001], 'n_estimators':range(100,2100,100)}\n",
        "gsearch0 = GridSearchCV(estimator =GradientBoostingClassifier(max_depth=4, min_samples_split=2, min_samples_leaf=1, subsample=1, max_features='sqrt', random_state=42), \n",
        "            param_grid = param_test0, scoring=f1, n_jobs=40, cv=5)\n",
        "gsearch0.fit(X_train,y_train.ravel())\n",
        "gsearch0.best_params_, gsearch0.best_score_"
      ],
      "execution_count": null,
      "outputs": [
        {
          "output_type": "execute_result",
          "data": {
            "text/plain": [
              "({'learning_rate': 0.001, 'n_estimators': 800}, 0.9719847005830944)"
            ]
          },
          "metadata": {
            "tags": []
          },
          "execution_count": 377
        }
      ]
    },
    {
      "cell_type": "code",
      "metadata": {
        "colab": {
          "base_uri": "https://localhost:8080/"
        },
        "id": "3YO9wU-9Eq0X",
        "outputId": "f14d9412-c2b2-4eb9-9f1e-f4bfbcd9a77c"
      },
      "source": [
        "predictions = gsearch0.predict(X_val)\n",
        "print(\"Model 0 : Classification Report of Validation Set\")\n",
        "print(classification_report(y_val, predictions))\n",
        "print(\"Precision Score :\",precision_score(y_val, predictions, average='macro'))"
      ],
      "execution_count": null,
      "outputs": [
        {
          "output_type": "stream",
          "text": [
            "Model 0 : Classification Report of Validation Set\n",
            "              precision    recall  f1-score   support\n",
            "\n",
            "           0       0.97      1.00      0.98      2361\n",
            "           1       0.98      0.75      0.85       324\n",
            "\n",
            "    accuracy                           0.97      2685\n",
            "   macro avg       0.97      0.87      0.92      2685\n",
            "weighted avg       0.97      0.97      0.97      2685\n",
            "\n",
            "Precision Score : 0.9733005612400227\n"
          ],
          "name": "stdout"
        }
      ]
    },
    {
      "cell_type": "markdown",
      "metadata": {
        "id": "_X_Sm5XSrQuB"
      },
      "source": [
        "Now let's tune the parameter 'n_estimators' (number of trees) setting the 'learning_rate' = 0.001"
      ]
    },
    {
      "cell_type": "code",
      "metadata": {
        "colab": {
          "base_uri": "https://localhost:8080/"
        },
        "id": "FaAs-j_6hMb_",
        "outputId": "11969e50-2b32-4edb-9d64-c1a0cb24df41"
      },
      "source": [
        "param_test1 = {'n_estimators':range(300,1001,50)}\n",
        "gsearch1 = GridSearchCV(estimator = GradientBoostingClassifier(learning_rate=0.001, max_depth=4, min_samples_split=2, min_samples_leaf=1, subsample=1, max_features='sqrt', random_state=42), \n",
        "                        param_grid = param_test1, scoring=f1, n_jobs=40, cv=5)\n",
        "gsearch1.fit(X_train,y_train.ravel())\n",
        "gsearch1.best_params_, gsearch1.best_score_"
      ],
      "execution_count": null,
      "outputs": [
        {
          "output_type": "execute_result",
          "data": {
            "text/plain": [
              "({'n_estimators': 800}, 0.9719847005830944)"
            ]
          },
          "metadata": {
            "tags": []
          },
          "execution_count": 379
        }
      ]
    },
    {
      "cell_type": "code",
      "metadata": {
        "colab": {
          "base_uri": "https://localhost:8080/"
        },
        "id": "q2AlB4WzL2O_",
        "outputId": "92e721fc-2d6a-46fe-87a8-c11bf0b6b90e"
      },
      "source": [
        "predictions = gsearch1.predict(X_val)\n",
        "print(\"Model 1 : Classification Report of Validation Set\")\n",
        "print(classification_report(y_val, predictions))\n",
        "print(\"Precision Score :\",precision_score(y_val, predictions, average='macro'))"
      ],
      "execution_count": null,
      "outputs": [
        {
          "output_type": "stream",
          "text": [
            "Model 1 : Classification Report of Validation Set\n",
            "              precision    recall  f1-score   support\n",
            "\n",
            "           0       0.97      1.00      0.98      2361\n",
            "           1       0.98      0.75      0.85       324\n",
            "\n",
            "    accuracy                           0.97      2685\n",
            "   macro avg       0.97      0.87      0.92      2685\n",
            "weighted avg       0.97      0.97      0.97      2685\n",
            "\n",
            "Precision Score : 0.9733005612400227\n"
          ],
          "name": "stdout"
        }
      ]
    },
    {
      "cell_type": "markdown",
      "metadata": {
        "id": "akQ-bvOasOFE"
      },
      "source": [
        "We found the best 'n_estimators' = 800. \\\n",
        "Now let's start Tuning tree-specific parameters.\n",
        "1. max_depth and num_samples_split\n",
        "2. min_samples_leaf\n",
        "3. max_features"
      ]
    },
    {
      "cell_type": "code",
      "metadata": {
        "colab": {
          "base_uri": "https://localhost:8080/"
        },
        "id": "VMYJJD0YnBM7",
        "outputId": "da453653-3803-42a5-db35-069d54449b2d"
      },
      "source": [
        "param_test2 = {'max_depth':range(1,8,2), 'min_samples_split':range(100,501,100)}\n",
        "gsearch2 = GridSearchCV(estimator = GradientBoostingClassifier(learning_rate=0.001, n_estimators=800, min_samples_leaf=1, subsample=1, max_features='sqrt', random_state=42), \n",
        "                        param_grid = param_test2, scoring=f1, n_jobs=20, cv=5)\n",
        "gsearch2.fit(X_train,y_train.ravel())\n",
        "gsearch2.best_params_, gsearch2.best_score_"
      ],
      "execution_count": null,
      "outputs": [
        {
          "output_type": "execute_result",
          "data": {
            "text/plain": [
              "({'max_depth': 5, 'min_samples_split': 200}, 0.9723284703047458)"
            ]
          },
          "metadata": {
            "tags": []
          },
          "execution_count": 390
        }
      ]
    },
    {
      "cell_type": "code",
      "metadata": {
        "colab": {
          "base_uri": "https://localhost:8080/"
        },
        "id": "l1oOSLxZu1Fn",
        "outputId": "fe1289ea-92d1-4d12-97bf-369f4b9aa2b4"
      },
      "source": [
        "predictions = gsearch2.predict(X_val)\n",
        "print(\"Model 2 : Classification Report of Validation Set\")\n",
        "print(classification_report(y_val, predictions))\n",
        "print(\"Precision Score :\",precision_score(y_val, predictions, average='macro'))"
      ],
      "execution_count": null,
      "outputs": [
        {
          "output_type": "stream",
          "text": [
            "Model 2 : Classification Report of Validation Set\n",
            "              precision    recall  f1-score   support\n",
            "\n",
            "           0       0.97      1.00      0.98      2361\n",
            "           1       0.98      0.74      0.85       324\n",
            "\n",
            "    accuracy                           0.97      2685\n",
            "   macro avg       0.97      0.87      0.91      2685\n",
            "weighted avg       0.97      0.97      0.97      2685\n",
            "\n",
            "Precision Score : 0.9748285379725661\n"
          ],
          "name": "stdout"
        }
      ]
    },
    {
      "cell_type": "markdown",
      "metadata": {
        "id": "F2-lvy4Qs0Vt"
      },
      "source": [
        "We found 'max_depth' = 5, 'min_samples_split' = 200 as the best. \\\n",
        "Let's tune 'min_samples_leaf'."
      ]
    },
    {
      "cell_type": "code",
      "metadata": {
        "colab": {
          "base_uri": "https://localhost:8080/"
        },
        "id": "GS3t2ZIroYEN",
        "outputId": "5fa3ee94-34ed-433e-f378-c1bd01ceaafb"
      },
      "source": [
        "param_test3 = {'min_samples_leaf':range(30,101,10)}\n",
        "gsearch3 = GridSearchCV(estimator = GradientBoostingClassifier(learning_rate=0.001, n_estimators=800, max_depth=5, min_samples_split=200, subsample=1, max_features='sqrt', random_state=42), \n",
        "                        param_grid = param_test3, scoring=f1, n_jobs=40, cv=5)\n",
        "gsearch3.fit(X_train, y_train.ravel())\n",
        "gsearch3.best_params_, gsearch3.best_score_"
      ],
      "execution_count": null,
      "outputs": [
        {
          "output_type": "execute_result",
          "data": {
            "text/plain": [
              "({'min_samples_leaf': 70}, 0.9724269310869433)"
            ]
          },
          "metadata": {
            "tags": []
          },
          "execution_count": 392
        }
      ]
    },
    {
      "cell_type": "code",
      "metadata": {
        "colab": {
          "base_uri": "https://localhost:8080/"
        },
        "id": "g4OBKbPnu4uZ",
        "outputId": "c16ddaed-e385-4462-b5c7-78710254b606"
      },
      "source": [
        "predictions = gsearch3.predict(X_val)\n",
        "print(\"Model 3 : Classification Report of Validation Set\")\n",
        "print(classification_report(y_val, predictions))\n",
        "print(\"Precision Score :\",precision_score(y_val, predictions, average='macro'))"
      ],
      "execution_count": null,
      "outputs": [
        {
          "output_type": "stream",
          "text": [
            "Model 3 : Classification Report of Validation Set\n",
            "              precision    recall  f1-score   support\n",
            "\n",
            "           0       0.96      1.00      0.98      2361\n",
            "           1       0.98      0.73      0.84       324\n",
            "\n",
            "    accuracy                           0.97      2685\n",
            "   macro avg       0.97      0.86      0.91      2685\n",
            "weighted avg       0.97      0.97      0.96      2685\n",
            "\n",
            "Precision Score : 0.9739025541422469\n"
          ],
          "name": "stdout"
        }
      ]
    },
    {
      "cell_type": "markdown",
      "metadata": {
        "id": "ujLURNTotHmu"
      },
      "source": [
        "Setting the best 'min_samples_leaf' = 70, let's tune 'max_features'."
      ]
    },
    {
      "cell_type": "code",
      "metadata": {
        "colab": {
          "base_uri": "https://localhost:8080/"
        },
        "id": "ei4SPf6rogI5",
        "outputId": "8f6f0871-d288-42af-9eba-e89c072e646d"
      },
      "source": [
        "param_test4 = {'max_features':range(7,20,2)}\n",
        "gsearch4 = GridSearchCV(estimator = GradientBoostingClassifier(learning_rate=0.001, n_estimators=800, max_depth=5, min_samples_split=200, min_samples_leaf=70, subsample=1, random_state=42),\n",
        "                        param_grid = param_test4, scoring=f1, n_jobs=5, cv=5)\n",
        "gsearch4.fit(X_train, y_train.ravel())\n",
        "gsearch4.best_params_, gsearch4.best_score_"
      ],
      "execution_count": null,
      "outputs": [
        {
          "output_type": "execute_result",
          "data": {
            "text/plain": [
              "({'max_features': 9}, 0.9708170532834286)"
            ]
          },
          "metadata": {
            "tags": []
          },
          "execution_count": 394
        }
      ]
    },
    {
      "cell_type": "code",
      "metadata": {
        "colab": {
          "base_uri": "https://localhost:8080/"
        },
        "id": "CYch6D0Su9cZ",
        "outputId": "ee36c108-6606-46d7-f707-599402998537"
      },
      "source": [
        "predictions = gsearch4.predict(X_val)\n",
        "print(\"Model 4 : Classification Report of Validation Set\")\n",
        "print(classification_report(y_val, predictions))\n",
        "print(\"Precision Score :\",precision_score(y_val, predictions, average='macro'))"
      ],
      "execution_count": null,
      "outputs": [
        {
          "output_type": "stream",
          "text": [
            "Model 4 : Classification Report of Validation Set\n",
            "              precision    recall  f1-score   support\n",
            "\n",
            "           0       0.97      1.00      0.98      2361\n",
            "           1       0.98      0.79      0.87       324\n",
            "\n",
            "    accuracy                           0.97      2685\n",
            "   macro avg       0.97      0.89      0.93      2685\n",
            "weighted avg       0.97      0.97      0.97      2685\n",
            "\n",
            "Precision Score : 0.9745174268224679\n"
          ],
          "name": "stdout"
        }
      ]
    },
    {
      "cell_type": "markdown",
      "metadata": {
        "id": "g5dGnGgJtfrF"
      },
      "source": [
        "Finally we'll tune the parameter 'subsample'."
      ]
    },
    {
      "cell_type": "code",
      "metadata": {
        "colab": {
          "base_uri": "https://localhost:8080/"
        },
        "id": "5RUbwQ-eoqmS",
        "outputId": "439e1904-3136-4ea7-accf-844232cf0e1c"
      },
      "source": [
        "param_test5 = {'subsample':[0.6,0.7,0.75,0.8,0.85,0.9]}\n",
        "gsearch5 = GridSearchCV(estimator = GradientBoostingClassifier(learning_rate=0.001, n_estimators=800, max_depth=5, min_samples_split=200, min_samples_leaf=70, max_features=9, random_state=42),\n",
        "                        param_grid = param_test5, scoring=f1, n_jobs=5, cv=5)\n",
        "gsearch5.fit(X_train, y_train.ravel())\n",
        "gsearch5.best_params_, gsearch5.best_score_"
      ],
      "execution_count": null,
      "outputs": [
        {
          "output_type": "execute_result",
          "data": {
            "text/plain": [
              "({'subsample': 0.9}, 0.9719751494548919)"
            ]
          },
          "metadata": {
            "tags": []
          },
          "execution_count": 397
        }
      ]
    },
    {
      "cell_type": "code",
      "metadata": {
        "colab": {
          "base_uri": "https://localhost:8080/"
        },
        "id": "me2uot08vF95",
        "outputId": "69e645f7-afa8-4ebc-d289-8c96d81f1594"
      },
      "source": [
        "predictions = gsearch5.predict(X_val)\n",
        "print(\"Model 5 : Classification Report of Validation Set\")\n",
        "print(classification_report(y_val, predictions))\n",
        "print(\"Precision Score :\",precision_score(y_val, predictions, average='macro'))"
      ],
      "execution_count": null,
      "outputs": [
        {
          "output_type": "stream",
          "text": [
            "Model 5 : Classification Report of Validation Set\n",
            "              precision    recall  f1-score   support\n",
            "\n",
            "           0       0.97      1.00      0.98      2361\n",
            "           1       0.98      0.78      0.87       324\n",
            "\n",
            "    accuracy                           0.97      2685\n",
            "   macro avg       0.98      0.89      0.93      2685\n",
            "weighted avg       0.97      0.97      0.97      2685\n",
            "\n",
            "Precision Score : 0.9759204499517773\n"
          ],
          "name": "stdout"
        }
      ]
    },
    {
      "cell_type": "markdown",
      "metadata": {
        "id": "-Zcu0exctn4n"
      },
      "source": [
        "Now, as we have our best hyper-parameters, let's build our final model. The hyper-parameters are as follows:\n",
        "* learning_rate=0.001\n",
        "* n_estimators=800\n",
        "* max_depth=5\n",
        "* min_samples_split=200\n",
        "* min_samples_leaf=70\n",
        "* max_features=9\n",
        "* subsample=0.9"
      ]
    },
    {
      "cell_type": "code",
      "metadata": {
        "colab": {
          "base_uri": "https://localhost:8080/"
        },
        "id": "DaaUIciYV8gO",
        "outputId": "129b2e66-5267-4c86-ac00-cde575b91dae"
      },
      "source": [
        "gb = GradientBoostingClassifier(learning_rate=0.001, n_estimators=800, max_depth=5, min_samples_split=200, min_samples_leaf=70, max_features=9, subsample=0.9, random_state=42)\n",
        "gb.fit(X_train, y_train.ravel())"
      ],
      "execution_count": null,
      "outputs": [
        {
          "output_type": "execute_result",
          "data": {
            "text/plain": [
              "GradientBoostingClassifier(ccp_alpha=0.0, criterion='friedman_mse', init=None,\n",
              "                           learning_rate=0.001, loss='deviance', max_depth=5,\n",
              "                           max_features=9, max_leaf_nodes=None,\n",
              "                           min_impurity_decrease=0.0, min_impurity_split=None,\n",
              "                           min_samples_leaf=70, min_samples_split=200,\n",
              "                           min_weight_fraction_leaf=0.0, n_estimators=800,\n",
              "                           n_iter_no_change=None, presort='deprecated',\n",
              "                           random_state=42, subsample=0.9, tol=0.0001,\n",
              "                           validation_fraction=0.1, verbose=0,\n",
              "                           warm_start=False)"
            ]
          },
          "metadata": {
            "tags": []
          },
          "execution_count": 16
        }
      ]
    },
    {
      "cell_type": "code",
      "metadata": {
        "id": "_RVmU7EpALzK"
      },
      "source": [
        "# gb = GradientBoostingClassifier(learning_rate=0.001, n_estimators=800, max_depth=5, min_samples_split=200, min_samples_leaf=70, max_features=8, subsample=0.9, random_state=42)\n",
        "# gb.fit(X_train, y_train.ravel())"
      ],
      "execution_count": null,
      "outputs": []
    },
    {
      "cell_type": "code",
      "metadata": {
        "id": "xvMc5JNgXaT5"
      },
      "source": [
        "# gb = GradientBoostingClassifier(learning_rate=0.001, n_estimators=800, max_depth=5, min_samples_split=200, min_samples_leaf=70, max_features=9, subsample=0.9, random_state=42)\n",
        "# gb.fit(X_train, y_train.ravel())"
      ],
      "execution_count": null,
      "outputs": []
    },
    {
      "cell_type": "code",
      "metadata": {
        "id": "8OToxjrvZxGu",
        "colab": {
          "base_uri": "https://localhost:8080/"
        },
        "outputId": "c9a6bbd6-2ecd-43fa-d053-24202a1e8715"
      },
      "source": [
        "y_val_pred = gb.predict(X_val)\n",
        "print(\"Final Model : Confusion Matrix of Test Set\")\n",
        "print(confusion_matrix(y_val, y_val_pred))\n",
        "print()\n",
        "print(\"Final Model : Classification Report of Validation Set\")\n",
        "print(classification_report(y_val, y_val_pred))\n",
        "print(\"Precision Score :\",precision_score(y_val, y_val_pred, average='macro'))"
      ],
      "execution_count": null,
      "outputs": [
        {
          "output_type": "stream",
          "text": [
            "Final Model : Confusion Matrix of Test Set\n",
            "[[2356    5]\n",
            " [  70  254]]\n",
            "\n",
            "Final Model : Classification Report of Validation Set\n",
            "              precision    recall  f1-score   support\n",
            "\n",
            "           0       0.97      1.00      0.98      2361\n",
            "           1       0.98      0.78      0.87       324\n",
            "\n",
            "    accuracy                           0.97      2685\n",
            "   macro avg       0.98      0.89      0.93      2685\n",
            "weighted avg       0.97      0.97      0.97      2685\n",
            "\n",
            "Precision Score : 0.9759204499517773\n"
          ],
          "name": "stdout"
        }
      ]
    },
    {
      "cell_type": "markdown",
      "metadata": {
        "id": "xGUt1EnTvZRD"
      },
      "source": [
        "We'll now re-fit the final model with complete training set (including the validation set) and predict using the test set."
      ]
    },
    {
      "cell_type": "code",
      "metadata": {
        "colab": {
          "base_uri": "https://localhost:8080/"
        },
        "id": "zvfwPCcvaK3v",
        "outputId": "b914bb45-5ed0-4bae-bf80-f9e2f8a35a51"
      },
      "source": [
        "gb = GradientBoostingClassifier(learning_rate=0.001, n_estimators=800, max_depth=5, min_samples_split=200, min_samples_leaf=70, max_features=9, subsample=0.9, random_state=42)\n",
        "gb.fit(X_train_full, y_train_full.ravel())"
      ],
      "execution_count": null,
      "outputs": [
        {
          "output_type": "execute_result",
          "data": {
            "text/plain": [
              "GradientBoostingClassifier(ccp_alpha=0.0, criterion='friedman_mse', init=None,\n",
              "                           learning_rate=0.001, loss='deviance', max_depth=5,\n",
              "                           max_features=9, max_leaf_nodes=None,\n",
              "                           min_impurity_decrease=0.0, min_impurity_split=None,\n",
              "                           min_samples_leaf=70, min_samples_split=200,\n",
              "                           min_weight_fraction_leaf=0.0, n_estimators=800,\n",
              "                           n_iter_no_change=None, presort='deprecated',\n",
              "                           random_state=42, subsample=0.9, tol=0.0001,\n",
              "                           validation_fraction=0.1, verbose=0,\n",
              "                           warm_start=False)"
            ]
          },
          "metadata": {
            "tags": []
          },
          "execution_count": 20
        }
      ]
    },
    {
      "cell_type": "code",
      "metadata": {
        "id": "vzrxedTjaXka"
      },
      "source": [
        "y_pred = gb.predict(X_test)"
      ],
      "execution_count": null,
      "outputs": []
    },
    {
      "cell_type": "code",
      "metadata": {
        "id": "KDo5q8XZRAJ9"
      },
      "source": [
        "output = pd.DataFrame(data={\"customer_id\": df_test[\"customer_id\"], \"customer_category\": y_pred})\n",
        "output.to_csv(path_or_buf=\"/content/gdrive/My Drive/Amazon-result.csv\", index=False)"
      ],
      "execution_count": null,
      "outputs": []
    },
    {
      "cell_type": "code",
      "metadata": {
        "colab": {
          "base_uri": "https://localhost:8080/",
          "height": 672
        },
        "id": "b07nZ3CM31fW",
        "outputId": "30641963-eed7-49e5-c069-b6ae52c56279"
      },
      "source": [
        "feature_importance = gb.feature_importances_\n",
        "print(feature_importance)\n",
        "feature_importance = 100.0 * (feature_importance / feature_importance.max())\n",
        "sorted_idx = np.argsort(feature_importance)\n",
        "pos = np.arange(sorted_idx.shape[0]) + .5\n",
        "plt.figure(figsize=(8, 10))\n",
        "plt.barh(pos, feature_importance[sorted_idx], align='center')\n",
        "plt.yticks(pos, df_train.keys()[sorted_idx])\n",
        "plt.xlabel('Relative Importance')\n",
        "plt.title('Variable Importance')\n",
        "plt.show()"
      ],
      "execution_count": null,
      "outputs": [
        {
          "output_type": "stream",
          "text": [
            "[1.00912539e-04 1.20177852e-03 8.92689119e-01 8.47310429e-02\n",
            " 2.34490548e-03 5.91845678e-03 2.32789597e-03 1.06810656e-02\n",
            " 2.69007428e-06 2.13268935e-06]\n"
          ],
          "name": "stdout"
        },
        {
          "output_type": "display_data",
          "data": {
            "image/png": "[encoded data removed]",
            "text/plain": [
              "<Figure size 576x720 with 1 Axes>"
            ]
          },
          "metadata": {
            "tags": [],
            "needs_background": "light"
          }
        }
      ]
    },
    {
      "cell_type": "code",
      "metadata": {
        "id": "dj7UjPxe8hi-"
      },
      "source": [
        ""
      ],
      "execution_count": null,
      "outputs": []
    }
  ]
}