{
  "nbformat": 4,
  "nbformat_minor": 0,
  "metadata": {
    "colab": {
      "name": "AML Hackathon - Codon.ipynb",
      "provenance": [],
      "collapsed_sections": [],
      "authorship_tag": "ABX9TyPa6r0NNPXIXkwxgzN6qcak",
      "include_colab_link": true
    },
    "kernelspec": {
      "display_name": "Python 3",
      "name": "python3"
    }
  },
  "cells": [
    {
      "cell_type": "markdown",
      "metadata": {
        "id": "view-in-github",
        "colab_type": "text"
      },
      "source": [
        "<a href=\"https://colab.research.google.com/github/HarryPotter12/PractiseML/blob/master/AML_Hackathon_Codon.ipynb\" target=\"_parent\"><img src=\"https://colab.research.google.com/assets/colab-badge.svg\" alt=\"Open In Colab\"/></a>"
      ]
    },
    {
      "cell_type": "code",
      "metadata": {
        "colab": {
          "base_uri": "https://localhost:8080/"
        },
        "id": "QVyeqqbwmtfn",
        "outputId": "eee53579-086b-4b90-af01-a7a17982216d"
      },
      "source": [
        "from google.colab import drive\n",
        "drive.mount('/content/gdrive')"
      ],
      "execution_count": null,
      "outputs": [
        {
          "output_type": "stream",
          "text": [
            "Drive already mounted at /content/gdrive; to attempt to forcibly remount, call drive.mount(\"/content/gdrive\", force_remount=True).\n"
          ],
          "name": "stdout"
        }
      ]
    },
    {
      "cell_type": "code",
      "metadata": {
        "id": "jAY6BGqmOm2r"
      },
      "source": [
        "# !pip install kaggle --upgrade"
      ],
      "execution_count": null,
      "outputs": []
    },
    {
      "cell_type": "code",
      "metadata": {
        "id": "6NIg4EMOPenC"
      },
      "source": [
        "import os\n",
        "os.environ['KAGGLE_CONFIG_DIR'] = \"/content/gdrive/My Drive/Kaggle\"\n",
        "# /content/gdrive/My Drive/Kaggle is the path where kaggle.json is present in the Google Drive"
      ],
      "execution_count": null,
      "outputs": []
    },
    {
      "cell_type": "code",
      "metadata": {
        "colab": {
          "base_uri": "https://localhost:8080/"
        },
        "id": "afBk9BaxPkzd",
        "outputId": "e28f0b94-a279-4faf-f317-f06423f7ebb5"
      },
      "source": [
        "#changing the working directory\n",
        "%cd /content/gdrive/My Drive/Kaggle\n",
        "#Check the present working directory using pwd command\n",
        "!rm *.csv"
      ],
      "execution_count": null,
      "outputs": [
        {
          "output_type": "stream",
          "text": [
            "/content/gdrive/My Drive/Kaggle\n"
          ],
          "name": "stdout"
        }
      ]
    },
    {
      "cell_type": "code",
      "metadata": {
        "colab": {
          "base_uri": "https://localhost:8080/"
        },
        "id": "b6gSvOA2NFgr",
        "outputId": "6f9f7641-a636-43a7-acbf-a3dd5f6b6821"
      },
      "source": [
        "!kaggle competitions download -c iith-aml-hackathon-2020"
      ],
      "execution_count": null,
      "outputs": [
        {
          "output_type": "stream",
          "text": [
            "Warning: Looks like you're using an outdated API Version, please consider updating (server 1.5.10 / client 1.5.4)\n",
            "Downloading Test.csv.zip to /content/gdrive/My Drive/Kaggle\n",
            "  0% 0.00/1.06M [00:00<?, ?B/s]\n",
            "100% 1.06M/1.06M [00:00<00:00, 31.0MB/s]\n",
            "Downloading Train.csv.zip to /content/gdrive/My Drive/Kaggle\n",
            "  0% 0.00/2.91M [00:00<?, ?B/s]\n",
            "100% 2.91M/2.91M [00:00<00:00, 90.1MB/s]\n"
          ],
          "name": "stdout"
        }
      ]
    },
    {
      "cell_type": "code",
      "metadata": {
        "colab": {
          "base_uri": "https://localhost:8080/"
        },
        "id": "3LwlZ7kHQkLm",
        "outputId": "eb5303fe-5b7b-4608-c14b-4b11a862d913"
      },
      "source": [
        "#unzipping the zip files and deleting the zip files\n",
        "!unzip \\*.zip  && rm *.zip"
      ],
      "execution_count": null,
      "outputs": [
        {
          "output_type": "stream",
          "text": [
            "Archive:  Test.csv.zip\n",
            "  inflating: Test.csv                \n",
            "\n",
            "Archive:  Train.csv.zip\n",
            "  inflating: Train.csv               \n",
            "\n",
            "2 archives were successfully processed.\n"
          ],
          "name": "stdout"
        }
      ]
    },
    {
      "cell_type": "code",
      "metadata": {
        "id": "M3L6h7kRp9ee"
      },
      "source": [
        "import numpy as np\n",
        "import pandas as pd\n",
        "import matplotlib.pyplot as plt\n",
        "import seaborn as sns\n",
        "from sklearn.ensemble import GradientBoostingClassifier\n",
        "from sklearn.tree import DecisionTreeClassifier\n",
        "from sklearn.metrics import classification_report, confusion_matrix, precision_score\n",
        "from sklearn.preprocessing import LabelEncoder\n",
        "from keras.utils import np_utils\n",
        "from sklearn.model_selection import GridSearchCV\n",
        "from sklearn.svm import SVC\n",
        "from sklearn.model_selection import train_test_split"
      ],
      "execution_count": null,
      "outputs": []
    },
    {
      "cell_type": "code",
      "metadata": {
        "id": "3GTdrXrjomLg"
      },
      "source": [
        "df_train = pd.read_csv(\"/content/gdrive/My Drive/Kaggle/Train.csv\")\n",
        "df_test = pd.read_csv(\"/content/gdrive/My Drive/Kaggle/Test.csv\")"
      ],
      "execution_count": null,
      "outputs": []
    },
    {
      "cell_type": "code",
      "metadata": {
        "id": "o_bgNYrKYsMl"
      },
      "source": [
        "df_train.head()"
      ],
      "execution_count": null,
      "outputs": []
    },
    {
      "cell_type": "code",
      "metadata": {
        "id": "VakTNWG3JQ1I"
      },
      "source": [
        "df_train.info()"
      ],
      "execution_count": null,
      "outputs": []
    },
    {
      "cell_type": "code",
      "metadata": {
        "id": "wu_RQxWYdb5s"
      },
      "source": [
        "df_train['Kingdom'].value_counts()"
      ],
      "execution_count": null,
      "outputs": []
    },
    {
      "cell_type": "code",
      "metadata": {
        "id": "oTIp5mjV_KpX"
      },
      "source": [
        "df_test.info()"
      ],
      "execution_count": null,
      "outputs": []
    },
    {
      "cell_type": "code",
      "metadata": {
        "id": "5rFbXZ6yO74q"
      },
      "source": [
        "X_train_full = df_train.loc[:, ~df_train.columns.isin(['Kingdom'])].values\n",
        "y_train_full = df_train.loc[:, df_train.columns == 'Kingdom'].values"
      ],
      "execution_count": null,
      "outputs": []
    },
    {
      "cell_type": "markdown",
      "metadata": {
        "id": "a4DEnciCq1tI"
      },
      "source": [
        "Here, I label-encoded the target variable."
      ]
    },
    {
      "cell_type": "code",
      "metadata": {
        "id": "q2OihD1MveyZ"
      },
      "source": [
        "labelencoder = LabelEncoder()\n",
        "y_train_full = labelencoder.fit_transform(y_train_full.ravel())\n",
        "# y_train_full = np_utils.to_categorical(y_train_full)"
      ],
      "execution_count": null,
      "outputs": []
    },
    {
      "cell_type": "markdown",
      "metadata": {
        "id": "7UdisnQaiXMF"
      },
      "source": [
        "Divided the training data in Training and Validation set"
      ]
    },
    {
      "cell_type": "code",
      "metadata": {
        "id": "jMJnxS7nT3FJ"
      },
      "source": [
        "X_train, X_val, y_train, y_val = train_test_split(X_train_full, y_train_full, test_size = 0.25, random_state = 42, stratify = y_train_full)"
      ],
      "execution_count": null,
      "outputs": []
    },
    {
      "cell_type": "code",
      "metadata": {
        "colab": {
          "base_uri": "https://localhost:8080/"
        },
        "id": "Tw98POfDY1vB",
        "outputId": "fcb7cf8f-b1cf-4f8a-fd84-85ca48043717"
      },
      "source": [
        "print(X_train.shape)\n",
        "print(y_train.shape)"
      ],
      "execution_count": null,
      "outputs": [
        {
          "output_type": "stream",
          "text": [
            "(3908, 65)\n",
            "(3908,)\n"
          ],
          "name": "stdout"
        }
      ]
    },
    {
      "cell_type": "code",
      "metadata": {
        "colab": {
          "base_uri": "https://localhost:8080/"
        },
        "id": "QY8eSDamG7O8",
        "outputId": "f097fef2-abec-4fa0-eaf1-d163e6ddcb77"
      },
      "source": [
        "print(X_train_full.shape)"
      ],
      "execution_count": null,
      "outputs": [
        {
          "output_type": "stream",
          "text": [
            "(5211, 65)\n"
          ],
          "name": "stdout"
        }
      ]
    },
    {
      "cell_type": "code",
      "metadata": {
        "id": "7_0ws--jSdUa"
      },
      "source": [
        "X_test = df_test.loc[:, ~df_test.columns.isin(['Kingdom','Id'])].values"
      ],
      "execution_count": null,
      "outputs": []
    },
    {
      "cell_type": "code",
      "metadata": {
        "colab": {
          "base_uri": "https://localhost:8080/"
        },
        "id": "_r4RJ9GXdpNs",
        "outputId": "2bbbc1b8-fa49-4b9d-abb5-4f92617d2c7d"
      },
      "source": [
        "X_test.shape"
      ],
      "execution_count": null,
      "outputs": [
        {
          "output_type": "execute_result",
          "data": {
            "text/plain": [
              "(7817, 65)"
            ]
          },
          "metadata": {
            "tags": []
          },
          "execution_count": 27
        }
      ]
    },
    {
      "cell_type": "markdown",
      "metadata": {
        "id": "qHvxuLfTiEGE"
      },
      "source": [
        "Let's scale the features to bring to same scale. We fit the scaler on training data and later scaled the validation data."
      ]
    },
    {
      "cell_type": "code",
      "metadata": {
        "id": "Y5PD8vuY4q4z"
      },
      "source": [
        "# Feature Scaling to bring the variable in a single scale\n",
        "from sklearn.preprocessing import StandardScaler\n",
        "sc = StandardScaler()\n",
        "X_train = sc.fit_transform(X_train)\n",
        "X_val = sc.transform(X_val)"
      ],
      "execution_count": null,
      "outputs": []
    },
    {
      "cell_type": "code",
      "metadata": {
        "id": "7ON4z0_IEZIj"
      },
      "source": [
        "# # Tried this and didn't get good result, so, commented off\n",
        "# # Feature Scaling to bring the variable in a single scale\n",
        "# from sklearn.preprocessing import MinMaxScaler\n",
        "# sc = MinMaxScaler()\n",
        "# X_train = sc.fit_transform(X_train)\n",
        "# X_val = sc.transform(X_val)"
      ],
      "execution_count": null,
      "outputs": []
    },
    {
      "cell_type": "markdown",
      "metadata": {
        "id": "ERfuIe1mk151"
      },
      "source": [
        "Let's create a few baseline models and see the performance. \\\n",
        "I One-Hot-Encoded (i.e. changed as categories and split into number of features) the target variable for a few models. But as my final model didn't need this I kept those commented."
      ]
    },
    {
      "cell_type": "code",
      "metadata": {
        "id": "dj7UjPxe8hi-"
      },
      "source": [
        "# # Commented as it didn't perform well\n",
        "# from sklearn.linear_model import LogisticRegression\n",
        "# classifier = LogisticRegression(max_iter=1000, random_state = 0)\n",
        "# classifier.fit(X_train, y_train.ravel())\n",
        "# y_val_pred = classifier.predict(X_val)"
      ],
      "execution_count": null,
      "outputs": []
    },
    {
      "cell_type": "code",
      "metadata": {
        "id": "a1mjL_2Paqpn"
      },
      "source": [
        "# It performed pretty well\n",
        "from sklearn.neighbors import KNeighborsClassifier\n",
        "classifier = KNeighborsClassifier(n_neighbors = 5, metric = 'minkowski', p = 2)\n",
        "classifier.fit(X_train, y_train)\n",
        "y_val_pred = classifier.predict(X_val)"
      ],
      "execution_count": null,
      "outputs": []
    },
    {
      "cell_type": "code",
      "metadata": {
        "id": "4ltwgPgIa4xB"
      },
      "source": [
        "# # Commented as it didn't perform well\n",
        "# from sklearn.svm import SVC\n",
        "# classifier = SVC(kernel = 'linear', random_state = 0)\n",
        "# classifier.fit(X_train, y_train.ravel())\n",
        "# y_val_pred = classifier.predict(X_val)"
      ],
      "execution_count": null,
      "outputs": []
    },
    {
      "cell_type": "code",
      "metadata": {
        "id": "lFUBNYA3bAPz"
      },
      "source": [
        "# It performed pretty well\n",
        "from sklearn.svm import SVC\n",
        "classifier = SVC(kernel = 'rbf', random_state = 0, C=10, gamma=0.01)\n",
        "classifier.fit(X_train, y_train.ravel())\n",
        "y_val_pred = classifier.predict(X_val)"
      ],
      "execution_count": null,
      "outputs": []
    },
    {
      "cell_type": "code",
      "metadata": {
        "id": "lzi6GuoqwDt-"
      },
      "source": [
        "# It performed pretty well\n",
        "from sklearn.svm import NuSVC\n",
        "classifier = NuSVC(kernel = \"rbf\", nu = 0.007, probability = True)\n",
        "classifier.fit(X_train, y_train.ravel())\n",
        "y_val_pred = classifier.predict(X_val)"
      ],
      "execution_count": null,
      "outputs": []
    },
    {
      "cell_type": "code",
      "metadata": {
        "id": "WTCEiXCMbJEJ"
      },
      "source": [
        "# # Commented as it didn't perform well\n",
        "# from sklearn.naive_bayes import GaussianNB\n",
        "# classifier = GaussianNB()\n",
        "# classifier.fit(X_train, y_train.ravel())\n",
        "# y_val_pred = classifier.predict(X_val)"
      ],
      "execution_count": null,
      "outputs": []
    },
    {
      "cell_type": "code",
      "metadata": {
        "id": "1E78MjIjbOvf"
      },
      "source": [
        "# # Commented as it didn't perform well\n",
        "# from sklearn.tree import DecisionTreeClassifier\n",
        "# classifier = DecisionTreeClassifier(criterion = 'entropy', random_state = 0)\n",
        "# classifier.fit(X_train, y_train)\n",
        "# y_val_pred = classifier.predict(X_val)"
      ],
      "execution_count": null,
      "outputs": []
    },
    {
      "cell_type": "code",
      "metadata": {
        "id": "bZVP3gpzbUPp"
      },
      "source": [
        "# # Commented as it didn't perform well\n",
        "# from sklearn.ensemble import RandomForestClassifier\n",
        "# classifier = RandomForestClassifier(n_estimators = 10, criterion = 'entropy', random_state = 0)\n",
        "# classifier.fit(X_train, y_train)\n",
        "# y_val_pred = classifier.predict(X_val)"
      ],
      "execution_count": null,
      "outputs": []
    },
    {
      "cell_type": "code",
      "metadata": {
        "id": "uBFgbvIjbbah"
      },
      "source": [
        "# # Commented as it didn't perform well\n",
        "# from xgboost import XGBClassifier\n",
        "# classifier = XGBClassifier()\n",
        "# classifier.fit(X_train, y_train.ravel())\n",
        "# y_val_pred = classifier.predict(X_val)"
      ],
      "execution_count": null,
      "outputs": []
    },
    {
      "cell_type": "markdown",
      "metadata": {
        "id": "L5vsllmJnK6t"
      },
      "source": [
        "Now I tried cross-validation and tuned the parametes to get a better model"
      ]
    },
    {
      "cell_type": "code",
      "metadata": {
        "id": "OwgZE0qk7miP"
      },
      "source": [
        "param_grid = {'C': [0.1, 1, 10, 100, 1000],\n",
        "              'gamma': [1, 0.1, 0.01, 0.001, 0.0001],\n",
        "              'kernel': ['rbf', 'poly', 'sigmoid']}\n",
        "\n",
        "grid = GridSearchCV(SVC(), param_grid, refit = True, verbose = 3)\n",
        "\n",
        "grid.fit(X_train, y_train)"
      ],
      "execution_count": null,
      "outputs": []
    },
    {
      "cell_type": "code",
      "metadata": {
        "colab": {
          "base_uri": "https://localhost:8080/"
        },
        "id": "hbwwRzvi78W9",
        "outputId": "842fdad0-5f92-4efb-9c82-21d08cddfb4f"
      },
      "source": [
        "print(grid.best_params_) \n",
        "print(grid.best_estimator_)"
      ],
      "execution_count": null,
      "outputs": [
        {
          "output_type": "stream",
          "text": [
            "{'C': 10, 'gamma': 0.01, 'kernel': 'rbf'}\n",
            "SVC(C=10, break_ties=False, cache_size=200, class_weight=None, coef0=0.0,\n",
            "    decision_function_shape='ovr', degree=3, gamma=0.01, kernel='rbf',\n",
            "    max_iter=-1, probability=False, random_state=None, shrinking=True,\n",
            "    tol=0.001, verbose=False)\n"
          ],
          "name": "stdout"
        }
      ]
    },
    {
      "cell_type": "code",
      "metadata": {
        "colab": {
          "base_uri": "https://localhost:8080/"
        },
        "id": "h3Iz-Cu-8AoI",
        "outputId": "937729a1-1046-4ae5-8cc5-a90cb2ae68b5"
      },
      "source": [
        "y_val_pred = grid.predict(X_val)\n",
        "from sklearn.metrics import accuracy_score\n",
        "print(accuracy_score(y_val, y_val_pred)) \n",
        "print(classification_report(y_val, y_val_pred))"
      ],
      "execution_count": null,
      "outputs": [
        {
          "output_type": "stream",
          "text": [
            "0.8833461243284727\n",
            "              precision    recall  f1-score   support\n",
            "\n",
            "           0       0.67      0.50      0.57        12\n",
            "           1       0.92      0.91      0.92       292\n",
            "           2       0.83      0.79      0.81       135\n",
            "           3       0.69      0.88      0.78        57\n",
            "           4       0.88      0.64      0.74        22\n",
            "           5       0.00      0.00      0.00         2\n",
            "           6       0.88      0.90      0.89       252\n",
            "           7       0.54      0.39      0.45        18\n",
            "           8       0.90      0.41      0.56        22\n",
            "           9       0.90      0.94      0.92       283\n",
            "          10       0.94      0.95      0.95       208\n",
            "\n",
            "    accuracy                           0.88      1303\n",
            "   macro avg       0.74      0.66      0.69      1303\n",
            "weighted avg       0.88      0.88      0.88      1303\n",
            "\n"
          ],
          "name": "stdout"
        },
        {
          "output_type": "stream",
          "text": [
            "/usr/local/lib/python3.6/dist-packages/sklearn/metrics/_classification.py:1272: UndefinedMetricWarning: Precision and F-score are ill-defined and being set to 0.0 in labels with no predicted samples. Use `zero_division` parameter to control this behavior.\n",
            "  _warn_prf(average, modifier, msg_start, len(result))\n"
          ],
          "name": "stderr"
        }
      ]
    },
    {
      "cell_type": "markdown",
      "metadata": {
        "id": "FuldeXAToKj3"
      },
      "source": [
        "Now I rescaled the full training set (including the validation set) and transformed the test set based on that."
      ]
    },
    {
      "cell_type": "code",
      "metadata": {
        "id": "DgiYI-ed5h-F"
      },
      "source": [
        "# Feature Scaling to bring the variable in a single scale\n",
        "from sklearn.preprocessing import StandardScaler\n",
        "sc = StandardScaler()\n",
        "X_train_full = sc.fit_transform(X_train_full)\n",
        "X_test = sc.transform(X_test)"
      ],
      "execution_count": null,
      "outputs": []
    },
    {
      "cell_type": "markdown",
      "metadata": {
        "id": "xGUt1EnTvZRD"
      },
      "source": [
        "We'll now re-fit the final model with complete training set (including the validation set) and predict using the test set."
      ]
    },
    {
      "cell_type": "code",
      "metadata": {
        "id": "vdZTrUdCX4yk"
      },
      "source": [
        "from sklearn.svm import SVC\n",
        "classifier = SVC(kernel = 'rbf', random_state = 0, C=10, gamma=0.01)\n",
        "classifier.fit(X_train_full, y_train_full.ravel())\n",
        "y_pred = classifier.predict(X_test)"
      ],
      "execution_count": null,
      "outputs": []
    },
    {
      "cell_type": "markdown",
      "metadata": {
        "id": "i2fAnmTaprMS"
      },
      "source": [
        "Used StratifiedKFold for cross-validation and tested again."
      ]
    },
    {
      "cell_type": "code",
      "metadata": {
        "colab": {
          "base_uri": "https://localhost:8080/"
        },
        "id": "gghYkJPuCeN-",
        "outputId": "35222b6e-9502-4722-94f7-8845fa89c193"
      },
      "source": [
        "from sklearn.model_selection import StratifiedKFold\n",
        "\n",
        "param_grid = {'C': [0.1, 1, 10, 100, 1000],\n",
        "              'gamma': [1, 0.1, 0.01, 0.001, 0.0001],\n",
        "              'kernel': ['rbf', 'poly']}\n",
        "\n",
        "grid = GridSearchCV(SVC(), param_grid, refit = True, verbose = 3, scoring='accuracy', cv=StratifiedKFold(n_splits=5))\n",
        "\n",
        "grid.fit(X_train_full, y_train_full)"
      ],
      "execution_count": null,
      "outputs": [
        {
          "output_type": "stream",
          "text": [
            "Fitting 5 folds for each of 50 candidates, totalling 250 fits\n",
            "[CV] C=0.1, gamma=1, kernel=rbf ......................................\n"
          ],
          "name": "stdout"
        },
        {
          "output_type": "stream",
          "text": [
            "[Parallel(n_jobs=1)]: Using backend SequentialBackend with 1 concurrent workers.\n"
          ],
          "name": "stderr"
        },
        {
          "output_type": "stream",
          "text": [
            "[CV] .......... C=0.1, gamma=1, kernel=rbf, score=0.224, total=   7.2s\n",
            "[CV] C=0.1, gamma=1, kernel=rbf ......................................\n"
          ],
          "name": "stdout"
        },
        {
          "output_type": "stream",
          "text": [
            "[Parallel(n_jobs=1)]: Done   1 out of   1 | elapsed:    7.2s remaining:    0.0s\n"
          ],
          "name": "stderr"
        },
        {
          "output_type": "stream",
          "text": [
            "[CV] .......... C=0.1, gamma=1, kernel=rbf, score=0.225, total=   7.0s\n",
            "[CV] C=0.1, gamma=1, kernel=rbf ......................................\n"
          ],
          "name": "stdout"
        },
        {
          "output_type": "stream",
          "text": [
            "[Parallel(n_jobs=1)]: Done   2 out of   2 | elapsed:   14.2s remaining:    0.0s\n"
          ],
          "name": "stderr"
        },
        {
          "output_type": "stream",
          "text": [
            "[CV] .......... C=0.1, gamma=1, kernel=rbf, score=0.225, total=   7.1s\n",
            "[CV] C=0.1, gamma=1, kernel=rbf ......................................\n",
            "[CV] .......... C=0.1, gamma=1, kernel=rbf, score=0.224, total=   7.1s\n",
            "[CV] C=0.1, gamma=1, kernel=rbf ......................................\n",
            "[CV] .......... C=0.1, gamma=1, kernel=rbf, score=0.224, total=   7.1s\n",
            "[CV] C=0.1, gamma=1, kernel=poly .....................................\n",
            "[CV] ......... C=0.1, gamma=1, kernel=poly, score=0.874, total=   1.5s\n",
            "[CV] C=0.1, gamma=1, kernel=poly .....................................\n",
            "[CV] ......... C=0.1, gamma=1, kernel=poly, score=0.858, total=   1.4s\n",
            "[CV] C=0.1, gamma=1, kernel=poly .....................................\n",
            "[CV] ......... C=0.1, gamma=1, kernel=poly, score=0.855, total=   1.4s\n",
            "[CV] C=0.1, gamma=1, kernel=poly .....................................\n",
            "[CV] ......... C=0.1, gamma=1, kernel=poly, score=0.871, total=   1.5s\n",
            "[CV] C=0.1, gamma=1, kernel=poly .....................................\n",
            "[CV] ......... C=0.1, gamma=1, kernel=poly, score=0.852, total=   1.5s\n",
            "[CV] C=0.1, gamma=0.1, kernel=rbf ....................................\n",
            "[CV] ........ C=0.1, gamma=0.1, kernel=rbf, score=0.445, total=   5.8s\n",
            "[CV] C=0.1, gamma=0.1, kernel=rbf ....................................\n",
            "[CV] ........ C=0.1, gamma=0.1, kernel=rbf, score=0.438, total=   5.8s\n",
            "[CV] C=0.1, gamma=0.1, kernel=rbf ....................................\n",
            "[CV] ........ C=0.1, gamma=0.1, kernel=rbf, score=0.441, total=   5.9s\n",
            "[CV] C=0.1, gamma=0.1, kernel=rbf ....................................\n",
            "[CV] ........ C=0.1, gamma=0.1, kernel=rbf, score=0.428, total=   5.8s\n",
            "[CV] C=0.1, gamma=0.1, kernel=rbf ....................................\n",
            "[CV] ........ C=0.1, gamma=0.1, kernel=rbf, score=0.448, total=   5.7s\n",
            "[CV] C=0.1, gamma=0.1, kernel=poly ...................................\n",
            "[CV] ....... C=0.1, gamma=0.1, kernel=poly, score=0.870, total=   1.5s\n",
            "[CV] C=0.1, gamma=0.1, kernel=poly ...................................\n",
            "[CV] ....... C=0.1, gamma=0.1, kernel=poly, score=0.853, total=   1.4s\n",
            "[CV] C=0.1, gamma=0.1, kernel=poly ...................................\n",
            "[CV] ....... C=0.1, gamma=0.1, kernel=poly, score=0.855, total=   1.5s\n",
            "[CV] C=0.1, gamma=0.1, kernel=poly ...................................\n",
            "[CV] ....... C=0.1, gamma=0.1, kernel=poly, score=0.872, total=   1.5s\n",
            "[CV] C=0.1, gamma=0.1, kernel=poly ...................................\n",
            "[CV] ....... C=0.1, gamma=0.1, kernel=poly, score=0.853, total=   1.4s\n",
            "[CV] C=0.1, gamma=0.01, kernel=rbf ...................................\n",
            "[CV] ....... C=0.1, gamma=0.01, kernel=rbf, score=0.735, total=   2.5s\n",
            "[CV] C=0.1, gamma=0.01, kernel=rbf ...................................\n",
            "[CV] ....... C=0.1, gamma=0.01, kernel=rbf, score=0.717, total=   2.5s\n",
            "[CV] C=0.1, gamma=0.01, kernel=rbf ...................................\n",
            "[CV] ....... C=0.1, gamma=0.01, kernel=rbf, score=0.722, total=   2.5s\n",
            "[CV] C=0.1, gamma=0.01, kernel=rbf ...................................\n",
            "[CV] ....... C=0.1, gamma=0.01, kernel=rbf, score=0.740, total=   2.5s\n",
            "[CV] C=0.1, gamma=0.01, kernel=rbf ...................................\n",
            "[CV] ....... C=0.1, gamma=0.01, kernel=rbf, score=0.740, total=   2.5s\n",
            "[CV] C=0.1, gamma=0.01, kernel=poly ..................................\n",
            "[CV] ...... C=0.1, gamma=0.01, kernel=poly, score=0.492, total=   2.4s\n",
            "[CV] C=0.1, gamma=0.01, kernel=poly ..................................\n",
            "[CV] ...... C=0.1, gamma=0.01, kernel=poly, score=0.476, total=   2.4s\n",
            "[CV] C=0.1, gamma=0.01, kernel=poly ..................................\n",
            "[CV] ...... C=0.1, gamma=0.01, kernel=poly, score=0.480, total=   2.4s\n",
            "[CV] C=0.1, gamma=0.01, kernel=poly ..................................\n",
            "[CV] ...... C=0.1, gamma=0.01, kernel=poly, score=0.482, total=   2.4s\n",
            "[CV] C=0.1, gamma=0.01, kernel=poly ..................................\n",
            "[CV] ...... C=0.1, gamma=0.01, kernel=poly, score=0.488, total=   2.4s\n",
            "[CV] C=0.1, gamma=0.001, kernel=rbf ..................................\n",
            "[CV] ...... C=0.1, gamma=0.001, kernel=rbf, score=0.611, total=   3.4s\n",
            "[CV] C=0.1, gamma=0.001, kernel=rbf ..................................\n",
            "[CV] ...... C=0.1, gamma=0.001, kernel=rbf, score=0.588, total=   3.4s\n",
            "[CV] C=0.1, gamma=0.001, kernel=rbf ..................................\n",
            "[CV] ...... C=0.1, gamma=0.001, kernel=rbf, score=0.625, total=   3.4s\n",
            "[CV] C=0.1, gamma=0.001, kernel=rbf ..................................\n",
            "[CV] ...... C=0.1, gamma=0.001, kernel=rbf, score=0.613, total=   3.4s\n",
            "[CV] C=0.1, gamma=0.001, kernel=rbf ..................................\n",
            "[CV] ...... C=0.1, gamma=0.001, kernel=rbf, score=0.602, total=   3.4s\n",
            "[CV] C=0.1, gamma=0.001, kernel=poly .................................\n",
            "[CV] ..... C=0.1, gamma=0.001, kernel=poly, score=0.224, total=   2.6s\n",
            "[CV] C=0.1, gamma=0.001, kernel=poly .................................\n",
            "[CV] ..... C=0.1, gamma=0.001, kernel=poly, score=0.225, total=   2.6s\n",
            "[CV] C=0.1, gamma=0.001, kernel=poly .................................\n",
            "[CV] ..... C=0.1, gamma=0.001, kernel=poly, score=0.225, total=   2.6s\n",
            "[CV] C=0.1, gamma=0.001, kernel=poly .................................\n",
            "[CV] ..... C=0.1, gamma=0.001, kernel=poly, score=0.224, total=   2.6s\n",
            "[CV] C=0.1, gamma=0.001, kernel=poly .................................\n",
            "[CV] ..... C=0.1, gamma=0.001, kernel=poly, score=0.224, total=   2.6s\n",
            "[CV] C=0.1, gamma=0.0001, kernel=rbf .................................\n",
            "[CV] ..... C=0.1, gamma=0.0001, kernel=rbf, score=0.224, total=   4.0s\n",
            "[CV] C=0.1, gamma=0.0001, kernel=rbf .................................\n",
            "[CV] ..... C=0.1, gamma=0.0001, kernel=rbf, score=0.225, total=   4.0s\n",
            "[CV] C=0.1, gamma=0.0001, kernel=rbf .................................\n",
            "[CV] ..... C=0.1, gamma=0.0001, kernel=rbf, score=0.225, total=   4.0s\n",
            "[CV] C=0.1, gamma=0.0001, kernel=rbf .................................\n",
            "[CV] ..... C=0.1, gamma=0.0001, kernel=rbf, score=0.224, total=   4.0s\n",
            "[CV] C=0.1, gamma=0.0001, kernel=rbf .................................\n",
            "[CV] ..... C=0.1, gamma=0.0001, kernel=rbf, score=0.224, total=   4.0s\n",
            "[CV] C=0.1, gamma=0.0001, kernel=poly ................................\n",
            "[CV] .... C=0.1, gamma=0.0001, kernel=poly, score=0.224, total=   2.6s\n",
            "[CV] C=0.1, gamma=0.0001, kernel=poly ................................\n",
            "[CV] .... C=0.1, gamma=0.0001, kernel=poly, score=0.225, total=   2.6s\n",
            "[CV] C=0.1, gamma=0.0001, kernel=poly ................................\n",
            "[CV] .... C=0.1, gamma=0.0001, kernel=poly, score=0.225, total=   2.6s\n",
            "[CV] C=0.1, gamma=0.0001, kernel=poly ................................\n",
            "[CV] .... C=0.1, gamma=0.0001, kernel=poly, score=0.224, total=   2.6s\n",
            "[CV] C=0.1, gamma=0.0001, kernel=poly ................................\n",
            "[CV] .... C=0.1, gamma=0.0001, kernel=poly, score=0.224, total=   2.6s\n",
            "[CV] C=1, gamma=1, kernel=rbf ........................................\n",
            "[CV] ............ C=1, gamma=1, kernel=rbf, score=0.224, total=   7.4s\n",
            "[CV] C=1, gamma=1, kernel=rbf ........................................\n",
            "[CV] ............ C=1, gamma=1, kernel=rbf, score=0.225, total=   7.3s\n",
            "[CV] C=1, gamma=1, kernel=rbf ........................................\n",
            "[CV] ............ C=1, gamma=1, kernel=rbf, score=0.225, total=   7.4s\n",
            "[CV] C=1, gamma=1, kernel=rbf ........................................\n",
            "[CV] ............ C=1, gamma=1, kernel=rbf, score=0.224, total=   7.4s\n",
            "[CV] C=1, gamma=1, kernel=rbf ........................................\n",
            "[CV] ............ C=1, gamma=1, kernel=rbf, score=0.224, total=   7.5s\n",
            "[CV] C=1, gamma=1, kernel=poly .......................................\n",
            "[CV] ........... C=1, gamma=1, kernel=poly, score=0.874, total=   1.5s\n",
            "[CV] C=1, gamma=1, kernel=poly .......................................\n",
            "[CV] ........... C=1, gamma=1, kernel=poly, score=0.858, total=   1.4s\n",
            "[CV] C=1, gamma=1, kernel=poly .......................................\n",
            "[CV] ........... C=1, gamma=1, kernel=poly, score=0.855, total=   1.4s\n",
            "[CV] C=1, gamma=1, kernel=poly .......................................\n",
            "[CV] ........... C=1, gamma=1, kernel=poly, score=0.871, total=   1.5s\n",
            "[CV] C=1, gamma=1, kernel=poly .......................................\n",
            "[CV] ........... C=1, gamma=1, kernel=poly, score=0.852, total=   1.5s\n",
            "[CV] C=1, gamma=0.1, kernel=rbf ......................................\n",
            "[CV] .......... C=1, gamma=0.1, kernel=rbf, score=0.820, total=   6.5s\n",
            "[CV] C=1, gamma=0.1, kernel=rbf ......................................\n",
            "[CV] .......... C=1, gamma=0.1, kernel=rbf, score=0.802, total=   6.5s\n",
            "[CV] C=1, gamma=0.1, kernel=rbf ......................................\n",
            "[CV] .......... C=1, gamma=0.1, kernel=rbf, score=0.800, total=   6.5s\n",
            "[CV] C=1, gamma=0.1, kernel=rbf ......................................\n",
            "[CV] .......... C=1, gamma=0.1, kernel=rbf, score=0.784, total=   6.5s\n",
            "[CV] C=1, gamma=0.1, kernel=rbf ......................................\n",
            "[CV] .......... C=1, gamma=0.1, kernel=rbf, score=0.809, total=   6.5s\n",
            "[CV] C=1, gamma=0.1, kernel=poly .....................................\n",
            "[CV] ......... C=1, gamma=0.1, kernel=poly, score=0.874, total=   1.5s\n",
            "[CV] C=1, gamma=0.1, kernel=poly .....................................\n",
            "[CV] ......... C=1, gamma=0.1, kernel=poly, score=0.858, total=   1.4s\n",
            "[CV] C=1, gamma=0.1, kernel=poly .....................................\n",
            "[CV] ......... C=1, gamma=0.1, kernel=poly, score=0.855, total=   1.4s\n",
            "[CV] C=1, gamma=0.1, kernel=poly .....................................\n",
            "[CV] ......... C=1, gamma=0.1, kernel=poly, score=0.871, total=   1.4s\n",
            "[CV] C=1, gamma=0.1, kernel=poly .....................................\n",
            "[CV] ......... C=1, gamma=0.1, kernel=poly, score=0.852, total=   1.4s\n",
            "[CV] C=1, gamma=0.01, kernel=rbf .....................................\n",
            "[CV] ......... C=1, gamma=0.01, kernel=rbf, score=0.849, total=   1.6s\n",
            "[CV] C=1, gamma=0.01, kernel=rbf .....................................\n",
            "[CV] ......... C=1, gamma=0.01, kernel=rbf, score=0.837, total=   1.6s\n",
            "[CV] C=1, gamma=0.01, kernel=rbf .....................................\n",
            "[CV] ......... C=1, gamma=0.01, kernel=rbf, score=0.868, total=   1.6s\n",
            "[CV] C=1, gamma=0.01, kernel=rbf .....................................\n",
            "[CV] ......... C=1, gamma=0.01, kernel=rbf, score=0.872, total=   1.6s\n",
            "[CV] C=1, gamma=0.01, kernel=rbf .....................................\n",
            "[CV] ......... C=1, gamma=0.01, kernel=rbf, score=0.851, total=   1.6s\n",
            "[CV] C=1, gamma=0.01, kernel=poly ....................................\n",
            "[CV] ........ C=1, gamma=0.01, kernel=poly, score=0.664, total=   1.9s\n",
            "[CV] C=1, gamma=0.01, kernel=poly ....................................\n",
            "[CV] ........ C=1, gamma=0.01, kernel=poly, score=0.636, total=   1.8s\n",
            "[CV] C=1, gamma=0.01, kernel=poly ....................................\n",
            "[CV] ........ C=1, gamma=0.01, kernel=poly, score=0.663, total=   1.9s\n",
            "[CV] C=1, gamma=0.01, kernel=poly ....................................\n",
            "[CV] ........ C=1, gamma=0.01, kernel=poly, score=0.682, total=   1.9s\n",
            "[CV] C=1, gamma=0.01, kernel=poly ....................................\n",
            "[CV] ........ C=1, gamma=0.01, kernel=poly, score=0.685, total=   1.9s\n",
            "[CV] C=1, gamma=0.001, kernel=rbf ....................................\n",
            "[CV] ........ C=1, gamma=0.001, kernel=rbf, score=0.758, total=   2.2s\n",
            "[CV] C=1, gamma=0.001, kernel=rbf ....................................\n",
            "[CV] ........ C=1, gamma=0.001, kernel=rbf, score=0.736, total=   2.2s\n",
            "[CV] C=1, gamma=0.001, kernel=rbf ....................................\n",
            "[CV] ........ C=1, gamma=0.001, kernel=rbf, score=0.730, total=   2.2s\n",
            "[CV] C=1, gamma=0.001, kernel=rbf ....................................\n",
            "[CV] ........ C=1, gamma=0.001, kernel=rbf, score=0.750, total=   2.2s\n",
            "[CV] C=1, gamma=0.001, kernel=rbf ....................................\n",
            "[CV] ........ C=1, gamma=0.001, kernel=rbf, score=0.731, total=   2.2s\n",
            "[CV] C=1, gamma=0.001, kernel=poly ...................................\n",
            "[CV] ....... C=1, gamma=0.001, kernel=poly, score=0.224, total=   2.7s\n",
            "[CV] C=1, gamma=0.001, kernel=poly ...................................\n",
            "[CV] ....... C=1, gamma=0.001, kernel=poly, score=0.225, total=   2.7s\n",
            "[CV] C=1, gamma=0.001, kernel=poly ...................................\n",
            "[CV] ....... C=1, gamma=0.001, kernel=poly, score=0.225, total=   2.7s\n",
            "[CV] C=1, gamma=0.001, kernel=poly ...................................\n",
            "[CV] ....... C=1, gamma=0.001, kernel=poly, score=0.224, total=   2.7s\n",
            "[CV] C=1, gamma=0.001, kernel=poly ...................................\n",
            "[CV] ....... C=1, gamma=0.001, kernel=poly, score=0.224, total=   2.7s\n",
            "[CV] C=1, gamma=0.0001, kernel=rbf ...................................\n",
            "[CV] ....... C=1, gamma=0.0001, kernel=rbf, score=0.616, total=   3.4s\n",
            "[CV] C=1, gamma=0.0001, kernel=rbf ...................................\n",
            "[CV] ....... C=1, gamma=0.0001, kernel=rbf, score=0.592, total=   3.4s\n",
            "[CV] C=1, gamma=0.0001, kernel=rbf ...................................\n",
            "[CV] ....... C=1, gamma=0.0001, kernel=rbf, score=0.631, total=   3.4s\n",
            "[CV] C=1, gamma=0.0001, kernel=rbf ...................................\n",
            "[CV] ....... C=1, gamma=0.0001, kernel=rbf, score=0.620, total=   3.4s\n",
            "[CV] C=1, gamma=0.0001, kernel=rbf ...................................\n",
            "[CV] ....... C=1, gamma=0.0001, kernel=rbf, score=0.607, total=   3.5s\n",
            "[CV] C=1, gamma=0.0001, kernel=poly ..................................\n",
            "[CV] ...... C=1, gamma=0.0001, kernel=poly, score=0.224, total=   2.6s\n",
            "[CV] C=1, gamma=0.0001, kernel=poly ..................................\n",
            "[CV] ...... C=1, gamma=0.0001, kernel=poly, score=0.225, total=   2.6s\n",
            "[CV] C=1, gamma=0.0001, kernel=poly ..................................\n",
            "[CV] ...... C=1, gamma=0.0001, kernel=poly, score=0.225, total=   2.6s\n",
            "[CV] C=1, gamma=0.0001, kernel=poly ..................................\n",
            "[CV] ...... C=1, gamma=0.0001, kernel=poly, score=0.224, total=   2.6s\n",
            "[CV] C=1, gamma=0.0001, kernel=poly ..................................\n",
            "[CV] ...... C=1, gamma=0.0001, kernel=poly, score=0.224, total=   2.6s\n",
            "[CV] C=10, gamma=1, kernel=rbf .......................................\n",
            "[CV] ........... C=10, gamma=1, kernel=rbf, score=0.224, total=   7.5s\n",
            "[CV] C=10, gamma=1, kernel=rbf .......................................\n",
            "[CV] ........... C=10, gamma=1, kernel=rbf, score=0.225, total=   7.5s\n",
            "[CV] C=10, gamma=1, kernel=rbf .......................................\n",
            "[CV] ........... C=10, gamma=1, kernel=rbf, score=0.225, total=   7.5s\n",
            "[CV] C=10, gamma=1, kernel=rbf .......................................\n",
            "[CV] ........... C=10, gamma=1, kernel=rbf, score=0.224, total=   7.5s\n",
            "[CV] C=10, gamma=1, kernel=rbf .......................................\n",
            "[CV] ........... C=10, gamma=1, kernel=rbf, score=0.224, total=   7.5s\n",
            "[CV] C=10, gamma=1, kernel=poly ......................................\n",
            "[CV] .......... C=10, gamma=1, kernel=poly, score=0.874, total=   1.5s\n",
            "[CV] C=10, gamma=1, kernel=poly ......................................\n",
            "[CV] .......... C=10, gamma=1, kernel=poly, score=0.858, total=   1.4s\n",
            "[CV] C=10, gamma=1, kernel=poly ......................................\n",
            "[CV] .......... C=10, gamma=1, kernel=poly, score=0.855, total=   1.4s\n",
            "[CV] C=10, gamma=1, kernel=poly ......................................\n",
            "[CV] .......... C=10, gamma=1, kernel=poly, score=0.871, total=   1.4s\n",
            "[CV] C=10, gamma=1, kernel=poly ......................................\n",
            "[CV] .......... C=10, gamma=1, kernel=poly, score=0.852, total=   1.5s\n",
            "[CV] C=10, gamma=0.1, kernel=rbf .....................................\n",
            "[CV] ......... C=10, gamma=0.1, kernel=rbf, score=0.828, total=   6.6s\n",
            "[CV] C=10, gamma=0.1, kernel=rbf .....................................\n",
            "[CV] ......... C=10, gamma=0.1, kernel=rbf, score=0.815, total=   6.6s\n",
            "[CV] C=10, gamma=0.1, kernel=rbf .....................................\n",
            "[CV] ......... C=10, gamma=0.1, kernel=rbf, score=0.811, total=   6.6s\n",
            "[CV] C=10, gamma=0.1, kernel=rbf .....................................\n",
            "[CV] ......... C=10, gamma=0.1, kernel=rbf, score=0.802, total=   6.6s\n",
            "[CV] C=10, gamma=0.1, kernel=rbf .....................................\n",
            "[CV] ......... C=10, gamma=0.1, kernel=rbf, score=0.833, total=   6.6s\n",
            "[CV] C=10, gamma=0.1, kernel=poly ....................................\n",
            "[CV] ........ C=10, gamma=0.1, kernel=poly, score=0.874, total=   1.5s\n",
            "[CV] C=10, gamma=0.1, kernel=poly ....................................\n",
            "[CV] ........ C=10, gamma=0.1, kernel=poly, score=0.858, total=   1.4s\n",
            "[CV] C=10, gamma=0.1, kernel=poly ....................................\n",
            "[CV] ........ C=10, gamma=0.1, kernel=poly, score=0.855, total=   1.4s\n",
            "[CV] C=10, gamma=0.1, kernel=poly ....................................\n",
            "[CV] ........ C=10, gamma=0.1, kernel=poly, score=0.871, total=   1.4s\n",
            "[CV] C=10, gamma=0.1, kernel=poly ....................................\n",
            "[CV] ........ C=10, gamma=0.1, kernel=poly, score=0.852, total=   1.5s\n",
            "[CV] C=10, gamma=0.01, kernel=rbf ....................................\n",
            "[CV] ........ C=10, gamma=0.01, kernel=rbf, score=0.891, total=   1.4s\n",
            "[CV] C=10, gamma=0.01, kernel=rbf ....................................\n",
            "[CV] ........ C=10, gamma=0.01, kernel=rbf, score=0.873, total=   1.4s\n",
            "[CV] C=10, gamma=0.01, kernel=rbf ....................................\n",
            "[CV] ........ C=10, gamma=0.01, kernel=rbf, score=0.888, total=   1.4s\n",
            "[CV] C=10, gamma=0.01, kernel=rbf ....................................\n",
            "[CV] ........ C=10, gamma=0.01, kernel=rbf, score=0.905, total=   1.4s\n",
            "[CV] C=10, gamma=0.01, kernel=rbf ....................................\n",
            "[CV] ........ C=10, gamma=0.01, kernel=rbf, score=0.884, total=   1.4s\n",
            "[CV] C=10, gamma=0.01, kernel=poly ...................................\n",
            "[CV] ....... C=10, gamma=0.01, kernel=poly, score=0.840, total=   1.6s\n",
            "[CV] C=10, gamma=0.01, kernel=poly ...................................\n",
            "[CV] ....... C=10, gamma=0.01, kernel=poly, score=0.805, total=   1.5s\n",
            "[CV] C=10, gamma=0.01, kernel=poly ...................................\n",
            "[CV] ....... C=10, gamma=0.01, kernel=poly, score=0.822, total=   1.5s\n",
            "[CV] C=10, gamma=0.01, kernel=poly ...................................\n",
            "[CV] ....... C=10, gamma=0.01, kernel=poly, score=0.849, total=   1.6s\n",
            "[CV] C=10, gamma=0.01, kernel=poly ...................................\n",
            "[CV] ....... C=10, gamma=0.01, kernel=poly, score=0.826, total=   1.6s\n",
            "[CV] C=10, gamma=0.001, kernel=rbf ...................................\n",
            "[CV] ....... C=10, gamma=0.001, kernel=rbf, score=0.830, total=   1.5s\n",
            "[CV] C=10, gamma=0.001, kernel=rbf ...................................\n",
            "[CV] ....... C=10, gamma=0.001, kernel=rbf, score=0.802, total=   1.5s\n",
            "[CV] C=10, gamma=0.001, kernel=rbf ...................................\n",
            "[CV] ....... C=10, gamma=0.001, kernel=rbf, score=0.832, total=   1.5s\n",
            "[CV] C=10, gamma=0.001, kernel=rbf ...................................\n",
            "[CV] ....... C=10, gamma=0.001, kernel=rbf, score=0.844, total=   1.5s\n",
            "[CV] C=10, gamma=0.001, kernel=rbf ...................................\n",
            "[CV] ....... C=10, gamma=0.001, kernel=rbf, score=0.820, total=   1.5s\n",
            "[CV] C=10, gamma=0.001, kernel=poly ..................................\n",
            "[CV] ...... C=10, gamma=0.001, kernel=poly, score=0.308, total=   2.7s\n",
            "[CV] C=10, gamma=0.001, kernel=poly ..................................\n",
            "[CV] ...... C=10, gamma=0.001, kernel=poly, score=0.298, total=   2.7s\n",
            "[CV] C=10, gamma=0.001, kernel=poly ..................................\n",
            "[CV] ...... C=10, gamma=0.001, kernel=poly, score=0.300, total=   2.7s\n",
            "[CV] C=10, gamma=0.001, kernel=poly ..................................\n",
            "[CV] ...... C=10, gamma=0.001, kernel=poly, score=0.307, total=   2.7s\n",
            "[CV] C=10, gamma=0.001, kernel=poly ..................................\n",
            "[CV] ...... C=10, gamma=0.001, kernel=poly, score=0.294, total=   2.8s\n",
            "[CV] C=10, gamma=0.0001, kernel=rbf ..................................\n",
            "[CV] ...... C=10, gamma=0.0001, kernel=rbf, score=0.749, total=   2.2s\n",
            "[CV] C=10, gamma=0.0001, kernel=rbf ..................................\n",
            "[CV] ...... C=10, gamma=0.0001, kernel=rbf, score=0.728, total=   2.2s\n",
            "[CV] C=10, gamma=0.0001, kernel=rbf ..................................\n",
            "[CV] ...... C=10, gamma=0.0001, kernel=rbf, score=0.735, total=   2.2s\n",
            "[CV] C=10, gamma=0.0001, kernel=rbf ..................................\n",
            "[CV] ...... C=10, gamma=0.0001, kernel=rbf, score=0.747, total=   2.2s\n",
            "[CV] C=10, gamma=0.0001, kernel=rbf ..................................\n",
            "[CV] ...... C=10, gamma=0.0001, kernel=rbf, score=0.722, total=   2.2s\n",
            "[CV] C=10, gamma=0.0001, kernel=poly .................................\n",
            "[CV] ..... C=10, gamma=0.0001, kernel=poly, score=0.224, total=   2.6s\n",
            "[CV] C=10, gamma=0.0001, kernel=poly .................................\n",
            "[CV] ..... C=10, gamma=0.0001, kernel=poly, score=0.225, total=   2.6s\n",
            "[CV] C=10, gamma=0.0001, kernel=poly .................................\n",
            "[CV] ..... C=10, gamma=0.0001, kernel=poly, score=0.225, total=   2.6s\n",
            "[CV] C=10, gamma=0.0001, kernel=poly .................................\n",
            "[CV] ..... C=10, gamma=0.0001, kernel=poly, score=0.224, total=   2.6s\n",
            "[CV] C=10, gamma=0.0001, kernel=poly .................................\n",
            "[CV] ..... C=10, gamma=0.0001, kernel=poly, score=0.224, total=   2.6s\n",
            "[CV] C=100, gamma=1, kernel=rbf ......................................\n",
            "[CV] .......... C=100, gamma=1, kernel=rbf, score=0.224, total=   7.5s\n",
            "[CV] C=100, gamma=1, kernel=rbf ......................................\n",
            "[CV] .......... C=100, gamma=1, kernel=rbf, score=0.225, total=   7.5s\n",
            "[CV] C=100, gamma=1, kernel=rbf ......................................\n",
            "[CV] .......... C=100, gamma=1, kernel=rbf, score=0.225, total=   7.4s\n",
            "[CV] C=100, gamma=1, kernel=rbf ......................................\n",
            "[CV] .......... C=100, gamma=1, kernel=rbf, score=0.224, total=   7.5s\n",
            "[CV] C=100, gamma=1, kernel=rbf ......................................\n",
            "[CV] .......... C=100, gamma=1, kernel=rbf, score=0.224, total=   7.5s\n",
            "[CV] C=100, gamma=1, kernel=poly .....................................\n",
            "[CV] ......... C=100, gamma=1, kernel=poly, score=0.874, total=   1.5s\n",
            "[CV] C=100, gamma=1, kernel=poly .....................................\n",
            "[CV] ......... C=100, gamma=1, kernel=poly, score=0.858, total=   1.5s\n",
            "[CV] C=100, gamma=1, kernel=poly .....................................\n",
            "[CV] ......... C=100, gamma=1, kernel=poly, score=0.855, total=   1.5s\n",
            "[CV] C=100, gamma=1, kernel=poly .....................................\n",
            "[CV] ......... C=100, gamma=1, kernel=poly, score=0.871, total=   1.5s\n",
            "[CV] C=100, gamma=1, kernel=poly .....................................\n",
            "[CV] ......... C=100, gamma=1, kernel=poly, score=0.852, total=   1.5s\n",
            "[CV] C=100, gamma=0.1, kernel=rbf ....................................\n",
            "[CV] ........ C=100, gamma=0.1, kernel=rbf, score=0.828, total=   6.6s\n",
            "[CV] C=100, gamma=0.1, kernel=rbf ....................................\n",
            "[CV] ........ C=100, gamma=0.1, kernel=rbf, score=0.815, total=   6.6s\n",
            "[CV] C=100, gamma=0.1, kernel=rbf ....................................\n",
            "[CV] ........ C=100, gamma=0.1, kernel=rbf, score=0.811, total=   6.6s\n",
            "[CV] C=100, gamma=0.1, kernel=rbf ....................................\n",
            "[CV] ........ C=100, gamma=0.1, kernel=rbf, score=0.802, total=   6.6s\n",
            "[CV] C=100, gamma=0.1, kernel=rbf ....................................\n",
            "[CV] ........ C=100, gamma=0.1, kernel=rbf, score=0.833, total=   6.6s\n",
            "[CV] C=100, gamma=0.1, kernel=poly ...................................\n",
            "[CV] ....... C=100, gamma=0.1, kernel=poly, score=0.874, total=   1.5s\n",
            "[CV] C=100, gamma=0.1, kernel=poly ...................................\n",
            "[CV] ....... C=100, gamma=0.1, kernel=poly, score=0.858, total=   1.4s\n",
            "[CV] C=100, gamma=0.1, kernel=poly ...................................\n",
            "[CV] ....... C=100, gamma=0.1, kernel=poly, score=0.855, total=   1.5s\n",
            "[CV] C=100, gamma=0.1, kernel=poly ...................................\n",
            "[CV] ....... C=100, gamma=0.1, kernel=poly, score=0.871, total=   1.4s\n",
            "[CV] C=100, gamma=0.1, kernel=poly ...................................\n",
            "[CV] ....... C=100, gamma=0.1, kernel=poly, score=0.852, total=   1.5s\n",
            "[CV] C=100, gamma=0.01, kernel=rbf ...................................\n",
            "[CV] ....... C=100, gamma=0.01, kernel=rbf, score=0.894, total=   1.4s\n",
            "[CV] C=100, gamma=0.01, kernel=rbf ...................................\n",
            "[CV] ....... C=100, gamma=0.01, kernel=rbf, score=0.868, total=   1.4s\n",
            "[CV] C=100, gamma=0.01, kernel=rbf ...................................\n",
            "[CV] ....... C=100, gamma=0.01, kernel=rbf, score=0.872, total=   1.4s\n",
            "[CV] C=100, gamma=0.01, kernel=rbf ...................................\n",
            "[CV] ....... C=100, gamma=0.01, kernel=rbf, score=0.901, total=   1.4s\n",
            "[CV] C=100, gamma=0.01, kernel=rbf ...................................\n",
            "[CV] ....... C=100, gamma=0.01, kernel=rbf, score=0.876, total=   1.4s\n",
            "[CV] C=100, gamma=0.01, kernel=poly ..................................\n",
            "[CV] ...... C=100, gamma=0.01, kernel=poly, score=0.870, total=   1.5s\n",
            "[CV] C=100, gamma=0.01, kernel=poly ..................................\n",
            "[CV] ...... C=100, gamma=0.01, kernel=poly, score=0.853, total=   1.4s\n",
            "[CV] C=100, gamma=0.01, kernel=poly ..................................\n",
            "[CV] ...... C=100, gamma=0.01, kernel=poly, score=0.855, total=   1.5s\n",
            "[CV] C=100, gamma=0.01, kernel=poly ..................................\n",
            "[CV] ...... C=100, gamma=0.01, kernel=poly, score=0.872, total=   1.5s\n",
            "[CV] C=100, gamma=0.01, kernel=poly ..................................\n",
            "[CV] ...... C=100, gamma=0.01, kernel=poly, score=0.853, total=   1.5s\n",
            "[CV] C=100, gamma=0.001, kernel=rbf ..................................\n",
            "[CV] ...... C=100, gamma=0.001, kernel=rbf, score=0.851, total=   1.3s\n",
            "[CV] C=100, gamma=0.001, kernel=rbf ..................................\n",
            "[CV] ...... C=100, gamma=0.001, kernel=rbf, score=0.825, total=   1.3s\n",
            "[CV] C=100, gamma=0.001, kernel=rbf ..................................\n",
            "[CV] ...... C=100, gamma=0.001, kernel=rbf, score=0.862, total=   1.3s\n",
            "[CV] C=100, gamma=0.001, kernel=rbf ..................................\n",
            "[CV] ...... C=100, gamma=0.001, kernel=rbf, score=0.867, total=   1.3s\n",
            "[CV] C=100, gamma=0.001, kernel=rbf ..................................\n",
            "[CV] ...... C=100, gamma=0.001, kernel=rbf, score=0.841, total=   1.3s\n",
            "[CV] C=100, gamma=0.001, kernel=poly .................................\n",
            "[CV] ..... C=100, gamma=0.001, kernel=poly, score=0.492, total=   2.4s\n",
            "[CV] C=100, gamma=0.001, kernel=poly .................................\n",
            "[CV] ..... C=100, gamma=0.001, kernel=poly, score=0.476, total=   2.4s\n",
            "[CV] C=100, gamma=0.001, kernel=poly .................................\n",
            "[CV] ..... C=100, gamma=0.001, kernel=poly, score=0.480, total=   2.4s\n",
            "[CV] C=100, gamma=0.001, kernel=poly .................................\n",
            "[CV] ..... C=100, gamma=0.001, kernel=poly, score=0.482, total=   2.4s\n",
            "[CV] C=100, gamma=0.001, kernel=poly .................................\n",
            "[CV] ..... C=100, gamma=0.001, kernel=poly, score=0.488, total=   2.4s\n",
            "[CV] C=100, gamma=0.0001, kernel=rbf .................................\n",
            "[CV] ..... C=100, gamma=0.0001, kernel=rbf, score=0.811, total=   1.5s\n",
            "[CV] C=100, gamma=0.0001, kernel=rbf .................................\n",
            "[CV] ..... C=100, gamma=0.0001, kernel=rbf, score=0.775, total=   1.5s\n",
            "[CV] C=100, gamma=0.0001, kernel=rbf .................................\n",
            "[CV] ..... C=100, gamma=0.0001, kernel=rbf, score=0.810, total=   1.6s\n",
            "[CV] C=100, gamma=0.0001, kernel=rbf .................................\n",
            "[CV] ..... C=100, gamma=0.0001, kernel=rbf, score=0.821, total=   1.6s\n",
            "[CV] C=100, gamma=0.0001, kernel=rbf .................................\n",
            "[CV] ..... C=100, gamma=0.0001, kernel=rbf, score=0.799, total=   1.5s\n",
            "[CV] C=100, gamma=0.0001, kernel=poly ................................\n",
            "[CV] .... C=100, gamma=0.0001, kernel=poly, score=0.224, total=   2.6s\n",
            "[CV] C=100, gamma=0.0001, kernel=poly ................................\n",
            "[CV] .... C=100, gamma=0.0001, kernel=poly, score=0.225, total=   2.7s\n",
            "[CV] C=100, gamma=0.0001, kernel=poly ................................\n",
            "[CV] .... C=100, gamma=0.0001, kernel=poly, score=0.225, total=   2.6s\n",
            "[CV] C=100, gamma=0.0001, kernel=poly ................................\n",
            "[CV] .... C=100, gamma=0.0001, kernel=poly, score=0.224, total=   2.6s\n",
            "[CV] C=100, gamma=0.0001, kernel=poly ................................\n",
            "[CV] .... C=100, gamma=0.0001, kernel=poly, score=0.224, total=   2.6s\n",
            "[CV] C=1000, gamma=1, kernel=rbf .....................................\n",
            "[CV] ......... C=1000, gamma=1, kernel=rbf, score=0.224, total=   7.5s\n",
            "[CV] C=1000, gamma=1, kernel=rbf .....................................\n",
            "[CV] ......... C=1000, gamma=1, kernel=rbf, score=0.225, total=   7.6s\n",
            "[CV] C=1000, gamma=1, kernel=rbf .....................................\n",
            "[CV] ......... C=1000, gamma=1, kernel=rbf, score=0.225, total=   7.5s\n",
            "[CV] C=1000, gamma=1, kernel=rbf .....................................\n",
            "[CV] ......... C=1000, gamma=1, kernel=rbf, score=0.224, total=   7.5s\n",
            "[CV] C=1000, gamma=1, kernel=rbf .....................................\n",
            "[CV] ......... C=1000, gamma=1, kernel=rbf, score=0.224, total=   7.5s\n",
            "[CV] C=1000, gamma=1, kernel=poly ....................................\n",
            "[CV] ........ C=1000, gamma=1, kernel=poly, score=0.874, total=   1.5s\n",
            "[CV] C=1000, gamma=1, kernel=poly ....................................\n",
            "[CV] ........ C=1000, gamma=1, kernel=poly, score=0.858, total=   1.4s\n",
            "[CV] C=1000, gamma=1, kernel=poly ....................................\n",
            "[CV] ........ C=1000, gamma=1, kernel=poly, score=0.855, total=   1.4s\n",
            "[CV] C=1000, gamma=1, kernel=poly ....................................\n",
            "[CV] ........ C=1000, gamma=1, kernel=poly, score=0.871, total=   1.5s\n",
            "[CV] C=1000, gamma=1, kernel=poly ....................................\n",
            "[CV] ........ C=1000, gamma=1, kernel=poly, score=0.852, total=   1.4s\n",
            "[CV] C=1000, gamma=0.1, kernel=rbf ...................................\n",
            "[CV] ....... C=1000, gamma=0.1, kernel=rbf, score=0.828, total=   6.6s\n",
            "[CV] C=1000, gamma=0.1, kernel=rbf ...................................\n",
            "[CV] ....... C=1000, gamma=0.1, kernel=rbf, score=0.815, total=   6.6s\n",
            "[CV] C=1000, gamma=0.1, kernel=rbf ...................................\n",
            "[CV] ....... C=1000, gamma=0.1, kernel=rbf, score=0.811, total=   6.6s\n",
            "[CV] C=1000, gamma=0.1, kernel=rbf ...................................\n",
            "[CV] ....... C=1000, gamma=0.1, kernel=rbf, score=0.802, total=   6.6s\n",
            "[CV] C=1000, gamma=0.1, kernel=rbf ...................................\n",
            "[CV] ....... C=1000, gamma=0.1, kernel=rbf, score=0.833, total=   6.6s\n",
            "[CV] C=1000, gamma=0.1, kernel=poly ..................................\n",
            "[CV] ...... C=1000, gamma=0.1, kernel=poly, score=0.874, total=   1.5s\n",
            "[CV] C=1000, gamma=0.1, kernel=poly ..................................\n",
            "[CV] ...... C=1000, gamma=0.1, kernel=poly, score=0.858, total=   1.4s\n",
            "[CV] C=1000, gamma=0.1, kernel=poly ..................................\n",
            "[CV] ...... C=1000, gamma=0.1, kernel=poly, score=0.855, total=   1.4s\n",
            "[CV] C=1000, gamma=0.1, kernel=poly ..................................\n",
            "[CV] ...... C=1000, gamma=0.1, kernel=poly, score=0.871, total=   1.5s\n",
            "[CV] C=1000, gamma=0.1, kernel=poly ..................................\n",
            "[CV] ...... C=1000, gamma=0.1, kernel=poly, score=0.852, total=   1.4s\n",
            "[CV] C=1000, gamma=0.01, kernel=rbf ..................................\n",
            "[CV] ...... C=1000, gamma=0.01, kernel=rbf, score=0.894, total=   1.5s\n",
            "[CV] C=1000, gamma=0.01, kernel=rbf ..................................\n",
            "[CV] ...... C=1000, gamma=0.01, kernel=rbf, score=0.868, total=   1.4s\n",
            "[CV] C=1000, gamma=0.01, kernel=rbf ..................................\n",
            "[CV] ...... C=1000, gamma=0.01, kernel=rbf, score=0.872, total=   1.4s\n",
            "[CV] C=1000, gamma=0.01, kernel=rbf ..................................\n",
            "[CV] ...... C=1000, gamma=0.01, kernel=rbf, score=0.901, total=   1.4s\n",
            "[CV] C=1000, gamma=0.01, kernel=rbf ..................................\n",
            "[CV] ...... C=1000, gamma=0.01, kernel=rbf, score=0.876, total=   1.5s\n",
            "[CV] C=1000, gamma=0.01, kernel=poly .................................\n",
            "[CV] ..... C=1000, gamma=0.01, kernel=poly, score=0.874, total=   1.5s\n",
            "[CV] C=1000, gamma=0.01, kernel=poly .................................\n",
            "[CV] ..... C=1000, gamma=0.01, kernel=poly, score=0.858, total=   1.4s\n",
            "[CV] C=1000, gamma=0.01, kernel=poly .................................\n",
            "[CV] ..... C=1000, gamma=0.01, kernel=poly, score=0.855, total=   1.5s\n",
            "[CV] C=1000, gamma=0.01, kernel=poly .................................\n",
            "[CV] ..... C=1000, gamma=0.01, kernel=poly, score=0.871, total=   1.4s\n",
            "[CV] C=1000, gamma=0.01, kernel=poly .................................\n",
            "[CV] ..... C=1000, gamma=0.01, kernel=poly, score=0.852, total=   1.5s\n",
            "[CV] C=1000, gamma=0.001, kernel=rbf .................................\n",
            "[CV] ..... C=1000, gamma=0.001, kernel=rbf, score=0.858, total=   1.6s\n",
            "[CV] C=1000, gamma=0.001, kernel=rbf .................................\n",
            "[CV] ..... C=1000, gamma=0.001, kernel=rbf, score=0.836, total=   1.5s\n",
            "[CV] C=1000, gamma=0.001, kernel=rbf .................................\n",
            "[CV] ..... C=1000, gamma=0.001, kernel=rbf, score=0.851, total=   1.6s\n",
            "[CV] C=1000, gamma=0.001, kernel=rbf .................................\n",
            "[CV] ..... C=1000, gamma=0.001, kernel=rbf, score=0.864, total=   1.6s\n",
            "[CV] C=1000, gamma=0.001, kernel=rbf .................................\n",
            "[CV] ..... C=1000, gamma=0.001, kernel=rbf, score=0.843, total=   1.6s\n",
            "[CV] C=1000, gamma=0.001, kernel=poly ................................\n",
            "[CV] .... C=1000, gamma=0.001, kernel=poly, score=0.664, total=   1.9s\n",
            "[CV] C=1000, gamma=0.001, kernel=poly ................................\n",
            "[CV] .... C=1000, gamma=0.001, kernel=poly, score=0.636, total=   1.8s\n",
            "[CV] C=1000, gamma=0.001, kernel=poly ................................\n",
            "[CV] .... C=1000, gamma=0.001, kernel=poly, score=0.663, total=   1.9s\n",
            "[CV] C=1000, gamma=0.001, kernel=poly ................................\n",
            "[CV] .... C=1000, gamma=0.001, kernel=poly, score=0.682, total=   1.9s\n",
            "[CV] C=1000, gamma=0.001, kernel=poly ................................\n",
            "[CV] .... C=1000, gamma=0.001, kernel=poly, score=0.685, total=   1.9s\n",
            "[CV] C=1000, gamma=0.0001, kernel=rbf ................................\n",
            "[CV] .... C=1000, gamma=0.0001, kernel=rbf, score=0.822, total=   1.5s\n",
            "[CV] C=1000, gamma=0.0001, kernel=rbf ................................\n",
            "[CV] .... C=1000, gamma=0.0001, kernel=rbf, score=0.784, total=   1.4s\n",
            "[CV] C=1000, gamma=0.0001, kernel=rbf ................................\n",
            "[CV] .... C=1000, gamma=0.0001, kernel=rbf, score=0.824, total=   1.4s\n",
            "[CV] C=1000, gamma=0.0001, kernel=rbf ................................\n",
            "[CV] .... C=1000, gamma=0.0001, kernel=rbf, score=0.838, total=   1.5s\n",
            "[CV] C=1000, gamma=0.0001, kernel=rbf ................................\n",
            "[CV] .... C=1000, gamma=0.0001, kernel=rbf, score=0.805, total=   1.5s\n",
            "[CV] C=1000, gamma=0.0001, kernel=poly ...............................\n",
            "[CV] ... C=1000, gamma=0.0001, kernel=poly, score=0.224, total=   2.7s\n",
            "[CV] C=1000, gamma=0.0001, kernel=poly ...............................\n",
            "[CV] ... C=1000, gamma=0.0001, kernel=poly, score=0.225, total=   2.7s\n",
            "[CV] C=1000, gamma=0.0001, kernel=poly ...............................\n",
            "[CV] ... C=1000, gamma=0.0001, kernel=poly, score=0.225, total=   2.7s\n",
            "[CV] C=1000, gamma=0.0001, kernel=poly ...............................\n",
            "[CV] ... C=1000, gamma=0.0001, kernel=poly, score=0.224, total=   2.7s\n",
            "[CV] C=1000, gamma=0.0001, kernel=poly ...............................\n",
            "[CV] ... C=1000, gamma=0.0001, kernel=poly, score=0.224, total=   2.7s\n"
          ],
          "name": "stdout"
        },
        {
          "output_type": "stream",
          "text": [
            "[Parallel(n_jobs=1)]: Done 250 out of 250 | elapsed: 12.4min finished\n"
          ],
          "name": "stderr"
        },
        {
          "output_type": "execute_result",
          "data": {
            "text/plain": [
              "GridSearchCV(cv=StratifiedKFold(n_splits=5, random_state=None, shuffle=False),\n",
              "             error_score=nan,\n",
              "             estimator=SVC(C=1.0, break_ties=False, cache_size=200,\n",
              "                           class_weight=None, coef0=0.0,\n",
              "                           decision_function_shape='ovr', degree=3,\n",
              "                           gamma='scale', kernel='rbf', max_iter=-1,\n",
              "                           probability=False, random_state=None, shrinking=True,\n",
              "                           tol=0.001, verbose=False),\n",
              "             iid='deprecated', n_jobs=None,\n",
              "             param_grid={'C': [0.1, 1, 10, 100, 1000],\n",
              "                         'gamma': [1, 0.1, 0.01, 0.001, 0.0001],\n",
              "                         'kernel': ['rbf', 'poly']},\n",
              "             pre_dispatch='2*n_jobs', refit=True, return_train_score=False,\n",
              "             scoring='accuracy', verbose=3)"
            ]
          },
          "metadata": {
            "tags": []
          },
          "execution_count": 95
        }
      ]
    },
    {
      "cell_type": "code",
      "metadata": {
        "id": "4piQf8huCkCO",
        "colab": {
          "base_uri": "https://localhost:8080/"
        },
        "outputId": "4479f406-fdfd-4e12-ac54-1aaf60a84d52"
      },
      "source": [
        "print(grid.best_params_) \n",
        "print(grid.best_estimator_)"
      ],
      "execution_count": null,
      "outputs": [
        {
          "output_type": "stream",
          "text": [
            "{'C': 10, 'gamma': 0.01, 'kernel': 'rbf'}\n",
            "SVC(C=10, break_ties=False, cache_size=200, class_weight=None, coef0=0.0,\n",
            "    decision_function_shape='ovr', degree=3, gamma=0.01, kernel='rbf',\n",
            "    max_iter=-1, probability=False, random_state=None, shrinking=True,\n",
            "    tol=0.001, verbose=False)\n"
          ],
          "name": "stdout"
        }
      ]
    },
    {
      "cell_type": "code",
      "metadata": {
        "id": "Xrt-eDy0CnbY"
      },
      "source": [
        "y_pred = grid.predict(X_test)"
      ],
      "execution_count": null,
      "outputs": []
    },
    {
      "cell_type": "markdown",
      "metadata": {
        "id": "43fvcSQxqTU4"
      },
      "source": [
        "I inverse-transformed the label-encoding we did earlier."
      ]
    },
    {
      "cell_type": "code",
      "metadata": {
        "id": "ixFbRoeR6V2H"
      },
      "source": [
        "y_pred = labelencoder.inverse_transform(y_pred)"
      ],
      "execution_count": null,
      "outputs": []
    },
    {
      "cell_type": "markdown",
      "metadata": {
        "id": "O3vVZ6-lrHH_"
      },
      "source": [
        "Saved the output in CSV file in GDrive"
      ]
    },
    {
      "cell_type": "code",
      "metadata": {
        "id": "KDo5q8XZRAJ9"
      },
      "source": [
        "output = pd.DataFrame(data={\"Id\": df_test[\"Id\"], \"Kingdom\": y_pred})\n",
        "output.to_csv(path_or_buf=\"/content/gdrive/My Drive/Codon-Hackathon-result.csv\", index=False)"
      ],
      "execution_count": null,
      "outputs": []
    },
    {
      "cell_type": "markdown",
      "metadata": {
        "id": "LofzUxrGsAt3"
      },
      "source": [
        "Below I have the models which helped me to increase the accuracy even more."
      ]
    },
    {
      "cell_type": "markdown",
      "metadata": {
        "id": "Pkd5q3UZsZ53"
      },
      "source": [
        "Here I utilised the ensemble method of Stacking. \\\n",
        "I stacked a KNN, SVM, NuSVM and a Logistic Regression Model (as combiner)  here. \\\n",
        "It performed pretty good"
      ]
    },
    {
      "cell_type": "code",
      "metadata": {
        "id": "3DoIWHXGpHX3"
      },
      "source": [
        "from sklearn.ensemble import StackingClassifier\n",
        "from sklearn.linear_model import LogisticRegression\n",
        "from sklearn.neighbors import KNeighborsClassifier\n",
        "from sklearn.tree import DecisionTreeClassifier\n",
        "from sklearn.svm import SVC, NuSVC\n",
        "from sklearn.naive_bayes import GaussianNB\n",
        "from sklearn.model_selection import StratifiedKFold\n",
        "\n",
        "level0 = list()\n",
        "level0.append(('knn', KNeighborsClassifier()))\n",
        "level0.append(('svm', SVC(kernel = 'rbf', C=10, gamma=0.01)))\n",
        "level0.append(('NuSvm',NuSVC(kernel = \"rbf\", nu = 0.007)))\n",
        "# define meta learner model\n",
        "level1 = LogisticRegression(max_iter=10000)\n",
        "# define the stacking ensemble\n",
        "classifier = StackingClassifier(estimators=level0, final_estimator=level1, cv=StratifiedKFold(n_splits=5))\n",
        "classifier.fit(X_train, y_train.ravel())\n",
        "y_val_pred = classifier.predict(X_val)"
      ],
      "execution_count": null,
      "outputs": []
    },
    {
      "cell_type": "markdown",
      "metadata": {
        "id": "njyb6XR0ttkn"
      },
      "source": [
        "Later, I tried a Multi-Layer Perceptron Classifier as One-VS-Rest Classifier. \\\n",
        "It performed even better."
      ]
    },
    {
      "cell_type": "code",
      "metadata": {
        "id": "IXxu5CmdcNq8"
      },
      "source": [
        "from sklearn.neural_network import MLPClassifier\n",
        "from sklearn.multiclass import OneVsRestClassifier\n",
        "dnns_classifier = OneVsRestClassifier(MLPClassifier(hidden_layer_sizes = [500]*5, random_state = 42))\n",
        "dnns_classifier.fit(X_train, y_train)\n",
        "y_val_pred = dnns_classifier.predict(X_val)"
      ],
      "execution_count": null,
      "outputs": []
    },
    {
      "cell_type": "markdown",
      "metadata": {
        "id": "-MNAaYPdu_ot"
      },
      "source": [
        "Here is my final stacked Classification Model where I stacked\n",
        "* KNN\n",
        "* SVM\n",
        "* NuSVM\n",
        "* Multi-Layer Perceptron\n",
        "* Multi-Layer Perceptron as One-Vs-Rest\n",
        "\n",
        "As the combiner, I used SVM and cross-validated and tuned the hyperparameters for the same.\n"
      ]
    },
    {
      "cell_type": "code",
      "metadata": {
        "id": "x6QiMhnJL8zz"
      },
      "source": [
        "from mlxtend.classifier import StackingCVClassifier\n",
        "from sklearn.svm import NuSVC, SVC\n",
        "from sklearn.neural_network import MLPClassifier\n",
        "from sklearn.neighbors import KNeighborsClassifier\n",
        "from sklearn.multiclass import OneVsRestClassifier\n",
        "\n",
        "classifier1 = KNeighborsClassifier()\n",
        "classifier2 = SVC(kernel = 'rbf', C=10, gamma=0.01, probability = True)\n",
        "classifier3 = NuSVC(kernel = \"rbf\", nu = 0.007, probability = True)\n",
        "classifier4 = MLPClassifier(alpha = 0.1, hidden_layer_sizes = (300,300,300,300,300), max_iter = 2000, random_state = 42)\n",
        "classifier5 = OneVsRestClassifier(MLPClassifier(hidden_layer_sizes = [250]*5, random_state = 42))\n",
        "sclf = StackingCVClassifier(classifiers = [classifier1, classifier2, classifier3, classifier4, classifier5],\n",
        "                            shuffle = False,\n",
        "                            use_probas = True,\n",
        "                            cv = 5,\n",
        "                            meta_classifier = SVC(probability = True))\n",
        "\n",
        "params = {\"meta_classifier__kernel\": [\"linear\", \"rbf\", \"poly\"],\n",
        "          \"meta_classifier__C\": [1, 2]}\n",
        "\n",
        "grid = GridSearchCV(estimator = sclf, \n",
        "                    param_grid = params, \n",
        "                    cv = 5,\n",
        "                    scoring = \"accuracy\",\n",
        "                    verbose = 3,\n",
        "                    n_jobs = 5)\n",
        "\n",
        "grid.fit(X_train_full, y_train_full)\n",
        "y_pred = grid.predict(X_test)"
      ],
      "execution_count": null,
      "outputs": []
    },
    {
      "cell_type": "code",
      "metadata": {
        "id": "yjG7LXLcR5BB"
      },
      "source": [
        "y_pred = labelencoder.inverse_transform(y_pred)"
      ],
      "execution_count": null,
      "outputs": []
    },
    {
      "cell_type": "code",
      "metadata": {
        "id": "ZmriE_ZsxSTc"
      },
      "source": [
        "output = pd.DataFrame(data={\"Id\": df_test[\"Id\"], \"Kingdom\": y_pred})\n",
        "output.to_csv(path_or_buf=\"/content/gdrive/My Drive/Codon-Hackathon-result.csv\", index=False)"
      ],
      "execution_count": null,
      "outputs": []
    }
  ]
}