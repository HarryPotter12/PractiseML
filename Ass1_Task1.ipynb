{
  "nbformat": 4,
  "nbformat_minor": 0,
  "metadata": {
    "colab": {
      "name": "Ass1 - Task1.ipynb",
      "provenance": [],
      "collapsed_sections": [],
      "machine_shape": "hm",
      "include_colab_link": true
    },
    "kernelspec": {
      "name": "python3",
      "display_name": "Python 3"
    },
    "accelerator": "GPU"
  },
  "cells": [
    {
      "cell_type": "markdown",
      "metadata": {
        "id": "view-in-github",
        "colab_type": "text"
      },
      "source": [
        "<a href=\"https://colab.research.google.com/github/HarryPotter12/PractiseML/blob/master/Ass1_Task1.ipynb\" target=\"_parent\"><img src=\"https://colab.research.google.com/assets/colab-badge.svg\" alt=\"Open In Colab\"/></a>"
      ]
    },
    {
      "cell_type": "code",
      "metadata": {
        "id": "cqm6POVL4c7z",
        "colab_type": "code",
        "outputId": "97b3e2b4-b784-4f02-fdd0-136a0a96b2d3",
        "colab": {
          "base_uri": "https://localhost:8080/",
          "height": 122
        }
      },
      "source": [
        "from google.colab import drive\n",
        "drive.mount('/content/gdrive')"
      ],
      "execution_count": 0,
      "outputs": [
        {
          "output_type": "stream",
          "text": [
            "Go to this URL in a browser: https://accounts.google.com/o/oauth2/auth?client_id=947318989803-6bn6qk8qdgf4n4g3pfee6491hc0brc4i.apps.googleusercontent.com&redirect_uri=urn%3Aietf%3Awg%3Aoauth%3A2.0%3Aoob&scope=email%20https%3A%2F%2Fwww.googleapis.com%2Fauth%2Fdocs.test%20https%3A%2F%2Fwww.googleapis.com%2Fauth%2Fdrive%20https%3A%2F%2Fwww.googleapis.com%2Fauth%2Fdrive.photos.readonly%20https%3A%2F%2Fwww.googleapis.com%2Fauth%2Fpeopleapi.readonly&response_type=code\n",
            "\n",
            "Enter your authorization code:\n",
            "··········\n",
            "Mounted at /content/gdrive\n"
          ],
          "name": "stdout"
        }
      ]
    },
    {
      "cell_type": "code",
      "metadata": {
        "id": "JE2G5Aa336f-",
        "colab_type": "code",
        "colab": {}
      },
      "source": [
        "import io\n",
        "import numpy as np\n",
        "from numpy import diag\n",
        "from numpy import zeros\n",
        "from numpy import linalg as LA\n",
        "import matplotlib.pyplot as plt\n",
        "import pandas as pd\n",
        "import matplotlib\n",
        "from scipy.linalg import svd\n",
        "from sklearn.utils.extmath import randomized_svd\n",
        "from sklearn.metrics.pairwise import cosine_similarity"
      ],
      "execution_count": 0,
      "outputs": []
    },
    {
      "cell_type": "code",
      "metadata": {
        "id": "6XaXaA8M8mfW",
        "colab_type": "code",
        "colab": {}
      },
      "source": [
        "A_orig = pd.read_csv('/content/gdrive/My Drive/Datasets/dense_matrix_10000.csv',sep=' ',header=None)"
      ],
      "execution_count": 0,
      "outputs": []
    },
    {
      "cell_type": "code",
      "metadata": {
        "colab_type": "code",
        "id": "8Xosgjaejho9",
        "colab": {}
      },
      "source": [
        "A_orig_min = A_orig.values.min()\n",
        "A_orig_max = A_orig.values.max()"
      ],
      "execution_count": 0,
      "outputs": []
    },
    {
      "cell_type": "code",
      "metadata": {
        "id": "s7E7A7hAKtcv",
        "colab_type": "code",
        "colab": {}
      },
      "source": [
        "A_orig_numpy = A_orig.to_numpy()"
      ],
      "execution_count": 0,
      "outputs": []
    },
    {
      "cell_type": "code",
      "metadata": {
        "id": "wtoY3OigjjD8",
        "colab_type": "code",
        "outputId": "6f073619-a1bd-482a-afaa-deed4850527d",
        "colab": {
          "base_uri": "https://localhost:8080/",
          "height": 493
        }
      },
      "source": [
        "unique, unique_counts = np.unique(A_orig_numpy, return_counts=True)\n",
        "print(\"Values\\tCounts\")\n",
        "for i in range(len(unique)):\n",
        "  print(unique[i], \"\\t\", unique_counts[i], end=\"\\n\")"
      ],
      "execution_count": 0,
      "outputs": [
        {
          "output_type": "stream",
          "text": [
            "Values\tCounts\n",
            "0 \t 99430892\n",
            "1 \t 428762\n",
            "2 \t 83545\n",
            "3 \t 28864\n",
            "4 \t 13101\n",
            "5 \t 6507\n",
            "6 \t 3453\n",
            "7 \t 1921\n",
            "8 \t 1091\n",
            "9 \t 656\n",
            "10 \t 427\n",
            "11 \t 258\n",
            "12 \t 146\n",
            "13 \t 107\n",
            "14 \t 92\n",
            "15 \t 54\n",
            "16 \t 34\n",
            "17 \t 34\n",
            "18 \t 17\n",
            "19 \t 8\n",
            "20 \t 10\n",
            "21 \t 3\n",
            "22 \t 4\n",
            "23 \t 4\n",
            "24 \t 7\n",
            "27 \t 2\n",
            "28 \t 1\n"
          ],
          "name": "stdout"
        }
      ]
    },
    {
      "cell_type": "code",
      "metadata": {
        "id": "poEVpZiQUnzj",
        "colab_type": "code",
        "outputId": "b1698b79-a86d-41a7-e9bb-d15076c6fa45",
        "colab": {
          "base_uri": "https://localhost:8080/",
          "height": 34
        }
      },
      "source": [
        "b1 = 0\n",
        "b2 = 0\n",
        "b3 = 0\n",
        "for i in range(A_orig.shape[0]):\n",
        "  for j in range(A_orig.shape[1]):\n",
        "    if A_orig[i][j] < 1:\n",
        "      b1 = b1 + 1\n",
        "    elif A_orig[i][j] < 3 and A_orig[i][j] >= 1:\n",
        "      b2 = b2 + 1\n",
        "    else:\n",
        "      b3 = b3 + 1\n",
        "print(b1, \"\\t\", b2, \"\\t\", b3, end=\"\\n\")"
      ],
      "execution_count": 0,
      "outputs": [
        {
          "output_type": "stream",
          "text": [
            "99430892 \t 512307 \t 56801\n"
          ],
          "name": "stdout"
        }
      ]
    },
    {
      "cell_type": "code",
      "metadata": {
        "id": "Ii5Cd3MbI33y",
        "colab_type": "code",
        "colab": {}
      },
      "source": [
        "colors = [(1, 1, 1), (1, 0, 0), (0, 0, 1)]  # White -> Red -> Blue\n",
        "no_of_segments = 3\n",
        "cm = matplotlib.colors.LinearSegmentedColormap.from_list('my_cmap', colors, N=no_of_segments)\n",
        "segments = [A_orig_min, 1, 3, A_orig_max]\n",
        "my_norm = matplotlib.colors.BoundaryNorm(segments, len(segments))"
      ],
      "execution_count": 0,
      "outputs": []
    },
    {
      "cell_type": "code",
      "metadata": {
        "id": "JMZeBgOj60xj",
        "colab_type": "code",
        "outputId": "21b37649-fa2e-43d9-fd08-c654d23ee2a8",
        "colab": {
          "base_uri": "https://localhost:8080/",
          "height": 324
        }
      },
      "source": [
        "plt.rcParams[\"figure.figsize\"] = (100, 100)\n",
        "plt.pcolormesh(A_orig, cmap=cm, norm=my_norm)\n",
        "plt.gca().invert_yaxis()"
      ],
      "execution_count": 0,
      "outputs": [
        {
          "output_type": "display_data",
          "data": {
            "image/png": "[encoded data removed]",
            "text/plain": [
              "<Figure size 360x360 with 1 Axes>"
            ]
          },
          "metadata": {
            "tags": []
          }
        }
      ]
    },
    {
      "cell_type": "code",
      "metadata": {
        "id": "atQiC-N762xa",
        "colab_type": "code",
        "outputId": "ede107b1-1315-41b3-a0a6-d88f1bc403f9",
        "colab": {
          "base_uri": "https://localhost:8080/",
          "height": 68
        }
      },
      "source": [
        "print(\"Max : \", A_orig_max)\n",
        "print(\"Min : \", A_orig_min)\n",
        "print(\"Segments : \", segments)"
      ],
      "execution_count": 0,
      "outputs": [
        {
          "output_type": "stream",
          "text": [
            "Max :  28\n",
            "Min :  0\n",
            "Segments :  [0, 1, 3, 28]\n"
          ],
          "name": "stdout"
        }
      ]
    },
    {
      "cell_type": "code",
      "metadata": {
        "id": "tunOSiFy9skm",
        "colab_type": "code",
        "colab": {}
      },
      "source": [
        "U_orig, s_gen_orig, VT_orig = svd(A_orig)"
      ],
      "execution_count": 0,
      "outputs": []
    },
    {
      "cell_type": "code",
      "metadata": {
        "id": "-EcYbFSnVskZ",
        "colab_type": "code",
        "outputId": "eda18782-64e7-4f0d-806d-5fbe740ab8a9",
        "colab": {
          "base_uri": "https://localhost:8080/",
          "height": 544
        }
      },
      "source": [
        "print(\"U : \", U_orig.shape, \"\\n\", U_orig)\n",
        "print(\"s : \", s_gen_orig.shape, \"\\n\", s_gen_orig)\n",
        "print(\"VT : \", VT_orig.shape, \"\\n\", VT_orig)"
      ],
      "execution_count": 0,
      "outputs": [
        {
          "output_type": "stream",
          "text": [
            "U :  (10000, 10000) \n",
            " [[-9.83287913e-03 -1.53926442e-02 -1.13622300e-02 ... -2.02456570e-02\n",
            "   2.22968935e-02  5.68115442e-03]\n",
            " [-9.56494279e-03 -1.26570096e-02 -5.11677096e-03 ... -5.45178304e-03\n",
            "  -2.02109312e-03 -3.39726981e-03]\n",
            " [-1.12998504e-02  1.81762801e-03 -8.58777259e-03 ... -5.95659605e-04\n",
            "  -1.92242652e-03  1.71664945e-03]\n",
            " ...\n",
            " [-1.40309070e-02  2.51897631e-02 -9.80231462e-04 ...  9.28539983e-03\n",
            "  -1.42612983e-02  4.37993618e-03]\n",
            " [-1.20792160e-02  3.66031388e-03 -6.71756149e-03 ...  2.52619106e-17\n",
            "   1.66533454e-16 -3.87731026e-16]\n",
            " [-8.25825917e-03  2.15769499e-02 -6.21508605e-03 ... -2.87714676e-02\n",
            "  -1.29393869e-02 -3.84245612e-03]]\n",
            "s :  (10000,) \n",
            " [4.09737717e+02 1.69300830e+02 1.59701308e+02 ... 3.28564633e-14\n",
            " 3.28564633e-14 8.58847331e-15]\n",
            "VT :  (10000, 10000) \n",
            " [[-1.69357549e-04 -1.12208325e-04 -2.35196153e-04 ... -1.72081604e-04\n",
            "  -4.78795557e-05 -5.21165477e-05]\n",
            " [-5.49060339e-06  5.19315202e-05  2.29581019e-04 ...  3.92413799e-04\n",
            "  -3.57672245e-05 -2.26101668e-06]\n",
            " [ 2.38748954e-04  2.92222571e-04  9.10755365e-05 ...  1.46756154e-04\n",
            "  -9.82093630e-05 -1.00439359e-04]\n",
            " ...\n",
            " [ 0.00000000e+00 -7.59731048e-18  2.59640699e-19 ...  2.92948199e-12\n",
            "   2.98423286e-19  7.85061727e-18]\n",
            " [ 0.00000000e+00  1.25751865e-18  9.94550571e-20 ... -1.51019773e-17\n",
            "   2.83976120e-19 -1.19036472e-18]\n",
            " [ 0.00000000e+00  1.80061157e-15 -1.47813672e-15 ...  2.40800657e-03\n",
            "  -3.39440661e-15  2.75114268e-15]]\n"
          ],
          "name": "stdout"
        }
      ]
    },
    {
      "cell_type": "code",
      "metadata": {
        "id": "I8ryrTZ0VHkd",
        "colab_type": "code",
        "outputId": "fb9363bb-dbb9-481e-f25c-8730d6b7281b",
        "colab": {
          "base_uri": "https://localhost:8080/",
          "height": 493
        }
      },
      "source": [
        "Sigma_orig = zeros((A_orig.shape[0], A_orig.shape[1]))\n",
        "# populate Sigma with diagonal matrix\n",
        "Sigma_orig[:A_orig.shape[1], :A_orig.shape[1]] = diag(s_gen_orig)\n",
        "# reconstruct matrix\n",
        "A_recon = U_orig.dot(Sigma_orig.dot(VT_orig))\n",
        "print(A_recon)\n",
        "print(Sigma_orig.shape)\n",
        "print(Sigma_orig)\n",
        "print(A_recon.shape)"
      ],
      "execution_count": 0,
      "outputs": [
        {
          "output_type": "stream",
          "text": [
            "[[-1.20170258e-16  1.45639218e-14 -1.20168501e-15 ... -5.30290567e-16\n",
            "  -1.43331527e-16  1.71568218e-16]\n",
            " [ 2.00116616e-16 -6.99527885e-14  2.33656012e-13 ...  5.90441913e-16\n",
            "  -1.63382491e-16  4.85790336e-17]\n",
            " [-7.38045218e-17  8.05178508e-16 -4.17914960e-15 ... -8.09060017e-16\n",
            "   1.35352477e-16 -1.94104376e-16]\n",
            " ...\n",
            " [-2.03708036e-16 -1.15564517e-15 -1.90643992e-15 ...  9.91024497e-16\n",
            "  -3.53449908e-17 -3.13412355e-16]\n",
            " [ 3.12937169e-16 -1.05400841e-15 -1.39494637e-15 ... -4.83092218e-16\n",
            "  -6.30980253e-17  2.51190585e-16]\n",
            " [ 1.27908751e-16 -5.41640300e-16 -9.07868548e-16 ...  5.74431472e-16\n",
            "  -1.72740511e-16 -8.33615945e-17]]\n",
            "(10000, 10000)\n",
            "[[4.09737717e+02 0.00000000e+00 0.00000000e+00 ... 0.00000000e+00\n",
            "  0.00000000e+00 0.00000000e+00]\n",
            " [0.00000000e+00 1.69300830e+02 0.00000000e+00 ... 0.00000000e+00\n",
            "  0.00000000e+00 0.00000000e+00]\n",
            " [0.00000000e+00 0.00000000e+00 1.59701308e+02 ... 0.00000000e+00\n",
            "  0.00000000e+00 0.00000000e+00]\n",
            " ...\n",
            " [0.00000000e+00 0.00000000e+00 0.00000000e+00 ... 3.28564633e-14\n",
            "  0.00000000e+00 0.00000000e+00]\n",
            " [0.00000000e+00 0.00000000e+00 0.00000000e+00 ... 0.00000000e+00\n",
            "  3.28564633e-14 0.00000000e+00]\n",
            " [0.00000000e+00 0.00000000e+00 0.00000000e+00 ... 0.00000000e+00\n",
            "  0.00000000e+00 8.58847331e-15]]\n",
            "(10000, 10000)\n"
          ],
          "name": "stdout"
        }
      ]
    },
    {
      "cell_type": "code",
      "metadata": {
        "id": "j3VakAOlRZHS",
        "colab_type": "code",
        "outputId": "79ece45a-bff5-4be4-ff1a-a2f6bf5343af",
        "colab": {
          "base_uri": "https://localhost:8080/",
          "height": 204
        }
      },
      "source": [
        "k=1\n",
        "U_1, s_gen_1, VT_1 = randomized_svd(A_orig_numpy, n_components=k, n_iter=5, random_state=None)\n",
        "Sigma_1 = zeros((k, k))\n",
        "# populate Sigma with diagonal matrix\n",
        "Sigma_1[:k, :k] = diag(s_gen_1)\n",
        "# reconstruct matrix\n",
        "A_1 = U_1.dot(Sigma_1.dot(VT_1))\n",
        "print(A_1)\n",
        "print(U_1.shape)\n",
        "print(Sigma_1.shape)\n",
        "print(VT_1.shape)\n",
        "print(A_1.shape)"
      ],
      "execution_count": 0,
      "outputs": [
        {
          "output_type": "stream",
          "text": [
            "[[0.00068232 0.00045208 0.00094758 ... 0.0006933  0.0001929  0.00020997]\n",
            " [0.00066373 0.00043976 0.00092176 ... 0.00067441 0.00018765 0.00020425]\n",
            " [0.00078412 0.00051952 0.00108895 ... 0.00079673 0.00022168 0.0002413 ]\n",
            " ...\n",
            " [0.00097364 0.00064509 0.00135214 ... 0.0009893  0.00027526 0.00029962]\n",
            " [0.0008382  0.00055535 0.00116406 ... 0.00085169 0.00023697 0.00025794]\n",
            " [0.00057306 0.00037968 0.00079584 ... 0.00058228 0.00016201 0.00017635]]\n",
            "(10000, 1)\n",
            "(1, 1)\n",
            "(1, 10000)\n",
            "(10000, 10000)\n"
          ],
          "name": "stdout"
        }
      ]
    },
    {
      "cell_type": "code",
      "metadata": {
        "id": "2jWhJy_-R7L4",
        "colab_type": "code",
        "outputId": "a6eb9360-1f68-49be-c3b1-2e0c7aa85a0f",
        "colab": {
          "base_uri": "https://localhost:8080/",
          "height": 306
        }
      },
      "source": [
        "k=2\n",
        "U_2, s_gen_2, VT_2 = randomized_svd(A_orig_numpy, n_components=k, n_iter=5, random_state=None)\n",
        "Sigma_2 = zeros((k, k))\n",
        "# populate Sigma with diagonal matrix\n",
        "Sigma_2[:k, :k] = diag(s_gen_2)\n",
        "# reconstruct matrix\n",
        "A_2 = U_2.dot(Sigma_2.dot(VT_2))\n",
        "print(A_2)\n",
        "print(U_2.shape)\n",
        "print(Sigma_2.shape)\n",
        "print(VT_2.shape)\n",
        "print(A_2.shape)"
      ],
      "execution_count": 0,
      "outputs": [
        {
          "output_type": "stream",
          "text": [
            "[[ 6.91730550e-04  3.15053576e-04  3.46731591e-04 ... -3.29666530e-04\n",
            "   2.85188663e-04  2.16058018e-04]\n",
            " [ 6.71517717e-04  3.26337811e-04  4.24410526e-04 ... -1.72347035e-04\n",
            "   2.64035429e-04  2.09288211e-04]\n",
            " [ 7.83038856e-04  5.35294260e-04  1.15811541e-03 ...  9.14485533e-04\n",
            "   2.11058276e-04  2.40597919e-04]\n",
            " ...\n",
            " [ 9.58258844e-04  8.69094830e-04  2.33443498e-03 ...  2.66168133e-03\n",
            "   1.24385454e-04  2.89668821e-04]\n",
            " [ 8.35893360e-04  5.89007627e-04  1.31163200e-03 ...  1.10293285e-03\n",
            "   2.14304667e-04  2.56446441e-04]\n",
            " [ 5.59776541e-04  5.73185893e-04  1.64436240e-03 ...  2.02691400e-03\n",
            "   3.16836036e-05  1.67753969e-04]]\n",
            "(10000, 2)\n",
            "(2, 2)\n",
            "(2, 10000)\n",
            "(10000, 10000)\n"
          ],
          "name": "stdout"
        }
      ]
    },
    {
      "cell_type": "code",
      "metadata": {
        "id": "fZl0nMN1R7-J",
        "colab_type": "code",
        "outputId": "a1ea956d-e84b-4a67-b79a-7994e88ad454",
        "colab": {
          "base_uri": "https://localhost:8080/",
          "height": 306
        }
      },
      "source": [
        "k=5\n",
        "U_5, s_gen_5, VT_5 = randomized_svd(A_orig_numpy, n_components=k, n_iter=5, random_state=None)\n",
        "Sigma_5 = zeros((k, k))\n",
        "# populate Sigma with diagonal matrix\n",
        "Sigma_5[:k, :k] = diag(s_gen_5)\n",
        "# reconstruct matrix\n",
        "A_5 = U_5.dot(Sigma_5.dot(VT_5))\n",
        "print(A_5)\n",
        "print(U_5.shape)\n",
        "print(Sigma_5.shape)\n",
        "print(VT_5.shape)\n",
        "print(A_5.shape)"
      ],
      "execution_count": 0,
      "outputs": [
        {
          "output_type": "stream",
          "text": [
            "[[-4.42970008e-04 -9.99544773e-04 -4.94879050e-04 ... -4.00289635e-04\n",
            "   3.60481198e-04  3.25992215e-04]\n",
            " [-4.57298968e-05 -5.56209966e-04 -2.86784274e-04 ... -4.16644856e-04\n",
            "   2.51260800e-04  2.72254922e-04]\n",
            " [ 4.26711655e-04  1.22912517e-04  1.05822821e-03 ...  8.23033781e-04\n",
            "   3.48133551e-04  3.63779726e-04]\n",
            " ...\n",
            " [-5.25933366e-05 -2.51499274e-04  1.37164409e-03 ...  2.89567982e-03\n",
            "  -9.50406188e-06  2.04267055e-04]\n",
            " [ 2.91662158e-04 -1.72800732e-04  6.35716411e-04 ...  4.50908597e-04\n",
            "   2.36946234e-04  3.99496339e-04]\n",
            " [ 7.87955419e-05 -3.42959325e-05  1.19650617e-03 ...  1.71740905e-03\n",
            "   7.63410758e-05  2.66790499e-04]]\n",
            "(10000, 5)\n",
            "(5, 5)\n",
            "(5, 10000)\n",
            "(10000, 10000)\n"
          ],
          "name": "stdout"
        }
      ]
    },
    {
      "cell_type": "code",
      "metadata": {
        "id": "KM5kZdEZR8eK",
        "colab_type": "code",
        "outputId": "9fdf9cfe-f362-4826-b30c-dde5e5efa7e6",
        "colab": {
          "base_uri": "https://localhost:8080/",
          "height": 306
        }
      },
      "source": [
        "k=10\n",
        "U_10, s_gen_10, VT_10 = randomized_svd(A_orig_numpy, n_components=k, n_iter=5, random_state=None)\n",
        "Sigma_10 = zeros((k, k))\n",
        "# populate Sigma with diagonal matrix\n",
        "Sigma_10[:k, :k] = diag(s_gen_10)\n",
        "# reconstruct matrix\n",
        "A_10 = U_10.dot(Sigma_10.dot(VT_10))\n",
        "print(A_10)\n",
        "print(U_10.shape)\n",
        "print(Sigma_10.shape)\n",
        "print(VT_10.shape)\n",
        "print(A_10.shape)"
      ],
      "execution_count": 0,
      "outputs": [
        {
          "output_type": "stream",
          "text": [
            "[[-2.98559632e-04 -1.13793078e-03 -3.71655419e-04 ... -1.82792326e-03\n",
            "   1.04712254e-03  1.02499216e-03]\n",
            " [ 8.86383852e-04  3.23922652e-04  6.11890494e-04 ...  5.24480226e-04\n",
            "  -6.40690734e-05  9.98516905e-05]\n",
            " [ 8.00443497e-04  6.48649218e-04  1.04983275e-03 ...  1.15786181e-03\n",
            "   3.26303856e-04  3.98169869e-04]\n",
            " ...\n",
            " [-9.13090727e-04 -3.93686981e-04  7.17346290e-04 ...  2.40542217e-03\n",
            "   3.79613580e-04  5.07495481e-04]\n",
            " [ 6.66821852e-05  3.75492999e-04 -6.88846931e-04 ... -1.58127959e-03\n",
            "   3.94645681e-04  2.44009621e-04]\n",
            " [-3.22728454e-04  4.77370510e-04  1.09644042e-03 ...  1.32814808e-03\n",
            "  -5.13747423e-04 -5.53794868e-04]]\n",
            "(10000, 10)\n",
            "(10, 10)\n",
            "(10, 10000)\n",
            "(10000, 10000)\n"
          ],
          "name": "stdout"
        }
      ]
    },
    {
      "cell_type": "code",
      "metadata": {
        "id": "Bdx0I5irc_mU",
        "colab_type": "code",
        "outputId": "8cd963df-6dcc-4188-c7ca-db351ca8fe3c",
        "colab": {
          "base_uri": "https://localhost:8080/",
          "height": 324
        }
      },
      "source": [
        "plt.rcParams[\"figure.figsize\"] = (100, 100)\n",
        "plt.pcolormesh(A_1, cmap=cm, norm=my_norm)\n",
        "plt.gca().invert_yaxis()"
      ],
      "execution_count": 0,
      "outputs": [
        {
          "output_type": "display_data",
          "data": {
            "image/png": "[encoded data removed]",
            "text/plain": [
              "<Figure size 360x360 with 1 Axes>"
            ]
          },
          "metadata": {
            "tags": []
          }
        }
      ]
    },
    {
      "cell_type": "code",
      "metadata": {
        "id": "a1mrDSprR9Vw",
        "colab_type": "code",
        "outputId": "73df1d5e-629f-42c0-f95f-9d89b0c6ae98",
        "colab": {
          "base_uri": "https://localhost:8080/",
          "height": 34
        }
      },
      "source": [
        "b1 = 0\n",
        "b2 = 0\n",
        "b3 = 0\n",
        "for i in range(A_1.shape[0]):\n",
        "  for j in range(A_1.shape[1]):\n",
        "    if A_1[i][j] < 1:\n",
        "      b1 = b1 + 1\n",
        "    elif A_1[i][j] < 3 and A_1[i][j] >= 1:\n",
        "      b2 = b2 + 1\n",
        "    else:\n",
        "      b3 = b3 + 1\n",
        "print(b1, \"\\t\", b2, \"\\t\", b3, end=\"\\n\")"
      ],
      "execution_count": 0,
      "outputs": [
        {
          "output_type": "stream",
          "text": [
            "99977327 \t 22299 \t 374\n"
          ],
          "name": "stdout"
        }
      ]
    },
    {
      "cell_type": "code",
      "metadata": {
        "id": "vA43IyvqTIoZ",
        "colab_type": "code",
        "outputId": "79ec9e94-3b3a-4501-b7b0-e42211c5aa0c",
        "colab": {
          "base_uri": "https://localhost:8080/",
          "height": 324
        }
      },
      "source": [
        "plt.rcParams[\"figure.figsize\"] = (100, 100)\n",
        "plt.pcolormesh(A_2, cmap=cm, norm=my_norm)\n",
        "plt.gca().invert_yaxis()"
      ],
      "execution_count": 0,
      "outputs": [
        {
          "output_type": "display_data",
          "data": {
            "image/png": "[encoded data removed]",
            "text/plain": [
              "<Figure size 360x360 with 1 Axes>"
            ]
          },
          "metadata": {
            "tags": []
          }
        }
      ]
    },
    {
      "cell_type": "code",
      "metadata": {
        "id": "ZPALfASBZTzO",
        "colab_type": "code",
        "outputId": "10360276-04d2-4bd8-8ce8-715065360261",
        "colab": {
          "base_uri": "https://localhost:8080/",
          "height": 34
        }
      },
      "source": [
        "b1 = 0\n",
        "b2 = 0\n",
        "b3 = 0\n",
        "for i in range(A_2.shape[0]):\n",
        "  for j in range(A_2.shape[1]):\n",
        "    if A_2[i][j] < 1:\n",
        "      b1 = b1 + 1\n",
        "    elif A_2[i][j] < 3 and A_2[i][j] >= 1:\n",
        "      b2 = b2 + 1\n",
        "    else:\n",
        "      b3 = b3 + 1\n",
        "print(b1, \"\\t\", b2, \"\\t\", b3, end=\"\\n\")"
      ],
      "execution_count": 0,
      "outputs": [
        {
          "output_type": "stream",
          "text": [
            "99971724 \t 27476 \t 800\n"
          ],
          "name": "stdout"
        }
      ]
    },
    {
      "cell_type": "code",
      "metadata": {
        "id": "rNyo6UeJTKmh",
        "colab_type": "code",
        "outputId": "f4dd3a49-5e17-4424-df5f-a6978db3595a",
        "colab": {
          "base_uri": "https://localhost:8080/",
          "height": 324
        }
      },
      "source": [
        "plt.rcParams[\"figure.figsize\"] = (100, 100)\n",
        "plt.pcolormesh(A_5, cmap=cm, norm=my_norm)\n",
        "plt.gca().invert_yaxis()"
      ],
      "execution_count": 0,
      "outputs": [
        {
          "output_type": "display_data",
          "data": {
            "image/png": "[encoded data removed]",
            "text/plain": [
              "<Figure size 360x360 with 1 Axes>"
            ]
          },
          "metadata": {
            "tags": []
          }
        }
      ]
    },
    {
      "cell_type": "code",
      "metadata": {
        "id": "cmjIeabfZd9a",
        "colab_type": "code",
        "outputId": "5b0cba38-19e9-415a-caa6-0ea37c7a17e6",
        "colab": {
          "base_uri": "https://localhost:8080/",
          "height": 34
        }
      },
      "source": [
        "b1 = 0\n",
        "b2 = 0\n",
        "b3 = 0\n",
        "for i in range(A_5.shape[0]):\n",
        "  for j in range(A_5.shape[1]):\n",
        "    if A_5[i][j] < 1:\n",
        "      b1 = b1 + 1\n",
        "    elif A_5[i][j] < 3 and A_5[i][j] >= 1:\n",
        "      b2 = b2 + 1\n",
        "    else:\n",
        "      b3 = b3 + 1\n",
        "print(b1, \"\\t\", b2, \"\\t\", b3, end=\"\\n\")"
      ],
      "execution_count": 0,
      "outputs": [
        {
          "output_type": "stream",
          "text": [
            "99963214 \t 34307 \t 2479\n"
          ],
          "name": "stdout"
        }
      ]
    },
    {
      "cell_type": "code",
      "metadata": {
        "id": "XcwG6COWTMTK",
        "colab_type": "code",
        "outputId": "053b184d-1a7d-41c9-d11b-23775e3842d0",
        "colab": {
          "base_uri": "https://localhost:8080/",
          "height": 324
        }
      },
      "source": [
        "plt.rcParams[\"figure.figsize\"] = (100, 100)\n",
        "plt.pcolormesh(A_10, cmap=cm, norm=my_norm)\n",
        "plt.gca().invert_yaxis()"
      ],
      "execution_count": 0,
      "outputs": [
        {
          "output_type": "display_data",
          "data": {
            "image/png": "[encoded data removed]",
            "text/plain": [
              "<Figure size 360x360 with 1 Axes>"
            ]
          },
          "metadata": {
            "tags": []
          }
        }
      ]
    },
    {
      "cell_type": "code",
      "metadata": {
        "id": "kTYB7uueZgPf",
        "colab_type": "code",
        "outputId": "ec92cdcb-89ec-44e3-f09d-7542aba812b9",
        "colab": {
          "base_uri": "https://localhost:8080/",
          "height": 34
        }
      },
      "source": [
        "b1 = 0\n",
        "b2 = 0\n",
        "b3 = 0\n",
        "for i in range(A_10.shape[0]):\n",
        "  for j in range(A_10.shape[1]):\n",
        "    if A_10[i][j] < 1:\n",
        "      b1 = b1 + 1\n",
        "    elif A_10[i][j] < 3 and A_10[i][j] >= 1:\n",
        "      b2 = b2 + 1\n",
        "    else:\n",
        "      b3 = b3 + 1\n",
        "print(b1, \"\\t\", b2, \"\\t\", b3, end=\"\\n\")"
      ],
      "execution_count": 0,
      "outputs": [
        {
          "output_type": "stream",
          "text": [
            "99957052 \t 38420 \t 4528\n"
          ],
          "name": "stdout"
        }
      ]
    },
    {
      "cell_type": "code",
      "metadata": {
        "id": "Ggw9sDinbGvs",
        "colab_type": "code",
        "colab": {}
      },
      "source": [
        "S = s_gen_orig.sum()"
      ],
      "execution_count": 0,
      "outputs": []
    },
    {
      "cell_type": "code",
      "metadata": {
        "id": "971a-T6SVjQs",
        "colab_type": "code",
        "colab": {}
      },
      "source": [
        "m = A_orig.shape[0]\n",
        "n = A_orig.shape[0]\n",
        "k = np.arange(0, m, 500)\n",
        "S_array = np.empty(int(m/500))\n",
        "F_array = np.empty(int(m/500))\n",
        "A_array = np.empty(int(m/500))\n",
        "E_array = np.empty(int(m/500))"
      ],
      "execution_count": 0,
      "outputs": []
    },
    {
      "cell_type": "code",
      "metadata": {
        "id": "eG66OEe0jYlw",
        "colab_type": "code",
        "colab": {}
      },
      "source": [
        "for i in range(int(m/500)):\n",
        "  s_k = s_gen_orig[:k[i]]\n",
        "  S_array[i] = s_k.sum()\n",
        "  F_array[i] = S_array[i] / S\n",
        "  U_temp, s_gen_temp, VT_temp = randomized_svd(A_orig_numpy, n_components=k[i], n_iter=5, random_state=None)\n",
        "  Sigma_temp = zeros((k[i], k[i]))\n",
        "  # populate Sigma with diagonal matrix\n",
        "  Sigma_temp[:k[i], :k[i]] = diag(s_gen_temp)\n",
        "  # reconstruct matrix\n",
        "  A_temp = U_temp.dot(Sigma_temp.dot(VT_temp))\n",
        "  E_temp = np.subtract(A_orig, A_temp)\n",
        "  E_array[i] = LA.norm(E_temp, 'fro')"
      ],
      "execution_count": 0,
      "outputs": []
    },
    {
      "cell_type": "code",
      "metadata": {
        "id": "b2D1GGRvk5b0",
        "colab_type": "code",
        "outputId": "3ab705df-0d67-4afc-809d-6619c306968f",
        "colab": {
          "base_uri": "https://localhost:8080/",
          "height": 422
        }
      },
      "source": [
        "print(F_array)\n",
        "plt.plot(k, F_array)\n",
        "plt.xlabel(\"K\")\n",
        "plt.ylabel(\"F[k]\")"
      ],
      "execution_count": 0,
      "outputs": [
        {
          "output_type": "stream",
          "text": [
            "[0.         0.34238852 0.50226355 0.60938803 0.68762716 0.7482273\n",
            " 0.79689436 0.83688053 0.87019595 0.89816845 0.92166042 0.94132174\n",
            " 0.95748921 0.97056026 0.98082773 0.98858238 0.99411635 0.99766354\n",
            " 0.99949755 1.        ]\n"
          ],
          "name": "stdout"
        },
        {
          "output_type": "execute_result",
          "data": {
            "text/plain": [
              "Text(0, 0.5, 'F[k]')"
            ]
          },
          "metadata": {
            "tags": []
          },
          "execution_count": 33
        },
        {
          "output_type": "display_data",
          "data": {
            "image/png": "[encoded data removed]",
            "text/plain": [
              "<Figure size 360x360 with 1 Axes>"
            ]
          },
          "metadata": {
            "tags": []
          }
        }
      ]
    },
    {
      "cell_type": "code",
      "metadata": {
        "id": "rzHxDxUEVyJ4",
        "colab_type": "code",
        "outputId": "47254006-f8c3-4334-92e2-8c2d6817c689",
        "colab": {
          "base_uri": "https://localhost:8080/"
        }
      },
      "source": [
        "print(E_array)\n",
        "plt.plot(k,E_array)\n",
        "plt.xlabel(\"K\")\n",
        "plt.ylabel(\"E[k]\")"
      ],
      "execution_count": 0,
      "outputs": [
        {
          "output_type": "stream",
          "text": [
            "[1.38642995e+03 7.12848534e+02 5.17507472e+02 4.00633830e+02\n",
            " 3.21717313e+02 2.63333766e+02 2.17541376e+02 1.80133122e+02\n",
            " 1.48694933e+02 1.21720264e+02 9.83143111e+01 7.77883302e+01\n",
            " 6.00236642e+01 4.47438018e+01 3.18060939e+01 2.11248246e+01\n",
            " 1.25197785e+01 6.04604523e+00 1.83266297e+00 1.01956334e-11]\n"
          ],
          "name": "stdout"
        },
        {
          "output_type": "execute_result",
          "data": {
            "text/plain": [
              "Text(0, 0.5, 'E[k]')"
            ]
          },
          "metadata": {
            "tags": []
          },
          "execution_count": 41
        },
        {
          "output_type": "display_data",
          "data": {
            "image/png": "[encoded data removed]",
            "text/plain": [
              "<Figure size 360x360 with 1 Axes>"
            ]
          },
          "metadata": {
            "tags": []
          }
        }
      ]
    },
    {
      "cell_type": "code",
      "metadata": {
        "id": "DNyaEtBNV6m6",
        "colab_type": "code",
        "outputId": "79cbb8ab-fd95-4f60-947d-c565369389aa",
        "colab": {
          "base_uri": "https://localhost:8080/"
        }
      },
      "source": [
        "#print(F_array)\n",
        "plt.plot(F_array, E_array)\n",
        "plt.xlabel(\"F[k]\")\n",
        "plt.ylabel(\"E[k]\")"
      ],
      "execution_count": 0,
      "outputs": [
        {
          "output_type": "execute_result",
          "data": {
            "text/plain": [
              "Text(0, 0.5, 'E[k]')"
            ]
          },
          "metadata": {
            "tags": []
          },
          "execution_count": 42
        },
        {
          "output_type": "display_data",
          "data": {
            "image/png": "[encoded data removed]",
            "text/plain": [
              "<Figure size 360x360 with 1 Axes>"
            ]
          },
          "metadata": {
            "tags": []
          }
        }
      ]
    },
    {
      "cell_type": "code",
      "metadata": {
        "id": "Ir6Nv50nV8-H",
        "colab_type": "code",
        "colab": {}
      },
      "source": [
        "1000, 3000, 6000"
      ],
      "execution_count": 0,
      "outputs": []
    },
    {
      "cell_type": "code",
      "metadata": {
        "id": "L-pifXknV_sN",
        "colab_type": "code",
        "outputId": "0ac8b18d-0e24-4e10-8016-ec4fd05f733e",
        "colab": {
          "base_uri": "https://localhost:8080/",
          "height": 85
        }
      },
      "source": [
        "k=1000\n",
        "U_1000, s_gen_1000, VT_1000 = randomized_svd(A_orig_numpy, n_components=k, n_iter=5, random_state=None)\n",
        "Sigma_1000 = zeros((k, k))\n",
        "# populate Sigma with diagonal matrix\n",
        "Sigma_1000[:k, :k] = diag(s_gen_1000)\n",
        "# reconstruct matrix\n",
        "A_1000 = U_1000.dot(Sigma_1000.dot(VT_1000))\n",
        "#print(A_1000)\n",
        "print(U_1000.shape)\n",
        "print(Sigma_1000.shape)\n",
        "print(VT_1000.shape)\n",
        "print(A_1000.shape)"
      ],
      "execution_count": 0,
      "outputs": [
        {
          "output_type": "stream",
          "text": [
            "(10000, 1000)\n",
            "(1000, 1000)\n",
            "(1000, 10000)\n",
            "(10000, 10000)\n"
          ],
          "name": "stdout"
        }
      ]
    },
    {
      "cell_type": "code",
      "metadata": {
        "id": "6Dear4uMWpxG",
        "colab_type": "code",
        "outputId": "3a42d163-82ff-427b-8367-58bd50d3129f",
        "colab": {
          "base_uri": "https://localhost:8080/",
          "height": 85
        }
      },
      "source": [
        "k=3000\n",
        "U_3000, s_gen_3000, VT_3000 = randomized_svd(A_orig_numpy, n_components=k, n_iter=5, random_state=None)\n",
        "Sigma_3000 = zeros((k, k))\n",
        "# populate Sigma with diagonal matrix\n",
        "Sigma_3000[:k, :k] = diag(s_gen_3000)\n",
        "# reconstruct matrix\n",
        "A_3000 = U_3000.dot(Sigma_3000.dot(VT_3000))\n",
        "#print(A_3000)\n",
        "print(U_3000.shape)\n",
        "print(Sigma_3000.shape)\n",
        "print(VT_3000.shape)\n",
        "print(A_3000.shape)"
      ],
      "execution_count": 0,
      "outputs": [
        {
          "output_type": "stream",
          "text": [
            "(10000, 3000)\n",
            "(3000, 3000)\n",
            "(3000, 10000)\n",
            "(10000, 10000)\n"
          ],
          "name": "stdout"
        }
      ]
    },
    {
      "cell_type": "code",
      "metadata": {
        "id": "Ls4ygPiCWtHp",
        "colab_type": "code",
        "outputId": "d3cd5522-b6be-4a2c-b91e-e69d9a706054",
        "colab": {
          "base_uri": "https://localhost:8080/",
          "height": 85
        }
      },
      "source": [
        "k=6000\n",
        "U_6000, s_gen_6000, VT_6000 = randomized_svd(A_orig_numpy, n_components=k, n_iter=5, random_state=None)\n",
        "Sigma_6000 = zeros((k, k))\n",
        "# populate Sigma with diagonal matrix\n",
        "Sigma_6000[:k, :k] = diag(s_gen_6000)\n",
        "# reconstruct matrix\n",
        "A_6000 = U_6000.dot(Sigma_6000.dot(VT_6000))\n",
        "#print(A_6000)\n",
        "print(U_6000.shape)\n",
        "print(Sigma_6000.shape)\n",
        "print(VT_6000.shape)\n",
        "print(A_6000.shape)"
      ],
      "execution_count": 0,
      "outputs": [
        {
          "output_type": "stream",
          "text": [
            "(10000, 6000)\n",
            "(6000, 6000)\n",
            "(6000, 10000)\n",
            "(10000, 10000)\n"
          ],
          "name": "stdout"
        }
      ]
    },
    {
      "cell_type": "code",
      "metadata": {
        "id": "huJHpH_UW3d0",
        "colab_type": "code",
        "colab": {}
      },
      "source": [
        "cos_sim_matrix = cosine_similarity(A_orig)\n",
        "cos_sim_matrix_1000 = cosine_similarity(A_1000)\n",
        "cos_sim_matrix_3000 = cosine_similarity(A_3000)\n",
        "cos_sim_matrix_6000 = cosine_similarity(A_6000)"
      ],
      "execution_count": 0,
      "outputs": []
    },
    {
      "cell_type": "code",
      "metadata": {
        "colab_type": "code",
        "id": "mSO2sTiPo3K5",
        "colab": {}
      },
      "source": [
        "threshold = 0.40\n",
        "simi_818 = []\n",
        "simi_1627 = []\n",
        "simi_1659 = []\n",
        "simi_2195 = []\n",
        "simi_2916 = []\n",
        "simi_5048 = []\n",
        "simi_5606 = []\n",
        "simi_6305 = []\n",
        "simi_6803 = []\n",
        "simi_7982 = []"
      ],
      "execution_count": 0,
      "outputs": []
    },
    {
      "cell_type": "code",
      "metadata": {
        "id": "uCt4T90ZhX53",
        "colab_type": "code",
        "colab": {}
      },
      "source": [
        "for i in range(n):\n",
        "  if cos_sim_matrix[818][i] >= threshold and i != 818:\n",
        "    simi_818.append(i)\n",
        "  if cos_sim_matrix[1627][i] >= threshold and i != 1627:\n",
        "    simi_1627.append(i)\n",
        "  if cos_sim_matrix[1659][i] >= threshold and i != 1659:\n",
        "    simi_1659.append(i)\n",
        "  if cos_sim_matrix[2195][i] >= threshold and i != 2195:\n",
        "    simi_2195.append(i)\n",
        "  if cos_sim_matrix[2916][i] >= threshold and i != 2916:\n",
        "    simi_2916.append(i)\n",
        "  if cos_sim_matrix[5048][i] >= threshold and i != 5048:\n",
        "    simi_5048.append(i)\n",
        "  if cos_sim_matrix[5606][i] >= threshold and i != 5606:\n",
        "    simi_5606.append(i)\n",
        "  if cos_sim_matrix[6305][i] >= threshold and i != 6305:\n",
        "    simi_6305.append(i)\n",
        "  if cos_sim_matrix[6803][i] >= threshold and i != 6803:\n",
        "    simi_6803.append(i)\n",
        "  if cos_sim_matrix[7982][i] >= threshold and i != 7982:\n",
        "    simi_7982.append(i)"
      ],
      "execution_count": 0,
      "outputs": []
    },
    {
      "cell_type": "code",
      "metadata": {
        "id": "VapsQZ5Po90J",
        "colab_type": "code",
        "outputId": "76d25155-9eee-45e2-9000-71a93ad8fba7",
        "colab": {
          "base_uri": "https://localhost:8080/",
          "height": 187
        }
      },
      "source": [
        "print(simi_818)\n",
        "print(simi_1627)\n",
        "print(simi_1659)\n",
        "print(simi_2195)\n",
        "print(simi_2916)\n",
        "print(simi_5048)\n",
        "print(simi_5606)\n",
        "print(simi_6305)\n",
        "print(simi_6803)\n",
        "print(simi_7982)"
      ],
      "execution_count": 0,
      "outputs": [
        {
          "output_type": "stream",
          "text": [
            "[]\n",
            "[281, 486, 2451, 3399, 4053, 5984, 6222, 6315, 7692, 8795]\n",
            "[9062]\n",
            "[961, 1699, 4181, 5259, 7038, 7091, 7161, 8226, 8708, 9691]\n",
            "[72, 2341, 3545, 3592, 4236, 4452, 5324, 5665, 5688, 6188, 6361, 6473, 7302, 7411, 8113, 8854, 9660, 9985]\n",
            "[]\n",
            "[]\n",
            "[2614]\n",
            "[57, 141, 185, 8317, 9128, 9513, 9967]\n",
            "[1076, 4928, 6498]\n"
          ],
          "name": "stdout"
        }
      ]
    },
    {
      "cell_type": "code",
      "metadata": {
        "id": "Vufe49ANo4X8",
        "colab_type": "code",
        "colab": {}
      },
      "source": [
        "simi_1000_818 = []\n",
        "simi_1000_1627 = []\n",
        "simi_1000_1659 = []\n",
        "simi_1000_2195 = []\n",
        "simi_1000_2916 = []\n",
        "simi_1000_5048 = []\n",
        "simi_1000_5606 = []\n",
        "simi_1000_6305 = []\n",
        "simi_1000_6803 = []\n",
        "simi_1000_7982 = []\n",
        "simi_3000_818 = []\n",
        "simi_3000_1627 = []\n",
        "simi_3000_1659 = []\n",
        "simi_3000_2195 = []\n",
        "simi_3000_2916 = []\n",
        "simi_3000_5048 = []\n",
        "simi_3000_5606 = []\n",
        "simi_3000_6305 = []\n",
        "simi_3000_6803 = []\n",
        "simi_3000_7982 = []\n",
        "simi_6000_818 = []\n",
        "simi_6000_1627 = []\n",
        "simi_6000_1659 = []\n",
        "simi_6000_2195 = []\n",
        "simi_6000_2916 = []\n",
        "simi_6000_5048 = []\n",
        "simi_6000_5606 = []\n",
        "simi_6000_6305 = []\n",
        "simi_6000_6803 = []\n",
        "simi_6000_7982 = []"
      ],
      "execution_count": 0,
      "outputs": []
    },
    {
      "cell_type": "code",
      "metadata": {
        "id": "FWYP8I7clk7Q",
        "colab_type": "code",
        "colab": {}
      },
      "source": [
        "for i in range(n):\n",
        "  if cos_sim_matrix_1000[818][i] >= threshold and i != 818:\n",
        "    simi_1000_818.append(i)\n",
        "  if cos_sim_matrix_1000[1627][i] >= threshold and i != 1627:\n",
        "    simi_1000_1627.append(i)\n",
        "  if cos_sim_matrix_1000[1659][i] >= threshold and i != 1659:\n",
        "\t  simi_1000_1659.append(i)\n",
        "  if cos_sim_matrix_1000[2195][i] >= threshold and i != 2195:\n",
        "\t  simi_1000_2195.append(i)\n",
        "  if cos_sim_matrix_1000[2916][i] >= threshold and i != 2916:\n",
        "\t  simi_1000_2916.append(i)\n",
        "  if cos_sim_matrix_1000[5048][i] >= threshold and i != 5048:\n",
        "\t  simi_1000_5048.append(i)\n",
        "  if cos_sim_matrix_1000[5606][i] >= threshold and i != 5606:\n",
        "\t  simi_1000_5606.append(i)\n",
        "  if cos_sim_matrix_1000[6305][i] >= threshold and i != 6305:\n",
        "\t  simi_1000_6305.append(i)\n",
        "  if cos_sim_matrix_1000[6803][i] >= threshold and i != 6803:\n",
        "\t  simi_1000_6803.append(i)\n",
        "  if cos_sim_matrix_1000[7982][i] >= threshold and i != 7982:\n",
        "\t  simi_1000_7982.append(i)\n",
        "  if cos_sim_matrix_3000[818][i] >= threshold and i != 818:\n",
        "\t  simi_3000_818.append(i)\n",
        "  if cos_sim_matrix_3000[1627][i] >= threshold and i != 1627:\n",
        "\t  simi_3000_1627.append(i)\n",
        "  if cos_sim_matrix_3000[1659][i] >= threshold and i != 1659:\n",
        "\t  simi_3000_1659.append(i)\n",
        "  if cos_sim_matrix_3000[2195][i] >= threshold and i != 2195:\n",
        "\t  simi_3000_2195.append(i)\n",
        "  if cos_sim_matrix_3000[2916][i] >= threshold and i != 2916:\n",
        "\t  simi_3000_2916.append(i)\n",
        "  if cos_sim_matrix_3000[5048][i] >= threshold and i != 5048:\n",
        "\t  simi_3000_5048.append(i)\n",
        "  if cos_sim_matrix_3000[5606][i] >= threshold and i != 5606:\n",
        "\t  simi_3000_5606.append(i)\n",
        "  if cos_sim_matrix_3000[6305][i] >= threshold and i != 6305:\n",
        "\t  simi_3000_6305.append(i)\n",
        "  if cos_sim_matrix_3000[6803][i] >= threshold and i != 6803:\n",
        "\t  simi_3000_6803.append(i)\n",
        "  if cos_sim_matrix_3000[7982][i] >= threshold and i != 7982:\n",
        "\t  simi_3000_7982.append(i)\n",
        "  if cos_sim_matrix_6000[818][i] >= threshold and i != 818:\n",
        "\t  simi_6000_818.append(i)\n",
        "  if cos_sim_matrix_6000[1627][i] >= threshold and i != 1627:\n",
        "\t  simi_6000_1627.append(i)\n",
        "  if cos_sim_matrix_6000[1659][i] >= threshold and i != 1659:\n",
        "\t  simi_6000_1659.append(i)\n",
        "  if cos_sim_matrix_6000[2195][i] >= threshold and i != 2195:\n",
        "\t  simi_6000_2195.append(i)\n",
        "  if cos_sim_matrix_6000[2916][i] >= threshold and i != 2916:\n",
        "    simi_6000_2916.append(i)\n",
        "  if cos_sim_matrix_6000[5048][i] >= threshold and i != 5048:\n",
        "\t  simi_6000_5048.append(i)\n",
        "  if cos_sim_matrix_6000[5606][i] >= threshold and i != 5606:\n",
        "\t  simi_6000_5606.append(i)\n",
        "  if cos_sim_matrix_6000[6305][i] >= threshold and i != 6305:\n",
        "\t  simi_6000_6305.append(i)\n",
        "  if cos_sim_matrix_6000[6803][i] >= threshold and i != 6803:\n",
        "\t  simi_6000_6803.append(i)\n",
        "  if cos_sim_matrix_6000[7982][i] >= threshold and i != 7982:\n",
        "\t  simi_6000_7982.append(i)"
      ],
      "execution_count": 0,
      "outputs": []
    },
    {
      "cell_type": "code",
      "metadata": {
        "id": "Z-f5XRosFDbp",
        "colab_type": "code",
        "outputId": "29086aef-1c71-420b-c616-d9d47cd04a23",
        "colab": {
          "base_uri": "https://localhost:8080/",
          "height": 598
        }
      },
      "source": [
        "print(\"In A_1000\")\n",
        "print(simi_1000_818)\n",
        "print(simi_1000_1627)\n",
        "print(simi_1000_1659)\n",
        "print(simi_1000_2195)\n",
        "print(simi_1000_2916)\n",
        "print(simi_1000_5048)\n",
        "print(simi_1000_5606)\n",
        "print(simi_1000_6305)\n",
        "print(simi_1000_6803)\n",
        "print(simi_1000_7982)\n",
        "print(\"In A_3000\")\n",
        "print(simi_3000_818)\n",
        "print(simi_3000_1627)\n",
        "print(simi_3000_1659)\n",
        "print(simi_3000_2195)\n",
        "print(simi_3000_2916)\n",
        "print(simi_3000_5048)\n",
        "print(simi_3000_5606)\n",
        "print(simi_3000_6305)\n",
        "print(simi_3000_6803)\n",
        "print(simi_3000_7982)\n",
        "print(\"In A_6000\")\n",
        "print(simi_6000_818)\n",
        "print(simi_6000_1627)\n",
        "print(simi_6000_1659)\n",
        "print(simi_6000_2195)\n",
        "print(simi_6000_2916)\n",
        "print(simi_6000_5048)\n",
        "print(simi_6000_5606)\n",
        "print(simi_6000_6305)\n",
        "print(simi_6000_6803)\n",
        "print(simi_6000_7982)"
      ],
      "execution_count": 0,
      "outputs": [
        {
          "output_type": "stream",
          "text": [
            "In A_1000\n",
            "[4290, 8017]\n",
            "[281, 486, 685, 2451, 2667, 3124, 3132, 3144, 3399, 3750, 4053, 4412, 4564, 4940, 5215, 5523, 5693, 5984, 6222, 6315, 6563, 7376, 7692, 7751, 7965, 8257, 8795, 8988, 9351]\n",
            "[9062]\n",
            "[184, 511, 672, 804, 961, 1221, 1303, 1699, 2228, 2368, 2643, 3020, 3073, 3945, 4181, 4290, 4486, 4938, 5259, 6782, 7038, 7091, 7161, 8071, 8226, 8546, 8619, 8685, 8708, 8751, 8835, 9691, 9782]\n",
            "[72, 242, 361, 558, 609, 668, 1026, 1797, 1986, 2341, 2419, 2566, 2574, 2620, 3022, 3107, 3374, 3545, 3592, 4236, 4268, 4302, 4321, 4448, 4452, 4539, 4601, 5040, 5324, 5410, 5499, 5568, 5665, 5688, 5824, 6188, 6361, 6396, 6404, 6473, 6553, 7141, 7302, 7411, 7839, 7877, 8013, 8080, 8096, 8113, 8267, 8854, 8878, 8974, 9172, 9606, 9660, 9727, 9833, 9854, 9985]\n",
            "[37, 456, 482, 3992, 4049, 4297, 6055, 6083, 6839, 7111, 7196, 7234, 7315, 8527, 8831, 9052, 9891]\n",
            "[4248, 6559]\n",
            "[2453, 2614, 8214, 8925]\n",
            "[57, 118, 139, 141, 185, 211, 573, 878, 1099, 1438, 2676, 3228, 3241, 3394, 4199, 4735, 4829, 5046, 5414, 5498, 6074, 6215, 7183, 7213, 7681, 7744, 8193, 8317, 8729, 8801, 8972, 8990, 9128, 9139, 9513, 9541, 9967]\n",
            "[1076, 4714, 4928, 4930, 6498, 8617, 8751, 8807, 8968]\n",
            "In A_3000\n",
            "[]\n",
            "[281, 486, 2451, 3399, 4053, 5984, 6222, 6315, 7692, 8257, 8795, 9351]\n",
            "[9062]\n",
            "[961, 1303, 1699, 4181, 5259, 6782, 7038, 7091, 7161, 8226, 8708, 9691]\n",
            "[72, 361, 1026, 1986, 2341, 3107, 3374, 3545, 3592, 4236, 4452, 4601, 5324, 5665, 5688, 6188, 6361, 6473, 7302, 7411, 7839, 7877, 8113, 8854, 8878, 9172, 9606, 9660, 9985]\n",
            "[456, 482, 6055, 7315, 9891]\n",
            "[]\n",
            "[2614, 8925]\n",
            "[57, 141, 185, 878, 7744, 8317, 9128, 9513, 9967]\n",
            "[1076, 4928, 6498, 8807]\n",
            "In A_6000\n",
            "[]\n",
            "[281, 486, 2451, 3399, 4053, 5984, 6222, 6315, 7692, 8795]\n",
            "[9062]\n",
            "[961, 1699, 4181, 5259, 7038, 7091, 7161, 8226, 8708, 9691]\n",
            "[72, 2341, 3545, 3592, 4236, 4452, 5324, 5665, 5688, 6188, 6361, 6473, 7302, 7411, 8113, 8854, 9660, 9985]\n",
            "[]\n",
            "[]\n",
            "[2614]\n",
            "[57, 141, 185, 8317, 9128, 9513, 9967]\n",
            "[1076, 4928, 6498]\n"
          ],
          "name": "stdout"
        }
      ]
    },
    {
      "cell_type": "code",
      "metadata": {
        "id": "JH89m0UR9ZyD",
        "colab_type": "code",
        "colab": {}
      },
      "source": [
        ""
      ],
      "execution_count": 0,
      "outputs": []
    }
  ]
}