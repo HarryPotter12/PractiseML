{
  "nbformat": 4,
  "nbformat_minor": 0,
  "metadata": {
    "colab": {
      "name": "AML Ass1 Q6.ipynb",
      "provenance": [],
      "collapsed_sections": [],
      "authorship_tag": "ABX9TyO/UFMMIL8HQ6iXlQBX+qU1",
      "include_colab_link": true
    },
    "kernelspec": {
      "name": "python3",
      "display_name": "Python 3"
    }
  },
  "cells": [
    {
      "cell_type": "markdown",
      "metadata": {
        "id": "view-in-github",
        "colab_type": "text"
      },
      "source": [
        "<a href=\"https://colab.research.google.com/github/HarryPotter12/PractiseML/blob/master/AML_Ass1_Q6.ipynb\" target=\"_parent\"><img src=\"https://colab.research.google.com/assets/colab-badge.svg\" alt=\"Open In Colab\"/></a>"
      ]
    },
    {
      "cell_type": "markdown",
      "metadata": {
        "id": "VdMBnHGFDpde"
      },
      "source": [
        "#### 6. SVMs (contd): (3 + 4 = 7 marks) \n",
        "[GISETTE](https://archive.ics.uci.edu/ml/datasets/Gisette) is a handwritten digit recognition problem. The problem is to separate\n",
        "the highly confusible digits '4' and '9'. This dataset is one of five datasets of the NIPS 2003 feature selection challenge. The dataset for this problem is large, so please budget time accordingly for this problem."
      ]
    },
    {
      "cell_type": "code",
      "metadata": {
        "id": "QVyeqqbwmtfn",
        "colab": {
          "base_uri": "https://localhost:8080/"
        },
        "outputId": "9eef83ba-84b1-46f5-e2f7-6af01365e6ff"
      },
      "source": [
        "from google.colab import drive\n",
        "drive.mount('/content/gdrive')"
      ],
      "execution_count": null,
      "outputs": [
        {
          "output_type": "stream",
          "text": [
            "Mounted at /content/gdrive\n"
          ],
          "name": "stdout"
        }
      ]
    },
    {
      "cell_type": "code",
      "metadata": {
        "id": "RZuKQnQ_7FM1"
      },
      "source": [
        "rm -f gisette*"
      ],
      "execution_count": null,
      "outputs": []
    },
    {
      "cell_type": "code",
      "metadata": {
        "id": "Ec21JPNiRa-K"
      },
      "source": [
        "!wget https://archive.ics.uci.edu/ml/machine-learning-databases/gisette/GISETTE/gisette_train.labels\n",
        "!wget https://archive.ics.uci.edu/ml/machine-learning-databases/gisette/GISETTE/gisette_train.data\n",
        "!wget https://archive.ics.uci.edu/ml/machine-learning-databases/gisette/GISETTE/gisette_valid.data\n",
        "!wget https://archive.ics.uci.edu/ml/machine-learning-databases/gisette/gisette_valid.labels"
      ],
      "execution_count": null,
      "outputs": []
    },
    {
      "cell_type": "code",
      "metadata": {
        "id": "M3L6h7kRp9ee"
      },
      "source": [
        "import numpy as np\n",
        "import pandas as pd\n",
        "import matplotlib.pyplot as plt\n",
        "from matplotlib.colors import ListedColormap\n",
        "from sklearn.model_selection import train_test_split\n",
        "from sklearn.preprocessing import StandardScaler\n",
        "from sklearn.metrics import confusion_matrix\n",
        "from sklearn.metrics import accuracy_score\n",
        "from sklearn.svm import SVC"
      ],
      "execution_count": null,
      "outputs": []
    },
    {
      "cell_type": "code",
      "metadata": {
        "id": "3GTdrXrjomLg",
        "colab": {
          "base_uri": "https://localhost:8080/"
        },
        "outputId": "28ea7007-95bf-4a9b-dbf8-c629ff96a853"
      },
      "source": [
        "X_train = pd.read_csv('/content/gisette_train.data',sep='\\s*',header=None, engine='python')\n",
        "y_train = pd.read_csv('/content/gisette_train.labels',sep='\\s*',header=None, engine='python')\n",
        "X_test = pd.read_csv('/content/gisette_valid.data',sep='\\s*',header=None, engine='python')\n",
        "y_test = pd.read_csv('/content/gisette_valid.labels',sep='\\s*',header=None, engine='python')"
      ],
      "execution_count": null,
      "outputs": [
        {
          "output_type": "stream",
          "text": [
            "/usr/local/lib/python3.6/dist-packages/pandas/io/parsers.py:2545: FutureWarning: split() requires a non-empty pattern match.\n",
            "  yield pat.split(line.strip())\n",
            "/usr/local/lib/python3.6/dist-packages/pandas/io/parsers.py:2548: FutureWarning: split() requires a non-empty pattern match.\n",
            "  yield pat.split(line.strip())\n"
          ],
          "name": "stderr"
        }
      ]
    },
    {
      "cell_type": "code",
      "metadata": {
        "id": "dELcFKK5QVzH"
      },
      "source": [
        "X_train_small, X_val, y_train_small, y_val = train_test_split(X_train, y_train, test_size = 0.25, random_state = 42, stratify = y_train)"
      ],
      "execution_count": null,
      "outputs": []
    },
    {
      "cell_type": "code",
      "metadata": {
        "id": "TBzuA8KiM7rq",
        "colab": {
          "base_uri": "https://localhost:8080/"
        },
        "outputId": "14120132-d80b-4b76-b14a-7564442ecb1f"
      },
      "source": [
        "print(X_train.shape)\n",
        "print(y_train.shape)\n",
        "print(X_train_small.shape)\n",
        "print(y_train_small.shape)\n",
        "print(X_val.shape)\n",
        "print(y_val.shape)\n",
        "print(X_test.shape)\n",
        "print(y_test.shape)"
      ],
      "execution_count": null,
      "outputs": [
        {
          "output_type": "stream",
          "text": [
            "(6000, 5000)\n",
            "(6000, 1)\n",
            "(4500, 5000)\n",
            "(4500, 1)\n",
            "(1500, 5000)\n",
            "(1500, 1)\n",
            "(1000, 5000)\n",
            "(1000, 1)\n"
          ],
          "name": "stdout"
        }
      ]
    },
    {
      "cell_type": "markdown",
      "metadata": {
        "id": "0kyMPBrRGRjW"
      },
      "source": [
        "(a) **Standard run:** Use all the 6000 training samples from the training set to train the model, and test over all test instances, using the linear kernel. Report the train error, test error, and number of support vectors."
      ]
    },
    {
      "cell_type": "code",
      "metadata": {
        "id": "gkFtxvZDxtNf"
      },
      "source": [
        "\"\"\" Training over 4500 training samples and validation on 1500 samples \"\"\"\n",
        "classifier = SVC(kernel = 'linear', random_state = 42)\n",
        "classifier.fit(X_train_small, y_train_small.values.ravel())\n",
        "y_val_pred = classifier.predict(X_val)"
      ],
      "execution_count": null,
      "outputs": []
    },
    {
      "cell_type": "code",
      "metadata": {
        "id": "bMUIariyY_QV",
        "colab": {
          "base_uri": "https://localhost:8080/"
        },
        "outputId": "1d963117-d9ea-43b9-a8aa-102dae16abd9"
      },
      "source": [
        "train_error = 1 - classifier.score(X_train_small, y_train_small)\n",
        "val_error = 1 - classifier.score(X_val, y_val)\n",
        "print(\"Training Error: \", train_error)\n",
        "print(\"Validation Error: \", val_error)\n",
        "print(\"Number of Support Vectors: \", len(classifier.support_))"
      ],
      "execution_count": null,
      "outputs": [
        {
          "output_type": "stream",
          "text": [
            "Training Error:  0.0\n",
            "Validation Error:  0.028000000000000025\n",
            "Number of Support Vectors:  937\n"
          ],
          "name": "stdout"
        }
      ]
    },
    {
      "cell_type": "code",
      "metadata": {
        "id": "i4zdD3-sY_QB"
      },
      "source": [
        "\"\"\" Training over all 6000 samples \"\"\"\n",
        "classifier = SVC(kernel = 'linear', random_state = 42)\n",
        "classifier.fit(X_train, y_train.values.ravel())\n",
        "y_pred = classifier.predict(X_test)"
      ],
      "execution_count": null,
      "outputs": []
    },
    {
      "cell_type": "code",
      "metadata": {
        "id": "AeI47RVsCWp7",
        "colab": {
          "base_uri": "https://localhost:8080/"
        },
        "outputId": "9d78ded5-2fe7-47cd-c56d-e7791d63af85"
      },
      "source": [
        "train_error = 1 - classifier.score(X_train, y_train)\n",
        "test_error = 1 - classifier.score(X_test, y_test)\n",
        "print(\"Training Error: \", train_error)\n",
        "print(\"Test Error: \", test_error)\n",
        "print(\"Number of Support Vectors: \", len(classifier.support_))"
      ],
      "execution_count": null,
      "outputs": [
        {
          "output_type": "stream",
          "text": [
            "Training Error:  0.0\n",
            "Test Error:  0.02400000000000002\n",
            "Number of Support Vectors:  1084\n"
          ],
          "name": "stdout"
        }
      ]
    },
    {
      "cell_type": "markdown",
      "metadata": {
        "id": "oGqppRy1H2B3"
      },
      "source": [
        "(b) **Kernel variations:** In addition to the basic linear kernel, investigate two other standard kernels: \n",
        "- RBF (a.k.a. Gaussian kernel; set gamma = 0.001), \n",
        "- Polynomial kernel (set degree = 2, coef0 = 1; e.g, (1 + x<sup>T</sup>x)<sup>2</sup>).\n",
        "\n",
        "Which kernel yields the lowest training error? Report the train error, test error, and number of support vectors for both these kernels."
      ]
    },
    {
      "cell_type": "code",
      "metadata": {
        "id": "fm6K7a5M_jHA",
        "colab": {
          "base_uri": "https://localhost:8080/"
        },
        "outputId": "83b3879b-cce0-4431-aa50-aab787548ee9"
      },
      "source": [
        "classifier = SVC(kernel = 'rbf', gamma = 0.001, random_state = 42)\n",
        "classifier.fit(X_train, y_train.values.ravel())\n",
        "train_error = 1 - classifier.score(X_train, y_train)\n",
        "test_error = 1 - classifier.score(X_test, y_test)\n",
        "print(\"Training Error: \", train_error)\n",
        "print(\"Test Error: \", test_error)\n",
        "print(\"Number of Support Vectors: \", len(classifier.support_))"
      ],
      "execution_count": null,
      "outputs": [
        {
          "output_type": "stream",
          "text": [
            "Training Error:  0.0\n",
            "Test Error:  0.5\n",
            "Number of Support Vectors:  6000\n"
          ],
          "name": "stdout"
        }
      ]
    },
    {
      "cell_type": "code",
      "metadata": {
        "id": "VlEUOeZG_jG8",
        "colab": {
          "base_uri": "https://localhost:8080/"
        },
        "outputId": "1ee459a9-641b-4ecd-fdc8-8f160859fd62"
      },
      "source": [
        "classifier = SVC(kernel = 'poly', coef0 = 1, degree = 2, random_state = 42)\n",
        "classifier.fit(X_train, y_train.values.ravel())\n",
        "train_error = 1 - classifier.score(X_train, y_train)\n",
        "test_error = 1 - classifier.score(X_test, y_test)\n",
        "print(\"Training Error: \", train_error)\n",
        "print(\"Test Error: \", test_error)\n",
        "print(\"Number of Support Vectors: \", len(classifier.support_))"
      ],
      "execution_count": null,
      "outputs": [
        {
          "output_type": "stream",
          "text": [
            "Training Error:  0.0004999999999999449\n",
            "Test Error:  0.020000000000000018\n",
            "Number of Support Vectors:  1332\n"
          ],
          "name": "stdout"
        }
      ]
    }
  ]
}