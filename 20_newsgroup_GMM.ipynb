{
  "nbformat": 4,
  "nbformat_minor": 0,
  "metadata": {
    "colab": {
      "name": "20 newsgroup GMM.ipynb",
      "provenance": [],
      "collapsed_sections": [],
      "machine_shape": "hm",
      "include_colab_link": true
    },
    "kernelspec": {
      "name": "python3",
      "display_name": "Python 3"
    }
  },
  "cells": [
    {
      "cell_type": "markdown",
      "metadata": {
        "id": "view-in-github",
        "colab_type": "text"
      },
      "source": [
        "<a href=\"https://colab.research.google.com/github/HarryPotter12/PractiseML/blob/master/20_newsgroup_GMM.ipynb\" target=\"_parent\"><img src=\"https://colab.research.google.com/assets/colab-badge.svg\" alt=\"Open In Colab\"/></a>"
      ]
    },
    {
      "cell_type": "code",
      "metadata": {
        "id": "ppo-May8ie8s",
        "colab_type": "code",
        "colab": {}
      },
      "source": [
        "#from google.colab import drive\n",
        "#drive.mount('/content/gdrive')"
      ],
      "execution_count": 0,
      "outputs": []
    },
    {
      "cell_type": "code",
      "metadata": {
        "id": "Fm5BClXQnv0D",
        "colab_type": "code",
        "colab": {}
      },
      "source": [
        "from sklearn.datasets import load_files\n",
        "from sklearn.datasets import fetch_20newsgroups\n",
        "from sklearn.model_selection import train_test_split\n",
        "#from sklearn.feature_extraction.text import CountVectorizer\n",
        "#from sklearn.feature_extraction.text import TfidfTransformer\n",
        "from sklearn.feature_extraction.text import TfidfVectorizer\n",
        "from matplotlib.pyplot import cm\n",
        "from matplotlib import pyplot as plt\n",
        "import numpy as np\n",
        "import time\n",
        "from sklearn import metrics"
      ],
      "execution_count": 0,
      "outputs": []
    },
    {
      "cell_type": "code",
      "metadata": {
        "id": "rKL6pQbTrRma",
        "colab_type": "code",
        "colab": {}
      },
      "source": [
        "newsgroups_full = fetch_20newsgroups(subset='all', remove=('headers', 'footers', 'quotes'))"
      ],
      "execution_count": 0,
      "outputs": []
    },
    {
      "cell_type": "code",
      "metadata": {
        "id": "fjzz12CJr0ck",
        "colab_type": "code",
        "outputId": "46c5655d-7892-4cd9-833b-6ba7071347c5",
        "colab": {
          "base_uri": "https://localhost:8080/",
          "height": 54
        }
      },
      "source": [
        "print(newsgroups_full.data[:3])"
      ],
      "execution_count": 0,
      "outputs": [
        {
          "output_type": "stream",
          "text": [
            "[\"\\n\\nI am sure some bashers of Pens fans are pretty confused about the lack\\nof any kind of posts about the recent Pens massacre of the Devils. Actually,\\nI am  bit puzzled too and a bit relieved. However, I am going to put an end\\nto non-PIttsburghers' relief with a bit of praise for the Pens. Man, they\\nare killing those Devils worse than I thought. Jagr just showed you why\\nhe is much better than his regular season stats. He is also a lot\\nfo fun to watch in the playoffs. Bowman should let JAgr have a lot of\\nfun in the next couple of games since the Pens are going to beat the pulp out of Jersey anyway. I was very disappointed not to see the Islanders lose the final\\nregular season game.          PENS RULE!!!\\n\\n\", 'My brother is in the market for a high-performance video card that supports\\nVESA local bus with 1-2MB RAM.  Does anyone have suggestions/ideas on:\\n\\n  - Diamond Stealth Pro Local Bus\\n\\n  - Orchid Farenheit 1280\\n\\n  - ATI Graphics Ultra Pro\\n\\n  - Any other high-performance VLB card\\n\\n\\nPlease post or email.  Thank you!\\n\\n  - Matt\\n', '\\n\\n\\n\\n\\tFinally you said what you dream about. Mediterranean???? That was new....\\n\\tThe area will be \"greater\" after some years, like your \"holocaust\" numbers......\\n\\n\\n\\n\\n\\t\\t*****\\n\\tIs\\'t July in USA now????? Here in Sweden it\\'s April and still cold.\\n\\tOr have you changed your calendar???\\n\\n\\n\\t\\t\\t\\t\\t\\t    ****************\\n\\t\\t\\t\\t\\t\\t    ******************\\n\\t\\t\\t    ***************\\n\\n\\n\\tNOTHING OF THE MENTIONED IS TRUE, BUT LET SAY IT\\'s TRUE.\\n\\t\\n\\tSHALL THE AZERI WOMEN AND CHILDREN GOING TO PAY THE PRICE WITH\\n\\t\\t\\t\\t\\t\\t    **************\\n\\tBEING RAPED, KILLED AND TORTURED BY THE ARMENIANS??????????\\n\\t\\n\\tHAVE YOU HEARDED SOMETHING CALLED: \"GENEVA CONVENTION\"???????\\n\\tYOU FACIST!!!!!\\n\\n\\n\\n\\tOhhh i forgot, this is how Armenians fight, nobody has forgot\\n\\tyou killings, rapings and torture against the Kurds and Turks once\\n\\tupon a time!\\n      \\n       \\n\\n\\nOhhhh so swedish RedCross workers do lie they too? What ever you say\\n\"regional killer\", if you don\\'t like the person then shoot him that\\'s your policy.....l\\n\\n\\n\\t\\t\\t\\t\\t\\t\\t\\t\\t\\ti\\n\\t\\t\\t\\t\\t\\t\\t\\t\\t\\ti\\n\\t\\t\\t\\t\\t\\t\\t\\t\\t\\ti\\n\\tConfused?????\\t\\t\\t\\t\\t\\t\\t\\ti\\n\\t\\t\\t\\t\\t\\t\\t\\t\\t\\ti\\n        Search Turkish planes? You don\\'t know what you are talking about.\\ti\\n        Turkey\\'s government has announced that it\\'s giving weapons  <-----------i\\n        to Azerbadjan since Armenia started to attack Azerbadjan\\t\\t\\n        it self, not the Karabag province. So why search a plane for weapons\\t\\n        since it\\'s content is announced to be weapons?   \\n\\n\\tIf there is one that\\'s confused then that\\'s you! We have the right (and we do)\\n\\tto give weapons to the Azeris, since Armenians started the fight in Azerbadjan!\\n \\n\\n\\n\\tShoot down with what? Armenian bread and butter? Or the arms and personel \\n\\tof the Russian army?\\n\\n\\n']\n"
          ],
          "name": "stdout"
        }
      ]
    },
    {
      "cell_type": "code",
      "metadata": {
        "id": "n3Yv71jSJh-f",
        "colab_type": "code",
        "colab": {}
      },
      "source": [
        "X = newsgroups_full.data\n",
        "y = newsgroups_full.target"
      ],
      "execution_count": 0,
      "outputs": []
    },
    {
      "cell_type": "code",
      "metadata": {
        "id": "QWgFIjP0jpTk",
        "colab_type": "code",
        "colab": {}
      },
      "source": [
        "vectorizer = TfidfVectorizer(max_features = 5000)\n",
        "tfidf = vectorizer.fit_transform(X)"
      ],
      "execution_count": 0,
      "outputs": []
    },
    {
      "cell_type": "code",
      "metadata": {
        "id": "Lg1btKQtlUwf",
        "colab_type": "code",
        "outputId": "a0ea26a2-8fd5-4c2c-fc09-e254d09033bc",
        "colab": {
          "base_uri": "https://localhost:8080/",
          "height": 34
        }
      },
      "source": [
        "tfidf.shape"
      ],
      "execution_count": 0,
      "outputs": [
        {
          "output_type": "execute_result",
          "data": {
            "text/plain": [
              "(18846, 5000)"
            ]
          },
          "metadata": {
            "tags": []
          },
          "execution_count": 7
        }
      ]
    },
    {
      "cell_type": "code",
      "metadata": {
        "id": "X_DdiajRldDf",
        "colab_type": "code",
        "colab": {}
      },
      "source": [
        "vectorizer_sub = TfidfVectorizer(sublinear_tf=True, max_features = 5000)\n",
        "tfidf_sub = vectorizer.fit_transform(X)"
      ],
      "execution_count": 0,
      "outputs": []
    },
    {
      "cell_type": "code",
      "metadata": {
        "id": "7Ek79PlOmKFD",
        "colab_type": "code",
        "outputId": "7c57b847-0b25-4215-ca4d-f1ac50ee46ee",
        "colab": {
          "base_uri": "https://localhost:8080/",
          "height": 34
        }
      },
      "source": [
        "tfidf_sub.shape"
      ],
      "execution_count": 0,
      "outputs": [
        {
          "output_type": "execute_result",
          "data": {
            "text/plain": [
              "(18846, 5000)"
            ]
          },
          "metadata": {
            "tags": []
          },
          "execution_count": 9
        }
      ]
    },
    {
      "cell_type": "code",
      "metadata": {
        "id": "eJnnryv2Fehr",
        "colab_type": "code",
        "colab": {}
      },
      "source": [
        "vectorizer_bigram = TfidfVectorizer(ngram_range=(1, 2), max_features = 5000)\n",
        "tfidf_bigram = vectorizer_bigram.fit_transform(X)"
      ],
      "execution_count": 0,
      "outputs": []
    },
    {
      "cell_type": "code",
      "metadata": {
        "id": "YBImzfkmFx12",
        "colab_type": "code",
        "outputId": "4a7f03f8-c756-4071-fc02-8937fc0edaf2",
        "colab": {
          "base_uri": "https://localhost:8080/",
          "height": 34
        }
      },
      "source": [
        "tfidf_bigram.shape"
      ],
      "execution_count": 0,
      "outputs": [
        {
          "output_type": "execute_result",
          "data": {
            "text/plain": [
              "(18846, 5000)"
            ]
          },
          "metadata": {
            "tags": []
          },
          "execution_count": 11
        }
      ]
    },
    {
      "cell_type": "code",
      "metadata": {
        "id": "c4wKaaKQXH66",
        "colab_type": "code",
        "colab": {}
      },
      "source": [
        "vectorizer_max = TfidfVectorizer(norm='max', max_features = 5000)\n",
        "tfidf_max = vectorizer_max.fit_transform(X)"
      ],
      "execution_count": 0,
      "outputs": []
    },
    {
      "cell_type": "code",
      "metadata": {
        "id": "tZVXsRkYYGPZ",
        "colab_type": "code",
        "outputId": "16b3ff28-395f-4ad5-b8ba-11421b412d51",
        "colab": {
          "base_uri": "https://localhost:8080/",
          "height": 34
        }
      },
      "source": [
        "tfidf_max.shape"
      ],
      "execution_count": 0,
      "outputs": [
        {
          "output_type": "execute_result",
          "data": {
            "text/plain": [
              "(18846, 5000)"
            ]
          },
          "metadata": {
            "tags": []
          },
          "execution_count": 13
        }
      ]
    },
    {
      "cell_type": "markdown",
      "metadata": {
        "id": "1x1j86Q2yc_c",
        "colab_type": "text"
      },
      "source": [
        "for i in range(18846):\n",
        "  for j in range(10000):\n",
        "    if tfidf.toarray()[i][j] != tfidf_max.toarray()[i][j]:\n",
        "      print(\"i = %d j = %d tfidf = %f tfidf_max = %f No match\" % (i, j, tfidf.toarray()[i][j], tfidf_max.toarray()[i][j]))"
      ]
    },
    {
      "cell_type": "markdown",
      "metadata": {
        "id": "hLq8YZXCH6bG",
        "colab_type": "text"
      },
      "source": [
        "def initialization_kmeans(X, p, q, variance_level=None):\n",
        "    \"\"\"\n",
        "    X : dataset\n",
        "    p : number of clusters\n",
        "    q : dimension of the latent space\n",
        "    variance_level\n",
        "    pi : proportions of clusters\n",
        "    mu : centers of the clusters in the observation space\n",
        "    W : latent to observation matricies\n",
        "    sigma2 : noise\n",
        "    \"\"\"\n",
        "\n",
        "    N, d = X.shape\n",
        "\n",
        "    # initialization\n",
        "    init_centers = np.random.randint(0, N, p)\n",
        "    while (len(np.unique(init_centers)) != p):\n",
        "        init_centers = np.random.randint(0, N, p)\n",
        "\n",
        "#    print(init_centers)\n",
        "    mu = X[init_centers, :]\n",
        "#    print(\"mu=\", mu.shape)\n",
        "    distance_square = np.zeros((N, p))\n",
        "    clusters = np.zeros(N, dtype=np.int32)\n",
        "\n",
        "    D_old = -2\n",
        "    D = -1\n",
        "    \n",
        "    while(D_old != D):\n",
        "        D_old = D\n",
        "\n",
        "        # assign clusters\n",
        "        for c in range(p):\n",
        "#            print(X.shape)\n",
        "#            print(mu[c, :].shape)\n",
        "#            X - mu[c, :]\n",
        "            distance_square[:, c] = np.power(X - mu[c, :], 2).sum(1)\n",
        "        clusters = np.argmin(distance_square, axis=1)\n",
        "\n",
        "        # compute distortion\n",
        "        distmin = distance_square[range(N), clusters]\n",
        "        D = distmin.sum()\n",
        "\n",
        "        # compute new centers\n",
        "        for c in range(p):\n",
        "            mu[c, :] = X[clusters == c, :].mean(0)\n",
        "\n",
        "    #for c in range(p):\n",
        "    #    plt.scatter(X[clusters == c, 0], X[clusters == c, 1], c=np.random.rand(3,1))\n",
        "\n",
        "    # parameter initialization\n",
        "    pi = np.zeros(p)\n",
        "    W = np.zeros((p, d, q))\n",
        "    sigma2 = np.zeros(p)\n",
        "    for c in range(p):\n",
        "        if variance_level:\n",
        "            W[c, :, :] = variance_level * np.random.randn(d, q)\n",
        "        else:\n",
        "            W[c, :, :] = np.random.randn(d, q)\n",
        "\n",
        "        pi[c] = (clusters == c).sum() / N\n",
        "        if variance_level:\n",
        "            sigma2[c] = np.abs((variance_level/10) * np.random.randn())\n",
        "        else:\n",
        "            sigma2[c] = (distmin[clusters == c]).mean() / d\n",
        "\n",
        "    return pi, mu, W, sigma2, clusters\n",
        "\n",
        "\n",
        "def mppca_gem(X, pi, mu, W, sigma2, niter):\n",
        "    N, d = X.shape\n",
        "    p = len(sigma2)\n",
        "    _, q = W[0].shape\n",
        "\n",
        "    sigma2hist = np.zeros((p, niter))\n",
        "    M = np.zeros((p, q, q))\n",
        "    Minv = np.zeros((p, q, q))\n",
        "    Cinv = np.zeros((p, d, d))\n",
        "    logR = np.zeros((N, p))\n",
        "    R = np.zeros((N, p))\n",
        "    M[:] = 0.\n",
        "    Minv[:] = 0.\n",
        "    Cinv[:] = 0.\n",
        "\n",
        "    L = np.zeros(niter)\n",
        "    for i in range(niter):\n",
        "        print('.', end='')\n",
        "        for c in range(p):\n",
        "            sigma2hist[c, i] = sigma2[c]\n",
        "\n",
        "            # M\n",
        "            M[c, :, :] = sigma2[c]*np.eye(q) + np.dot(W[c, :, :].T, W[c, :, :])\n",
        "            Minv[c, :, :] = np.linalg.inv(M[c, :, :])\n",
        "\n",
        "            # Cinv\n",
        "            Cinv[c, :, :] = (np.eye(d)\n",
        "                - np.dot(np.dot(W[c, :, :], Minv[c, :, :]), W[c, :, :].T)\n",
        "                ) / sigma2[c]\n",
        "\n",
        "            # R_ni\n",
        "            deviation_from_center = X - mu[c, :]\n",
        "            logR[:, c] = ( np.log(pi[c])\n",
        "                + 0.5*np.log(\n",
        "                    np.linalg.det(\n",
        "                        np.eye(d) - np.dot(np.dot(W[c, :, :], Minv[c, :, :]), W[c, :, :].T)\n",
        "                    )\n",
        "                )\n",
        "                - 0.5*d*np.log(sigma2[c])\n",
        "                - 0.5*(deviation_from_center * np.dot(deviation_from_center, Cinv[c, :, :].T)).sum(1)\n",
        "                )\n",
        "\n",
        "        myMax = logR.max(axis=1).reshape((N, 1))\n",
        "        L[i] = (\n",
        "            (myMax.ravel() + np.log(np.exp(logR - myMax).sum(axis=1))).sum(axis=0)\n",
        "            - N*d*np.log(2*3.141593)/2.\n",
        "            )\n",
        "\n",
        "        logR = logR - myMax - np.reshape(np.log(np.exp(logR - myMax).sum(axis=1)), (N, 1))\n",
        "\n",
        "        myMax = logR.max(axis=0)\n",
        "        logpi = myMax + np.log(np.exp(logR - myMax).sum(axis=0)) - np.log(N)\n",
        "        logpi = logpi.T\n",
        "        pi = np.exp(logpi)\n",
        "        R = np.exp(logR)\n",
        "        for c in range(p):\n",
        "            mu[c, :] = (R[:, c].reshape((N, 1)) * X).sum(axis=0) / R[:, c].sum()\n",
        "            deviation_from_center = X - mu[c, :].reshape((1, d))\n",
        "\n",
        "            SW = ( (1/(pi[c]*N))\n",
        "                * np.dot((R[:, c].reshape((N, 1)) * deviation_from_center).T,\n",
        "                    np.dot(deviation_from_center, W[c, :, :]))\n",
        "                )\n",
        "\n",
        "            Wnew = np.dot(SW, np.linalg.inv(sigma2[c]*np.eye(q) + np.dot(np.dot(Minv[c, :, :], W[c, :, :].T), SW)))\n",
        "\n",
        "            sigma2[c] = (1/d) * (\n",
        "                (R[:, c].reshape(N, 1) * np.power(deviation_from_center, 2)).sum()\n",
        "                /\n",
        "                (N*pi[c])\n",
        "                -\n",
        "                np.trace(np.dot(np.dot(SW, Minv[c, :, :]), Wnew.T))\n",
        "                )\n",
        "\n",
        "            W[c, :, :] = Wnew\n",
        "\n",
        "    return pi, mu, W, sigma2, R, L, sigma2hist\n",
        "\n",
        "\n",
        "def mppca_predict(X, pi, mu, W, sigma2):\n",
        "    N, d = X.shape\n",
        "    p = len(sigma2)\n",
        "    _, q = W[0].shape\n",
        "\n",
        "    M = np.zeros((p, q, q))\n",
        "    Minv = np.zeros((p, q, q))\n",
        "    Cinv = np.zeros((p, d, d))\n",
        "    logR = np.zeros((N, p))\n",
        "    R = np.zeros((N, p))\n",
        "\n",
        "    for c in range(p):\n",
        "        # M\n",
        "        M[c, :, :] = sigma2[c] * np.eye(q) + np.dot(W[c, :, :].T, W[c, :, :])\n",
        "        Minv[c, :, :] = np.linalg.inv(M[c, :, :])\n",
        "\n",
        "        # Cinv\n",
        "        Cinv[c, :, :] = (np.eye(d)\n",
        "            - np.dot(np.dot(W[c, :, :], Minv[c, :, :]), W[c, :, :].T)\n",
        "            ) / sigma2[c]\n",
        "\n",
        "        # R_ni\n",
        "        deviation_from_center = X - mu[c, :]\n",
        "        logR[:, c] = ( np.log(pi[c])\n",
        "            + 0.5*np.log(\n",
        "                np.linalg.det(\n",
        "                    np.eye(d) - np.dot(np.dot(W[c, :, :], Minv[c, :, :]), W[c, :, :].T)\n",
        "                )\n",
        "            )\n",
        "            - 0.5*d*np.log(sigma2[c])\n",
        "            - 0.5*(deviation_from_center * np.dot(deviation_from_center, Cinv[c, :, :].T)).sum(1)\n",
        "            )\n",
        "\n",
        "    myMax = logR.max(axis=1).reshape((N, 1))\n",
        "    logR = logR - myMax - np.reshape(np.log(np.exp(logR - myMax).sum(axis=1)), (N, 1))\n",
        "    R = np.exp(logR)\n",
        "\n",
        "    return R"
      ]
    },
    {
      "cell_type": "markdown",
      "metadata": {
        "id": "ONvPJ0eZcIg-",
        "colab_type": "text"
      },
      "source": [
        "p = 20 # We expect 2 clusters\n",
        "q = 1 # We expect 1-dimensional subspaces\n",
        "t = time.time()\n",
        "pi, mu, W, sigma2, clusters = initialization_kmeans(tfidf.toarray(), p, q)\n",
        "print(\"Elapsed :\", time.time()-t, \"seconds\")"
      ]
    },
    {
      "cell_type": "markdown",
      "metadata": {
        "id": "_pypUmYicI1W",
        "colab_type": "text"
      },
      "source": [
        "niter = 500\n",
        "t = time.time()\n",
        "pi, mu, W, sigma2, R, L, sigma2hist = mppca_gem(tfidf.toarray(), pi, mu, W, sigma2, niter)\n",
        "print(\"Elapsed :\", time.time()-t, \"seconds\")"
      ]
    },
    {
      "cell_type": "markdown",
      "metadata": {
        "id": "Lju0FJpYzZQW",
        "colab_type": "text"
      },
      "source": [
        "clusters = R.argmax(axis=1)\n",
        "#print_clusters(X, clusters, mu)"
      ]
    },
    {
      "cell_type": "code",
      "metadata": {
        "id": "SkjhVkp9zjEF",
        "colab_type": "code",
        "colab": {}
      },
      "source": [
        "from sklearn.mixture import GaussianMixture"
      ],
      "execution_count": 0,
      "outputs": []
    },
    {
      "cell_type": "code",
      "metadata": {
        "id": "u9QOTGNoNc1k",
        "colab_type": "code",
        "outputId": "6a896bba-8e48-4436-fc31-4b1436ed4b4d",
        "colab": {
          "base_uri": "https://localhost:8080/",
          "height": 34
        }
      },
      "source": [
        "gmm = GaussianMixture(n_components=20)\n",
        "gmm.fit(tfidf.toarray())\n",
        "# predict the cluster for each data point\n",
        "y_pred = gmm.predict(tfidf.toarray())\n",
        "y_pred"
      ],
      "execution_count": 0,
      "outputs": [
        {
          "output_type": "execute_result",
          "data": {
            "text/plain": [
              "array([17,  2,  8, ..., 17,  8,  4])"
            ]
          },
          "metadata": {
            "tags": []
          },
          "execution_count": 15
        }
      ]
    },
    {
      "cell_type": "markdown",
      "metadata": {
        "id": "SOC9qIZUb-Aa",
        "colab_type": "text"
      },
      "source": [
        "gammas = [0.01, 0.1, 1, 10, 100]"
      ]
    },
    {
      "cell_type": "markdown",
      "metadata": {
        "id": "xmuYppZzb-AV",
        "colab_type": "text"
      },
      "source": [
        "best_sil = float(\"-inf\")\n",
        "best_gamma = 1000\n",
        "for my_gamma in gammas:\n",
        "#  print(\"For gamma = \", my_gamma)\n",
        "  km = KernelKMeans(n_clusters=20, max_iter=100, random_state=0, verbose=1, kernel=\"rbf\", gamma=my_gamma)\n",
        "  y_pred = km.fit_predict(tfidf)\n",
        "#  print(\"Computing silhouette_score \")\n",
        "  silhouette = metrics.silhouette_score(tfidf, y_pred)\n",
        "  print(\"The silhouette_score for gamma = %f is = %.4f\" % (gamma, silhouette))\n",
        "  if silhouette > best_sil:\n",
        "#    print(\"Old Sil : \", best_sil)\n",
        "    best_sil = silhouette\n",
        "    best_gamma = my_gamma\n",
        "#    print(\"New Sil : \", best_sil, \"gamma : \", best_gamma)"
      ]
    },
    {
      "cell_type": "markdown",
      "metadata": {
        "id": "3NlG_KMUb-AQ",
        "colab_type": "text"
      },
      "source": [
        "print(\"best_gamma : \", best_gamma)\n",
        "km = KernelKMeans(n_clusters=20, max_iter=100, random_state=0, verbose=1, kernel=\"rbf\", gamma=best_gamma)\n",
        "y_pred = km.fit_predict(tfidf)"
      ]
    },
    {
      "cell_type": "code",
      "metadata": {
        "colab_type": "code",
        "id": "ASm6FRi5b-AM",
        "outputId": "9855e4e5-86cf-49e0-f35a-6a8abac2a685",
        "colab": {
          "base_uri": "https://localhost:8080/",
          "height": 224
        }
      },
      "source": [
        "print(\"Adjusted Rand-Index: %.3f\" % metrics.adjusted_rand_score(y, y_pred))\n",
        "print(\"NMI: %.3f\" % metrics.normalized_mutual_info_score(y, y_pred))\n",
        "print(\"AMI: %.3f\" % metrics.adjusted_mutual_info_score(y, y_pred))\n",
        "print(\"Homogeneity: %0.3f\" % metrics.homogeneity_score(y, y_pred))\n",
        "print(\"Completeness: %0.3f\" % metrics.completeness_score(y, y_pred))\n",
        "print(\"V-measure: %0.3f\" % metrics.v_measure_score(y, y_pred))\n",
        "print(\"FMI: %.3f\" % metrics.fowlkes_mallows_score(y, y_pred))"
      ],
      "execution_count": 0,
      "outputs": [
        {
          "output_type": "stream",
          "text": [
            "Adjusted Rand-Index: 0.018\n",
            "NMI: 0.066\n",
            "AMI: 0.043\n",
            "Homogeneity: 0.045\n",
            "Completeness: 0.097\n",
            "V-measure: 0.061\n",
            "FMI: 0.141\n"
          ],
          "name": "stdout"
        },
        {
          "output_type": "stream",
          "text": [
            "/usr/local/lib/python3.6/dist-packages/sklearn/metrics/cluster/supervised.py:859: FutureWarning: The behavior of NMI will change in version 0.22. To match the behavior of 'v_measure_score', NMI will use average_method='arithmetic' by default.\n",
            "  FutureWarning)\n",
            "/usr/local/lib/python3.6/dist-packages/sklearn/metrics/cluster/supervised.py:746: FutureWarning: The behavior of AMI will change in version 0.22. To match the behavior of 'v_measure_score', AMI will use average_method='arithmetic' by default.\n",
            "  FutureWarning)\n"
          ],
          "name": "stderr"
        }
      ]
    },
    {
      "cell_type": "code",
      "metadata": {
        "id": "VUeS7e7Dxlxs",
        "colab_type": "code",
        "outputId": "757ad0fb-1dfc-4976-81ee-9c7d109e73a9",
        "colab": {
          "base_uri": "https://localhost:8080/",
          "height": 34
        }
      },
      "source": [
        "gmm = GaussianMixture(n_components=20)\n",
        "gmm.fit(tfidf_sub.toarray())\n",
        "# predict the cluster for each data point\n",
        "y_pred = gmm.predict(tfidf_sub.toarray())\n",
        "y_pred"
      ],
      "execution_count": 0,
      "outputs": [
        {
          "output_type": "execute_result",
          "data": {
            "text/plain": [
              "array([11,  8, 17, ..., 11, 11, 17])"
            ]
          },
          "metadata": {
            "tags": []
          },
          "execution_count": 17
        }
      ]
    },
    {
      "cell_type": "code",
      "metadata": {
        "id": "nCPrI3ocNyLk",
        "colab_type": "code",
        "outputId": "a4cea6aa-a64c-473c-ae6a-f97c04f2a840",
        "colab": {
          "base_uri": "https://localhost:8080/",
          "height": 224
        }
      },
      "source": [
        "print(\"Adjusted Rand-Index: %.3f\" % metrics.adjusted_rand_score(y, y_pred))\n",
        "print(\"NMI: %.3f\" % metrics.normalized_mutual_info_score(y, y_pred))\n",
        "print(\"AMI: %.3f\" % metrics.adjusted_mutual_info_score(y, y_pred))\n",
        "print(\"Homogeneity: %0.3f\" % metrics.homogeneity_score(y, y_pred))\n",
        "print(\"Completeness: %0.3f\" % metrics.completeness_score(y, y_pred))\n",
        "print(\"V-measure: %0.3f\" % metrics.v_measure_score(y, y_pred))\n",
        "print(\"FMI: %.3f\" % metrics.fowlkes_mallows_score(y, y_pred))"
      ],
      "execution_count": 0,
      "outputs": [
        {
          "output_type": "stream",
          "text": [
            "Adjusted Rand-Index: 0.014\n",
            "NMI: 0.057\n",
            "AMI: 0.033\n",
            "Homogeneity: 0.035\n",
            "Completeness: 0.094\n",
            "V-measure: 0.050\n",
            "FMI: 0.153\n"
          ],
          "name": "stdout"
        },
        {
          "output_type": "stream",
          "text": [
            "/usr/local/lib/python3.6/dist-packages/sklearn/metrics/cluster/supervised.py:859: FutureWarning: The behavior of NMI will change in version 0.22. To match the behavior of 'v_measure_score', NMI will use average_method='arithmetic' by default.\n",
            "  FutureWarning)\n",
            "/usr/local/lib/python3.6/dist-packages/sklearn/metrics/cluster/supervised.py:746: FutureWarning: The behavior of AMI will change in version 0.22. To match the behavior of 'v_measure_score', AMI will use average_method='arithmetic' by default.\n",
            "  FutureWarning)\n"
          ],
          "name": "stderr"
        }
      ]
    },
    {
      "cell_type": "code",
      "metadata": {
        "id": "P8xFvmb5Ng94",
        "colab_type": "code",
        "outputId": "46da8acb-a52a-4950-cb6b-28bd7850ad43",
        "colab": {
          "base_uri": "https://localhost:8080/",
          "height": 34
        }
      },
      "source": [
        "gmm = GaussianMixture(n_components=20)\n",
        "gmm.fit(tfidf_max.toarray())\n",
        "# predict the cluster for each data point\n",
        "y_pred = gmm.predict(tfidf_max.toarray())\n",
        "y_pred"
      ],
      "execution_count": 0,
      "outputs": [
        {
          "output_type": "execute_result",
          "data": {
            "text/plain": [
              "array([ 7,  3,  1, ...,  7,  4, 12])"
            ]
          },
          "metadata": {
            "tags": []
          },
          "execution_count": 19
        }
      ]
    },
    {
      "cell_type": "code",
      "metadata": {
        "id": "X2Fz7ipuNzXh",
        "colab_type": "code",
        "outputId": "8e6dd44b-eb5a-41c2-c10d-68ef34e9fba7",
        "colab": {
          "base_uri": "https://localhost:8080/",
          "height": 224
        }
      },
      "source": [
        "print(\"Adjusted Rand-Index: %.3f\" % metrics.adjusted_rand_score(y, y_pred))\n",
        "print(\"NMI: %.3f\" % metrics.normalized_mutual_info_score(y, y_pred))\n",
        "print(\"AMI: %.3f\" % metrics.adjusted_mutual_info_score(y, y_pred))\n",
        "print(\"Homogeneity: %0.3f\" % metrics.homogeneity_score(y, y_pred))\n",
        "print(\"Completeness: %0.3f\" % metrics.completeness_score(y, y_pred))\n",
        "print(\"V-measure: %0.3f\" % metrics.v_measure_score(y, y_pred))\n",
        "print(\"FMI: %.3f\" % metrics.fowlkes_mallows_score(y, y_pred))"
      ],
      "execution_count": 0,
      "outputs": [
        {
          "output_type": "stream",
          "text": [
            "Adjusted Rand-Index: 0.021\n",
            "NMI: 0.124\n",
            "AMI: 0.093\n",
            "Homogeneity: 0.095\n",
            "Completeness: 0.161\n",
            "V-measure: 0.120\n",
            "FMI: 0.130\n"
          ],
          "name": "stdout"
        },
        {
          "output_type": "stream",
          "text": [
            "/usr/local/lib/python3.6/dist-packages/sklearn/metrics/cluster/supervised.py:859: FutureWarning: The behavior of NMI will change in version 0.22. To match the behavior of 'v_measure_score', NMI will use average_method='arithmetic' by default.\n",
            "  FutureWarning)\n",
            "/usr/local/lib/python3.6/dist-packages/sklearn/metrics/cluster/supervised.py:746: FutureWarning: The behavior of AMI will change in version 0.22. To match the behavior of 'v_measure_score', AMI will use average_method='arithmetic' by default.\n",
            "  FutureWarning)\n"
          ],
          "name": "stderr"
        }
      ]
    },
    {
      "cell_type": "code",
      "metadata": {
        "id": "6tRZck69Nh5l",
        "colab_type": "code",
        "outputId": "ca724857-f83e-46da-9919-24ae1a09148b",
        "colab": {
          "base_uri": "https://localhost:8080/",
          "height": 34
        }
      },
      "source": [
        "gmm = GaussianMixture(n_components=20)\n",
        "gmm.fit(tfidf_bigram.toarray())\n",
        "# predict the cluster for each data point\n",
        "y_pred = gmm.predict(tfidf_bigram.toarray())\n",
        "y_pred"
      ],
      "execution_count": 0,
      "outputs": [
        {
          "output_type": "execute_result",
          "data": {
            "text/plain": [
              "array([16,  4,  1, ..., 16, 16,  1])"
            ]
          },
          "metadata": {
            "tags": []
          },
          "execution_count": 21
        }
      ]
    },
    {
      "cell_type": "code",
      "metadata": {
        "id": "PZV7bV_AN0WE",
        "colab_type": "code",
        "outputId": "b0892178-e943-406d-cd9e-c5478b17ef8b",
        "colab": {
          "base_uri": "https://localhost:8080/",
          "height": 224
        }
      },
      "source": [
        "print(\"Adjusted Rand-Index: %.3f\" % metrics.adjusted_rand_score(y, y_pred))\n",
        "print(\"NMI: %.3f\" % metrics.normalized_mutual_info_score(y, y_pred))\n",
        "print(\"AMI: %.3f\" % metrics.adjusted_mutual_info_score(y, y_pred))\n",
        "print(\"Homogeneity: %0.3f\" % metrics.homogeneity_score(y, y_pred))\n",
        "print(\"Completeness: %0.3f\" % metrics.completeness_score(y, y_pred))\n",
        "print(\"V-measure: %0.3f\" % metrics.v_measure_score(y, y_pred))\n",
        "print(\"FMI: %.3f\" % metrics.fowlkes_mallows_score(y, y_pred))"
      ],
      "execution_count": 0,
      "outputs": [
        {
          "output_type": "stream",
          "text": [
            "Adjusted Rand-Index: 0.013\n",
            "NMI: 0.053\n",
            "AMI: 0.031\n",
            "Homogeneity: 0.032\n",
            "Completeness: 0.089\n",
            "V-measure: 0.047\n",
            "FMI: 0.152\n"
          ],
          "name": "stdout"
        },
        {
          "output_type": "stream",
          "text": [
            "/usr/local/lib/python3.6/dist-packages/sklearn/metrics/cluster/supervised.py:859: FutureWarning: The behavior of NMI will change in version 0.22. To match the behavior of 'v_measure_score', NMI will use average_method='arithmetic' by default.\n",
            "  FutureWarning)\n",
            "/usr/local/lib/python3.6/dist-packages/sklearn/metrics/cluster/supervised.py:746: FutureWarning: The behavior of AMI will change in version 0.22. To match the behavior of 'v_measure_score', AMI will use average_method='arithmetic' by default.\n",
            "  FutureWarning)\n"
          ],
          "name": "stderr"
        }
      ]
    }
  ]
}