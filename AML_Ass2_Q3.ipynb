{
  "nbformat": 4,
  "nbformat_minor": 0,
  "metadata": {
    "colab": {
      "name": "AML Ass2 Q3.ipynb",
      "provenance": [],
      "collapsed_sections": [],
      "toc_visible": true,
      "authorship_tag": "ABX9TyNpcOylGdjTDHMhRG6ycHwi",
      "include_colab_link": true
    },
    "kernelspec": {
      "name": "python3",
      "display_name": "Python 3"
    }
  },
  "cells": [
    {
      "cell_type": "markdown",
      "metadata": {
        "id": "view-in-github",
        "colab_type": "text"
      },
      "source": [
        "<a href=\"https://colab.research.google.com/github/HarryPotter12/PractiseML/blob/master/AML_Ass2_Q3.ipynb\" target=\"_parent\"><img src=\"https://colab.research.google.com/assets/colab-badge.svg\" alt=\"Open In Colab\"/></a>"
      ]
    },
    {
      "cell_type": "markdown",
      "metadata": {
        "id": "VdMBnHGFDpde"
      },
      "source": [
        "#### 3. Random Forests: (5 + 2.5 + 2.5 = 10 marks)\n",
        "(a) Write your own random forest classifier (this should be relatively easy, given you have written your own decision tree code) to apply to the Spam dataset [[data](http://statweb.stanford.edu/~tibs/ElemStatLearn/datasets/spam.data), [information](http://statweb.stanford.edu/~tibs/ElemStatLearn/datasets/spam.info.txt)]. \\\n",
        "Use 30% of the provided data as test data and the remaining for training. \\\n",
        "Compare your results in terms of accuracy and time taken with Scikitlearn's built-in random forest classifier. (Note that you can't use in-built decision tree functions to implement your code. You can modify your decision tree code of the Assignment 1, or code a new one, to implement a random forest. You can however use the inbuilt train test split of sklearn to divide the data into train and test.)"
      ]
    },
    {
      "cell_type": "code",
      "metadata": {
        "id": "QVyeqqbwmtfn",
        "colab": {
          "base_uri": "https://localhost:8080/"
        },
        "outputId": "30e6b8ff-33b0-414e-f93e-b0312192d0e1"
      },
      "source": [
        "from google.colab import drive\n",
        "drive.mount('/content/gdrive')"
      ],
      "execution_count": null,
      "outputs": [
        {
          "output_type": "stream",
          "text": [
            "Drive already mounted at /content/gdrive; to attempt to forcibly remount, call drive.mount(\"/content/gdrive\", force_remount=True).\n"
          ],
          "name": "stdout"
        }
      ]
    },
    {
      "cell_type": "code",
      "metadata": {
        "id": "RZuKQnQ_7FM1"
      },
      "source": [
        "!rm -f spam*\n",
        "!rm -f *.py"
      ],
      "execution_count": null,
      "outputs": []
    },
    {
      "cell_type": "code",
      "metadata": {
        "id": "Ec21JPNiRa-K",
        "colab": {
          "base_uri": "https://localhost:8080/"
        },
        "outputId": "21b7ec7f-7704-4a77-c5a3-4dbfbc1dccd7"
      },
      "source": [
        "!wget http://statweb.stanford.edu/~tibs/ElemStatLearn/datasets/spam.data\n",
        "!cp '/content/gdrive/My Drive/My Python Scripts/'*.py /content/"
      ],
      "execution_count": null,
      "outputs": [
        {
          "output_type": "stream",
          "text": [
            "--2020-11-25 17:46:37--  http://statweb.stanford.edu/~tibs/ElemStatLearn/datasets/spam.data\n",
            "Resolving statweb.stanford.edu (statweb.stanford.edu)... 171.67.24.34\n",
            "Connecting to statweb.stanford.edu (statweb.stanford.edu)|171.67.24.34|:80... connected.\n",
            "HTTP request sent, awaiting response... 301 Moved Permanently\n",
            "Location: https://web.stanford.edu/~hastie/ElemStatLearn//datasets/spam.data [following]\n",
            "--2020-11-25 17:46:37--  https://web.stanford.edu/~hastie/ElemStatLearn//datasets/spam.data\n",
            "Resolving web.stanford.edu (web.stanford.edu)... 171.67.215.200, 2607:f6d0:0:925a::ab43:d7c8\n",
            "Connecting to web.stanford.edu (web.stanford.edu)|171.67.215.200|:443... connected.\n",
            "HTTP request sent, awaiting response... 200 OK\n",
            "Length: 698341 (682K)\n",
            "Saving to: ‘spam.data’\n",
            "\n",
            "spam.data           100%[===================>] 681.97K   992KB/s    in 0.7s    \n",
            "\n",
            "2020-11-25 17:46:38 (992 KB/s) - ‘spam.data’ saved [698341/698341]\n",
            "\n"
          ],
          "name": "stdout"
        }
      ]
    },
    {
      "cell_type": "code",
      "metadata": {
        "id": "M3L6h7kRp9ee"
      },
      "source": [
        "import numpy as np\n",
        "import pandas as pd\n",
        "import time\n",
        "\n",
        "import random\n",
        "import matplotlib.pyplot as plt\n",
        "\n",
        "from helper_functions import my_train_test_split, calculate_accuracy\n",
        "from decision_tree_functions import decision_tree_algorithm, decision_tree_predictions"
      ],
      "execution_count": null,
      "outputs": []
    },
    {
      "cell_type": "code",
      "metadata": {
        "id": "3GTdrXrjomLg",
        "colab": {
          "base_uri": "https://localhost:8080/"
        },
        "outputId": "6b5694ed-d363-46dc-8132-c09e913cdb8d"
      },
      "source": [
        "df = pd.read_csv(\"/content/spam.data\",sep='\\s*',header=None)"
      ],
      "execution_count": null,
      "outputs": [
        {
          "output_type": "stream",
          "text": [
            "/usr/local/lib/python3.6/dist-packages/ipykernel_launcher.py:1: ParserWarning: Falling back to the 'python' engine because the 'c' engine does not support regex separators (separators > 1 char and different from '\\s+' are interpreted as regex); you can avoid this warning by specifying engine='python'.\n",
            "  \"\"\"Entry point for launching an IPython kernel.\n",
            "/usr/local/lib/python3.6/dist-packages/pandas/io/parsers.py:2547: FutureWarning: split() requires a non-empty pattern match.\n",
            "  yield pat.split(line.strip())\n",
            "/usr/local/lib/python3.6/dist-packages/pandas/io/parsers.py:2550: FutureWarning: split() requires a non-empty pattern match.\n",
            "  yield pat.split(line.strip())\n"
          ],
          "name": "stderr"
        }
      ]
    },
    {
      "cell_type": "markdown",
      "metadata": {
        "id": "s4dtaunfqxVX"
      },
      "source": [
        "### Personal Implementation"
      ]
    },
    {
      "cell_type": "code",
      "metadata": {
        "id": "wWWlsQXzON7h"
      },
      "source": [
        "df[\"label\"] = df[df.columns[-1]]\n",
        "df = df.drop(df.columns[-2], axis=1)\n",
        "df.columns = df.columns.astype(str)"
      ],
      "execution_count": null,
      "outputs": []
    },
    {
      "cell_type": "code",
      "metadata": {
        "colab": {
          "base_uri": "https://localhost:8080/",
          "height": 224
        },
        "id": "kUAWwVQPQQ0m",
        "outputId": "4dc3a177-2439-49d3-b056-caa2f9844927"
      },
      "source": [
        "df.head()"
      ],
      "execution_count": null,
      "outputs": [
        {
          "output_type": "execute_result",
          "data": {
            "text/html": [
              "<div>\n",
              "<style scoped>\n",
              "    .dataframe tbody tr th:only-of-type {\n",
              "        vertical-align: middle;\n",
              "    }\n",
              "\n",
              "    .dataframe tbody tr th {\n",
              "        vertical-align: top;\n",
              "    }\n",
              "\n",
              "    .dataframe thead th {\n",
              "        text-align: right;\n",
              "    }\n",
              "</style>\n",
              "<table border=\"1\" class=\"dataframe\">\n",
              "  <thead>\n",
              "    <tr style=\"text-align: right;\">\n",
              "      <th></th>\n",
              "      <th>0</th>\n",
              "      <th>1</th>\n",
              "      <th>2</th>\n",
              "      <th>3</th>\n",
              "      <th>4</th>\n",
              "      <th>5</th>\n",
              "      <th>6</th>\n",
              "      <th>7</th>\n",
              "      <th>8</th>\n",
              "      <th>9</th>\n",
              "      <th>10</th>\n",
              "      <th>11</th>\n",
              "      <th>12</th>\n",
              "      <th>13</th>\n",
              "      <th>14</th>\n",
              "      <th>15</th>\n",
              "      <th>16</th>\n",
              "      <th>17</th>\n",
              "      <th>18</th>\n",
              "      <th>19</th>\n",
              "      <th>20</th>\n",
              "      <th>21</th>\n",
              "      <th>22</th>\n",
              "      <th>23</th>\n",
              "      <th>24</th>\n",
              "      <th>25</th>\n",
              "      <th>26</th>\n",
              "      <th>27</th>\n",
              "      <th>28</th>\n",
              "      <th>29</th>\n",
              "      <th>30</th>\n",
              "      <th>31</th>\n",
              "      <th>32</th>\n",
              "      <th>33</th>\n",
              "      <th>34</th>\n",
              "      <th>35</th>\n",
              "      <th>36</th>\n",
              "      <th>37</th>\n",
              "      <th>38</th>\n",
              "      <th>39</th>\n",
              "      <th>40</th>\n",
              "      <th>41</th>\n",
              "      <th>42</th>\n",
              "      <th>43</th>\n",
              "      <th>44</th>\n",
              "      <th>45</th>\n",
              "      <th>46</th>\n",
              "      <th>47</th>\n",
              "      <th>48</th>\n",
              "      <th>49</th>\n",
              "      <th>50</th>\n",
              "      <th>51</th>\n",
              "      <th>52</th>\n",
              "      <th>53</th>\n",
              "      <th>54</th>\n",
              "      <th>55</th>\n",
              "      <th>56</th>\n",
              "      <th>label</th>\n",
              "    </tr>\n",
              "  </thead>\n",
              "  <tbody>\n",
              "    <tr>\n",
              "      <th>0</th>\n",
              "      <td>0.00</td>\n",
              "      <td>0.64</td>\n",
              "      <td>0.64</td>\n",
              "      <td>0.0</td>\n",
              "      <td>0.32</td>\n",
              "      <td>0.00</td>\n",
              "      <td>0.00</td>\n",
              "      <td>0.00</td>\n",
              "      <td>0.00</td>\n",
              "      <td>0.00</td>\n",
              "      <td>0.00</td>\n",
              "      <td>0.64</td>\n",
              "      <td>0.00</td>\n",
              "      <td>0.00</td>\n",
              "      <td>0.00</td>\n",
              "      <td>0.32</td>\n",
              "      <td>0.00</td>\n",
              "      <td>1.29</td>\n",
              "      <td>1.93</td>\n",
              "      <td>0.00</td>\n",
              "      <td>0.96</td>\n",
              "      <td>0.0</td>\n",
              "      <td>0.00</td>\n",
              "      <td>0.00</td>\n",
              "      <td>0.0</td>\n",
              "      <td>0.0</td>\n",
              "      <td>0.0</td>\n",
              "      <td>0.0</td>\n",
              "      <td>0.0</td>\n",
              "      <td>0.0</td>\n",
              "      <td>0.0</td>\n",
              "      <td>0.0</td>\n",
              "      <td>0.0</td>\n",
              "      <td>0.0</td>\n",
              "      <td>0.0</td>\n",
              "      <td>0.0</td>\n",
              "      <td>0.00</td>\n",
              "      <td>0.0</td>\n",
              "      <td>0.0</td>\n",
              "      <td>0.00</td>\n",
              "      <td>0.0</td>\n",
              "      <td>0.0</td>\n",
              "      <td>0.00</td>\n",
              "      <td>0.0</td>\n",
              "      <td>0.00</td>\n",
              "      <td>0.00</td>\n",
              "      <td>0.0</td>\n",
              "      <td>0.0</td>\n",
              "      <td>0.00</td>\n",
              "      <td>0.000</td>\n",
              "      <td>0.0</td>\n",
              "      <td>0.778</td>\n",
              "      <td>0.000</td>\n",
              "      <td>0.000</td>\n",
              "      <td>3.756</td>\n",
              "      <td>61</td>\n",
              "      <td>278</td>\n",
              "      <td>1</td>\n",
              "    </tr>\n",
              "    <tr>\n",
              "      <th>1</th>\n",
              "      <td>0.21</td>\n",
              "      <td>0.28</td>\n",
              "      <td>0.50</td>\n",
              "      <td>0.0</td>\n",
              "      <td>0.14</td>\n",
              "      <td>0.28</td>\n",
              "      <td>0.21</td>\n",
              "      <td>0.07</td>\n",
              "      <td>0.00</td>\n",
              "      <td>0.94</td>\n",
              "      <td>0.21</td>\n",
              "      <td>0.79</td>\n",
              "      <td>0.65</td>\n",
              "      <td>0.21</td>\n",
              "      <td>0.14</td>\n",
              "      <td>0.14</td>\n",
              "      <td>0.07</td>\n",
              "      <td>0.28</td>\n",
              "      <td>3.47</td>\n",
              "      <td>0.00</td>\n",
              "      <td>1.59</td>\n",
              "      <td>0.0</td>\n",
              "      <td>0.43</td>\n",
              "      <td>0.43</td>\n",
              "      <td>0.0</td>\n",
              "      <td>0.0</td>\n",
              "      <td>0.0</td>\n",
              "      <td>0.0</td>\n",
              "      <td>0.0</td>\n",
              "      <td>0.0</td>\n",
              "      <td>0.0</td>\n",
              "      <td>0.0</td>\n",
              "      <td>0.0</td>\n",
              "      <td>0.0</td>\n",
              "      <td>0.0</td>\n",
              "      <td>0.0</td>\n",
              "      <td>0.07</td>\n",
              "      <td>0.0</td>\n",
              "      <td>0.0</td>\n",
              "      <td>0.00</td>\n",
              "      <td>0.0</td>\n",
              "      <td>0.0</td>\n",
              "      <td>0.00</td>\n",
              "      <td>0.0</td>\n",
              "      <td>0.00</td>\n",
              "      <td>0.00</td>\n",
              "      <td>0.0</td>\n",
              "      <td>0.0</td>\n",
              "      <td>0.00</td>\n",
              "      <td>0.132</td>\n",
              "      <td>0.0</td>\n",
              "      <td>0.372</td>\n",
              "      <td>0.180</td>\n",
              "      <td>0.048</td>\n",
              "      <td>5.114</td>\n",
              "      <td>101</td>\n",
              "      <td>1028</td>\n",
              "      <td>1</td>\n",
              "    </tr>\n",
              "    <tr>\n",
              "      <th>2</th>\n",
              "      <td>0.06</td>\n",
              "      <td>0.00</td>\n",
              "      <td>0.71</td>\n",
              "      <td>0.0</td>\n",
              "      <td>1.23</td>\n",
              "      <td>0.19</td>\n",
              "      <td>0.19</td>\n",
              "      <td>0.12</td>\n",
              "      <td>0.64</td>\n",
              "      <td>0.25</td>\n",
              "      <td>0.38</td>\n",
              "      <td>0.45</td>\n",
              "      <td>0.12</td>\n",
              "      <td>0.00</td>\n",
              "      <td>1.75</td>\n",
              "      <td>0.06</td>\n",
              "      <td>0.06</td>\n",
              "      <td>1.03</td>\n",
              "      <td>1.36</td>\n",
              "      <td>0.32</td>\n",
              "      <td>0.51</td>\n",
              "      <td>0.0</td>\n",
              "      <td>1.16</td>\n",
              "      <td>0.06</td>\n",
              "      <td>0.0</td>\n",
              "      <td>0.0</td>\n",
              "      <td>0.0</td>\n",
              "      <td>0.0</td>\n",
              "      <td>0.0</td>\n",
              "      <td>0.0</td>\n",
              "      <td>0.0</td>\n",
              "      <td>0.0</td>\n",
              "      <td>0.0</td>\n",
              "      <td>0.0</td>\n",
              "      <td>0.0</td>\n",
              "      <td>0.0</td>\n",
              "      <td>0.00</td>\n",
              "      <td>0.0</td>\n",
              "      <td>0.0</td>\n",
              "      <td>0.06</td>\n",
              "      <td>0.0</td>\n",
              "      <td>0.0</td>\n",
              "      <td>0.12</td>\n",
              "      <td>0.0</td>\n",
              "      <td>0.06</td>\n",
              "      <td>0.06</td>\n",
              "      <td>0.0</td>\n",
              "      <td>0.0</td>\n",
              "      <td>0.01</td>\n",
              "      <td>0.143</td>\n",
              "      <td>0.0</td>\n",
              "      <td>0.276</td>\n",
              "      <td>0.184</td>\n",
              "      <td>0.010</td>\n",
              "      <td>9.821</td>\n",
              "      <td>485</td>\n",
              "      <td>2259</td>\n",
              "      <td>1</td>\n",
              "    </tr>\n",
              "    <tr>\n",
              "      <th>3</th>\n",
              "      <td>0.00</td>\n",
              "      <td>0.00</td>\n",
              "      <td>0.00</td>\n",
              "      <td>0.0</td>\n",
              "      <td>0.63</td>\n",
              "      <td>0.00</td>\n",
              "      <td>0.31</td>\n",
              "      <td>0.63</td>\n",
              "      <td>0.31</td>\n",
              "      <td>0.63</td>\n",
              "      <td>0.31</td>\n",
              "      <td>0.31</td>\n",
              "      <td>0.31</td>\n",
              "      <td>0.00</td>\n",
              "      <td>0.00</td>\n",
              "      <td>0.31</td>\n",
              "      <td>0.00</td>\n",
              "      <td>0.00</td>\n",
              "      <td>3.18</td>\n",
              "      <td>0.00</td>\n",
              "      <td>0.31</td>\n",
              "      <td>0.0</td>\n",
              "      <td>0.00</td>\n",
              "      <td>0.00</td>\n",
              "      <td>0.0</td>\n",
              "      <td>0.0</td>\n",
              "      <td>0.0</td>\n",
              "      <td>0.0</td>\n",
              "      <td>0.0</td>\n",
              "      <td>0.0</td>\n",
              "      <td>0.0</td>\n",
              "      <td>0.0</td>\n",
              "      <td>0.0</td>\n",
              "      <td>0.0</td>\n",
              "      <td>0.0</td>\n",
              "      <td>0.0</td>\n",
              "      <td>0.00</td>\n",
              "      <td>0.0</td>\n",
              "      <td>0.0</td>\n",
              "      <td>0.00</td>\n",
              "      <td>0.0</td>\n",
              "      <td>0.0</td>\n",
              "      <td>0.00</td>\n",
              "      <td>0.0</td>\n",
              "      <td>0.00</td>\n",
              "      <td>0.00</td>\n",
              "      <td>0.0</td>\n",
              "      <td>0.0</td>\n",
              "      <td>0.00</td>\n",
              "      <td>0.137</td>\n",
              "      <td>0.0</td>\n",
              "      <td>0.137</td>\n",
              "      <td>0.000</td>\n",
              "      <td>0.000</td>\n",
              "      <td>3.537</td>\n",
              "      <td>40</td>\n",
              "      <td>191</td>\n",
              "      <td>1</td>\n",
              "    </tr>\n",
              "    <tr>\n",
              "      <th>4</th>\n",
              "      <td>0.00</td>\n",
              "      <td>0.00</td>\n",
              "      <td>0.00</td>\n",
              "      <td>0.0</td>\n",
              "      <td>0.63</td>\n",
              "      <td>0.00</td>\n",
              "      <td>0.31</td>\n",
              "      <td>0.63</td>\n",
              "      <td>0.31</td>\n",
              "      <td>0.63</td>\n",
              "      <td>0.31</td>\n",
              "      <td>0.31</td>\n",
              "      <td>0.31</td>\n",
              "      <td>0.00</td>\n",
              "      <td>0.00</td>\n",
              "      <td>0.31</td>\n",
              "      <td>0.00</td>\n",
              "      <td>0.00</td>\n",
              "      <td>3.18</td>\n",
              "      <td>0.00</td>\n",
              "      <td>0.31</td>\n",
              "      <td>0.0</td>\n",
              "      <td>0.00</td>\n",
              "      <td>0.00</td>\n",
              "      <td>0.0</td>\n",
              "      <td>0.0</td>\n",
              "      <td>0.0</td>\n",
              "      <td>0.0</td>\n",
              "      <td>0.0</td>\n",
              "      <td>0.0</td>\n",
              "      <td>0.0</td>\n",
              "      <td>0.0</td>\n",
              "      <td>0.0</td>\n",
              "      <td>0.0</td>\n",
              "      <td>0.0</td>\n",
              "      <td>0.0</td>\n",
              "      <td>0.00</td>\n",
              "      <td>0.0</td>\n",
              "      <td>0.0</td>\n",
              "      <td>0.00</td>\n",
              "      <td>0.0</td>\n",
              "      <td>0.0</td>\n",
              "      <td>0.00</td>\n",
              "      <td>0.0</td>\n",
              "      <td>0.00</td>\n",
              "      <td>0.00</td>\n",
              "      <td>0.0</td>\n",
              "      <td>0.0</td>\n",
              "      <td>0.00</td>\n",
              "      <td>0.135</td>\n",
              "      <td>0.0</td>\n",
              "      <td>0.135</td>\n",
              "      <td>0.000</td>\n",
              "      <td>0.000</td>\n",
              "      <td>3.537</td>\n",
              "      <td>40</td>\n",
              "      <td>191</td>\n",
              "      <td>1</td>\n",
              "    </tr>\n",
              "  </tbody>\n",
              "</table>\n",
              "</div>"
            ],
            "text/plain": [
              "      0     1     2    3     4     5  ...     52     53     54   55    56  label\n",
              "0  0.00  0.64  0.64  0.0  0.32  0.00  ...  0.000  0.000  3.756   61   278      1\n",
              "1  0.21  0.28  0.50  0.0  0.14  0.28  ...  0.180  0.048  5.114  101  1028      1\n",
              "2  0.06  0.00  0.71  0.0  1.23  0.19  ...  0.184  0.010  9.821  485  2259      1\n",
              "3  0.00  0.00  0.00  0.0  0.63  0.00  ...  0.000  0.000  3.537   40   191      1\n",
              "4  0.00  0.00  0.00  0.0  0.63  0.00  ...  0.000  0.000  3.537   40   191      1\n",
              "\n",
              "[5 rows x 58 columns]"
            ]
          },
          "metadata": {
            "tags": []
          },
          "execution_count": 7
        }
      ]
    },
    {
      "cell_type": "code",
      "metadata": {
        "id": "3YO9wU-9Eq0X"
      },
      "source": [
        "random.seed(42)\n",
        "train_df, test_df = my_train_test_split(df, test_size=0.3)"
      ],
      "execution_count": null,
      "outputs": []
    },
    {
      "cell_type": "markdown",
      "metadata": {
        "id": "kymLYTX5zoA2"
      },
      "source": [
        "train_df"
      ]
    },
    {
      "cell_type": "code",
      "metadata": {
        "id": "FWz5LlG7Ey6L"
      },
      "source": [
        "def bootstrapping(train_df, n_bootstrap):\n",
        "  bootstrap_indices = np.random.randint(low=0, high=len(train_df), size=n_bootstrap)\n",
        "  df_bootstrapped = train_df.iloc[bootstrap_indices]\n",
        "  oob_indices = [i for i in range(len(train_df)) if i not in bootstrap_indices]\n",
        "  df_oob = train_df.iloc[oob_indices]\n",
        "  \n",
        "  return df_bootstrapped, df_oob\n",
        "\n",
        "def calculate_oob_error(tree, df_oob):\n",
        "  mis_label = 0\n",
        "  pred = decision_tree_predictions(df_oob, tree)\n",
        "  for i in range(len(df_oob)):\n",
        "    if pred.iloc[i] != df_oob.iloc[i,-1]:\n",
        "      mis_label += 1\n",
        "  return mis_label / len(df_oob)\n",
        "\n",
        "def random_forest_algorithm(train_df, n_trees, n_bootstrap, n_features, dt_max_depth):\n",
        "  forest = []\n",
        "  oob_ls = []\n",
        "  for i in range(n_trees):\n",
        "    df_bootstrapped, df_oob = bootstrapping(train_df, n_bootstrap)\n",
        "    tree = decision_tree_algorithm(df_bootstrapped, max_depth=dt_max_depth, random_subspace=n_features)\n",
        "    if str(type(tree)) != \"<class 'numpy.float64'>\":\n",
        "      forest.append(tree)\n",
        "      oob_error = calculate_oob_error(tree, df_oob)\n",
        "      oob_ls.append(oob_error)\n",
        "  return forest, oob_ls\n",
        "\n",
        "def random_forest_predictions(test_df, forest):\n",
        "  df_predictions = {}\n",
        "  for i in range(len(forest)):\n",
        "    column_name = \"tree_{}\".format(i)\n",
        "    predictions = decision_tree_predictions(test_df, tree=forest[i])\n",
        "    df_predictions[column_name] = predictions\n",
        "\n",
        "  df_predictions = pd.DataFrame(df_predictions)\n",
        "  random_forest_predictions = df_predictions.mode(axis=1)[0]\n",
        "  \n",
        "  return random_forest_predictions"
      ],
      "execution_count": null,
      "outputs": []
    },
    {
      "cell_type": "code",
      "metadata": {
        "id": "91vmd1AoE15Q",
        "colab": {
          "base_uri": "https://localhost:8080/"
        },
        "outputId": "f402e87e-d54b-47e8-a0e6-e0b5c924b466"
      },
      "source": [
        "start = time.time()\n",
        "\n",
        "forest, forest_oob_ls = random_forest_algorithm(train_df, n_trees=100, n_bootstrap=1200, n_features=57, dt_max_depth=45)\n",
        "predictions = random_forest_predictions(test_df, forest)\n",
        "\n",
        "end = time.time()\n",
        "accuracy = calculate_accuracy(predictions, test_df.label)\n",
        "\n",
        "print(\"Accuracy in My Implementation : {}\".format(accuracy))\n",
        "print(\"OOB Error in My Implementation : {:.2f}\".format(np.mean(forest_oob_ls)))\n",
        "print(\"Total runtime of the program is {} seconds\".format(end - start))"
      ],
      "execution_count": null,
      "outputs": [
        {
          "output_type": "stream",
          "text": [
            "Accuracy in My Implementation : 0.9369565217391305\n",
            "OOB Error in My Implementation : 0.11\n",
            "Total runtime of the program is 904.8131024837494 seconds\n"
          ],
          "name": "stdout"
        }
      ]
    },
    {
      "cell_type": "markdown",
      "metadata": {
        "id": "LSyw2P2aqi6C"
      },
      "source": [
        "### ScikitLearn Implementation"
      ]
    },
    {
      "cell_type": "code",
      "metadata": {
        "id": "zYKZOaYcjxGh"
      },
      "source": [
        "from sklearn.model_selection import train_test_split\n",
        "from sklearn.ensemble import RandomForestClassifier\n",
        "from sklearn import metrics"
      ],
      "execution_count": null,
      "outputs": []
    },
    {
      "cell_type": "code",
      "metadata": {
        "id": "kV4EzYZ4SD_J"
      },
      "source": [
        "X = df.iloc[:, :-1].values\n",
        "y = df.iloc[:, -1].values\n",
        "\n",
        "X_train, X_test, y_train, y_test = train_test_split(X, y, test_size=0.3)"
      ],
      "execution_count": null,
      "outputs": []
    },
    {
      "cell_type": "code",
      "metadata": {
        "id": "ZTiE86vVRwNE",
        "colab": {
          "base_uri": "https://localhost:8080/"
        },
        "outputId": "eaec45b2-af56-44c1-c7c0-c4b0bed79899"
      },
      "source": [
        "start = time.time()\n",
        "\n",
        "clf=RandomForestClassifier(criterion=\"entropy\", max_features=None, oob_score=True, max_samples=1200, max_depth=45, random_state=42)\n",
        "clf.fit(X_train,y_train)\n",
        "y_pred=clf.predict(X_test)\n",
        "\n",
        "end = time.time()\n",
        "\n",
        "print(\"Accuracy in SKLearn :\", metrics.accuracy_score(y_test, y_pred))\n",
        "print(\"OOB Error :\", 1-clf.oob_score_)\n",
        "print(\"Test Error :\",1-metrics.accuracy_score(y_test, y_pred))\n",
        "print(\"Total runtime of the program is {} seconds\".format(end - start))"
      ],
      "execution_count": null,
      "outputs": [
        {
          "output_type": "stream",
          "text": [
            "Accuracy in SKLearn : 0.9471397538015931\n",
            "OOB Error : 0.06242236024844716\n",
            "Test Error : 0.0528602461984069\n",
            "Total runtime of the program is 1.8944835662841797 seconds\n"
          ],
          "name": "stdout"
        }
      ]
    },
    {
      "cell_type": "markdown",
      "metadata": {
        "id": "ejoPNuLtXGj4"
      },
      "source": [
        "(b) Explore the sensitivity of Random Forests to the parameter m (the number of features\n",
        "used for best split)."
      ]
    },
    {
      "cell_type": "code",
      "metadata": {
        "id": "7K7a5AYuYzKT",
        "colab": {
          "base_uri": "https://localhost:8080/"
        },
        "outputId": "3600ce55-aa5e-4b06-e739-bb8df2fb8af1"
      },
      "source": [
        "oob_errors = []\n",
        "test_errors = []\n",
        "for i in range(1,11):\n",
        "  start = time.time()\n",
        "\n",
        "  forest, forest_oob_ls = random_forest_algorithm(train_df, n_trees=100, n_bootstrap=1200, n_features=i, dt_max_depth=45)\n",
        "  predictions = random_forest_predictions(test_df, forest)\n",
        "\n",
        "  end = time.time()\n",
        "  accuracy = calculate_accuracy(predictions, test_df.label)\n",
        "  oob_errors.append(np.mean(forest_oob_ls))\n",
        "  test_errors.append(1-accuracy)\n",
        "\n",
        "  print(\"No. of Features : {}\".format(i))\n",
        "  print(\"Accuracy in My Implementation : {}\".format(accuracy))\n",
        "  print(\"OOB Error in My Implementation : {:.2f}\".format(oob_errors[i-1]))\n",
        "  print(\"Total runtime of the program is {} seconds\".format(end - start))\n",
        "  print()"
      ],
      "execution_count": null,
      "outputs": [
        {
          "output_type": "stream",
          "text": [
            "No. of Features : 1\n",
            "Accuracy in My Implementation : 0.9014492753623189\n",
            "OOB Error in My Implementation : 0.19\n",
            "Total runtime of the program is 48.72276830673218 seconds\n",
            "\n",
            "No. of Features : 2\n",
            "Accuracy in My Implementation : 0.9326086956521739\n",
            "OOB Error in My Implementation : 0.14\n",
            "Total runtime of the program is 74.74606728553772 seconds\n",
            "\n",
            "No. of Features : 3\n",
            "Accuracy in My Implementation : 0.9376811594202898\n",
            "OOB Error in My Implementation : 0.14\n",
            "Total runtime of the program is 92.03992676734924 seconds\n",
            "\n",
            "No. of Features : 4\n",
            "Accuracy in My Implementation : 0.9347826086956522\n",
            "OOB Error in My Implementation : 0.13\n",
            "Total runtime of the program is 106.18241715431213 seconds\n",
            "\n",
            "No. of Features : 5\n",
            "Accuracy in My Implementation : 0.9398550724637681\n",
            "OOB Error in My Implementation : 0.13\n",
            "Total runtime of the program is 123.28477144241333 seconds\n",
            "\n",
            "No. of Features : 6\n",
            "Accuracy in My Implementation : 0.9369565217391305\n",
            "OOB Error in My Implementation : 0.12\n",
            "Total runtime of the program is 137.90984892845154 seconds\n",
            "\n",
            "No. of Features : 7\n",
            "Accuracy in My Implementation : 0.9340579710144927\n",
            "OOB Error in My Implementation : 0.12\n",
            "Total runtime of the program is 150.70185208320618 seconds\n",
            "\n",
            "No. of Features : 8\n",
            "Accuracy in My Implementation : 0.9384057971014492\n",
            "OOB Error in My Implementation : 0.12\n",
            "Total runtime of the program is 167.89872121810913 seconds\n",
            "\n",
            "No. of Features : 9\n",
            "Accuracy in My Implementation : 0.9398550724637681\n",
            "OOB Error in My Implementation : 0.12\n",
            "Total runtime of the program is 183.22214794158936 seconds\n",
            "\n",
            "No. of Features : 10\n",
            "Accuracy in My Implementation : 0.9391304347826087\n",
            "OOB Error in My Implementation : 0.12\n",
            "Total runtime of the program is 195.50431489944458 seconds\n",
            "\n"
          ],
          "name": "stdout"
        }
      ]
    },
    {
      "cell_type": "markdown",
      "metadata": {
        "id": "0fKWA4IWXwcp"
      },
      "source": [
        "Varying the number of features used for best split from 1 to 10, we can see that the accuracy as well as the OOB Error starts getting saturated near 7 which is $\\approx\\sqrt{Total\\ number\\ of\\ features}$ i.e. $\\sqrt{57}$"
      ]
    },
    {
      "cell_type": "markdown",
      "metadata": {
        "id": "PZy_bvLoXSgj"
      },
      "source": [
        "(c) Plot the OOB (out-of-bag) error (you have to find what this is, and read about it!) and\n",
        "the test error against a suitably chosen range of values for m. (Use your implementation\n",
        "of random forest to perform this analysis.)"
      ]
    },
    {
      "cell_type": "code",
      "metadata": {
        "colab": {
          "base_uri": "https://localhost:8080/",
          "height": 279
        },
        "id": "sge-S-n3Ju1F",
        "outputId": "49fc8bd9-f5ef-4799-b24d-b8b0085adc4e"
      },
      "source": [
        "plt.plot(range(1,11), oob_errors, label=\"OOB Errors\")\n",
        "plt.plot(range(1,11), test_errors, label=\"Test Errors\")\n",
        "plt.ylabel('Errors')\n",
        "plt.xlabel('Number of Features')\n",
        "plt.legend(loc=\"upper right\")\n",
        "plt.show()"
      ],
      "execution_count": null,
      "outputs": [
        {
          "output_type": "display_data",
          "data": {
            "image/png": "[encoded data removed]",
            "text/plain": [
              "<Figure size 432x288 with 1 Axes>"
            ]
          },
          "metadata": {
            "tags": [],
            "needs_background": "light"
          }
        }
      ]
    },
    {
      "cell_type": "code",
      "metadata": {
        "id": "FaAs-j_6hMb_"
      },
      "source": [
        ""
      ],
      "execution_count": null,
      "outputs": []
    }
  ]
}