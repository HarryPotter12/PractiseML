{
  "nbformat": 4,
  "nbformat_minor": 0,
  "metadata": {
    "colab": {
      "name": "20 newsgroup kernel kmeans.ipynb",
      "provenance": [],
      "collapsed_sections": [],
      "machine_shape": "hm",
      "include_colab_link": true
    },
    "kernelspec": {
      "name": "python3",
      "display_name": "Python 3"
    }
  },
  "cells": [
    {
      "cell_type": "markdown",
      "metadata": {
        "id": "view-in-github",
        "colab_type": "text"
      },
      "source": [
        "<a href=\"https://colab.research.google.com/github/HarryPotter12/PractiseML/blob/master/20_newsgroup_kernel_kmeans.ipynb\" target=\"_parent\"><img src=\"https://colab.research.google.com/assets/colab-badge.svg\" alt=\"Open In Colab\"/></a>"
      ]
    },
    {
      "cell_type": "code",
      "metadata": {
        "id": "ppo-May8ie8s",
        "colab_type": "code",
        "colab": {}
      },
      "source": [
        "#from google.colab import drive\n",
        "#drive.mount('/content/gdrive')"
      ],
      "execution_count": 0,
      "outputs": []
    },
    {
      "cell_type": "code",
      "metadata": {
        "id": "Fm5BClXQnv0D",
        "colab_type": "code",
        "colab": {}
      },
      "source": [
        "from sklearn.datasets import load_files\n",
        "from sklearn.datasets import fetch_20newsgroups\n",
        "from sklearn.model_selection import train_test_split\n",
        "#from sklearn.feature_extraction.text import CountVectorizer\n",
        "#from sklearn.feature_extraction.text import TfidfTransformer\n",
        "from sklearn.feature_extraction.text import TfidfVectorizer\n",
        "from matplotlib.pyplot import cm\n",
        "from matplotlib import pyplot as plt\n",
        "import numpy as np\n",
        "import time\n",
        "from sklearn import metrics"
      ],
      "execution_count": 0,
      "outputs": []
    },
    {
      "cell_type": "code",
      "metadata": {
        "id": "rKL6pQbTrRma",
        "colab_type": "code",
        "colab": {}
      },
      "source": [
        "newsgroups_full = fetch_20newsgroups(subset='all', remove=('headers', 'footers', 'quotes'))"
      ],
      "execution_count": 0,
      "outputs": []
    },
    {
      "cell_type": "code",
      "metadata": {
        "id": "fjzz12CJr0ck",
        "colab_type": "code",
        "outputId": "c8261b7c-0753-466f-eaa3-f19eacae29a5",
        "colab": {
          "base_uri": "https://localhost:8080/",
          "height": 54
        }
      },
      "source": [
        "print(newsgroups_full.data[:3])"
      ],
      "execution_count": 0,
      "outputs": [
        {
          "output_type": "stream",
          "text": [
            "[\"\\n\\nI am sure some bashers of Pens fans are pretty confused about the lack\\nof any kind of posts about the recent Pens massacre of the Devils. Actually,\\nI am  bit puzzled too and a bit relieved. However, I am going to put an end\\nto non-PIttsburghers' relief with a bit of praise for the Pens. Man, they\\nare killing those Devils worse than I thought. Jagr just showed you why\\nhe is much better than his regular season stats. He is also a lot\\nfo fun to watch in the playoffs. Bowman should let JAgr have a lot of\\nfun in the next couple of games since the Pens are going to beat the pulp out of Jersey anyway. I was very disappointed not to see the Islanders lose the final\\nregular season game.          PENS RULE!!!\\n\\n\", 'My brother is in the market for a high-performance video card that supports\\nVESA local bus with 1-2MB RAM.  Does anyone have suggestions/ideas on:\\n\\n  - Diamond Stealth Pro Local Bus\\n\\n  - Orchid Farenheit 1280\\n\\n  - ATI Graphics Ultra Pro\\n\\n  - Any other high-performance VLB card\\n\\n\\nPlease post or email.  Thank you!\\n\\n  - Matt\\n', '\\n\\n\\n\\n\\tFinally you said what you dream about. Mediterranean???? That was new....\\n\\tThe area will be \"greater\" after some years, like your \"holocaust\" numbers......\\n\\n\\n\\n\\n\\t\\t*****\\n\\tIs\\'t July in USA now????? Here in Sweden it\\'s April and still cold.\\n\\tOr have you changed your calendar???\\n\\n\\n\\t\\t\\t\\t\\t\\t    ****************\\n\\t\\t\\t\\t\\t\\t    ******************\\n\\t\\t\\t    ***************\\n\\n\\n\\tNOTHING OF THE MENTIONED IS TRUE, BUT LET SAY IT\\'s TRUE.\\n\\t\\n\\tSHALL THE AZERI WOMEN AND CHILDREN GOING TO PAY THE PRICE WITH\\n\\t\\t\\t\\t\\t\\t    **************\\n\\tBEING RAPED, KILLED AND TORTURED BY THE ARMENIANS??????????\\n\\t\\n\\tHAVE YOU HEARDED SOMETHING CALLED: \"GENEVA CONVENTION\"???????\\n\\tYOU FACIST!!!!!\\n\\n\\n\\n\\tOhhh i forgot, this is how Armenians fight, nobody has forgot\\n\\tyou killings, rapings and torture against the Kurds and Turks once\\n\\tupon a time!\\n      \\n       \\n\\n\\nOhhhh so swedish RedCross workers do lie they too? What ever you say\\n\"regional killer\", if you don\\'t like the person then shoot him that\\'s your policy.....l\\n\\n\\n\\t\\t\\t\\t\\t\\t\\t\\t\\t\\ti\\n\\t\\t\\t\\t\\t\\t\\t\\t\\t\\ti\\n\\t\\t\\t\\t\\t\\t\\t\\t\\t\\ti\\n\\tConfused?????\\t\\t\\t\\t\\t\\t\\t\\ti\\n\\t\\t\\t\\t\\t\\t\\t\\t\\t\\ti\\n        Search Turkish planes? You don\\'t know what you are talking about.\\ti\\n        Turkey\\'s government has announced that it\\'s giving weapons  <-----------i\\n        to Azerbadjan since Armenia started to attack Azerbadjan\\t\\t\\n        it self, not the Karabag province. So why search a plane for weapons\\t\\n        since it\\'s content is announced to be weapons?   \\n\\n\\tIf there is one that\\'s confused then that\\'s you! We have the right (and we do)\\n\\tto give weapons to the Azeris, since Armenians started the fight in Azerbadjan!\\n \\n\\n\\n\\tShoot down with what? Armenian bread and butter? Or the arms and personel \\n\\tof the Russian army?\\n\\n\\n']\n"
          ],
          "name": "stdout"
        }
      ]
    },
    {
      "cell_type": "code",
      "metadata": {
        "id": "n3Yv71jSJh-f",
        "colab_type": "code",
        "colab": {}
      },
      "source": [
        "X = newsgroups_full.data\n",
        "y = newsgroups_full.target"
      ],
      "execution_count": 0,
      "outputs": []
    },
    {
      "cell_type": "code",
      "metadata": {
        "id": "QWgFIjP0jpTk",
        "colab_type": "code",
        "colab": {}
      },
      "source": [
        "vectorizer = TfidfVectorizer(max_features = 10000)\n",
        "tfidf = vectorizer.fit_transform(X)"
      ],
      "execution_count": 0,
      "outputs": []
    },
    {
      "cell_type": "code",
      "metadata": {
        "id": "Lg1btKQtlUwf",
        "colab_type": "code",
        "outputId": "be76154f-6cac-4904-ac18-12e772352b77",
        "colab": {
          "base_uri": "https://localhost:8080/",
          "height": 34
        }
      },
      "source": [
        "tfidf.shape"
      ],
      "execution_count": 0,
      "outputs": [
        {
          "output_type": "execute_result",
          "data": {
            "text/plain": [
              "(18846, 10000)"
            ]
          },
          "metadata": {
            "tags": []
          },
          "execution_count": 7
        }
      ]
    },
    {
      "cell_type": "code",
      "metadata": {
        "id": "X_DdiajRldDf",
        "colab_type": "code",
        "colab": {}
      },
      "source": [
        "vectorizer_sub = TfidfVectorizer(sublinear_tf=True, max_features = 10000)\n",
        "tfidf_sub = vectorizer.fit_transform(X)"
      ],
      "execution_count": 0,
      "outputs": []
    },
    {
      "cell_type": "code",
      "metadata": {
        "id": "7Ek79PlOmKFD",
        "colab_type": "code",
        "outputId": "9fcebcdd-ffe1-4402-e773-2d89c0ff8252",
        "colab": {
          "base_uri": "https://localhost:8080/",
          "height": 34
        }
      },
      "source": [
        "tfidf_sub.shape"
      ],
      "execution_count": 0,
      "outputs": [
        {
          "output_type": "execute_result",
          "data": {
            "text/plain": [
              "(18846, 10000)"
            ]
          },
          "metadata": {
            "tags": []
          },
          "execution_count": 9
        }
      ]
    },
    {
      "cell_type": "code",
      "metadata": {
        "id": "eJnnryv2Fehr",
        "colab_type": "code",
        "colab": {}
      },
      "source": [
        "vectorizer_bigram = TfidfVectorizer(ngram_range=(1, 2), max_features = 10000)\n",
        "tfidf_bigram = vectorizer_bigram.fit_transform(X)"
      ],
      "execution_count": 0,
      "outputs": []
    },
    {
      "cell_type": "code",
      "metadata": {
        "id": "YBImzfkmFx12",
        "colab_type": "code",
        "outputId": "6859f44b-350f-4b39-e715-999cdcaaa54a",
        "colab": {
          "base_uri": "https://localhost:8080/",
          "height": 34
        }
      },
      "source": [
        "tfidf_bigram.shape"
      ],
      "execution_count": 0,
      "outputs": [
        {
          "output_type": "execute_result",
          "data": {
            "text/plain": [
              "(18846, 10000)"
            ]
          },
          "metadata": {
            "tags": []
          },
          "execution_count": 11
        }
      ]
    },
    {
      "cell_type": "code",
      "metadata": {
        "id": "c4wKaaKQXH66",
        "colab_type": "code",
        "colab": {}
      },
      "source": [
        "vectorizer_max = TfidfVectorizer(norm='max', max_features = 10000)\n",
        "tfidf_max = vectorizer_max.fit_transform(X)"
      ],
      "execution_count": 0,
      "outputs": []
    },
    {
      "cell_type": "code",
      "metadata": {
        "id": "tZVXsRkYYGPZ",
        "colab_type": "code",
        "outputId": "0424e056-1e41-45e1-a4c5-6df337ec1d76",
        "colab": {
          "base_uri": "https://localhost:8080/",
          "height": 34
        }
      },
      "source": [
        "tfidf_max.shape"
      ],
      "execution_count": 0,
      "outputs": [
        {
          "output_type": "execute_result",
          "data": {
            "text/plain": [
              "(18846, 10000)"
            ]
          },
          "metadata": {
            "tags": []
          },
          "execution_count": 13
        }
      ]
    },
    {
      "cell_type": "markdown",
      "metadata": {
        "id": "1x1j86Q2yc_c",
        "colab_type": "text"
      },
      "source": [
        "for i in range(18846):\n",
        "  for j in range(10000):\n",
        "    if tfidf.toarray()[i][j] != tfidf_max.toarray()[i][j]:\n",
        "      print(\"i = %d j = %d tfidf = %f tfidf_max = %f No match\" % (i, j, tfidf.toarray()[i][j], tfidf_max.toarray()[i][j]))"
      ]
    },
    {
      "cell_type": "code",
      "metadata": {
        "id": "hLq8YZXCH6bG",
        "colab_type": "code",
        "colab": {}
      },
      "source": [
        "\"\"\"Kernel K-means\"\"\"\n",
        "\n",
        "# Author: Mathieu Blondel <mathieu@mblondel.org>\n",
        "# License: BSD 3 clause\n",
        "\n",
        "import numpy as np\n",
        "\n",
        "from sklearn.base import BaseEstimator, ClusterMixin\n",
        "from sklearn.metrics.pairwise import pairwise_kernels\n",
        "from sklearn.utils import check_random_state\n",
        "\n",
        "\n",
        "class KernelKMeans(BaseEstimator, ClusterMixin):\n",
        "    \"\"\"\n",
        "    Kernel K-means\n",
        "    \n",
        "    Reference\n",
        "    ---------\n",
        "    Kernel k-means, Spectral Clustering and Normalized Cuts.\n",
        "    Inderjit S. Dhillon, Yuqiang Guan, Brian Kulis.\n",
        "    KDD 2004.\n",
        "    \"\"\"\n",
        "\n",
        "    def __init__(self, n_clusters=3, init='k-means++', max_iter=50, tol=1e-3, random_state=None,\n",
        "                 kernel=\"rbf\", gamma=None, degree=3, coef0=1,\n",
        "                 kernel_params=None, verbose=0):\n",
        "        self.n_clusters = n_clusters\n",
        "        self.init = init\n",
        "        self.max_iter = max_iter\n",
        "        self.tol = tol\n",
        "        self.random_state = random_state\n",
        "        self.kernel = kernel\n",
        "        self.gamma = gamma\n",
        "        self.degree = degree\n",
        "        self.coef0 = coef0\n",
        "        self.kernel_params = kernel_params\n",
        "        self.verbose = verbose\n",
        "        \n",
        "    @property\n",
        "    def _pairwise(self):\n",
        "        return self.kernel == \"precomputed\"\n",
        "\n",
        "    def _get_kernel(self, X, Y=None):\n",
        "        if callable(self.kernel):\n",
        "            params = self.kernel_params or {}\n",
        "        else:\n",
        "            params = {\"gamma\": self.gamma,\n",
        "                      \"degree\": self.degree,\n",
        "                      \"coef0\": self.coef0}\n",
        "        return pairwise_kernels(X, Y, metric=self.kernel,\n",
        "                                filter_params=True, **params)\n",
        "\n",
        "    def fit(self, X, y=None, sample_weight=None):\n",
        "        n_samples = X.shape[0]\n",
        "\n",
        "        K = self._get_kernel(X)\n",
        "\n",
        "        sw = sample_weight if sample_weight else np.ones(n_samples)\n",
        "        self.sample_weight_ = sw\n",
        "\n",
        "        rs = check_random_state(self.random_state)\n",
        "        self.labels_ = rs.randint(self.n_clusters, size=n_samples)\n",
        "\n",
        "        dist = np.zeros((n_samples, self.n_clusters))\n",
        "        self.within_distances_ = np.zeros(self.n_clusters)\n",
        "\n",
        "        for it in range(self.max_iter):\n",
        "            dist.fill(0)\n",
        "            self._compute_dist(K, dist, self.within_distances_,\n",
        "                               update_within=True)\n",
        "            labels_old = self.labels_\n",
        "            self.labels_ = dist.argmin(axis=1)\n",
        "\n",
        "            # Compute the number of samples whose cluster did not change \n",
        "            # since last iteration.\n",
        "            n_same = np.sum((self.labels_ - labels_old) == 0)\n",
        "            if 1 - float(n_same) / n_samples < self.tol:\n",
        "                if self.verbose:\n",
        "                    print(\"Converged at iteration\", it + 1)\n",
        "                break\n",
        "\n",
        "        self.X_fit_ = X\n",
        "\n",
        "        return self\n",
        "\n",
        "    def _compute_dist(self, K, dist, within_distances, update_within):\n",
        "        \"\"\"Compute a n_samples x n_clusters distance matrix using the \n",
        "        kernel trick.\"\"\"\n",
        "        sw = self.sample_weight_\n",
        "\n",
        "        for j in range(self.n_clusters):\n",
        "            mask = self.labels_ == j\n",
        "\n",
        "            if np.sum(mask) == 0:\n",
        "                raise ValueError(\"Empty cluster found, try smaller n_cluster.\")\n",
        "\n",
        "            denom = sw[mask].sum()\n",
        "            denomsq = denom * denom\n",
        "\n",
        "            if update_within:\n",
        "                KK = K[mask][:, mask]  # K[mask, mask] does not work.\n",
        "                dist_j = np.sum(np.outer(sw[mask], sw[mask]) * KK / denomsq)\n",
        "                within_distances[j] = dist_j\n",
        "                dist[:, j] += dist_j\n",
        "            else:\n",
        "                dist[:, j] += within_distances[j]\n",
        "\n",
        "            dist[:, j] -= 2 * np.sum(sw[mask] * K[:, mask], axis=1) / denom\n",
        "\n",
        "    def predict(self, X):\n",
        "        K = self._get_kernel(X, self.X_fit_)\n",
        "        n_samples = X.shape[0]\n",
        "        dist = np.zeros((n_samples, self.n_clusters))\n",
        "        self._compute_dist(K, dist, self.within_distances_,\n",
        "                           update_within=False)\n",
        "        return dist.argmin(axis=1)"
      ],
      "execution_count": 0,
      "outputs": []
    },
    {
      "cell_type": "code",
      "metadata": {
        "id": "orxIJT5hGQaI",
        "colab_type": "code",
        "colab": {}
      },
      "source": [
        "gammas = [0.01, 0.1, 1, 10, 100]"
      ],
      "execution_count": 0,
      "outputs": []
    },
    {
      "cell_type": "code",
      "metadata": {
        "id": "p66bNym23vTA",
        "colab_type": "code",
        "outputId": "465b85f5-4114-47c1-f88f-219aabad87e1",
        "colab": {
          "base_uri": "https://localhost:8080/",
          "height": 187
        }
      },
      "source": [
        "best_sil = float(\"-inf\")\n",
        "best_gamma = 1000\n",
        "for my_gamma in gammas:\n",
        "#  print(\"For gamma = \", my_gamma)\n",
        "  km = KernelKMeans(n_clusters=20, max_iter=100, random_state=0, verbose=1, kernel=\"rbf\", gamma=my_gamma)\n",
        "  y_pred = km.fit_predict(tfidf)\n",
        "#  print(\"Computing silhouette_score \")\n",
        "  silhouette = metrics.silhouette_score(tfidf, y_pred)\n",
        "  print(\"The silhouette_score for gamma = %f is = %.4f\" % (my_gamma, silhouette))\n",
        "  if silhouette > best_sil:\n",
        "#    print(\"Old Sil : \", best_sil)\n",
        "    best_sil = silhouette\n",
        "    best_gamma = my_gamma\n",
        "#    print(\"New Sil : \", best_sil, \"gamma : \", best_gamma)"
      ],
      "execution_count": 0,
      "outputs": [
        {
          "output_type": "stream",
          "text": [
            "Converged at iteration 28\n",
            "The silhouette_score for gamma = 0.010000 is = -0.0179\n",
            "Converged at iteration 40\n",
            "The silhouette_score for gamma = 0.100000 is = -0.2160\n",
            "Converged at iteration 28\n",
            "The silhouette_score for gamma = 1.000000 is = -0.2162\n",
            "Converged at iteration 3\n",
            "The silhouette_score for gamma = 10.000000 is = -0.2307\n",
            "Converged at iteration 3\n",
            "The silhouette_score for gamma = 100.000000 is = -0.2307\n"
          ],
          "name": "stdout"
        }
      ]
    },
    {
      "cell_type": "code",
      "metadata": {
        "id": "UHedhr0eJ3NV",
        "colab_type": "code",
        "outputId": "a481abd4-76e5-40d1-a405-a7dbd576c33b",
        "colab": {
          "base_uri": "https://localhost:8080/",
          "height": 51
        }
      },
      "source": [
        "print(\"best_gamma : \", best_gamma)\n",
        "km = KernelKMeans(n_clusters=20, max_iter=100, random_state=0, verbose=1, kernel=\"rbf\", gamma=best_gamma)\n",
        "y_pred = km.fit_predict(tfidf)"
      ],
      "execution_count": 0,
      "outputs": [
        {
          "output_type": "stream",
          "text": [
            "best_gamma :  0.01\n",
            "Converged at iteration 28\n"
          ],
          "name": "stdout"
        }
      ]
    },
    {
      "cell_type": "code",
      "metadata": {
        "id": "W2pnv4-ZIhWc",
        "colab_type": "code",
        "outputId": "c693a8f0-3c4c-46a3-f98e-166b3ee92828",
        "colab": {
          "base_uri": "https://localhost:8080/",
          "height": 224
        }
      },
      "source": [
        "print(\"Adjusted Rand-Index: %.3f\" % metrics.adjusted_rand_score(y, y_pred))\n",
        "print(\"NMI: %.3f\" % metrics.normalized_mutual_info_score(y, y_pred))\n",
        "print(\"AMI: %.3f\" % metrics.adjusted_mutual_info_score(y, y_pred))\n",
        "print(\"Homogeneity: %0.3f\" % metrics.homogeneity_score(y, y_pred))\n",
        "print(\"Completeness: %0.3f\" % metrics.completeness_score(y, y_pred))\n",
        "print(\"V-measure: %0.3f\" % metrics.v_measure_score(y, y_pred))\n",
        "print(\"FMI: %.3f\" % metrics.fowlkes_mallows_score(y, y_pred))"
      ],
      "execution_count": 0,
      "outputs": [
        {
          "output_type": "stream",
          "text": [
            "Adjusted Rand-Index: 0.051\n",
            "NMI: 0.166\n",
            "AMI: 0.158\n",
            "Homogeneity: 0.161\n",
            "Completeness: 0.171\n",
            "V-measure: 0.166\n",
            "FMI: 0.108\n"
          ],
          "name": "stdout"
        },
        {
          "output_type": "stream",
          "text": [
            "/usr/local/lib/python3.6/dist-packages/sklearn/metrics/cluster/supervised.py:859: FutureWarning: The behavior of NMI will change in version 0.22. To match the behavior of 'v_measure_score', NMI will use average_method='arithmetic' by default.\n",
            "  FutureWarning)\n",
            "/usr/local/lib/python3.6/dist-packages/sklearn/metrics/cluster/supervised.py:746: FutureWarning: The behavior of AMI will change in version 0.22. To match the behavior of 'v_measure_score', AMI will use average_method='arithmetic' by default.\n",
            "  FutureWarning)\n"
          ],
          "name": "stderr"
        }
      ]
    },
    {
      "cell_type": "code",
      "metadata": {
        "id": "DRXie_9lBdis",
        "colab_type": "code",
        "outputId": "63b98d17-e3e6-4c99-bf3a-b28dfac0b170",
        "colab": {
          "base_uri": "https://localhost:8080/",
          "height": 187
        }
      },
      "source": [
        "best_sil = float(\"-inf\")\n",
        "best_gamma = 1000\n",
        "for my_gamma in gammas:\n",
        "#  print(\"For gamma = \", my_gamma)\n",
        "  km = KernelKMeans(n_clusters=20, max_iter=100, random_state=0, verbose=1, kernel=\"rbf\", gamma=my_gamma)\n",
        "  y_pred = km.fit_predict(tfidf_sub)\n",
        "#  print(\"Computing silhouette_score \")\n",
        "  silhouette = metrics.silhouette_score(tfidf_sub, y_pred)\n",
        "  print(\"The silhouette_score for gamma = %f is = %.4f\" % (my_gamma, silhouette))\n",
        "  if silhouette > best_sil:\n",
        "#    print(\"Old Sil : \", best_sil)\n",
        "    best_sil = silhouette\n",
        "    best_gamma = my_gamma\n",
        "#    print(\"New Sil : \", best_sil, \"gamma : \", best_gamma)"
      ],
      "execution_count": 0,
      "outputs": [
        {
          "output_type": "stream",
          "text": [
            "Converged at iteration 28\n",
            "The silhouette_score for gamma = 0.010000 is = -0.0179\n",
            "Converged at iteration 40\n",
            "The silhouette_score for gamma = 0.100000 is = -0.2160\n",
            "Converged at iteration 28\n",
            "The silhouette_score for gamma = 1.000000 is = -0.2162\n",
            "Converged at iteration 3\n",
            "The silhouette_score for gamma = 10.000000 is = -0.2307\n",
            "Converged at iteration 3\n",
            "The silhouette_score for gamma = 100.000000 is = -0.2307\n"
          ],
          "name": "stdout"
        }
      ]
    },
    {
      "cell_type": "code",
      "metadata": {
        "id": "iQ9ne3ZWEBfU",
        "colab_type": "code",
        "outputId": "ffc005ae-0b90-4232-db4f-7ac3beaedb6a",
        "colab": {
          "base_uri": "https://localhost:8080/",
          "height": 51
        }
      },
      "source": [
        "print(\"best_gamma : \", best_gamma)\n",
        "km = KernelKMeans(n_clusters=20, max_iter=100, random_state=0, verbose=1, kernel=\"rbf\", gamma=best_gamma)\n",
        "y_pred = km.fit_predict(tfidf_sub)"
      ],
      "execution_count": 0,
      "outputs": [
        {
          "output_type": "stream",
          "text": [
            "best_gamma :  0.01\n",
            "Converged at iteration 28\n"
          ],
          "name": "stdout"
        }
      ]
    },
    {
      "cell_type": "code",
      "metadata": {
        "id": "4p5_fqSvEErr",
        "colab_type": "code",
        "outputId": "fd233998-0217-43d8-d284-f2bb61ac20e6",
        "colab": {
          "base_uri": "https://localhost:8080/",
          "height": 224
        }
      },
      "source": [
        "print(\"Adjusted Rand-Index: %.3f\" % metrics.adjusted_rand_score(y, y_pred))\n",
        "print(\"NMI: %.3f\" % metrics.normalized_mutual_info_score(y, y_pred))\n",
        "print(\"AMI: %.3f\" % metrics.adjusted_mutual_info_score(y, y_pred))\n",
        "print(\"Homogeneity: %0.3f\" % metrics.homogeneity_score(y, y_pred))\n",
        "print(\"Completeness: %0.3f\" % metrics.completeness_score(y, y_pred))\n",
        "print(\"V-measure: %0.3f\" % metrics.v_measure_score(y, y_pred))\n",
        "print(\"FMI: %.3f\" % metrics.fowlkes_mallows_score(y, y_pred))"
      ],
      "execution_count": 0,
      "outputs": [
        {
          "output_type": "stream",
          "text": [
            "Adjusted Rand-Index: 0.051\n",
            "NMI: 0.166\n",
            "AMI: 0.158\n",
            "Homogeneity: 0.161\n",
            "Completeness: 0.171\n",
            "V-measure: 0.166\n",
            "FMI: 0.108\n"
          ],
          "name": "stdout"
        },
        {
          "output_type": "stream",
          "text": [
            "/usr/local/lib/python3.6/dist-packages/sklearn/metrics/cluster/supervised.py:859: FutureWarning: The behavior of NMI will change in version 0.22. To match the behavior of 'v_measure_score', NMI will use average_method='arithmetic' by default.\n",
            "  FutureWarning)\n",
            "/usr/local/lib/python3.6/dist-packages/sklearn/metrics/cluster/supervised.py:746: FutureWarning: The behavior of AMI will change in version 0.22. To match the behavior of 'v_measure_score', AMI will use average_method='arithmetic' by default.\n",
            "  FutureWarning)\n"
          ],
          "name": "stderr"
        }
      ]
    },
    {
      "cell_type": "code",
      "metadata": {
        "id": "tVUXutk5DwQe",
        "colab_type": "code",
        "outputId": "14dc2d0f-55bd-4768-c5ef-36852e198eb4",
        "colab": {
          "base_uri": "https://localhost:8080/",
          "height": 187
        }
      },
      "source": [
        "best_sil = float(\"-inf\")\n",
        "best_gamma = 1000\n",
        "for my_gamma in gammas:\n",
        "#  print(\"For gamma = \", my_gamma)\n",
        "  km = KernelKMeans(n_clusters=20, max_iter=100, random_state=0, verbose=1, kernel=\"rbf\", gamma=my_gamma)\n",
        "  y_pred = km.fit_predict(tfidf_bigram)\n",
        "#  print(\"Computing silhouette_score \")\n",
        "  silhouette = metrics.silhouette_score(tfidf_bigram, y_pred)\n",
        "  print(\"The silhouette_score for gamma = %f is = %.4f\" % (my_gamma, silhouette))\n",
        "  if silhouette > best_sil:\n",
        "#    print(\"Old Sil : \", best_sil)\n",
        "    best_sil = silhouette\n",
        "    best_gamma = my_gamma\n",
        "#    print(\"New Sil : \", best_sil, \"gamma : \", best_gamma)"
      ],
      "execution_count": 0,
      "outputs": [
        {
          "output_type": "stream",
          "text": [
            "Converged at iteration 38\n",
            "The silhouette_score for gamma = 0.010000 is = -0.0185\n",
            "Converged at iteration 32\n",
            "The silhouette_score for gamma = 0.100000 is = -0.2202\n",
            "Converged at iteration 39\n",
            "The silhouette_score for gamma = 1.000000 is = -0.2207\n",
            "Converged at iteration 3\n",
            "The silhouette_score for gamma = 10.000000 is = -0.2340\n",
            "Converged at iteration 3\n",
            "The silhouette_score for gamma = 100.000000 is = -0.2340\n"
          ],
          "name": "stdout"
        }
      ]
    },
    {
      "cell_type": "code",
      "metadata": {
        "id": "I0UYK3aCDxKc",
        "colab_type": "code",
        "outputId": "a4c38406-65f9-46fb-b16f-4aeedd111723",
        "colab": {
          "base_uri": "https://localhost:8080/",
          "height": 51
        }
      },
      "source": [
        "print(\"best_gamma : \", best_gamma)\n",
        "km = KernelKMeans(n_clusters=20, max_iter=100, random_state=0, verbose=1, kernel=\"rbf\", gamma=best_gamma)\n",
        "y_pred = km.fit_predict(tfidf_bigram)"
      ],
      "execution_count": 0,
      "outputs": [
        {
          "output_type": "stream",
          "text": [
            "best_gamma :  0.01\n",
            "Converged at iteration 38\n"
          ],
          "name": "stdout"
        }
      ]
    },
    {
      "cell_type": "code",
      "metadata": {
        "id": "Dt_b13FtEGO9",
        "colab_type": "code",
        "outputId": "c8870c40-51e4-410d-cab3-6846cfcfeaae",
        "colab": {
          "base_uri": "https://localhost:8080/",
          "height": 224
        }
      },
      "source": [
        "print(\"Adjusted Rand-Index: %.3f\" % metrics.adjusted_rand_score(y, y_pred))\n",
        "print(\"NMI: %.3f\" % metrics.normalized_mutual_info_score(y, y_pred))\n",
        "print(\"AMI: %.3f\" % metrics.adjusted_mutual_info_score(y, y_pred))\n",
        "print(\"Homogeneity: %0.3f\" % metrics.homogeneity_score(y, y_pred))\n",
        "print(\"Completeness: %0.3f\" % metrics.completeness_score(y, y_pred))\n",
        "print(\"V-measure: %0.3f\" % metrics.v_measure_score(y, y_pred))\n",
        "print(\"FMI: %.3f\" % metrics.fowlkes_mallows_score(y, y_pred))"
      ],
      "execution_count": 0,
      "outputs": [
        {
          "output_type": "stream",
          "text": [
            "Adjusted Rand-Index: 0.045\n",
            "NMI: 0.160\n",
            "AMI: 0.150\n",
            "Homogeneity: 0.153\n",
            "Completeness: 0.168\n",
            "V-measure: 0.160\n",
            "FMI: 0.107\n"
          ],
          "name": "stdout"
        },
        {
          "output_type": "stream",
          "text": [
            "/usr/local/lib/python3.6/dist-packages/sklearn/metrics/cluster/supervised.py:859: FutureWarning: The behavior of NMI will change in version 0.22. To match the behavior of 'v_measure_score', NMI will use average_method='arithmetic' by default.\n",
            "  FutureWarning)\n",
            "/usr/local/lib/python3.6/dist-packages/sklearn/metrics/cluster/supervised.py:746: FutureWarning: The behavior of AMI will change in version 0.22. To match the behavior of 'v_measure_score', AMI will use average_method='arithmetic' by default.\n",
            "  FutureWarning)\n"
          ],
          "name": "stderr"
        }
      ]
    },
    {
      "cell_type": "code",
      "metadata": {
        "id": "Scqx431rEG7U",
        "colab_type": "code",
        "outputId": "f38345cc-af59-487e-de6e-75e74d078331",
        "colab": {
          "base_uri": "https://localhost:8080/",
          "height": 187
        }
      },
      "source": [
        "best_sil = float(\"-inf\")\n",
        "best_gamma = 1000\n",
        "for my_gamma in gammas:\n",
        "#  print(\"For gamma = \", my_gamma)\n",
        "  km = KernelKMeans(n_clusters=20, max_iter=100, random_state=0, verbose=1, kernel=\"rbf\", gamma=my_gamma)\n",
        "  y_pred = km.fit_predict(tfidf_max)\n",
        "#  print(\"Computing silhouette_score \")\n",
        "  silhouette = metrics.silhouette_score(tfidf_max, y_pred)\n",
        "  print(\"The silhouette_score for gamma = %f is = %.4f\" % (my_gamma, silhouette))\n",
        "  if silhouette > best_sil:\n",
        "#    print(\"Old Sil : \", best_sil)\n",
        "    best_sil = silhouette\n",
        "    best_gamma = my_gamma\n",
        "#    print(\"New Sil : \", best_sil, \"gamma : \", best_gamma)"
      ],
      "execution_count": 0,
      "outputs": [
        {
          "output_type": "stream",
          "text": [
            "Converged at iteration 33\n",
            "The silhouette_score for gamma = 0.010000 is = -0.1041\n",
            "Converged at iteration 38\n",
            "The silhouette_score for gamma = 0.100000 is = -0.2083\n",
            "Converged at iteration 11\n",
            "The silhouette_score for gamma = 1.000000 is = -0.2509\n",
            "Converged at iteration 3\n",
            "The silhouette_score for gamma = 10.000000 is = -0.2574\n",
            "Converged at iteration 3\n",
            "The silhouette_score for gamma = 100.000000 is = -0.2574\n"
          ],
          "name": "stdout"
        }
      ]
    },
    {
      "cell_type": "code",
      "metadata": {
        "id": "66EbuGsIxV6O",
        "colab_type": "code",
        "outputId": "09dac63e-0c3f-4d61-941a-a453348a3c43",
        "colab": {
          "base_uri": "https://localhost:8080/",
          "height": 51
        }
      },
      "source": [
        "print(\"best_gamma : \", best_gamma)\n",
        "km = KernelKMeans(n_clusters=20, max_iter=100, random_state=0, verbose=1, kernel=\"rbf\", gamma=best_gamma)\n",
        "y_pred = km.fit_predict(tfidf_max)"
      ],
      "execution_count": 0,
      "outputs": [
        {
          "output_type": "stream",
          "text": [
            "best_gamma :  0.01\n",
            "Converged at iteration 33\n"
          ],
          "name": "stdout"
        }
      ]
    },
    {
      "cell_type": "code",
      "metadata": {
        "id": "jhGZiJgkxcVA",
        "colab_type": "code",
        "outputId": "ce05d34f-8376-49ce-964a-a2627142f67a",
        "colab": {
          "base_uri": "https://localhost:8080/",
          "height": 224
        }
      },
      "source": [
        "print(\"Adjusted Rand-Index: %.3f\" % metrics.adjusted_rand_score(y, y_pred))\n",
        "print(\"NMI: %.3f\" % metrics.normalized_mutual_info_score(y, y_pred))\n",
        "print(\"AMI: %.3f\" % metrics.adjusted_mutual_info_score(y, y_pred))\n",
        "print(\"Homogeneity: %0.3f\" % metrics.homogeneity_score(y, y_pred))\n",
        "print(\"Completeness: %0.3f\" % metrics.completeness_score(y, y_pred))\n",
        "print(\"V-measure: %0.3f\" % metrics.v_measure_score(y, y_pred))\n",
        "print(\"FMI: %.3f\" % metrics.fowlkes_mallows_score(y, y_pred))"
      ],
      "execution_count": 0,
      "outputs": [
        {
          "output_type": "stream",
          "text": [
            "Adjusted Rand-Index: 0.029\n",
            "NMI: 0.142\n",
            "AMI: 0.130\n",
            "Homogeneity: 0.133\n",
            "Completeness: 0.151\n",
            "V-measure: 0.141\n",
            "FMI: 0.099\n"
          ],
          "name": "stdout"
        },
        {
          "output_type": "stream",
          "text": [
            "/usr/local/lib/python3.6/dist-packages/sklearn/metrics/cluster/supervised.py:859: FutureWarning: The behavior of NMI will change in version 0.22. To match the behavior of 'v_measure_score', NMI will use average_method='arithmetic' by default.\n",
            "  FutureWarning)\n",
            "/usr/local/lib/python3.6/dist-packages/sklearn/metrics/cluster/supervised.py:746: FutureWarning: The behavior of AMI will change in version 0.22. To match the behavior of 'v_measure_score', AMI will use average_method='arithmetic' by default.\n",
            "  FutureWarning)\n"
          ],
          "name": "stderr"
        }
      ]
    },
    {
      "cell_type": "code",
      "metadata": {
        "id": "JPEIfQQw3mWD",
        "colab_type": "code",
        "colab": {}
      },
      "source": [
        ""
      ],
      "execution_count": 0,
      "outputs": []
    }
  ]
}